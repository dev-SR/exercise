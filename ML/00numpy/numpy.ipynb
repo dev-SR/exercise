{
 "metadata": {
  "language_info": {
   "codemirror_mode": {
    "name": "ipython",
    "version": 3
   },
   "file_extension": ".py",
   "mimetype": "text/x-python",
   "name": "python",
   "nbconvert_exporter": "python",
   "pygments_lexer": "ipython3",
   "version": "3.8.10"
  },
  "orig_nbformat": 2,
  "kernelspec": {
   "name": "python3",
   "display_name": "Python 3.8.10 64-bit ('base': conda)"
  },
  "interpreter": {
   "hash": "b3ba2566441a7c06988d0923437866b63cedc61552a5af99d1f4fb67d367b25f"
  }
 },
 "nbformat": 4,
 "nbformat_minor": 2,
 "cells": [
  {
   "cell_type": "markdown",
   "source": [
    "# NumPy"
   ],
   "metadata": {}
  },
  {
   "cell_type": "code",
   "execution_count": 39,
   "source": [
    "import numpy as np"
   ],
   "outputs": [],
   "metadata": {}
  },
  {
   "cell_type": "markdown",
   "source": [
    "## Why Numpy?\n",
    "\n",
    "- performs fast operations (because of Vectorization)\n",
    "- numpy arrays can be treated as vectors and matrices from linear algebra"
   ],
   "metadata": {}
  },
  {
   "cell_type": "code",
   "execution_count": 40,
   "source": [
    "l = [1,2,3,4,5,6,7,8,9,10]"
   ],
   "outputs": [],
   "metadata": {}
  },
  {
   "cell_type": "code",
   "execution_count": 41,
   "source": [
    "%timeit [i**2 for i in l]"
   ],
   "outputs": [
    {
     "output_type": "stream",
     "name": "stdout",
     "text": [
      "3.52 µs ± 1.05 µs per loop (mean ± std. dev. of 7 runs, 100000 loops each)\n"
     ]
    }
   ],
   "metadata": {}
  },
  {
   "cell_type": "code",
   "execution_count": 42,
   "source": [
    "arr = np.array(l)\r\n",
    "arr"
   ],
   "outputs": [
    {
     "output_type": "execute_result",
     "data": {
      "text/plain": [
       "array([ 1,  2,  3,  4,  5,  6,  7,  8,  9, 10])"
      ]
     },
     "metadata": {},
     "execution_count": 42
    }
   ],
   "metadata": {}
  },
  {
   "cell_type": "code",
   "execution_count": 38,
   "source": [
    "%timeit arr**2"
   ],
   "outputs": [
    {
     "output_type": "stream",
     "name": "stdout",
     "text": [
      "975 ns ± 122 ns per loop (mean ± std. dev. of 7 runs, 1000000 loops each)\n"
     ]
    }
   ],
   "metadata": {}
  },
  {
   "cell_type": "code",
   "execution_count": 43,
   "source": [
    "# adding 1 to each element of this vector\r\n",
    "l + 1"
   ],
   "outputs": [
    {
     "output_type": "error",
     "ename": "TypeError",
     "evalue": "can only concatenate list (not \"int\") to list",
     "traceback": [
      "\u001b[1;31m---------------------------------------------------------------------------\u001b[0m",
      "\u001b[1;31mTypeError\u001b[0m                                 Traceback (most recent call last)",
      "\u001b[1;32m<ipython-input-43-9fd71c034c35>\u001b[0m in \u001b[0;36m<module>\u001b[1;34m\u001b[0m\n\u001b[0;32m      1\u001b[0m \u001b[1;31m# adding 1 to each element of this vector\u001b[0m\u001b[1;33m\u001b[0m\u001b[1;33m\u001b[0m\u001b[1;33m\u001b[0m\u001b[0m\n\u001b[1;32m----> 2\u001b[1;33m \u001b[0ml\u001b[0m \u001b[1;33m+\u001b[0m \u001b[1;36m1\u001b[0m\u001b[1;33m\u001b[0m\u001b[1;33m\u001b[0m\u001b[0m\n\u001b[0m",
      "\u001b[1;31mTypeError\u001b[0m: can only concatenate list (not \"int\") to list"
     ]
    }
   ],
   "metadata": {}
  },
  {
   "cell_type": "code",
   "execution_count": null,
   "source": [
    "# but it's possible in numpy\r\n",
    "arr + 1"
   ],
   "outputs": [
    {
     "output_type": "execute_result",
     "data": {
      "text/plain": [
       "array([ 2,  3,  4,  5,  6,  7,  8,  9, 10, 11])"
      ]
     },
     "metadata": {},
     "execution_count": 14
    }
   ],
   "metadata": {}
  },
  {
   "cell_type": "markdown",
   "source": [
    "## Array Creation\r\n",
    "\r\n",
    "`array`: Fundamental element in numpy is homogenous array. Numpy Arrays can be 1D, 2D, 3D ...nD\r\n",
    "\r\n",
    "Different ways to create np array:\r\n",
    "\r\n",
    "### 1) Manual Construction of arrays: Converting Python sequences to NumPy Arrays\r\n",
    "\r\n",
    "- `np.array()`"
   ],
   "metadata": {}
  },
  {
   "cell_type": "code",
   "execution_count": null,
   "source": [
    "a1D = np.array([1, 2, 3, 4])\r\n",
    "print(a1D)\r\n",
    "# da\r\n",
    "print(type(a1D))\r\n",
    "print(a1D.ndim)\r\n",
    "print(a1D.dtype)\r\n",
    "print(\"shape: \",a1D.shape)  \r\n",
    "\r\n",
    "print()\r\n",
    "\r\n",
    "# 2D\r\n",
    "a2D = np.array([[1, 2], [3, 4]])\r\n",
    "print(a2D) \r\n",
    "print(\"total item: \",a2D.size)  \r\n",
    "print(\"shape: \",a2D.shape)  \r\n",
    "print(\"shape is indexable: \",a2D.shape[0],\"~\",a2D.shape[1])  "
   ],
   "outputs": [
    {
     "output_type": "stream",
     "name": "stdout",
     "text": [
      "[1 2 3 4]\n",
      "<class 'numpy.ndarray'>\n",
      "1\n",
      "int32\n",
      "shape:  (4,)\n",
      "\n",
      "[[1 2]\n",
      " [3 4]]\n",
      "total item:  4\n",
      "shape:  (2, 2)\n",
      "shape is indexable:  2 ~ 2\n"
     ]
    }
   ],
   "metadata": {}
  },
  {
   "cell_type": "markdown",
   "source": [
    "### 2) Functions for creating arrays\r\n",
    "\r\n",
    "NumPy has over 40 built-in functions for creating arrays as laid out in the Array creation routines. These functions can be split into roughly three categories, based on the dimension of the array they create:\r\n",
    "\r\n",
    "1. 1D arrays\r\n",
    "2. 2D arrays\r\n",
    "3. ndarrays\r\n",
    "\r\n",
    "\r\n",
    "#### `arrange`\r\n",
    "\r\n",
    "The 1D array creation functions e.g. `numpy.linspace` and `numpy.arange` generally need at least two inputs,`start` and `stop`.\r\n",
    "\r\n",
    "`numpy.arange` creates arrays with regularly incrementing values. `arange` is an array-valued version of the built-in Python range function"
   ],
   "metadata": {}
  },
  {
   "cell_type": "code",
   "execution_count": null,
   "source": [
    "print(np.arange(10))  # 0.... n-1\r\n",
    "\r\n",
    "print()\r\n",
    "\r\n",
    "print(np.arange(1,10)) #start, end (exclusive)\r\n",
    "\r\n",
    "print()\r\n",
    "\r\n",
    "print(np.arange(1, 10, 2))  # start, end (exclusive), step\r\n"
   ],
   "outputs": [
    {
     "output_type": "stream",
     "name": "stdout",
     "text": [
      "[0 1 2 3 4 5 6 7 8 9]\n",
      "\n",
      "[1 2 3 4 5 6 7 8 9]\n",
      "\n",
      "[1 3 5 7 9]\n"
     ]
    }
   ],
   "metadata": {}
  },
  {
   "cell_type": "markdown",
   "source": [
    "#### `numpy.linspace(s,en,equally spaced between)` \r\n",
    "\r\n",
    "`numpy.linspace`  will create arrays with a specified number of elements, and spaced equally between the specified beginning and end values."
   ],
   "metadata": {}
  },
  {
   "cell_type": "code",
   "execution_count": null,
   "source": [
    "print(np.linspace(1, 10, 5))  # start, end, number of points"
   ],
   "outputs": [
    {
     "output_type": "stream",
     "name": "stdout",
     "text": [
      "[ 1.    3.25  5.5   7.75 10.  ]\n"
     ]
    }
   ],
   "metadata": {}
  },
  {
   "cell_type": "markdown",
   "source": [
    "#### 2, 3 - general ndarray creation functions\n",
    "\n",
    "- `zeros()`\n",
    "- `ones()`\n",
    "- `diag()`\n",
    "- `indentity()` , `eye()`\n"
   ],
   "metadata": {}
  },
  {
   "cell_type": "code",
   "execution_count": null,
   "source": [
    "print(np.zeros(10))\r\n",
    "print(\"2d..............\")\r\n",
    "print(np.zeros((3,3)))\r\n",
    "print(\"3d.............\")\r\n",
    "print(np.zeros((2,3,3)))"
   ],
   "outputs": [
    {
     "output_type": "stream",
     "name": "stdout",
     "text": [
      "[0. 0. 0. 0. 0. 0. 0. 0. 0. 0.]\n",
      "2d..............\n",
      "[[0. 0. 0.]\n",
      " [0. 0. 0.]\n",
      " [0. 0. 0.]]\n",
      "3d.............\n",
      "[[[0. 0. 0.]\n",
      "  [0. 0. 0.]\n",
      "  [0. 0. 0.]]\n",
      "\n",
      " [[0. 0. 0.]\n",
      "  [0. 0. 0.]\n",
      "  [0. 0. 0.]]]\n"
     ]
    }
   ],
   "metadata": {}
  },
  {
   "cell_type": "code",
   "execution_count": null,
   "source": [
    "print(np.ones(10))\r\n",
    "print()\r\n",
    "print(np.ones((3,3)) * 5) "
   ],
   "outputs": [
    {
     "output_type": "stream",
     "name": "stdout",
     "text": [
      "[1. 1. 1. 1. 1. 1. 1. 1. 1. 1.]\n",
      "\n",
      "[[5. 5. 5.]\n",
      " [5. 5. 5.]\n",
      " [5. 5. 5.]]\n"
     ]
    }
   ],
   "metadata": {}
  },
  {
   "cell_type": "code",
   "execution_count": null,
   "source": [
    "np.diag([1,2,3,4])"
   ],
   "outputs": [
    {
     "output_type": "execute_result",
     "data": {
      "text/plain": [
       "array([[1, 0, 0, 0],\n",
       "       [0, 2, 0, 0],\n",
       "       [0, 0, 3, 0],\n",
       "       [0, 0, 0, 4]])"
      ]
     },
     "metadata": {},
     "execution_count": 115
    }
   ],
   "metadata": {}
  },
  {
   "cell_type": "code",
   "execution_count": null,
   "source": [
    "np.identity(4)"
   ],
   "outputs": [
    {
     "output_type": "execute_result",
     "data": {
      "text/plain": [
       "array([[1., 0., 0., 0.],\n",
       "       [0., 1., 0., 0.],\n",
       "       [0., 0., 1., 0.],\n",
       "       [0., 0., 0., 1.]])"
      ]
     },
     "metadata": {},
     "execution_count": 116
    }
   ],
   "metadata": {}
  },
  {
   "cell_type": "code",
   "execution_count": null,
   "source": [
    "c = np.eye(4)  # Return a 2-D array with ones on the diagonal and zeros elsewhere.\r\n",
    "print(c)\r\n",
    "print()\r\n",
    "# 3 is number of rows, 2 is number of columns, index of diagonal start with 0\r\n",
    "d = np.eye(3, 2)\r\n",
    "print(d)\r\n"
   ],
   "outputs": [
    {
     "output_type": "stream",
     "name": "stdout",
     "text": [
      "[[1. 0. 0. 0.]\n",
      " [0. 1. 0. 0.]\n",
      " [0. 0. 1. 0.]\n",
      " [0. 0. 0. 1.]]\n",
      "\n",
      "[[1. 0.]\n",
      " [0. 1.]\n",
      " [0. 0.]]\n"
     ]
    }
   ],
   "metadata": {}
  },
  {
   "cell_type": "markdown",
   "source": [
    "## Generating an array of random numbers in NumPy\n",
    "\n",
    "We can generate an array of random numbers using `rand()`, `randn()` or `randint()` functions.\n",
    "\n",
    "- Using `random.rand()`, we can generate an array of random numbers of the shape we pass to it from uniform distribution over 0 to 1.\n"
   ],
   "metadata": {}
  },
  {
   "cell_type": "code",
   "execution_count": null,
   "source": [
    "# For example, say we want a one-dimensional array of 4 objects that are uniformly \r\n",
    "# distributed from 0 to 1, we can do this:\r\n",
    "\r\n",
    "r = np.random.rand(4)\r\n",
    "print(r)\r\n",
    "\r\n",
    "# And if we want a two-dimensional array of 3rows and 2columns:\r\n",
    "print()\r\n",
    "r = np.random.rand(3, 2)\r\n",
    "print(r)"
   ],
   "outputs": [
    {
     "output_type": "stream",
     "name": "stdout",
     "text": [
      "[0.9448474  0.93929097 0.4827775  0.65302109]\n",
      "\n",
      "[[0.26754535 0.03942572]\n",
      " [0.31236268 0.85961221]\n",
      " [0.99364858 0.35495844]]\n"
     ]
    }
   ],
   "metadata": {}
  },
  {
   "cell_type": "markdown",
   "source": [
    "- Using `randn()`, we can generate random samples from **Standard, normal or Gaussian distributioncentered around 0** . For example, let’s generate 7 random numbers:"
   ],
   "metadata": {}
  },
  {
   "cell_type": "code",
   "execution_count": null,
   "source": [
    "r = np.random.randn(7)\r\n",
    "r"
   ],
   "outputs": [
    {
     "output_type": "execute_result",
     "data": {
      "text/plain": [
       "array([ 0.85628608,  1.06652993, -0.24465544,  0.74419801, -0.35160372,\n",
       "       -0.14436767, -0.06093946])"
      ]
     },
     "metadata": {},
     "execution_count": 18
    }
   ],
   "metadata": {}
  },
  {
   "cell_type": "markdown",
   "source": [
    "When you plot the result will give us a normal distribution curve."
   ],
   "metadata": {}
  },
  {
   "cell_type": "code",
   "execution_count": null,
   "source": [
    "import matplotlib.pyplot as plt"
   ],
   "outputs": [],
   "metadata": {}
  },
  {
   "cell_type": "code",
   "execution_count": null,
   "source": [
    "r = np.random.randn(700)\r\n",
    "plt.hist(r)\r\n",
    "plt.show()"
   ],
   "outputs": [
    {
     "output_type": "display_data",
     "data": {
      "text/plain": [
       "<Figure size 432x288 with 1 Axes>"
      ],
      "image/png": "[encoded data removed]",
      "image/svg+xml": "<?xml version=\"1.0\" encoding=\"utf-8\" standalone=\"no\"?>\r\n<!DOCTYPE svg PUBLIC \"-//W3C//DTD SVG 1.1//EN\"\r\n  \"http://www.w3.org/Graphics/SVG/1.1/DTD/svg11.dtd\">\r\n<!-- Created with matplotlib (https://matplotlib.org/) -->\r\n<svg height=\"248.518125pt\" version=\"1.1\" viewBox=\"0 0 375.2875 248.518125\" width=\"375.2875pt\" xmlns=\"http://www.w3.org/2000/svg\" xmlns:xlink=\"http://www.w3.org/1999/xlink\">\r\n <metadata>\r\n  <rdf:RDF xmlns:cc=\"http://creativecommons.org/ns#\" xmlns:dc=\"http://purl.org/dc/elements/1.1/\" xmlns:rdf=\"http://www.w3.org/1999/02/22-rdf-syntax-ns#\">\r\n   <cc:Work>\r\n    <dc:type rdf:resource=\"http://purl.org/dc/dcmitype/StillImage\"/>\r\n    <dc:date>2021-07-11T00:33:26.726062</dc:date>\r\n    <dc:format>image/svg+xml</dc:format>\r\n    <dc:creator>\r\n     <cc:Agent>\r\n      <dc:title>Matplotlib v3.3.4, https://matplotlib.org/</dc:title>\r\n     </cc:Agent>\r\n    </dc:creator>\r\n   </cc:Work>\r\n  </rdf:RDF>\r\n </metadata>\r\n <defs>\r\n  <style type=\"text/css\">*{stroke-linecap:butt;stroke-linejoin:round;}</style>\r\n </defs>\r\n <g id=\"figure_1\">\r\n  <g id=\"patch_1\">\r\n   <path d=\"M 0 248.518125 \r\nL 375.2875 248.518125 \r\nL 375.2875 0 \r\nL 0 0 \r\nz\r\n\" style=\"fill:none;\"/>\r\n  </g>\r\n  <g id=\"axes_1\">\r\n   <g id=\"patch_2\">\r\n    <path d=\"M 33.2875 224.64 \r\nL 368.0875 224.64 \r\nL 368.0875 7.2 \r\nL 33.2875 7.2 \r\nz\r\n\" style=\"fill:#ffffff;\"/>\r\n   </g>\r\n   <g id=\"patch_3\">\r\n    <path clip-path=\"url(#p6a50473dc4)\" d=\"M 48.505682 224.64 \r\nL 78.942045 224.64 \r\nL 78.942045 223.483097 \r\nL 48.505682 223.483097 \r\nz\r\n\" style=\"fill:#1f77b4;\"/>\r\n   </g>\r\n   <g id=\"patch_4\">\r\n    <path clip-path=\"url(#p6a50473dc4)\" d=\"M 78.942045 224.64 \r\nL 109.378409 224.64 \r\nL 109.378409 221.16929 \r\nL 78.942045 221.16929 \r\nz\r\n\" style=\"fill:#1f77b4;\"/>\r\n   </g>\r\n   <g id=\"patch_5\">\r\n    <path clip-path=\"url(#p6a50473dc4)\" d=\"M 109.378409 224.64 \r\nL 139.814773 224.64 \r\nL 139.814773 204.972642 \r\nL 109.378409 204.972642 \r\nz\r\n\" style=\"fill:#1f77b4;\"/>\r\n   </g>\r\n   <g id=\"patch_6\">\r\n    <path clip-path=\"url(#p6a50473dc4)\" d=\"M 139.814773 224.64 \r\nL 170.251136 224.64 \r\nL 170.251136 169.108635 \r\nL 139.814773 169.108635 \r\nz\r\n\" style=\"fill:#1f77b4;\"/>\r\n   </g>\r\n   <g id=\"patch_7\">\r\n    <path clip-path=\"url(#p6a50473dc4)\" d=\"M 170.251136 224.64 \r\nL 200.6875 224.64 \r\nL 200.6875 85.811588 \r\nL 170.251136 85.811588 \r\nz\r\n\" style=\"fill:#1f77b4;\"/>\r\n   </g>\r\n   <g id=\"patch_8\">\r\n    <path clip-path=\"url(#p6a50473dc4)\" d=\"M 200.6875 224.64 \r\nL 231.123864 224.64 \r\nL 231.123864 33.750934 \r\nL 200.6875 33.750934 \r\nz\r\n\" style=\"fill:#1f77b4;\"/>\r\n   </g>\r\n   <g id=\"patch_9\">\r\n    <path clip-path=\"url(#p6a50473dc4)\" d=\"M 231.123864 224.64 \r\nL 261.560227 224.64 \r\nL 261.560227 17.554286 \r\nL 231.123864 17.554286 \r\nz\r\n\" style=\"fill:#1f77b4;\"/>\r\n   </g>\r\n   <g id=\"patch_10\">\r\n    <path clip-path=\"url(#p6a50473dc4)\" d=\"M 261.560227 224.64 \r\nL 291.996591 224.64 \r\nL 291.996591 93.909912 \r\nL 261.560227 93.909912 \r\nz\r\n\" style=\"fill:#1f77b4;\"/>\r\n   </g>\r\n   <g id=\"patch_11\">\r\n    <path clip-path=\"url(#p6a50473dc4)\" d=\"M 291.996591 224.64 \r\nL 322.432955 224.64 \r\nL 322.432955 176.050056 \r\nL 291.996591 176.050056 \r\nz\r\n\" style=\"fill:#1f77b4;\"/>\r\n   </g>\r\n   <g id=\"patch_12\">\r\n    <path clip-path=\"url(#p6a50473dc4)\" d=\"M 322.432955 224.64 \r\nL 352.869318 224.64 \r\nL 352.869318 210.757159 \r\nL 322.432955 210.757159 \r\nz\r\n\" style=\"fill:#1f77b4;\"/>\r\n   </g>\r\n   <g id=\"matplotlib.axis_1\">\r\n    <g id=\"xtick_1\">\r\n     <g id=\"line2d_1\">\r\n      <defs>\r\n       <path d=\"M 0 0 \r\nL 0 3.5 \r\n\" id=\"m2520847369\" style=\"stroke:#000000;stroke-width:0.8;\"/>\r\n      </defs>\r\n      <g>\r\n       <use style=\"stroke:#000000;stroke-width:0.8;\" x=\"36.839543\" xlink:href=\"#m2520847369\" y=\"224.64\"/>\r\n      </g>\r\n     </g>\r\n     <g id=\"text_1\">\r\n      <!-- −4 -->\r\n      <g transform=\"translate(29.468449 239.238438)scale(0.1 -0.1)\">\r\n       <defs>\r\n        <path d=\"M 10.59375 35.5 \r\nL 73.1875 35.5 \r\nL 73.1875 27.203125 \r\nL 10.59375 27.203125 \r\nz\r\n\" id=\"DejaVuSans-8722\"/>\r\n        <path d=\"M 37.796875 64.3125 \r\nL 12.890625 25.390625 \r\nL 37.796875 25.390625 \r\nz\r\nM 35.203125 72.90625 \r\nL 47.609375 72.90625 \r\nL 47.609375 25.390625 \r\nL 58.015625 25.390625 \r\nL 58.015625 17.1875 \r\nL 47.609375 17.1875 \r\nL 47.609375 0 \r\nL 37.796875 0 \r\nL 37.796875 17.1875 \r\nL 4.890625 17.1875 \r\nL 4.890625 26.703125 \r\nz\r\n\" id=\"DejaVuSans-52\"/>\r\n       </defs>\r\n       <use xlink:href=\"#DejaVuSans-8722\"/>\r\n       <use x=\"83.789062\" xlink:href=\"#DejaVuSans-52\"/>\r\n      </g>\r\n     </g>\r\n    </g>\r\n    <g id=\"xtick_2\">\r\n     <g id=\"line2d_2\">\r\n      <g>\r\n       <use style=\"stroke:#000000;stroke-width:0.8;\" x=\"84.459038\" xlink:href=\"#m2520847369\" y=\"224.64\"/>\r\n      </g>\r\n     </g>\r\n     <g id=\"text_2\">\r\n      <!-- −3 -->\r\n      <g transform=\"translate(77.087944 239.238438)scale(0.1 -0.1)\">\r\n       <defs>\r\n        <path d=\"M 40.578125 39.3125 \r\nQ 47.65625 37.796875 51.625 33 \r\nQ 55.609375 28.21875 55.609375 21.1875 \r\nQ 55.609375 10.40625 48.1875 4.484375 \r\nQ 40.765625 -1.421875 27.09375 -1.421875 \r\nQ 22.515625 -1.421875 17.65625 -0.515625 \r\nQ 12.796875 0.390625 7.625 2.203125 \r\nL 7.625 11.71875 \r\nQ 11.71875 9.328125 16.59375 8.109375 \r\nQ 21.484375 6.890625 26.8125 6.890625 \r\nQ 36.078125 6.890625 40.9375 10.546875 \r\nQ 45.796875 14.203125 45.796875 21.1875 \r\nQ 45.796875 27.640625 41.28125 31.265625 \r\nQ 36.765625 34.90625 28.71875 34.90625 \r\nL 20.21875 34.90625 \r\nL 20.21875 43.015625 \r\nL 29.109375 43.015625 \r\nQ 36.375 43.015625 40.234375 45.921875 \r\nQ 44.09375 48.828125 44.09375 54.296875 \r\nQ 44.09375 59.90625 40.109375 62.90625 \r\nQ 36.140625 65.921875 28.71875 65.921875 \r\nQ 24.65625 65.921875 20.015625 65.03125 \r\nQ 15.375 64.15625 9.8125 62.3125 \r\nL 9.8125 71.09375 \r\nQ 15.4375 72.65625 20.34375 73.4375 \r\nQ 25.25 74.21875 29.59375 74.21875 \r\nQ 40.828125 74.21875 47.359375 69.109375 \r\nQ 53.90625 64.015625 53.90625 55.328125 \r\nQ 53.90625 49.265625 50.4375 45.09375 \r\nQ 46.96875 40.921875 40.578125 39.3125 \r\nz\r\n\" id=\"DejaVuSans-51\"/>\r\n       </defs>\r\n       <use xlink:href=\"#DejaVuSans-8722\"/>\r\n       <use x=\"83.789062\" xlink:href=\"#DejaVuSans-51\"/>\r\n      </g>\r\n     </g>\r\n    </g>\r\n    <g id=\"xtick_3\">\r\n     <g id=\"line2d_3\">\r\n      <g>\r\n       <use style=\"stroke:#000000;stroke-width:0.8;\" x=\"132.078533\" xlink:href=\"#m2520847369\" y=\"224.64\"/>\r\n      </g>\r\n     </g>\r\n     <g id=\"text_3\">\r\n      <!-- −2 -->\r\n      <g transform=\"translate(124.707439 239.238438)scale(0.1 -0.1)\">\r\n       <defs>\r\n        <path d=\"M 19.1875 8.296875 \r\nL 53.609375 8.296875 \r\nL 53.609375 0 \r\nL 7.328125 0 \r\nL 7.328125 8.296875 \r\nQ 12.9375 14.109375 22.625 23.890625 \r\nQ 32.328125 33.6875 34.8125 36.53125 \r\nQ 39.546875 41.84375 41.421875 45.53125 \r\nQ 43.3125 49.21875 43.3125 52.78125 \r\nQ 43.3125 58.59375 39.234375 62.25 \r\nQ 35.15625 65.921875 28.609375 65.921875 \r\nQ 23.96875 65.921875 18.8125 64.3125 \r\nQ 13.671875 62.703125 7.8125 59.421875 \r\nL 7.8125 69.390625 \r\nQ 13.765625 71.78125 18.9375 73 \r\nQ 24.125 74.21875 28.421875 74.21875 \r\nQ 39.75 74.21875 46.484375 68.546875 \r\nQ 53.21875 62.890625 53.21875 53.421875 \r\nQ 53.21875 48.921875 51.53125 44.890625 \r\nQ 49.859375 40.875 45.40625 35.40625 \r\nQ 44.1875 33.984375 37.640625 27.21875 \r\nQ 31.109375 20.453125 19.1875 8.296875 \r\nz\r\n\" id=\"DejaVuSans-50\"/>\r\n       </defs>\r\n       <use xlink:href=\"#DejaVuSans-8722\"/>\r\n       <use x=\"83.789062\" xlink:href=\"#DejaVuSans-50\"/>\r\n      </g>\r\n     </g>\r\n    </g>\r\n    <g id=\"xtick_4\">\r\n     <g id=\"line2d_4\">\r\n      <g>\r\n       <use style=\"stroke:#000000;stroke-width:0.8;\" x=\"179.698028\" xlink:href=\"#m2520847369\" y=\"224.64\"/>\r\n      </g>\r\n     </g>\r\n     <g id=\"text_4\">\r\n      <!-- −1 -->\r\n      <g transform=\"translate(172.326934 239.238438)scale(0.1 -0.1)\">\r\n       <defs>\r\n        <path d=\"M 12.40625 8.296875 \r\nL 28.515625 8.296875 \r\nL 28.515625 63.921875 \r\nL 10.984375 60.40625 \r\nL 10.984375 69.390625 \r\nL 28.421875 72.90625 \r\nL 38.28125 72.90625 \r\nL 38.28125 8.296875 \r\nL 54.390625 8.296875 \r\nL 54.390625 0 \r\nL 12.40625 0 \r\nz\r\n\" id=\"DejaVuSans-49\"/>\r\n       </defs>\r\n       <use xlink:href=\"#DejaVuSans-8722\"/>\r\n       <use x=\"83.789062\" xlink:href=\"#DejaVuSans-49\"/>\r\n      </g>\r\n     </g>\r\n    </g>\r\n    <g id=\"xtick_5\">\r\n     <g id=\"line2d_5\">\r\n      <g>\r\n       <use style=\"stroke:#000000;stroke-width:0.8;\" x=\"227.317523\" xlink:href=\"#m2520847369\" y=\"224.64\"/>\r\n      </g>\r\n     </g>\r\n     <g id=\"text_5\">\r\n      <!-- 0 -->\r\n      <g transform=\"translate(224.136273 239.238438)scale(0.1 -0.1)\">\r\n       <defs>\r\n        <path d=\"M 31.78125 66.40625 \r\nQ 24.171875 66.40625 20.328125 58.90625 \r\nQ 16.5 51.421875 16.5 36.375 \r\nQ 16.5 21.390625 20.328125 13.890625 \r\nQ 24.171875 6.390625 31.78125 6.390625 \r\nQ 39.453125 6.390625 43.28125 13.890625 \r\nQ 47.125 21.390625 47.125 36.375 \r\nQ 47.125 51.421875 43.28125 58.90625 \r\nQ 39.453125 66.40625 31.78125 66.40625 \r\nz\r\nM 31.78125 74.21875 \r\nQ 44.046875 74.21875 50.515625 64.515625 \r\nQ 56.984375 54.828125 56.984375 36.375 \r\nQ 56.984375 17.96875 50.515625 8.265625 \r\nQ 44.046875 -1.421875 31.78125 -1.421875 \r\nQ 19.53125 -1.421875 13.0625 8.265625 \r\nQ 6.59375 17.96875 6.59375 36.375 \r\nQ 6.59375 54.828125 13.0625 64.515625 \r\nQ 19.53125 74.21875 31.78125 74.21875 \r\nz\r\n\" id=\"DejaVuSans-48\"/>\r\n       </defs>\r\n       <use xlink:href=\"#DejaVuSans-48\"/>\r\n      </g>\r\n     </g>\r\n    </g>\r\n    <g id=\"xtick_6\">\r\n     <g id=\"line2d_6\">\r\n      <g>\r\n       <use style=\"stroke:#000000;stroke-width:0.8;\" x=\"274.937017\" xlink:href=\"#m2520847369\" y=\"224.64\"/>\r\n      </g>\r\n     </g>\r\n     <g id=\"text_6\">\r\n      <!-- 1 -->\r\n      <g transform=\"translate(271.755767 239.238438)scale(0.1 -0.1)\">\r\n       <use xlink:href=\"#DejaVuSans-49\"/>\r\n      </g>\r\n     </g>\r\n    </g>\r\n    <g id=\"xtick_7\">\r\n     <g id=\"line2d_7\">\r\n      <g>\r\n       <use style=\"stroke:#000000;stroke-width:0.8;\" x=\"322.556512\" xlink:href=\"#m2520847369\" y=\"224.64\"/>\r\n      </g>\r\n     </g>\r\n     <g id=\"text_7\">\r\n      <!-- 2 -->\r\n      <g transform=\"translate(319.375262 239.238438)scale(0.1 -0.1)\">\r\n       <use xlink:href=\"#DejaVuSans-50\"/>\r\n      </g>\r\n     </g>\r\n    </g>\r\n   </g>\r\n   <g id=\"matplotlib.axis_2\">\r\n    <g id=\"ytick_1\">\r\n     <g id=\"line2d_8\">\r\n      <defs>\r\n       <path d=\"M 0 0 \r\nL -3.5 0 \r\n\" id=\"m7778ad5279\" style=\"stroke:#000000;stroke-width:0.8;\"/>\r\n      </defs>\r\n      <g>\r\n       <use style=\"stroke:#000000;stroke-width:0.8;\" x=\"33.2875\" xlink:href=\"#m7778ad5279\" y=\"224.64\"/>\r\n      </g>\r\n     </g>\r\n     <g id=\"text_8\">\r\n      <!-- 0 -->\r\n      <g transform=\"translate(19.925 228.439219)scale(0.1 -0.1)\">\r\n       <use xlink:href=\"#DejaVuSans-48\"/>\r\n      </g>\r\n     </g>\r\n    </g>\r\n    <g id=\"ytick_2\">\r\n     <g id=\"line2d_9\">\r\n      <g>\r\n       <use style=\"stroke:#000000;stroke-width:0.8;\" x=\"33.2875\" xlink:href=\"#m7778ad5279\" y=\"195.717414\"/>\r\n      </g>\r\n     </g>\r\n     <g id=\"text_9\">\r\n      <!-- 25 -->\r\n      <g transform=\"translate(13.5625 199.516633)scale(0.1 -0.1)\">\r\n       <defs>\r\n        <path d=\"M 10.796875 72.90625 \r\nL 49.515625 72.90625 \r\nL 49.515625 64.59375 \r\nL 19.828125 64.59375 \r\nL 19.828125 46.734375 \r\nQ 21.96875 47.46875 24.109375 47.828125 \r\nQ 26.265625 48.1875 28.421875 48.1875 \r\nQ 40.625 48.1875 47.75 41.5 \r\nQ 54.890625 34.8125 54.890625 23.390625 \r\nQ 54.890625 11.625 47.5625 5.09375 \r\nQ 40.234375 -1.421875 26.90625 -1.421875 \r\nQ 22.3125 -1.421875 17.546875 -0.640625 \r\nQ 12.796875 0.140625 7.71875 1.703125 \r\nL 7.71875 11.625 \r\nQ 12.109375 9.234375 16.796875 8.0625 \r\nQ 21.484375 6.890625 26.703125 6.890625 \r\nQ 35.15625 6.890625 40.078125 11.328125 \r\nQ 45.015625 15.765625 45.015625 23.390625 \r\nQ 45.015625 31 40.078125 35.4375 \r\nQ 35.15625 39.890625 26.703125 39.890625 \r\nQ 22.75 39.890625 18.8125 39.015625 \r\nQ 14.890625 38.140625 10.796875 36.28125 \r\nz\r\n\" id=\"DejaVuSans-53\"/>\r\n       </defs>\r\n       <use xlink:href=\"#DejaVuSans-50\"/>\r\n       <use x=\"63.623047\" xlink:href=\"#DejaVuSans-53\"/>\r\n      </g>\r\n     </g>\r\n    </g>\r\n    <g id=\"ytick_3\">\r\n     <g id=\"line2d_10\">\r\n      <g>\r\n       <use style=\"stroke:#000000;stroke-width:0.8;\" x=\"33.2875\" xlink:href=\"#m7778ad5279\" y=\"166.794828\"/>\r\n      </g>\r\n     </g>\r\n     <g id=\"text_10\">\r\n      <!-- 50 -->\r\n      <g transform=\"translate(13.5625 170.594047)scale(0.1 -0.1)\">\r\n       <use xlink:href=\"#DejaVuSans-53\"/>\r\n       <use x=\"63.623047\" xlink:href=\"#DejaVuSans-48\"/>\r\n      </g>\r\n     </g>\r\n    </g>\r\n    <g id=\"ytick_4\">\r\n     <g id=\"line2d_11\">\r\n      <g>\r\n       <use style=\"stroke:#000000;stroke-width:0.8;\" x=\"33.2875\" xlink:href=\"#m7778ad5279\" y=\"137.872243\"/>\r\n      </g>\r\n     </g>\r\n     <g id=\"text_11\">\r\n      <!-- 75 -->\r\n      <g transform=\"translate(13.5625 141.671461)scale(0.1 -0.1)\">\r\n       <defs>\r\n        <path d=\"M 8.203125 72.90625 \r\nL 55.078125 72.90625 \r\nL 55.078125 68.703125 \r\nL 28.609375 0 \r\nL 18.3125 0 \r\nL 43.21875 64.59375 \r\nL 8.203125 64.59375 \r\nz\r\n\" id=\"DejaVuSans-55\"/>\r\n       </defs>\r\n       <use xlink:href=\"#DejaVuSans-55\"/>\r\n       <use x=\"63.623047\" xlink:href=\"#DejaVuSans-53\"/>\r\n      </g>\r\n     </g>\r\n    </g>\r\n    <g id=\"ytick_5\">\r\n     <g id=\"line2d_12\">\r\n      <g>\r\n       <use style=\"stroke:#000000;stroke-width:0.8;\" x=\"33.2875\" xlink:href=\"#m7778ad5279\" y=\"108.949657\"/>\r\n      </g>\r\n     </g>\r\n     <g id=\"text_12\">\r\n      <!-- 100 -->\r\n      <g transform=\"translate(7.2 112.748876)scale(0.1 -0.1)\">\r\n       <use xlink:href=\"#DejaVuSans-49\"/>\r\n       <use x=\"63.623047\" xlink:href=\"#DejaVuSans-48\"/>\r\n       <use x=\"127.246094\" xlink:href=\"#DejaVuSans-48\"/>\r\n      </g>\r\n     </g>\r\n    </g>\r\n    <g id=\"ytick_6\">\r\n     <g id=\"line2d_13\">\r\n      <g>\r\n       <use style=\"stroke:#000000;stroke-width:0.8;\" x=\"33.2875\" xlink:href=\"#m7778ad5279\" y=\"80.027071\"/>\r\n      </g>\r\n     </g>\r\n     <g id=\"text_13\">\r\n      <!-- 125 -->\r\n      <g transform=\"translate(7.2 83.82629)scale(0.1 -0.1)\">\r\n       <use xlink:href=\"#DejaVuSans-49\"/>\r\n       <use x=\"63.623047\" xlink:href=\"#DejaVuSans-50\"/>\r\n       <use x=\"127.246094\" xlink:href=\"#DejaVuSans-53\"/>\r\n      </g>\r\n     </g>\r\n    </g>\r\n    <g id=\"ytick_7\">\r\n     <g id=\"line2d_14\">\r\n      <g>\r\n       <use style=\"stroke:#000000;stroke-width:0.8;\" x=\"33.2875\" xlink:href=\"#m7778ad5279\" y=\"51.104485\"/>\r\n      </g>\r\n     </g>\r\n     <g id=\"text_14\">\r\n      <!-- 150 -->\r\n      <g transform=\"translate(7.2 54.903704)scale(0.1 -0.1)\">\r\n       <use xlink:href=\"#DejaVuSans-49\"/>\r\n       <use x=\"63.623047\" xlink:href=\"#DejaVuSans-53\"/>\r\n       <use x=\"127.246094\" xlink:href=\"#DejaVuSans-48\"/>\r\n      </g>\r\n     </g>\r\n    </g>\r\n    <g id=\"ytick_8\">\r\n     <g id=\"line2d_15\">\r\n      <g>\r\n       <use style=\"stroke:#000000;stroke-width:0.8;\" x=\"33.2875\" xlink:href=\"#m7778ad5279\" y=\"22.181899\"/>\r\n      </g>\r\n     </g>\r\n     <g id=\"text_15\">\r\n      <!-- 175 -->\r\n      <g transform=\"translate(7.2 25.981118)scale(0.1 -0.1)\">\r\n       <use xlink:href=\"#DejaVuSans-49\"/>\r\n       <use x=\"63.623047\" xlink:href=\"#DejaVuSans-55\"/>\r\n       <use x=\"127.246094\" xlink:href=\"#DejaVuSans-53\"/>\r\n      </g>\r\n     </g>\r\n    </g>\r\n   </g>\r\n   <g id=\"patch_13\">\r\n    <path d=\"M 33.2875 224.64 \r\nL 33.2875 7.2 \r\n\" style=\"fill:none;stroke:#000000;stroke-linecap:square;stroke-linejoin:miter;stroke-width:0.8;\"/>\r\n   </g>\r\n   <g id=\"patch_14\">\r\n    <path d=\"M 368.0875 224.64 \r\nL 368.0875 7.2 \r\n\" style=\"fill:none;stroke:#000000;stroke-linecap:square;stroke-linejoin:miter;stroke-width:0.8;\"/>\r\n   </g>\r\n   <g id=\"patch_15\">\r\n    <path d=\"M 33.2875 224.64 \r\nL 368.0875 224.64 \r\n\" style=\"fill:none;stroke:#000000;stroke-linecap:square;stroke-linejoin:miter;stroke-width:0.8;\"/>\r\n   </g>\r\n   <g id=\"patch_16\">\r\n    <path d=\"M 33.2875 7.2 \r\nL 368.0875 7.2 \r\n\" style=\"fill:none;stroke:#000000;stroke-linecap:square;stroke-linejoin:miter;stroke-width:0.8;\"/>\r\n   </g>\r\n  </g>\r\n </g>\r\n <defs>\r\n  <clipPath id=\"p6a50473dc4\">\r\n   <rect height=\"217.44\" width=\"334.8\" x=\"33.2875\" y=\"7.2\"/>\r\n  </clipPath>\r\n </defs>\r\n</svg>\r\n"
     },
     "metadata": {
      "needs_background": "light"
     }
    }
   ],
   "metadata": {}
  },
  {
   "cell_type": "markdown",
   "source": [
    "- Lastly, we can use the `randint()` function to generate an array of integers. \n",
    "- The `randint()` function can take up to 3 arguments; \n",
    "    - the low(inclusive), \n",
    "    - high(exclusive) \n",
    "    - size of the array."
   ],
   "metadata": {}
  },
  {
   "cell_type": "code",
   "execution_count": null,
   "source": [
    "print(np.arange(10)) # Remember!! not random but sequential\r\n",
    "print(np.random.randint(20)) #generates a random integer exclusive of 20\r\n",
    "print()\r\n",
    "print(np.random.randint(2, 20))#generates a random integer including 2 but excluding 20\r\n",
    "print()\r\n",
    "print(np.random.randint(2, 20, 7))#generates 7 random integers including 2 but excluding 20\r\n",
    "print()\r\n",
    "print(np.random.randint(2, 20, (2,3)))#generates 2D array of shape 2,3"
   ],
   "outputs": [
    {
     "output_type": "stream",
     "name": "stdout",
     "text": [
      "17\n",
      "\n",
      "12\n",
      "\n",
      "[10  8 18 18  5 16 15]\n",
      "\n",
      "[[13  8 13]\n",
      " [ 5  8  9]]\n"
     ]
    }
   ],
   "metadata": {}
  },
  {
   "cell_type": "markdown",
   "source": [
    "### NumPy Random Seed\n",
    "\n",
    "If we set the np.random.seed(a_fixed_number) every time you call the numpy's other random function, the result will be the same:"
   ],
   "metadata": {}
  },
  {
   "cell_type": "code",
   "execution_count": null,
   "source": [
    "r= np.random.randint(10,size=(2,3))\r\n",
    "print(r)\r\n",
    "# changes each time"
   ],
   "outputs": [
    {
     "output_type": "stream",
     "name": "stdout",
     "text": [
      "[[2 3 8]\n",
      " [1 3 3]]\n"
     ]
    }
   ],
   "metadata": {}
  },
  {
   "cell_type": "code",
   "execution_count": null,
   "source": [
    "np.random.seed(43)\r\n",
    "r= np.random.randint(10,size=(2,3))\r\n",
    "print(r) # fixed"
   ],
   "outputs": [
    {
     "output_type": "stream",
     "name": "stdout",
     "text": [
      "[[4 0 1]\n",
      " [5 0 3]]\n"
     ]
    }
   ],
   "metadata": {}
  },
  {
   "cell_type": "markdown",
   "source": [
    "## Basic DataTypes\r\n",
    "\r\n",
    "**Each built-in data type has a character code that uniquely identifies it.**\r\n",
    "\r\n",
    "- 'b' − boolean\r\n",
    "- 'i' − (signed) integer\r\n",
    "- 'u' − unsigned integer\r\n",
    "- 'f' − floating-point\r\n",
    "- 'c' − complex-floating point\r\n",
    "- 'm' − timedelta\r\n",
    "- 'M' − datetime\r\n",
    "- 'O' − (Python) objects\r\n",
    "- 'S', 'a' − (byte-)string\r\n",
    "- 'U' − Unicode\r\n",
    "- 'V' − raw data (void)\r\n",
    "\r\n"
   ],
   "metadata": {}
  },
  {
   "cell_type": "code",
   "execution_count": null,
   "source": [
    "a = np.zeros((3, 3))\r\n",
    "print(a)\r\n",
    "\r\n",
    "a.dtype"
   ],
   "outputs": [
    {
     "output_type": "stream",
     "name": "stdout",
     "text": [
      "[[0. 0. 0.]\n",
      " [0. 0. 0.]\n",
      " [0. 0. 0.]]\n"
     ]
    },
    {
     "output_type": "execute_result",
     "data": {
      "text/plain": [
       "dtype('float64')"
      ]
     },
     "metadata": {},
     "execution_count": 10
    }
   ],
   "metadata": {}
  },
  {
   "cell_type": "markdown",
   "source": [
    "## Indexing and Masking"
   ],
   "metadata": {}
  },
  {
   "cell_type": "code",
   "execution_count": null,
   "source": [
    "a = np.random.randint(0,20,(5,4)) \r\n",
    "a"
   ],
   "outputs": [
    {
     "output_type": "execute_result",
     "data": {
      "text/plain": [
       "array([[16,  3, 16, 10],\n",
       "       [18, 17, 15,  0],\n",
       "       [ 5, 13, 18, 10],\n",
       "       [ 7,  5,  9, 14],\n",
       "       [ 6,  9,  2,  2]])"
      ]
     },
     "metadata": {},
     "execution_count": 8
    }
   ],
   "metadata": {}
  },
  {
   "cell_type": "code",
   "execution_count": null,
   "source": [
    "# first row\r\n",
    "print(a[0])\r\n",
    "# sencond last row\r\n",
    "print(a[-2])\r\n",
    "# first element\r\n",
    "print(a[0,0])\r\n",
    "# last element\r\n",
    "print(a[4,3])"
   ],
   "outputs": [
    {
     "output_type": "stream",
     "name": "stdout",
     "text": [
      "[16  3 16 10]\n",
      "[ 7  5  9 14]\n",
      "16\n",
      "2\n"
     ]
    }
   ],
   "metadata": {}
  },
  {
   "cell_type": "markdown",
   "source": [
    "### Array slicing\n",
    "\n",
    "`arr[start_row_idx : end_row_idx + 1, start_col_idx : end_col_idx + 1]`"
   ],
   "metadata": {}
  },
  {
   "cell_type": "code",
   "execution_count": null,
   "source": [
    "a = np.array([[1 , 2, 3, 4], \r\n",
    "              [5, 6, 7, 8], \r\n",
    "              [9, 10, 11, 12],\r\n",
    "              [13 , 14, 15, 16]])"
   ],
   "outputs": [],
   "metadata": {}
  },
  {
   "cell_type": "markdown",
   "source": [
    "<div align=\"center\"><img src=\"img/indexing.jpg\" alt=\"dfs\" width=\"800px\"></div> "
   ],
   "metadata": {}
  },
  {
   "cell_type": "markdown",
   "source": [
    "<div align=\"center\"><img src=\"img/index_slice.jpg\" alt=\"Itrtype\" width=\"800px\" ></div> "
   ],
   "metadata": {}
  },
  {
   "cell_type": "code",
   "execution_count": null,
   "source": [
    "print(a[0:2,0:2])\r\n",
    "print()\r\n",
    "print(a[:2,:2])"
   ],
   "outputs": [
    {
     "output_type": "stream",
     "name": "stdout",
     "text": [
      "[[1 2]\n",
      " [5 6]]\n",
      "\n",
      "[[1 2]\n",
      " [5 6]]\n"
     ]
    }
   ],
   "metadata": {}
  },
  {
   "cell_type": "code",
   "execution_count": null,
   "source": [
    "# diff. ways of indexing first two rows\r\n",
    "print(a[0:2]) \r\n",
    "print()\r\n",
    "print(a[:2,:])\r\n",
    "print()\r\n",
    "print(a[:2])"
   ],
   "outputs": [
    {
     "output_type": "stream",
     "name": "stdout",
     "text": [
      "[[1 2 3 4]\n",
      " [5 6 7 8]]\n",
      "\n",
      "[[1 2 3 4]\n",
      " [5 6 7 8]]\n",
      "\n",
      "[[1 2 3 4]\n",
      " [5 6 7 8]]\n"
     ]
    }
   ],
   "metadata": {}
  },
  {
   "cell_type": "code",
   "execution_count": null,
   "source": [
    "print(a[:,1]) #all rows of column 2\r\n",
    "print(\"vs\")\r\n",
    "print(a[:,1:2]) #all rows of column 2"
   ],
   "outputs": [
    {
     "output_type": "stream",
     "name": "stdout",
     "text": [
      "[ 2  6 10 14]\n",
      "vs\n",
      "[[ 2]\n",
      " [ 6]\n",
      " [10]\n",
      " [14]]\n"
     ]
    }
   ],
   "metadata": {}
  },
  {
   "cell_type": "code",
   "execution_count": null,
   "source": [
    "print(a[1,:]) #all columns of row 2\r\n",
    "print(\"vs\")\r\n",
    "print(a[1:2,:]) #all columns of row 2"
   ],
   "outputs": [
    {
     "output_type": "stream",
     "name": "stdout",
     "text": [
      "[5 6 7 8]\n",
      "vs\n",
      "[[5 6 7 8]]\n"
     ]
    }
   ],
   "metadata": {}
  },
  {
   "cell_type": "code",
   "execution_count": null,
   "source": [
    "print(a[:,2:]) #all rows of last two rows"
   ],
   "outputs": [
    {
     "output_type": "stream",
     "name": "stdout",
     "text": [
      "[[ 3  4]\n",
      " [ 7  8]\n",
      " [11 12]\n",
      " [15 16]]\n"
     ]
    }
   ],
   "metadata": {}
  },
  {
   "cell_type": "markdown",
   "source": [
    "#### Negative slicing of NumPy arrays"
   ],
   "metadata": {}
  },
  {
   "cell_type": "code",
   "execution_count": null,
   "source": [
    "# last column only\r\n",
    "print(a[:,-1]) # all rows, last column\r\n",
    "print()\r\n",
    "print(a[:,3])"
   ],
   "outputs": [
    {
     "output_type": "stream",
     "name": "stdout",
     "text": [
      "[ 4  8 12 16]\n",
      "\n",
      "[ 4  8 12 16]\n"
     ]
    }
   ],
   "metadata": {}
  },
  {
   "cell_type": "code",
   "execution_count": null,
   "source": [
    "#  last two  column only\r\n",
    "ans = a[:,-2:]\r\n",
    "print(ans) \r\n",
    "print()\r\n",
    "print(ans[1,0])"
   ],
   "outputs": [
    {
     "output_type": "stream",
     "name": "stdout",
     "text": [
      "[[ 3  4]\n",
      " [ 7  8]\n",
      " [11 12]\n",
      " [15 16]]\n",
      "\n",
      "7\n"
     ]
    }
   ],
   "metadata": {}
  },
  {
   "cell_type": "markdown",
   "source": [
    "If, however, we wanted to extract from the end, we would have to explicitly provide a negative step-size otherwise the result would be an empty list."
   ],
   "metadata": {}
  },
  {
   "cell_type": "code",
   "execution_count": null,
   "source": [
    "print(a[:,-1:-3:-1])"
   ],
   "outputs": [
    {
     "output_type": "stream",
     "name": "stdout",
     "text": [
      "[[ 4  3]\n",
      " [ 8  7]\n",
      " [12 11]\n",
      " [16 15]]\n"
     ]
    }
   ],
   "metadata": {}
  },
  {
   "cell_type": "code",
   "execution_count": null,
   "source": [
    "print('Reversed array :','\\n',a[::-1,::-1])"
   ],
   "outputs": [
    {
     "output_type": "stream",
     "name": "stdout",
     "text": [
      "Reversed array : \n",
      " [[16 15 14 13]\n",
      " [12 11 10  9]\n",
      " [ 8  7  6  5]\n",
      " [ 4  3  2  1]]\n"
     ]
    }
   ],
   "metadata": {}
  },
  {
   "cell_type": "markdown",
   "source": [
    "### Masking\r\n",
    "\r\n",
    "NumPy arrays can be indexed with slices, but also with boolean or integer arrays **(masks)**. This method is called **fancy indexing**. It creates copies not views."
   ],
   "metadata": {}
  },
  {
   "cell_type": "code",
   "execution_count": null,
   "source": [
    "a = np.array([[1 , 2, 3, 4], \r\n",
    "              [5, 6, 7, 8], \r\n",
    "              [9, 10, 11, 12],\r\n",
    "              [1 , 2, 3, 4]])\r\n",
    "\r\n",
    "a[1:3,1:3] = 0\r\n",
    "print(a)"
   ],
   "outputs": [
    {
     "output_type": "stream",
     "name": "stdout",
     "text": [
      "[[ 1  2  3  4]\n",
      " [ 5  0  0  8]\n",
      " [ 9  0  0 12]\n",
      " [ 1  2  3  4]]\n"
     ]
    }
   ],
   "metadata": {}
  },
  {
   "cell_type": "code",
   "execution_count": null,
   "source": [
    "mask = a>5\r\n",
    "print(mask)"
   ],
   "outputs": [
    {
     "output_type": "stream",
     "name": "stdout",
     "text": [
      "[[False False False False]\n",
      " [False False False  True]\n",
      " [ True False False  True]\n",
      " [False False False False]]\n"
     ]
    }
   ],
   "metadata": {}
  },
  {
   "cell_type": "code",
   "execution_count": null,
   "source": [
    "# get all values greater then 5\r\n",
    "a[mask]"
   ],
   "outputs": [
    {
     "output_type": "execute_result",
     "data": {
      "text/plain": [
       "array([ 8,  9, 12])"
      ]
     },
     "metadata": {},
     "execution_count": 17
    }
   ],
   "metadata": {}
  },
  {
   "cell_type": "markdown",
   "source": [
    "### Selecting values from your array that fulfill certain conditions"
   ],
   "metadata": {}
  },
  {
   "cell_type": "code",
   "execution_count": null,
   "source": [
    "# print all of the values in the array that are less than 5.\r\n",
    "print(a[a<5]) \r\n",
    "\r\n",
    "# numbers that are equal to or greater than 5\r\n",
    "print()\r\n",
    "five_up = (a >= 5)\r\n",
    "print(a[five_up])\r\n",
    "\r\n",
    "# elements that are divisible by 2:\r\n",
    "print()\r\n",
    "divisible_by_2 = a[a%2==0]\r\n",
    "print(divisible_by_2)\r\n",
    "\r\n",
    "# elements that satisfy two conditions using the & and | operators:\r\n",
    "print()\r\n",
    "c = a[(a > 2) & (a < 11)]\r\n",
    "print(c)"
   ],
   "outputs": [
    {
     "output_type": "stream",
     "name": "stdout",
     "text": [
      "[1 2 3 4 0 0 0 0 1 2 3 4]\n",
      "\n",
      "[ 5  8  9 12]\n",
      "\n",
      "[ 2  4  0  0  8  0  0 12  2  4]\n",
      "\n",
      "[3 4 5 8 9 3 4]\n"
     ]
    }
   ],
   "metadata": {}
  },
  {
   "cell_type": "markdown",
   "source": [
    "#### Indexing with a mask can be very useful to assign a new value to a sub-array"
   ],
   "metadata": {}
  },
  {
   "cell_type": "code",
   "execution_count": null,
   "source": [
    "a = np.random.randint(0, 20, 15)\r\n",
    "print(a)\r\n",
    "mask = (a % 2 == 0)\r\n",
    "a[mask] = -1\r\n",
    "a"
   ],
   "outputs": [
    {
     "output_type": "stream",
     "name": "stdout",
     "text": [
      "[18 14 14  7 11  1 10  4  1 10 10 18 17  5  2]\n"
     ]
    },
    {
     "output_type": "execute_result",
     "data": {
      "text/plain": [
       "array([-1, -1, -1,  7, 11,  1, -1, -1,  1, -1, -1, -1, 17,  5, -1])"
      ]
     },
     "metadata": {},
     "execution_count": 12
    }
   ],
   "metadata": {}
  },
  {
   "cell_type": "markdown",
   "source": [
    "#### `np.where()` to select elements or indices from an array."
   ],
   "metadata": {}
  },
  {
   "cell_type": "code",
   "execution_count": null,
   "source": [
    "# print the indices of elements that are, for example, less than 5:\r\n",
    "a = np.array([[1 , 5, 6, 4], \r\n",
    "              [5, 1, 7, 8], \r\n",
    "              [9, 10, 11, 1]])\r\n",
    "b = np.where(a<5)\r\n",
    "print(b)"
   ],
   "outputs": [
    {
     "output_type": "stream",
     "name": "stdout",
     "text": [
      "(array([0, 0, 1, 2], dtype=int64), array([0, 3, 1, 3], dtype=int64))\n"
     ]
    }
   ],
   "metadata": {}
  },
  {
   "cell_type": "markdown",
   "source": [
    "In this example, a tuple of arrays was returned: one for each dimension.\r\n",
    "The first array represents the row indices where these values are found, and\r\n",
    "the second array represents the column indices where the values are found. "
   ],
   "metadata": {}
  },
  {
   "cell_type": "markdown",
   "source": [
    " ## 3D Arrays\n",
    "\n",
    "<div align=\"center\"><img src=\"img/array_creation.jpg\" alt=\"Itrtype\" width=\"800px\"></div> "
   ],
   "metadata": {}
  },
  {
   "cell_type": "code",
   "execution_count": null,
   "source": [
    "a = np.array([[[1,2],[3,4],[5,6]],# first axis array\r\n",
    "[[7,8],[9,10],[11,12]],# second axis array\r\n",
    "[[13,14],[15,16],[17,18]]])# third axis array\r\n",
    "\r\n",
    "a.shape # 3 sets , 3 rows, 2 columns"
   ],
   "outputs": [
    {
     "output_type": "execute_result",
     "data": {
      "text/plain": [
       "(3, 3, 2)"
      ]
     },
     "metadata": {},
     "execution_count": 4
    }
   ],
   "metadata": {}
  },
  {
   "cell_type": "code",
   "execution_count": null,
   "source": [
    "# value\r\n",
    "print(a[0],'\\n')\r\n",
    "print(a[0,0],'\\n')\r\n",
    "# First array, first row, first column value\r\n",
    "print(a[0,0,0],'\\n')\r\n",
    "# First array last column \r\n",
    "print(a[0,:,1],'\\n')"
   ],
   "outputs": [
    {
     "output_type": "stream",
     "name": "stdout",
     "text": [
      "[[1 2]\n",
      " [3 4]\n",
      " [5 6]] \n",
      "\n",
      "[1 2] \n",
      "\n",
      "1 \n",
      "\n",
      "[2 4 6] \n",
      "\n"
     ]
    }
   ],
   "metadata": {}
  },
  {
   "cell_type": "code",
   "execution_count": null,
   "source": [
    "print(a[1])\r\n",
    "print()\r\n",
    "print(a[2])\r\n",
    "print()\r\n",
    "print(\"first row from each arrays:\",'\\n')\r\n",
    "print(a[:,0,:2])"
   ],
   "outputs": [
    {
     "output_type": "stream",
     "name": "stdout",
     "text": [
      "[[ 7  8]\n",
      " [ 9 10]\n",
      " [11 12]]\n",
      "\n",
      "[[13 14]\n",
      " [15 16]\n",
      " [17 18]]\n",
      "\n",
      "first row from each arrays: \n",
      "\n",
      "[[ 1  2]\n",
      " [ 7  8]\n",
      " [13 14]]\n"
     ]
    }
   ],
   "metadata": {}
  },
  {
   "cell_type": "code",
   "execution_count": null,
   "source": [
    "# First one rows for second and third arrays:\r\n",
    "print(a[1:,:1,:2])\r\n",
    "print('\\n',\"watch out!!\",'\\n')\r\n",
    "# First one rows for second and third arrays:\r\n",
    "print(a[1:,0,:2],'\\n')"
   ],
   "outputs": [
    {
     "output_type": "stream",
     "name": "stdout",
     "text": [
      "[[[ 7  8]]\n",
      "\n",
      " [[13 14]]]\n",
      "\n",
      " watch out!! \n",
      "\n",
      "[[ 7  8]\n",
      " [13 14]] \n",
      "\n"
     ]
    }
   ],
   "metadata": {}
  },
  {
   "cell_type": "code",
   "execution_count": null,
   "source": [],
   "outputs": [],
   "metadata": {}
  },
  {
   "cell_type": "markdown",
   "source": [
    "### Converting to 1D array with `flatten()` method\n",
    "\n"
   ],
   "metadata": {}
  },
  {
   "cell_type": "code",
   "execution_count": null,
   "source": [
    "print('Printing as a single array :','\\n',a[1:,0:2,0:2].flatten())"
   ],
   "outputs": [
    {
     "output_type": "stream",
     "name": "stdout",
     "text": [
      "Printing as a single array : \n",
      " [ 7  8  9 10 13 14 15 16]\n"
     ]
    }
   ],
   "metadata": {}
  },
  {
   "cell_type": "code",
   "execution_count": null,
   "source": [],
   "outputs": [
    {
     "output_type": "stream",
     "name": "stdout",
     "text": [
      "[[[ 5  6]\n",
      "  [ 3  4]]\n",
      "\n",
      " [[11 12]\n",
      "  [ 9 10]]\n",
      "\n",
      " [[17 18]\n",
      "  [15 16]]]\n"
     ]
    }
   ],
   "metadata": {}
  },
  {
   "cell_type": "markdown",
   "source": [
    "## Manipulating Arrays"
   ],
   "metadata": {}
  },
  {
   "cell_type": "markdown",
   "source": [
    "### Matrix Arithmetic\r\n",
    "\r\n",
    "We can add and multiply matrices using `arithmetic operators (+-*/)` if the two matrices are the **same size**. NumPy handles those as **`position-wise`** operations:\r\n",
    "\r\n",
    "<div align=\"center\"><img src=\"img/Matrix Arithmetic.jpg\" alt=\"Itrtype\" width=\"800px\"></div> \r\n",
    "\r\n",
    "We can get away with doing these arithmetic operations on matrices of **different size** only if the different dimension is one (e.g. the matrix has only one column or one row), in which case NumPy uses its **`broadcast`** rules for that operation:\r\n",
    "\r\n",
    "<div align=\"center\"><img src=\"img/Matrix Arithmetic 2.jpg\" alt=\"Itrtype\" width=\"800px\"></div> "
   ],
   "metadata": {}
  },
  {
   "cell_type": "code",
   "execution_count": null,
   "source": [
    "a = np.array([10,20,30,40])\r\n",
    "b = np.arange(1,5)\r\n",
    "print(a)\r\n",
    "print(b)"
   ],
   "outputs": [
    {
     "output_type": "stream",
     "name": "stdout",
     "text": [
      "[10 20 30 40]\n",
      "[1 2 3 4]\n"
     ]
    }
   ],
   "metadata": {}
  },
  {
   "cell_type": "code",
   "execution_count": null,
   "source": [
    "a + b"
   ],
   "outputs": [
    {
     "output_type": "execute_result",
     "data": {
      "text/plain": [
       "array([11, 22, 33, 44])"
      ]
     },
     "metadata": {},
     "execution_count": 10
    }
   ],
   "metadata": {}
  },
  {
   "cell_type": "code",
   "execution_count": null,
   "source": [
    "a - b"
   ],
   "outputs": [
    {
     "output_type": "execute_result",
     "data": {
      "text/plain": [
       "array([ 9, 18, 27, 36])"
      ]
     },
     "metadata": {},
     "execution_count": 11
    }
   ],
   "metadata": {}
  },
  {
   "cell_type": "code",
   "execution_count": null,
   "source": [
    "a * b"
   ],
   "outputs": [
    {
     "output_type": "execute_result",
     "data": {
      "text/plain": [
       "array([ 10,  40,  90, 160])"
      ]
     },
     "metadata": {},
     "execution_count": 14
    }
   ],
   "metadata": {}
  },
  {
   "cell_type": "markdown",
   "source": [
    "### with scalars"
   ],
   "metadata": {}
  },
  {
   "cell_type": "code",
   "execution_count": null,
   "source": [
    "a = np.array([1, 2, 3, 4])  # create an array\r\n",
    "a*2"
   ],
   "outputs": [
    {
     "output_type": "execute_result",
     "data": {
      "text/plain": [
       "array([2, 4, 6, 8])"
      ]
     },
     "metadata": {},
     "execution_count": 22
    }
   ],
   "metadata": {}
  },
  {
   "cell_type": "code",
   "execution_count": null,
   "source": [
    "a= a ** 2\r\n",
    "a"
   ],
   "outputs": [
    {
     "output_type": "execute_result",
     "data": {
      "text/plain": [
       "array([ 1,  4,  9, 16], dtype=int32)"
      ]
     },
     "metadata": {},
     "execution_count": 25
    }
   ],
   "metadata": {}
  },
  {
   "cell_type": "code",
   "execution_count": null,
   "source": [
    "# Masking\r\n",
    "a>15"
   ],
   "outputs": [
    {
     "output_type": "execute_result",
     "data": {
      "text/plain": [
       "array([False,  True,  True,  True])"
      ]
     },
     "metadata": {},
     "execution_count": 16
    }
   ],
   "metadata": {}
  },
  {
   "cell_type": "markdown",
   "source": [
    "### Transcendental functions"
   ],
   "metadata": {}
  },
  {
   "cell_type": "code",
   "execution_count": null,
   "source": [
    "np.log(b)"
   ],
   "outputs": [
    {
     "output_type": "execute_result",
     "data": {
      "text/plain": [
       "array([0.        , 0.69314718, 1.09861229, 1.38629436])"
      ]
     },
     "metadata": {},
     "execution_count": 17
    }
   ],
   "metadata": {}
  },
  {
   "cell_type": "code",
   "execution_count": null,
   "source": [
    "np.sin(a)"
   ],
   "outputs": [
    {
     "output_type": "execute_result",
     "data": {
      "text/plain": [
       "array([-0.54402111,  0.91294525, -0.98803162,  0.74511316])"
      ]
     },
     "metadata": {},
     "execution_count": 18
    }
   ],
   "metadata": {}
  },
  {
   "cell_type": "markdown",
   "source": [
    "### Shape Mismatch"
   ],
   "metadata": {}
  },
  {
   "cell_type": "code",
   "execution_count": null,
   "source": [
    "a = np.arange(4)\r\n",
    "\r\n",
    "a + np.array([1, 2])\r\n"
   ],
   "outputs": [
    {
     "output_type": "error",
     "ename": "ValueError",
     "evalue": "operands could not be broadcast together with shapes (4,) (2,) ",
     "traceback": [
      "\u001b[1;31m---------------------------------------------------------------------------\u001b[0m",
      "\u001b[1;31mValueError\u001b[0m                                Traceback (most recent call last)",
      "\u001b[1;32m<ipython-input-26-e480c525d1d6>\u001b[0m in \u001b[0;36m<module>\u001b[1;34m\u001b[0m\n\u001b[0;32m      1\u001b[0m \u001b[0ma\u001b[0m \u001b[1;33m=\u001b[0m \u001b[0mnp\u001b[0m\u001b[1;33m.\u001b[0m\u001b[0marange\u001b[0m\u001b[1;33m(\u001b[0m\u001b[1;36m4\u001b[0m\u001b[1;33m)\u001b[0m\u001b[1;33m\u001b[0m\u001b[1;33m\u001b[0m\u001b[0m\n\u001b[0;32m      2\u001b[0m \u001b[1;33m\u001b[0m\u001b[0m\n\u001b[1;32m----> 3\u001b[1;33m \u001b[0ma\u001b[0m \u001b[1;33m+\u001b[0m \u001b[0mnp\u001b[0m\u001b[1;33m.\u001b[0m\u001b[0marray\u001b[0m\u001b[1;33m(\u001b[0m\u001b[1;33m[\u001b[0m\u001b[1;36m1\u001b[0m\u001b[1;33m,\u001b[0m \u001b[1;36m2\u001b[0m\u001b[1;33m]\u001b[0m\u001b[1;33m)\u001b[0m\u001b[1;33m\u001b[0m\u001b[1;33m\u001b[0m\u001b[0m\n\u001b[0m",
      "\u001b[1;31mValueError\u001b[0m: operands could not be broadcast together with shapes (4,) (2,) "
     ]
    }
   ],
   "metadata": {}
  },
  {
   "cell_type": "code",
   "execution_count": null,
   "source": [
    "a = np.array([[1,2],[3,4]])\r\n",
    "b = np.array([1,1])\r\n",
    "a + b\r\n"
   ],
   "outputs": [
    {
     "output_type": "execute_result",
     "data": {
      "text/plain": [
       "array([[2, 3],\n",
       "       [4, 5]])"
      ]
     },
     "metadata": {},
     "execution_count": 27
    }
   ],
   "metadata": {}
  },
  {
   "cell_type": "markdown",
   "source": [
    "### Dot Product\r\n",
    "\r\n",
    "To multiply an `m×n` matrix by an `n×p` matrix, the `n`s must be the same,\r\n",
    "and the result is an `m×p` matrix.\r\n",
    "\r\n",
    "A key distinction to make with arithmetic is the case of matrix multiplication using the dot product. NumPy gives every matrix a dot() method we can use to carry-out dot product operations with other matrices:\r\n",
    "\r\n",
    "<div align=\"center\"><img src=\"img/dot.jpg\" alt=\"Itrtype\" width=\"800px\"></div> \r\n",
    "\r\n",
    "I’ve added matrix dimensions at the bottom of this figure to stress that the two matrices have to have the same dimension on the side they face each other with. You can visualize this operation as looking like this:\r\n",
    "\r\n",
    "<div align=\"center\"><img src=\"img/dot1.jpg\" alt=\"Itrtype\" width=\"800px\"></div> \r\n",
    "\r\n",
    "\r\n",
    "\r\n"
   ],
   "metadata": {}
  },
  {
   "cell_type": "code",
   "execution_count": null,
   "source": [
    "# A = np.random.randint(0,5,(3,4))\r\n",
    "# B = np.random.randint(0,5,(4,2))\r\n",
    "A = np.array([1,2,3])\r\n",
    "B = np.array([[1,10],[100,1000],[10000,100000]])\r\n",
    "print(A)\r\n",
    "print()\r\n",
    "print(B)"
   ],
   "outputs": [
    {
     "output_type": "stream",
     "name": "stdout",
     "text": [
      "[1 2 3]\n",
      "\n",
      "[[     1     10]\n",
      " [   100   1000]\n",
      " [ 10000 100000]]\n"
     ]
    }
   ],
   "metadata": {}
  },
  {
   "cell_type": "code",
   "execution_count": null,
   "source": [
    "# Dot product\r\n",
    "A.dot(B)"
   ],
   "outputs": [
    {
     "output_type": "execute_result",
     "data": {
      "text/plain": [
       "array([ 30201, 302010])"
      ]
     },
     "metadata": {},
     "execution_count": 30
    }
   ],
   "metadata": {}
  },
  {
   "cell_type": "markdown",
   "source": [
    "## Basic Reductions"
   ],
   "metadata": {}
  },
  {
   "cell_type": "markdown",
   "source": [
    "### Matrix Aggregation\n",
    "\n",
    "We can aggregate matrices the same way we aggregated vectors:\n",
    "\n",
    "<div align=\"center\"><img src=\"img/agg.jpg\" alt=\"Itrtype\" width=\"800px\"></div> \n",
    "\n",
    "Not only can we aggregate all the values in a matrix, but we can also aggregate across the rows or columns by using the `axis` parameter:\n",
    "\n",
    "<div align=\"center\"><img src=\"img/agg1.jpg\" alt=\"Itrtype\" width=\"800px\"></div> \n"
   ],
   "metadata": {}
  },
  {
   "cell_type": "code",
   "execution_count": 31,
   "source": [
    "print(\"1:------------\\n\",np.sum(B))\r\n",
    "print(\"2:------------\\n\",np.sum(B,axis=0))\r\n",
    "print(\"3:------------\\n\",np.sum(B,axis=1))\r\n",
    "\r\n",
    "print(\"4:------------\\n\",np.sqrt(B))\r\n",
    "print(\"5:------------\\n\",np.mean(B))\r\n",
    "print(\"6:------------\\n\",np.mean(B,axis=0))"
   ],
   "outputs": [
    {
     "output_type": "stream",
     "name": "stdout",
     "text": [
      "1:------------\n",
      " 111111\n",
      "2:------------\n",
      " [ 10101 101010]\n",
      "3:------------\n",
      " [    11   1100 110000]\n",
      "4:------------\n",
      " [[  1.           3.16227766]\n",
      " [ 10.          31.6227766 ]\n",
      " [100.         316.22776602]]\n",
      "5:------------\n",
      " 18518.5\n",
      "6:------------\n",
      " [ 3367. 33670.]\n"
     ]
    }
   ],
   "metadata": {}
  },
  {
   "cell_type": "markdown",
   "source": [
    "### Logical Operations"
   ],
   "metadata": {}
  },
  {
   "cell_type": "code",
   "execution_count": 44,
   "source": [
    "np.all([True, True, False])\r\n"
   ],
   "outputs": [
    {
     "output_type": "execute_result",
     "data": {
      "text/plain": [
       "False"
      ]
     },
     "metadata": {},
     "execution_count": 44
    }
   ],
   "metadata": {}
  },
  {
   "cell_type": "code",
   "execution_count": 45,
   "source": [
    "np.any([True, False, False])\r\n"
   ],
   "outputs": [
    {
     "output_type": "execute_result",
     "data": {
      "text/plain": [
       "True"
      ]
     },
     "metadata": {},
     "execution_count": 45
    }
   ],
   "metadata": {}
  },
  {
   "cell_type": "code",
   "execution_count": 46,
   "source": [
    "#Note: can be used for array comparisions\r\n",
    "a = np.zeros((50, 50))\r\n",
    "np.any(a != 0)\r\n"
   ],
   "outputs": [
    {
     "output_type": "execute_result",
     "data": {
      "text/plain": [
       "False"
      ]
     },
     "metadata": {},
     "execution_count": 46
    }
   ],
   "metadata": {}
  },
  {
   "cell_type": "code",
   "execution_count": 47,
   "source": [
    "np.all(a == a)\r\n"
   ],
   "outputs": [
    {
     "output_type": "execute_result",
     "data": {
      "text/plain": [
       "True"
      ]
     },
     "metadata": {},
     "execution_count": 47
    }
   ],
   "metadata": {}
  },
  {
   "cell_type": "code",
   "execution_count": 48,
   "source": [
    "a = np.array([1, 2, 3, 2])\r\n",
    "b = np.array([2, 2, 3, 2])\r\n",
    "c = np.array([6, 4, 4, 5])\r\n",
    "((a <= b) & (b <= c)).all()\r\n"
   ],
   "outputs": [
    {
     "output_type": "execute_result",
     "data": {
      "text/plain": [
       "True"
      ]
     },
     "metadata": {},
     "execution_count": 48
    }
   ],
   "metadata": {}
  },
  {
   "cell_type": "markdown",
   "source": [
    "### Statistics"
   ],
   "metadata": {}
  },
  {
   "cell_type": "code",
   "execution_count": 49,
   "source": [
    "x = np.array([1, 2, 3, 1])\r\n",
    "y = np.array([[1, 2, 3], [5, 6, 1]])\r\n",
    "x.mean()\r\n"
   ],
   "outputs": [
    {
     "output_type": "execute_result",
     "data": {
      "text/plain": [
       "1.75"
      ]
     },
     "metadata": {},
     "execution_count": 49
    }
   ],
   "metadata": {}
  },
  {
   "cell_type": "code",
   "execution_count": 50,
   "source": [
    "np.median(x)\r\n"
   ],
   "outputs": [
    {
     "output_type": "execute_result",
     "data": {
      "text/plain": [
       "1.5"
      ]
     },
     "metadata": {},
     "execution_count": 50
    }
   ],
   "metadata": {}
  },
  {
   "cell_type": "code",
   "execution_count": 51,
   "source": [
    "np.median(y, axis=-1)  # last axis\r\n"
   ],
   "outputs": [
    {
     "output_type": "execute_result",
     "data": {
      "text/plain": [
       "array([2., 5.])"
      ]
     },
     "metadata": {},
     "execution_count": 51
    }
   ],
   "metadata": {}
  },
  {
   "cell_type": "code",
   "execution_count": 52,
   "source": [
    "x.std()          # full population standard dev.\r\n"
   ],
   "outputs": [
    {
     "output_type": "execute_result",
     "data": {
      "text/plain": [
       "0.82915619758885"
      ]
     },
     "metadata": {},
     "execution_count": 52
    }
   ],
   "metadata": {}
  },
  {
   "cell_type": "markdown",
   "source": [
    "## Broadcasting\r\n",
    "\r\n",
    "Broadcasting is a process performed by NumPy that allows mathematical operations to work with objects that don't necessarily have compatible dimensions.\r\n",
    "\r\n",
    "- First rule of Numpy: 2 Array can perform operaiton only when they have same shapes\r\n",
    "- `Broadcasting` let two Arrays of different shapes to do some operaitons.\r\n",
    "    - The `small` Array will repeat itself, and convert to the same shape as of another array.\r\n",
    "\r\n",
    "<div align=\"center\"><img src=\"img/Matrix Arithmetic 2.jpg\" alt=\"Itrtype\" width=\"800px\"></div> \r\n",
    "\r\n",
    "<div align=\"center\"><img src=\"img/broadcast.jpg\" alt=\"Itrtype\" width=\"600px\"></div> \r\n",
    "\r\n",
    "<div align=\"center\"><img src=\"img/broadcasting.png\" alt=\"Itrtype\" width=\"600px\"></div> "
   ],
   "metadata": {}
  },
  {
   "cell_type": "code",
   "execution_count": null,
   "source": [
    "A = np.array([[1,2,1],[2,3,1],[3,4,1]])\r\n",
    "a = np.array([[1,2,3]])"
   ],
   "outputs": [],
   "metadata": {}
  },
  {
   "cell_type": "code",
   "execution_count": null,
   "source": [
    "A + 4"
   ],
   "outputs": [
    {
     "output_type": "execute_result",
     "data": {
      "text/plain": [
       "array([[5, 6, 5],\n",
       "       [6, 7, 5],\n",
       "       [7, 8, 5]])"
      ]
     },
     "metadata": {},
     "execution_count": 3
    }
   ],
   "metadata": {}
  },
  {
   "cell_type": "code",
   "execution_count": null,
   "source": [
    "A + a"
   ],
   "outputs": [
    {
     "output_type": "execute_result",
     "data": {
      "text/plain": [
       "array([[2, 4, 4],\n",
       "       [3, 5, 4],\n",
       "       [4, 6, 4]])"
      ]
     },
     "metadata": {},
     "execution_count": 124
    }
   ],
   "metadata": {}
  },
  {
   "cell_type": "code",
   "execution_count": null,
   "source": [
    "a.T"
   ],
   "outputs": [
    {
     "output_type": "execute_result",
     "data": {
      "text/plain": [
       "array([[1],\n",
       "       [2],\n",
       "       [3]])"
      ]
     },
     "metadata": {},
     "execution_count": 125
    }
   ],
   "metadata": {}
  },
  {
   "cell_type": "code",
   "execution_count": null,
   "source": [
    "A + a.T"
   ],
   "outputs": [
    {
     "output_type": "execute_result",
     "data": {
      "text/plain": [
       "array([[2, 3, 2],\n",
       "       [4, 5, 3],\n",
       "       [6, 7, 4]])"
      ]
     },
     "metadata": {},
     "execution_count": 126
    }
   ],
   "metadata": {}
  },
  {
   "cell_type": "markdown",
   "source": [
    "## Shape Manipulation - Transposing, Reshaping, Stacking etc..."
   ],
   "metadata": {}
  },
  {
   "cell_type": "code",
   "execution_count": null,
   "source": [
    "A = np.array([[1,2,3],[4,5,6]])"
   ],
   "outputs": [
    {
     "output_type": "execute_result",
     "data": {
      "text/plain": [
       "array([[1, 2, 3],\n",
       "       [4, 5, 6]])"
      ]
     },
     "metadata": {},
     "execution_count": 71
    }
   ],
   "metadata": {}
  },
  {
   "cell_type": "markdown",
   "source": [
    "### flatten()"
   ],
   "metadata": {}
  },
  {
   "cell_type": "code",
   "execution_count": null,
   "source": [
    "A.flatten()"
   ],
   "outputs": [
    {
     "output_type": "execute_result",
     "data": {
      "text/plain": [
       "array([1, 2, 3, 4, 5, 6])"
      ]
     },
     "metadata": {},
     "execution_count": 72
    }
   ],
   "metadata": {}
  },
  {
   "cell_type": "markdown",
   "source": [
    "### reshape()"
   ],
   "metadata": {}
  },
  {
   "cell_type": "code",
   "execution_count": null,
   "source": [
    "print(A.reshape(2,3))\r\n",
    "print()\r\n",
    "print(A.reshape(3,2))"
   ],
   "outputs": [
    {
     "output_type": "stream",
     "name": "stdout",
     "text": [
      "[[1 2 3]\n",
      " [4 5 6]]\n",
      "\n",
      "[[1 2]\n",
      " [3 4]\n",
      " [5 6]]\n"
     ]
    }
   ],
   "metadata": {}
  },
  {
   "cell_type": "markdown",
   "source": [
    "<div align=\"center\"><img src=\"img/reshape.jpg\" alt=\"dfgdfg\" width=\"800px\"></div> "
   ],
   "metadata": {}
  },
  {
   "cell_type": "markdown",
   "source": [
    "### Transpose"
   ],
   "metadata": {}
  },
  {
   "cell_type": "markdown",
   "source": [
    "A common need when dealing with matrices is the need to **rotate** them. This is often the case when we need to take the dot product of two matrices and need to align the dimension they share. NumPy arrays have a convenient property called T to get the `transpose` of a matrix:\n",
    "\n",
    "<div align=\"center\"><img src=\"img/trans.jpg\" alt=\"dfgdfg\" width=\"800px\"></div> "
   ],
   "metadata": {}
  },
  {
   "cell_type": "code",
   "execution_count": null,
   "source": [
    "print(A.flatten())\r\n",
    "X = A.reshape(2,3)\r\n",
    "Y = A.reshape(3,2)\r\n",
    "print()\r\n",
    "print(\"X:---------------\\n\",X)\r\n",
    "print()\r\n",
    "print(\"Y:---------------\\n\",Y)\r\n",
    "print()\r\n",
    "print(\"X.T=Y:-----------\\n\",X.T)\r\n",
    "print()\r\n",
    "print(\"Y.T=X:-----------\\n\",Y.T)"
   ],
   "outputs": [
    {
     "output_type": "stream",
     "name": "stdout",
     "text": [
      "[1 2 3 4 5 6]\n",
      "\n",
      "X:---------------\n",
      " [[1 2 3]\n",
      " [4 5 6]]\n",
      "\n",
      "Y:---------------\n",
      " [[1 2]\n",
      " [3 4]\n",
      " [5 6]]\n",
      "\n",
      "X.T=Y:-----------\n",
      " [[1 4]\n",
      " [2 5]\n",
      " [3 6]]\n",
      "\n",
      "Y.T=X:-----------\n",
      " [[1 3 5]\n",
      " [2 4 6]]\n"
     ]
    }
   ],
   "metadata": {}
  },
  {
   "cell_type": "markdown",
   "source": [
    "### Adding a Dimension\r\n",
    "\r\n",
    "Indexing with the np.newaxis object allows us to add an axis to an array\r\n",
    "\r\n",
    "`newaxis` is used to increase the dimension of the existing array by one more dimension, when used once. Thus,\r\n",
    "\r\n",
    "1D array will become 2D array\r\n",
    "\r\n",
    "2D array will become 3D array\r\n",
    "\r\n",
    "3D array will become 4D array and so on\r\n"
   ],
   "metadata": {}
  },
  {
   "cell_type": "code",
   "execution_count": 53,
   "source": [
    "z = np.array([1, 2, 3])\r\n",
    "z\r\n"
   ],
   "outputs": [
    {
     "output_type": "execute_result",
     "data": {
      "text/plain": [
       "array([1, 2, 3])"
      ]
     },
     "metadata": {},
     "execution_count": 53
    }
   ],
   "metadata": {}
  },
  {
   "cell_type": "code",
   "execution_count": 54,
   "source": [
    "z[:, np.newaxis]\r\n"
   ],
   "outputs": [
    {
     "output_type": "execute_result",
     "data": {
      "text/plain": [
       "array([[1],\n",
       "       [2],\n",
       "       [3]])"
      ]
     },
     "metadata": {},
     "execution_count": 54
    }
   ],
   "metadata": {}
  },
  {
   "cell_type": "markdown",
   "source": [
    "### Stacking of Array"
   ],
   "metadata": {}
  },
  {
   "cell_type": "markdown",
   "source": [
    "<div align=\"center\"><img src=\"img/stack.jpg\" alt=\"dfgdfg\" width=\"800px\"></div> "
   ],
   "metadata": {}
  },
  {
   "cell_type": "code",
   "execution_count": null,
   "source": [
    "a = np.arange(0,5)\r\n",
    "b = np.arange(5,10)\r\n",
    "print('Array 1 :','\\n',a)\r\n",
    "print('Array 2 :','\\n',b)\r\n",
    "print('Vertical stacking :','\\n',np.vstack((a,b)))\r\n",
    "print('Horizontal stacking :','\\n',np.hstack((a,b)))"
   ],
   "outputs": [
    {
     "output_type": "stream",
     "name": "stdout",
     "text": [
      "Array 1 : \n",
      " [0 1 2 3 4]\n",
      "Array 2 : \n",
      " [5 6 7 8 9]\n",
      "Vertical stacking : \n",
      " [[0 1 2 3 4]\n",
      " [5 6 7 8 9]]\n",
      "Horizontal stacking : \n",
      " [0 1 2 3 4 5 6 7 8 9]\n"
     ]
    }
   ],
   "metadata": {}
  },
  {
   "cell_type": "markdown",
   "source": [
    "## Vectorization\n",
    "\n",
    "- performing operation directly on Arrays\n",
    "\n",
    "Vectorization is the process of modifying code to utilize array operation methods. Array operations can be computed internally by NumPy using a lower-level language, which leads to many benefits:\n",
    "\n",
    "- Vectorized code tends to execute much faster than equivalent code that uses loops (such as for-loops and while-loops). Usually a lot faster. Therefore, vectorization can be very important for machine learning, where we often work with large datasets\n",
    "\n",
    "- Vectorized code can often be more compact. Having fewer lines of code to write can potentially speed-up the code-writing process, make code more readable, and reduce the risk of errors"
   ],
   "metadata": {}
  },
  {
   "cell_type": "code",
   "execution_count": null,
   "source": [
    "# find the distance between any two points (x1, y1) and (x2, y2)\r\n",
    "p1 = np.array([1,2,3,4])  # [x1,x2,x3.....,xn]\r\n",
    "p2 = np.array([5,5,3,4])  # [y1,y2,x3.....,xn]"
   ],
   "outputs": [],
   "metadata": {}
  },
  {
   "cell_type": "code",
   "execution_count": null,
   "source": [
    "s=0\r\n",
    "for i in range(3):\r\n",
    "    s += (p2[i] - p1[i])**2\r\n",
    "\r\n",
    "print(s**0.5)"
   ],
   "outputs": [
    {
     "output_type": "stream",
     "name": "stdout",
     "text": [
      "5.0\n"
     ]
    }
   ],
   "metadata": {}
  },
  {
   "cell_type": "code",
   "execution_count": null,
   "source": [
    "# efficient\r\n",
    "def point_distance(p1,p2):\r\n",
    "    return np.sqrt(np.sum((p2-p1)**2))\r\n",
    "\r\n",
    "print(point_distance(p1,p2))"
   ],
   "outputs": [
    {
     "output_type": "stream",
     "name": "stdout",
     "text": [
      "5.0\n"
     ]
    }
   ],
   "metadata": {}
  },
  {
   "cell_type": "markdown",
   "source": [
    "### Machine Learning context\n",
    "\n",
    "Let's imagine a machine learning problem where we use a linear regression algorithm to model the cost of electricity.\n",
    "\n",
    "Let's denote our model features as `x1,x2...xn`. Features could represent things like **the amount of available wind energy**, **the current gas price**, and **the current load on the grid**.\n",
    "\n",
    "After we train the algorithm, we obtain model parameters, `θ0,θ1,θ2...θn`. These model parameters constitute the _weights_ that should be used for each feature.\n",
    "\n",
    "For instance, `x2` might represent the price of gas. The model might find that gas prices are particularly decisive in determining the price of electricity. The corresponding weight of `θ2` would then be expected to be much larger in magnitude than other weights for less important features. The result (hypothesis/prediction) returned by our linear regression model for a given set of x is a linear expression:\n",
    "\n",
    "`h=θo+x1.θ1+x2.θ2+...+xn.θn` \n",
    "\n",
    "Furthermore, let's assume we have a set of `m` test examples. In other words, we have `m` sets of `x` for which we would like to obtain the model's prediction. The linear expression, `h`, is to be calculated for each of the test examples. There will be a total of `m` individual hypothesis outputs.\n",
    "\n",
    "First, define a `10x4` array (x) in which each row is a training set. Here, m=10 and n=4:\n"
   ],
   "metadata": {}
  },
  {
   "cell_type": "code",
   "execution_count": null,
   "source": [
    "x = np.arange(1,41).reshape(10,4) \r\n",
    "# x is now a range of 40 numbers reshaped to be 10 rows by 4 columns.\r\n",
    "print('x:\\n', x)"
   ],
   "outputs": [
    {
     "output_type": "stream",
     "name": "stdout",
     "text": [
      "x:\n",
      " [[ 1  2  3  4]\n",
      " [ 5  6  7  8]\n",
      " [ 9 10 11 12]\n",
      " [13 14 15 16]\n",
      " [17 18 19 20]\n",
      " [21 22 23 24]\n",
      " [25 26 27 28]\n",
      " [29 30 31 32]\n",
      " [33 34 35 36]\n",
      " [37 38 39 40]]\n"
     ]
    }
   ],
   "metadata": {}
  },
  {
   "cell_type": "markdown",
   "source": [
    "Now, add a column of ones to represent `x0`, known in machine learning as the `bias` term. `x` is now a `10x5` array:"
   ],
   "metadata": {}
  },
  {
   "cell_type": "code",
   "execution_count": null,
   "source": [
    "# print(np.full((4,1),1)) # uncomment before run\r\n",
    "ones = np.full((10,1),1)\r\n",
    "x = np.hstack((ones,x))\r\n",
    "print('x:\\n', x)\r\n",
    "# Using np.full, we created a 10x1 array full of ones then horizontally stacked it (np.hstack) to the front of x.\r\n",
    "print('shape : \\n', x.shape)\r\n",
    "print('x.shape[0] : \\n', x.shape[0])\r\n",
    "print('x.shape[1] : \\n', x.shape[1])"
   ],
   "outputs": [
    {
     "output_type": "stream",
     "name": "stdout",
     "text": [
      "[[1]\n",
      " [1]\n",
      " [1]\n",
      " [1]]\n",
      "x:\n",
      " [[ 1  1  2  3  4]\n",
      " [ 1  5  6  7  8]\n",
      " [ 1  9 10 11 12]\n",
      " [ 1 13 14 15 16]\n",
      " [ 1 17 18 19 20]\n",
      " [ 1 21 22 23 24]\n",
      " [ 1 25 26 27 28]\n",
      " [ 1 29 30 31 32]\n",
      " [ 1 33 34 35 36]\n",
      " [ 1 37 38 39 40]]\n",
      "shape : \n",
      " (10, 5)\n",
      "x.shape[0] : \n",
      " 10\n",
      "x.shape[1] : \n",
      " 5\n"
     ]
    }
   ],
   "metadata": {}
  },
  {
   "cell_type": "markdown",
   "source": [
    "Now let's initialize our model parameters as a `5x1` array"
   ],
   "metadata": {}
  },
  {
   "cell_type": "code",
   "execution_count": null,
   "source": [
    "theta = np.arange(1,6).reshape(5,1)\r\n",
    "print('theta:\\n', theta)"
   ],
   "outputs": [
    {
     "output_type": "stream",
     "name": "stdout",
     "text": [
      "theta:\n",
      " [[1]\n",
      " [2]\n",
      " [3]\n",
      " [4]\n",
      " [5]]\n"
     ]
    }
   ],
   "metadata": {}
  },
  {
   "cell_type": "markdown",
   "source": [
    "Armed with our matrix `x` and vector `θ`, we'll proceed to define vectorized and non-vectorized versions of evaluating the linear expressions to compare the computation time."
   ],
   "metadata": {}
  },
  {
   "cell_type": "code",
   "execution_count": null,
   "source": [
    "#Non-vectorized version\n",
    "def non_vectorized_output(x, theta):\n",
    "    h = []\n",
    "    for i in range(x.shape[0]): # range(10) row\n",
    "        total = 0\n",
    "        for j in range(x.shape[1]): # range(5) column\n",
    "            total = total + x[i, j] * theta[j, 0]  \n",
    "            # ∑Xeach_row_all_colum_el.θeach_row`~~`h=θo+x1.θ1+x2.θ2+...+xn.θn` \n",
    "        h.append(total)\n",
    "    return h\n",
    "    \n",
    "#Vectorized version\n",
    "def vectorized_output(x, theta):\n",
    "    h = np.matmul(x, theta) # NumPy's matrix multiplication function\n",
    "    return h"
   ],
   "outputs": [],
   "metadata": {}
  },
  {
   "cell_type": "code",
   "execution_count": null,
   "source": [
    "print(vectorized_output(x,theta))"
   ],
   "outputs": [
    {
     "output_type": "stream",
     "name": "stdout",
     "text": [
      "[[ 41]\n",
      " [ 97]\n",
      " [153]\n",
      " [209]\n",
      " [265]\n",
      " [321]\n",
      " [377]\n",
      " [433]\n",
      " [489]\n",
      " [545]]\n"
     ]
    }
   ],
   "metadata": {}
  },
  {
   "cell_type": "markdown",
   "source": [
    "<div align=\"center\"><img src=\"img/vectorization.jpg\" alt=\"dfgdfg\" width=\"800px\"></div> "
   ],
   "metadata": {}
  },
  {
   "cell_type": "code",
   "execution_count": null,
   "source": [
    "nv_time = %timeit -o non_vectorized_output(x, theta)"
   ],
   "outputs": [
    {
     "output_type": "stream",
     "name": "stdout",
     "text": [
      "80.5 µs ± 11 µs per loop (mean ± std. dev. of 7 runs, 10000 loops each)\n"
     ]
    }
   ],
   "metadata": {}
  },
  {
   "cell_type": "code",
   "execution_count": null,
   "source": [
    "v_time = %timeit -o vectorized_output(x, theta)"
   ],
   "outputs": [
    {
     "output_type": "stream",
     "name": "stdout",
     "text": [
      "4.62 µs ± 280 ns per loop (mean ± std. dev. of 7 runs, 100000 loops each)\n"
     ]
    }
   ],
   "metadata": {}
  },
  {
   "cell_type": "code",
   "execution_count": null,
   "source": [
    "print('Non-vectorized version:', f'{1E6 * nv_time.average:0.2f}', 'microseconds per execution, average')\n",
    "\n",
    "print('Vectorized version:', f'{1E6 * v_time.average:0.2f}', 'microseconds per execution, average')\n",
    "\n",
    "print('Computation was', \"%.0f\" % (nv_time.average / v_time.average), 'times faster using vectorization')"
   ],
   "outputs": [
    {
     "output_type": "stream",
     "name": "stdout",
     "text": [
      "Non-vectorized version: 80.53 microseconds per execution, average\n",
      "Vectorized version: 4.62 microseconds per execution, average\n",
      "Computation was 17 times faster using vectorization\n"
     ]
    }
   ],
   "metadata": {}
  },
  {
   "cell_type": "markdown",
   "source": [
    "Note that in both examples, NumPy's vectorized calculations significantly outperformed native Python calculations using loops. The improved performance is substantial.\n",
    "\n",
    "However, vectorization does have potential disadvantages. Vectorized code can be less intuitive to those who do not know how to read it. It can also be more memory intensive. "
   ],
   "metadata": {}
  }
 ]
}