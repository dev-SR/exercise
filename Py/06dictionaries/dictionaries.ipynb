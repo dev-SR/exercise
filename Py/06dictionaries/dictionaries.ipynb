{
 "metadata": {
  "language_info": {
   "codemirror_mode": {
    "name": "ipython",
    "version": 3
   },
   "file_extension": ".py",
   "mimetype": "text/x-python",
   "name": "python",
   "nbconvert_exporter": "python",
   "pygments_lexer": "ipython3",
   "version": "3.8.10"
  },
  "orig_nbformat": 2,
  "kernelspec": {
   "name": "python3",
   "display_name": "Python 3.8.10 64-bit ('base': conda)"
  },
  "interpreter": {
   "hash": "b3ba2566441a7c06988d0923437866b63cedc61552a5af99d1f4fb67d367b25f"
  }
 },
 "nbformat": 4,
 "nbformat_minor": 2,
 "cells": [
  {
   "cell_type": "markdown",
   "source": [
    "# Dictionary\n",
    "\n",
    "- stores data in key-value pair\n",
    "- unordered \n",
    "- unindexable\n",
    "- access the values, with help of keys\n"
   ],
   "metadata": {}
  },
  {
   "cell_type": "code",
   "execution_count": 7,
   "source": [
    "user_info = {\r\n",
    "    \"name\": \"Soikat\",\r\n",
    "    \"age\":69,\r\n",
    "}\r\n",
    "print(user_info)\r\n",
    "type(user_info)"
   ],
   "outputs": [
    {
     "output_type": "stream",
     "name": "stdout",
     "text": [
      "{'name': 'Soikat', 'age': 69}\n"
     ]
    },
    {
     "output_type": "execute_result",
     "data": {
      "text/plain": [
       "dict"
      ]
     },
     "metadata": {},
     "execution_count": 7
    }
   ],
   "metadata": {}
  },
  {
   "cell_type": "markdown",
   "source": [
    "## Accessing elements"
   ],
   "metadata": {}
  },
  {
   "cell_type": "code",
   "execution_count": 15,
   "source": [
    "print(user_info['name'])\r\n",
    "print(user_info['age'])"
   ],
   "outputs": [
    {
     "output_type": "stream",
     "name": "stdout",
     "text": [
      "Soikat\n",
      "69\n"
     ]
    }
   ],
   "metadata": {}
  },
  {
   "cell_type": "code",
   "execution_count": 6,
   "source": [
    "# unkown key gives error\r\n",
    "print(user_info['loves'])"
   ],
   "outputs": [
    {
     "output_type": "error",
     "ename": "KeyError",
     "evalue": "'loves'",
     "traceback": [
      "\u001b[1;31m---------------------------------------------------------------------------\u001b[0m",
      "\u001b[1;31mKeyError\u001b[0m                                  Traceback (most recent call last)",
      "\u001b[1;32m<ipython-input-6-af324ebbdb71>\u001b[0m in \u001b[0;36m<module>\u001b[1;34m\u001b[0m\n\u001b[0;32m      1\u001b[0m \u001b[1;31m# unkown key gives error\u001b[0m\u001b[1;33m\u001b[0m\u001b[1;33m\u001b[0m\u001b[1;33m\u001b[0m\u001b[0m\n\u001b[1;32m----> 2\u001b[1;33m \u001b[0mprint\u001b[0m\u001b[1;33m(\u001b[0m\u001b[0muser_info\u001b[0m\u001b[1;33m[\u001b[0m\u001b[1;34m'loves'\u001b[0m\u001b[1;33m]\u001b[0m\u001b[1;33m)\u001b[0m\u001b[1;33m\u001b[0m\u001b[1;33m\u001b[0m\u001b[0m\n\u001b[0m",
      "\u001b[1;31mKeyError\u001b[0m: 'loves'"
     ]
    }
   ],
   "metadata": {}
  },
  {
   "cell_type": "markdown",
   "source": [
    "### use `dic.get()` to avoid error"
   ],
   "metadata": {}
  },
  {
   "cell_type": "code",
   "execution_count": 3,
   "source": [
    "# no error with .get()\r\n",
    "user_info.get('loves')\r\n",
    "u = user_info.get('loves')\r\n",
    "print(u)\r\n",
    "\r\n",
    "u = user_info.get('loves','default_value')\r\n",
    "print(u)"
   ],
   "outputs": [
    {
     "output_type": "stream",
     "name": "stdout",
     "text": [
      "None\n",
      "default_value\n"
     ]
    }
   ],
   "metadata": {}
  },
  {
   "cell_type": "markdown",
   "source": [
    "## Dictionary Functions"
   ],
   "metadata": {}
  },
  {
   "cell_type": "code",
   "execution_count": 3,
   "source": [
    "# displays all keys\r\n",
    "user_info.keys()"
   ],
   "outputs": [
    {
     "output_type": "execute_result",
     "data": {
      "text/plain": [
       "dict_keys(['name', 'age', 'hobby'])"
      ]
     },
     "metadata": {},
     "execution_count": 3
    }
   ],
   "metadata": {}
  },
  {
   "cell_type": "code",
   "execution_count": 21,
   "source": [
    "# displays all values\r\n",
    "user_info.values()"
   ],
   "outputs": [
    {
     "output_type": "execute_result",
     "data": {
      "text/plain": [
       "dict_values(['Soikat', 69, ['Gamming', 'Coding', 'Football']])"
      ]
     },
     "metadata": {},
     "execution_count": 21
    }
   ],
   "metadata": {}
  },
  {
   "cell_type": "code",
   "execution_count": 22,
   "source": [
    "# displays (key,value) pair in tuples\r\n",
    "user_info.items()"
   ],
   "outputs": [
    {
     "output_type": "execute_result",
     "data": {
      "text/plain": [
       "dict_items([('name', 'Soikat'), ('age', 69), ('hobby', ['Gamming', 'Coding', 'Football'])])"
      ]
     },
     "metadata": {},
     "execution_count": 22
    }
   ],
   "metadata": {}
  },
  {
   "cell_type": "markdown",
   "source": [
    "## Iterate"
   ],
   "metadata": {}
  },
  {
   "cell_type": "code",
   "execution_count": 17,
   "source": [
    "for k,v in user_info.items():\r\n",
    "    print(k,\" : \",v)\r\n",
    "\r\n",
    "print()\r\n",
    "\r\n",
    "for k in user_info:\r\n",
    "    print(k,\" : \",user_info[k])"
   ],
   "outputs": [
    {
     "output_type": "stream",
     "name": "stdout",
     "text": [
      "name  :  Soikat\n",
      "age  :  69\n",
      "hobby  :  ['Gamming', 'Coding', 'Football']\n",
      "\n",
      "name  :  Soikat\n",
      "age  :  69\n",
      "hobby  :  ['Gamming', 'Coding', 'Football']\n"
     ]
    }
   ],
   "metadata": {}
  },
  {
   "cell_type": "markdown",
   "source": [
    "## Add/Modify data in dictionary"
   ],
   "metadata": {}
  },
  {
   "cell_type": "code",
   "execution_count": 8,
   "source": [
    "# add data into dict\r\n",
    "user_info['hobby'] = ['Gamming', 'Coding', 'Football']\r\n",
    "print(user_info)\r\n",
    "# modifying the element\r\n",
    "user_info['name'] = 'unknown'\r\n",
    "print(user_info)"
   ],
   "outputs": [
    {
     "output_type": "stream",
     "name": "stdout",
     "text": [
      "{'name': 'Soikat', 'age': 69, 'hobby': ['Gamming', 'Coding', 'Football']}\n",
      "{'name': 'unknown', 'age': 69, 'hobby': ['Gamming', 'Coding', 'Football']}\n"
     ]
    }
   ],
   "metadata": {}
  },
  {
   "cell_type": "markdown",
   "source": [
    "## Delete element"
   ],
   "metadata": {}
  },
  {
   "cell_type": "code",
   "execution_count": 9,
   "source": [
    "deleted_value = user_info.pop('hobby')\r\n",
    "print(deleted_value)\r\n",
    "print(user_info)\r\n",
    "\r\n",
    "del user_info[\"age\"]\r\n",
    "print(user_info)"
   ],
   "outputs": [
    {
     "output_type": "stream",
     "name": "stdout",
     "text": [
      "['Gamming', 'Coding', 'Football']\n",
      "{'name': 'unknown', 'age': 69}\n",
      "{'name': 'unknown'}\n"
     ]
    }
   ],
   "metadata": {}
  },
  {
   "cell_type": "code",
   "execution_count": 10,
   "source": [
    "# if key in no present\r\n",
    "user_info.pop('nationality')"
   ],
   "outputs": [
    {
     "output_type": "error",
     "ename": "KeyError",
     "evalue": "'nationality'",
     "traceback": [
      "\u001b[1;31m---------------------------------------------------------------------------\u001b[0m",
      "\u001b[1;31mKeyError\u001b[0m                                  Traceback (most recent call last)",
      "\u001b[1;32m<ipython-input-10-eac004c78ec1>\u001b[0m in \u001b[0;36m<module>\u001b[1;34m\u001b[0m\n\u001b[0;32m      1\u001b[0m \u001b[1;31m# if key in no present\u001b[0m\u001b[1;33m\u001b[0m\u001b[1;33m\u001b[0m\u001b[1;33m\u001b[0m\u001b[0m\n\u001b[1;32m----> 2\u001b[1;33m \u001b[0muser_info\u001b[0m\u001b[1;33m.\u001b[0m\u001b[0mpop\u001b[0m\u001b[1;33m(\u001b[0m\u001b[1;34m'nationality'\u001b[0m\u001b[1;33m)\u001b[0m\u001b[1;33m\u001b[0m\u001b[1;33m\u001b[0m\u001b[0m\n\u001b[0m",
      "\u001b[1;31mKeyError\u001b[0m: 'nationality'"
     ]
    }
   ],
   "metadata": {}
  },
  {
   "cell_type": "markdown",
   "source": [
    "## Nested Dictionary"
   ],
   "metadata": {}
  },
  {
   "cell_type": "code",
   "execution_count": 18,
   "source": [
    "canteen_menu={\r\n",
    "\t'samosa':10,\r\n",
    "\t'pizza':200,\r\n",
    "\t'burger':50,\r\n",
    "\t'fruits':{\r\n",
    "\t\t\"mango\":25,\r\n",
    "\t\t'apple':25,\r\n",
    "\t\t\"grapes\":30\r\n",
    "\t}\r\n",
    "}\r\n",
    "print(canteen_menu)\r\n",
    "print(canteen_menu['fruits'])\r\n",
    "print()\r\n",
    "print(canteen_menu['fruits']['mango'])"
   ],
   "outputs": [
    {
     "output_type": "stream",
     "name": "stdout",
     "text": [
      "{'samosa': 10, 'pizza': 200, 'burger': 50, 'fruits': {'mango': 25, 'apple': 25, 'grapes': 30}}\n",
      "{'mango': 25, 'apple': 25, 'grapes': 30}\n",
      "\n",
      "25\n"
     ]
    }
   ],
   "metadata": {}
  },
  {
   "cell_type": "code",
   "execution_count": 21,
   "source": [
    "canteen_menu['juice'] = [25, 40, 50]\r\n",
    "canteen_menu"
   ],
   "outputs": [
    {
     "output_type": "execute_result",
     "data": {
      "text/plain": [
       "{'samosa': 10,\n",
       " 'pizza': 200,\n",
       " 'burger': 50,\n",
       " 'fruits': {'mango': 25, 'apple': 25, 'grapes': 30},\n",
       " 'juice': [25, 40, 50]}"
      ]
     },
     "metadata": {},
     "execution_count": 21
    }
   ],
   "metadata": {}
  },
  {
   "cell_type": "code",
   "execution_count": 23,
   "source": [
    "canteen_menu['fruits'][-1]"
   ],
   "outputs": [
    {
     "output_type": "error",
     "ename": "KeyError",
     "evalue": "-1",
     "traceback": [
      "\u001b[1;31m---------------------------------------------------------------------------\u001b[0m",
      "\u001b[1;31mKeyError\u001b[0m                                  Traceback (most recent call last)",
      "\u001b[1;32m<ipython-input-23-609ce31324f6>\u001b[0m in \u001b[0;36m<module>\u001b[1;34m\u001b[0m\n\u001b[1;32m----> 1\u001b[1;33m \u001b[0mcanteen_menu\u001b[0m\u001b[1;33m[\u001b[0m\u001b[1;34m'fruits'\u001b[0m\u001b[1;33m]\u001b[0m\u001b[1;33m[\u001b[0m\u001b[1;33m-\u001b[0m\u001b[1;36m1\u001b[0m\u001b[1;33m]\u001b[0m\u001b[1;33m\u001b[0m\u001b[1;33m\u001b[0m\u001b[0m\n\u001b[0m",
      "\u001b[1;31mKeyError\u001b[0m: -1"
     ]
    }
   ],
   "metadata": {}
  },
  {
   "cell_type": "code",
   "execution_count": 25,
   "source": [
    "canteen_menu['juice'][-1]"
   ],
   "outputs": [
    {
     "output_type": "execute_result",
     "data": {
      "text/plain": [
       "50"
      ]
     },
     "metadata": {},
     "execution_count": 25
    }
   ],
   "metadata": {}
  },
  {
   "cell_type": "markdown",
   "source": [
    "## Dictionary Comprehensions"
   ],
   "metadata": {}
  },
  {
   "cell_type": "code",
   "execution_count": 3,
   "source": [
    "values = []\r\n",
    "for x in range(5):\r\n",
    "    values.append(x*2)\r\n",
    "print(values)\r\n",
    "\r\n",
    "# generate `list` using list comprehensions:\r\n",
    "values = [x*2 for x in range(4)]\r\n",
    "print(values)\r\n",
    "\r\n",
    "print()\r\n",
    "\r\n",
    "# generate dict with  dict comprehensions:\r\n",
    "# values = {}\r\n",
    "# for x in range(5):\r\n",
    "#     values[x] = x*2\r\n",
    "values = {x: x*2 for x in range(4)}\r\n",
    "print(values)\r\n",
    "\r\n",
    "d= {\r\n",
    "    \"name\":\"Jhon\",\r\n",
    "    \"pass\":\"pass\",\r\n",
    "    \"id\":191\r\n",
    "}\r\n",
    "values = [d[key] for key in d]\r\n",
    "keys = [key for key in d]\r\n",
    "keys_str = \"-\".join([key for key in d]) \r\n",
    "\r\n",
    "print(values)\r\n",
    "print(keys)\r\n",
    "print(keys_str)\r\n",
    "\r\n",
    "print()\r\n",
    "# Creating a new dictionary with only pairs where the value is larger than 2\r\n",
    "d = {'a': 1, 'b': 2, 'c': 3, 'd': 4}\r\n",
    "new_dict = {k:v for k, v in d.items() if v > 2}\r\n",
    "print(new_dict)\r\n",
    "\r\n",
    "# Operations on the key value pairs\r\n",
    "d = {'a':1,'b':2,'c':3,'d':4,'e':5}\r\n",
    "d = {k + 'c':v * 2 for k, v in d.items() if v > 2}\r\n",
    "print(d)"
   ],
   "outputs": [
    {
     "output_type": "stream",
     "name": "stdout",
     "text": [
      "[0, 2, 4, 6, 8]\n",
      "[0, 2, 4, 6]\n",
      "\n",
      "{0: 0, 1: 2, 2: 4, 3: 6}\n",
      "['Jhon', 'pass', 191]\n",
      "['name', 'pass', 'id']\n",
      "name-pass-id\n",
      "\n",
      "{'c': 3, 'd': 4}\n",
      "{'cc': 6, 'dc': 8, 'ec': 10}\n"
     ]
    }
   ],
   "metadata": {}
  },
  {
   "cell_type": "markdown",
   "source": [
    "## Unpacking Operator\n",
    "\n",
    "`**` is used for dictionaries ...\n"
   ],
   "metadata": {}
  },
  {
   "cell_type": "code",
   "execution_count": 5,
   "source": [
    "## Unpaking Operator\r\n",
    "num_dict = {'a': 1, 'b': 2, 'c': 3}\r\n",
    "print(*num_dict) # keys\r\n",
    "print()\r\n",
    "\r\n",
    "\r\n",
    "new_dict = {**num_dict}\r\n",
    "print(new_dict)\r\n",
    "print()\r\n",
    "\r\n",
    "f= {\"x\":1}\r\n",
    "sec ={ \"x\":10,\"y\":2}\r\n",
    "comb={**f,**sec}\r\n",
    "print(comb) # last 'x' is used"
   ],
   "outputs": [
    {
     "output_type": "stream",
     "name": "stdout",
     "text": [
      "a b c\n",
      "\n",
      "{'a': 1, 'b': 2, 'c': 3}\n",
      "\n",
      "{'x': 10, 'y': 2}\n"
     ]
    }
   ],
   "metadata": {}
  },
  {
   "cell_type": "code",
   "execution_count": 7,
   "source": [
    "\r\n",
    "# A Python program to demonstrate packing of\r\n",
    "# dictionary items using **\r\n",
    "def fun(**kwargs):\r\n",
    " \r\n",
    "    # kwargs is a dict\r\n",
    "    print(type(kwargs))\r\n",
    " \r\n",
    "    # Printing dictionary items\r\n",
    "    for key in kwargs:\r\n",
    "        print(\"%s = %s\" % (key, kwargs[key]))\r\n",
    " \r\n",
    "# Driver code\r\n",
    "fun(name=\"Apple\", ID=\"101\", language=\"Python\")"
   ],
   "outputs": [
    {
     "output_type": "stream",
     "name": "stdout",
     "text": [
      "<class 'dict'>\n",
      "name = Apple\n",
      "ID = 101\n",
      "language = Python\n"
     ]
    }
   ],
   "metadata": {}
  }
 ]
}