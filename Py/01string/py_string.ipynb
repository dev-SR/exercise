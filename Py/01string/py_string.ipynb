{
 "metadata": {
  "language_info": {
   "codemirror_mode": {
    "name": "ipython",
    "version": 3
   },
   "file_extension": ".py",
   "mimetype": "text/x-python",
   "name": "python",
   "nbconvert_exporter": "python",
   "pygments_lexer": "ipython3",
   "version": "3.8.10"
  },
  "orig_nbformat": 2,
  "kernelspec": {
   "name": "python3",
   "display_name": "Python 3.8.10 64-bit ('base': conda)"
  },
  "interpreter": {
   "hash": "b3ba2566441a7c06988d0923437866b63cedc61552a5af99d1f4fb67d367b25f"
  }
 },
 "nbformat": 4,
 "nbformat_minor": 2,
 "cells": [
  {
   "cell_type": "code",
   "execution_count": 31,
   "source": [
    "s = \"Hello World\"\r\n",
    "print(s);\r\n",
    "print(type(s))"
   ],
   "outputs": [
    {
     "output_type": "stream",
     "name": "stdout",
     "text": [
      "Hello World\n",
      "<class 'str'>\n"
     ]
    }
   ],
   "metadata": {}
  },
  {
   "cell_type": "markdown",
   "source": [
    "## Multiline String"
   ],
   "metadata": {}
  },
  {
   "cell_type": "code",
   "execution_count": 40,
   "source": [
    "#  using triple quotes\r\n",
    "ms = \"\"\"My Name is Jhon.\r\n",
    "I am the owner of dev.com\r\n",
    "Dev is a very popular website in Developers community.\"\"\"\r\n",
    "\r\n",
    "# using brackets\r\n",
    "ms = (\"My Name is Jhon. \"\r\n",
    "     \"I am the owner of dev.com\"\r\n",
    "     \"Dev is a very popular website in Developers community.\")\r\n",
    "\r\n",
    "# using backslash\r\n",
    "ms = \"My Name is Jhon. \" \\\r\n",
    "    \"I am the owner of JournalDev.com and \" \\\r\n",
    "    \"JournalDev is a very popular website in Developers community.\"\r\n"
   ],
   "outputs": [],
   "metadata": {}
  },
  {
   "cell_type": "markdown",
   "source": [
    "##  String Concatenation"
   ],
   "metadata": {}
  },
  {
   "cell_type": "markdown",
   "source": [
    "### String Concatenation using + Operator"
   ],
   "metadata": {}
  },
  {
   "cell_type": "code",
   "execution_count": 50,
   "source": [
    "\r\n",
    "s1 = 'Apple'\r\n",
    "s2 = 'Pie'\r\n",
    "s3 = 'Sauce'\r\n",
    "s4 = s1 + s2 + s3\r\n",
    "print(s4)\r\n",
    "\r\n",
    "\r\n",
    "#  However, the arguments must be a string.\r\n",
    "# Let’s see how to concatenate a string to integer or another object.\r\n",
    "print('Hello' + str(4))\r\n",
    "\r\n",
    "class Demo:\r\n",
    "    id = 0\r\n",
    "    def __init__(self, i):\r\n",
    "        self.id = i\r\n",
    "    def __str__(self):\r\n",
    "        return 'Demo[' + str(self.id) + ']'\r\n",
    "\r\n",
    "print('Hello ' + str(Demo(10)))"
   ],
   "outputs": [
    {
     "output_type": "stream",
     "name": "stdout",
     "text": [
      "ApplePieSauce\n",
      "Hello4\n",
      "Hello Demo[10]\n"
     ]
    }
   ],
   "metadata": {}
  },
  {
   "cell_type": "markdown",
   "source": [
    "### String concatenation using join() function\n",
    "\n",
    "We can use join() function to concatenate string with a separator. It’s useful when we have a sequence of strings, for example list or tuple of strings.\n",
    "\n",
    "If you don’t want a separator, then use join() function with an empty string."
   ],
   "metadata": {}
  },
  {
   "cell_type": "code",
   "execution_count": 46,
   "source": [
    "s1 = 'Hello'\r\n",
    "s2 = 'World'\r\n",
    "print('Concatenated String using join() =', \"\".join([s1, s2]))\r\n",
    "print('Concatenated String using join() and whitespaces =', \" \".join([s1, s2]))"
   ],
   "outputs": [
    {
     "output_type": "stream",
     "name": "stdout",
     "text": [
      "Concatenated String using join() = HelloWorld\n",
      "Concatenated String using join() and whitespaces = Hello World\n"
     ]
    }
   ],
   "metadata": {}
  },
  {
   "cell_type": "markdown",
   "source": [
    "### String Concatenation using f-string"
   ],
   "metadata": {}
  },
  {
   "cell_type": "code",
   "execution_count": 51,
   "source": [
    "\r\n",
    "s1 = 'Hello'\r\n",
    "s2 = 'World'\r\n",
    "\r\n",
    "s3 = f'{s1} {s2}'\r\n",
    "print('String Concatenation using f-string =', s3)\r\n",
    "\r\n",
    "name = 'Jhon'\r\n",
    "age = 34\r\n",
    "d = Demo(10)\r\n",
    "\r\n",
    "print(f'{name} age is {age} and d={d}')\r\n"
   ],
   "outputs": [
    {
     "output_type": "stream",
     "name": "stdout",
     "text": [
      "String Concatenation using f-string = Hello World\n",
      "Jhon age is 34 and d=Demo[10]\n"
     ]
    }
   ],
   "metadata": {}
  },
  {
   "cell_type": "markdown",
   "source": [
    "### String Concatenation using format() function and % operator\n",
    "\n",
    "We can use string format() function for string concatenation and formatting too."
   ],
   "metadata": {}
  },
  {
   "cell_type": "code",
   "execution_count": 61,
   "source": [
    "\r\n",
    "s1 = 'Hello'\r\n",
    "s2 = 'World'\r\n",
    "\r\n",
    "s3 = \"{}-{}\".format(s1, s2)\r\n",
    "print('String Concatenation using format() =', s3)\r\n",
    "\r\n",
    "s3 = \"{in1} {in2}\".format(in1=s1, in2=s2)\r\n",
    "print('String Concatenation using format() =', s3)\r\n",
    "\r\n",
    "\r\n",
    "# We can use % operator for string formatting, it can be used for string concatenation too. It’s useful when we want to concatenate strings and perform simple formatting.\r\n",
    "\r\n",
    "print()\r\n",
    "s1 = 'Hello'\r\n",
    "s2 = 'World'\r\n",
    "\r\n",
    "s3 = \"%s %s\" % (s1, s2)\r\n",
    "print('String Concatenation using % Operator =', s3)\r\n",
    "\r\n",
    "s3 = \"%s %s from Me - %d\" % (s1, s2, 2021)\r\n",
    "print('String Concatenation using % Operator =', s3)\r\n"
   ],
   "outputs": [
    {
     "output_type": "stream",
     "name": "stdout",
     "text": [
      "String Concatenation using format() = Hello-World\n",
      "String Concatenation using format() = Hello World\n",
      "\n",
      "String Concatenation using % Operator = Hello World\n",
      "String Concatenation using % Operator = Hello World from Me - 2021\n"
     ]
    }
   ],
   "metadata": {}
  },
  {
   "cell_type": "markdown",
   "source": [
    "## Indexing a String\n",
    "\n",
    "- accessing one character based on the position"
   ],
   "metadata": {}
  },
  {
   "cell_type": "code",
   "execution_count": 32,
   "source": [
    "print(s[0])\r\n",
    "print(s[1])"
   ],
   "outputs": [
    {
     "output_type": "stream",
     "name": "stdout",
     "text": [
      "H\n",
      "e\n"
     ]
    }
   ],
   "metadata": {}
  },
  {
   "cell_type": "code",
   "execution_count": 5,
   "source": [
    "# total number of character in a string\r\n",
    "print(len(s))"
   ],
   "outputs": [
    {
     "output_type": "stream",
     "name": "stdout",
     "text": [
      "11\n"
     ]
    }
   ],
   "metadata": {}
  },
  {
   "cell_type": "code",
   "execution_count": 6,
   "source": [
    "# last element of string\r\n",
    "print(s[len(s) -1])"
   ],
   "outputs": [
    {
     "output_type": "stream",
     "name": "stdout",
     "text": [
      "d\n"
     ]
    }
   ],
   "metadata": {}
  },
  {
   "cell_type": "markdown",
   "source": [
    "### Negative Indexing\n",
    "\n",
    "- writting `len(str)` is optional\n",
    "- That's how Python give rise to Negative Indexing"
   ],
   "metadata": {}
  },
  {
   "cell_type": "code",
   "execution_count": 7,
   "source": [
    "print(s[-1]) # last character\r\n",
    "print(s[-5]) # 5th last character"
   ],
   "outputs": [
    {
     "output_type": "stream",
     "name": "stdout",
     "text": [
      "d\n",
      "W\n"
     ]
    }
   ],
   "metadata": {}
  },
  {
   "cell_type": "markdown",
   "source": [
    "## Iterating through string"
   ],
   "metadata": {}
  },
  {
   "cell_type": "code",
   "execution_count": 54,
   "source": [
    "print(\"hello\" \"World\")\r\n",
    "print(\"*\" * 10)"
   ],
   "outputs": [
    {
     "output_type": "stream",
     "name": "stdout",
     "text": [
      "helloWorld\n",
      "**********\n"
     ]
    }
   ],
   "metadata": {}
  },
  {
   "cell_type": "code",
   "execution_count": 56,
   "source": [
    "print(\"Hell\" in s)\r\n",
    "print(\"Haven\" in s)"
   ],
   "outputs": [
    {
     "output_type": "stream",
     "name": "stdout",
     "text": [
      "True\n",
      "False\n"
     ]
    }
   ],
   "metadata": {}
  },
  {
   "cell_type": "code",
   "execution_count": 12,
   "source": [
    "for e in \"ABCD\":\r\n",
    "    print(e)\r\n",
    "\r\n",
    "print()\r\n",
    "\r\n",
    "# To get also indexes use enumerate()\r\n",
    "for e in enumerate(\"ABCD\"):\r\n",
    "    print(e)\r\n",
    "\r\n",
    "print()\r\n",
    "\r\n",
    "for i,v in enumerate(\"ABCD\"):\r\n",
    "    print(f\"{i+1} : {v}\")"
   ],
   "outputs": [
    {
     "output_type": "stream",
     "name": "stdout",
     "text": [
      "A\n",
      "B\n",
      "C\n",
      "D\n",
      "\n",
      "(0, 'A')\n",
      "(1, 'B')\n",
      "(2, 'C')\n",
      "(3, 'D')\n",
      "\n",
      "1 : A\n",
      "2 : B\n",
      "3 : C\n",
      "4 : D\n"
     ]
    }
   ],
   "metadata": {}
  },
  {
   "cell_type": "markdown",
   "source": [
    "## Methods related to Strings\n",
    "\n",
    "### Boolean String Methods\n",
    "- `str.isupper()`: String’s alphabetic characters are all uppercase\n",
    "- `str.islower()`: String’s alphabetic characters are all lower case\n",
    "- `str.istitle()`: String is in title case\n",
    "str.isspace(): String only consists of whitespace characters\n",
    "- `str.isnumeric()`: String only contains numeric characters\n",
    "- `str.isalnum()`: String contains only alphanumeric characters (no symbols)\n",
    "- `str.isalpha()`: String contains only alphabetic characters (no numbers or symbols)\n"
   ],
   "metadata": {}
  },
  {
   "cell_type": "markdown",
   "source": [
    "### `upper()`, `lower()`, `title()`"
   ],
   "metadata": {}
  },
  {
   "cell_type": "code",
   "execution_count": 14,
   "source": [
    "# to lowercase:\r\n",
    "s.lower()"
   ],
   "outputs": [
    {
     "output_type": "execute_result",
     "data": {
      "text/plain": [
       "'hello world'"
      ]
     },
     "metadata": {},
     "execution_count": 14
    }
   ],
   "metadata": {}
  },
  {
   "cell_type": "code",
   "execution_count": 15,
   "source": [
    "# to uppercase:\r\n",
    "s.upper()"
   ],
   "outputs": [
    {
     "output_type": "execute_result",
     "data": {
      "text/plain": [
       "'HELLO WORLD'"
      ]
     },
     "metadata": {},
     "execution_count": 15
    }
   ],
   "metadata": {}
  },
  {
   "cell_type": "code",
   "execution_count": 16,
   "source": [
    "# Capital first char of each Word\r\n",
    "s.title()"
   ],
   "outputs": [
    {
     "output_type": "execute_result",
     "data": {
      "text/plain": [
       "'Hello World'"
      ]
     },
     "metadata": {},
     "execution_count": 16
    }
   ],
   "metadata": {}
  },
  {
   "cell_type": "markdown",
   "source": [
    "### `startswith()` and `endswith()`"
   ],
   "metadata": {}
  },
  {
   "cell_type": "code",
   "execution_count": 4,
   "source": [
    "full_name = \"Bill Jefferson\"\r\n",
    "print(full_name.startswith(\"Bill\"))\r\n",
    "print(full_name.startswith(\"Bill\", 3))\r\n",
    "print(full_name.endswith(\"Jefferson\"))\r\n"
   ],
   "outputs": [
    {
     "output_type": "stream",
     "name": "stdout",
     "text": [
      "True\n",
      "False\n",
      "True\n"
     ]
    }
   ],
   "metadata": {}
  },
  {
   "cell_type": "markdown",
   "source": [
    "### `find()`\r\n",
    "\r\n",
    "- `find(searchText, [starting_position, [ ending_position]])\r\n",
    "`\r\n",
    "- returns the first index of the world , -1 otherwise\r\n"
   ],
   "metadata": {}
  },
  {
   "cell_type": "code",
   "execution_count": 16,
   "source": [
    "# define a string data\r\n",
    "str = 'Learn Python programming'\r\n",
    "# Search the position of the word 'python' from the starting\r\n",
    "print(str.find('python'))  \r\n",
    "\r\n",
    "# Search the string 'program' from the position 10\r\n",
    "print(str.find('program', 10))\r\n",
    "\r\n",
    "# Search the word 'earn' from 0 position and within next 5 characters  \r\n",
    "print(str.find('earn', 0, 5))"
   ],
   "outputs": [
    {
     "output_type": "stream",
     "name": "stdout",
     "text": [
      "-1\n",
      "13\n",
      "1\n"
     ]
    }
   ],
   "metadata": {}
  },
  {
   "cell_type": "markdown",
   "source": [
    "### `index()`\r\n",
    "\r\n",
    "- `string.index(search_text [, start [, end]])`\r\n",
    "\r\n",
    "index() method works like find() method but there is a single difference between these methods. Both methods return the position of the search text if the string exists in the main string. If the search text does not exist in the main string then `find()` method returns  `-1` but `index()` method generates a `ValueError.`"
   ],
   "metadata": {}
  },
  {
   "cell_type": "code",
   "execution_count": 26,
   "source": [
    "strVal = 'Python is a powerful programming language.'\r\n",
    "\r\n",
    "# Apply index() method with different arfuments\r\n",
    "try:\r\n",
    "   \r\n",
    "    print(strVal.index('powerful'))\r\n",
    "    print(strVal.index('program',10))\r\n",
    "    print(strVal.index('is', 5, 15))\r\n",
    "    print(strVal.index('his', 0, 25))\r\n",
    "# Catch value error and print the custom message\r\n",
    "except ValueError:\r\n",
    "\r\n",
    "    print(\"The search string is not found\")"
   ],
   "outputs": [
    {
     "output_type": "stream",
     "name": "stdout",
     "text": [
      "12\n",
      "21\n",
      "7\n",
      "The search string is not found\n"
     ]
    }
   ],
   "metadata": {}
  },
  {
   "cell_type": "markdown",
   "source": [
    "### `replace()`\r\n",
    "\r\n",
    "- `string.replace(search_string, replace_string [,counter])`\r\n"
   ],
   "metadata": {}
  },
  {
   "cell_type": "code",
   "execution_count": 19,
   "source": [
    "# Define a string data\r\n",
    "str = \"I like PHP but I like Python more\"\r\n",
    "\r\n",
    "replace_str1 = str.replace(\"PHP\", \"Java\")\r\n",
    "print(\"Original string:\", str)\r\n",
    "print(\"Replaced string:\", replace_str1)\r\n",
    "\r\n",
    "replace_str2 = str.replace(\"like\", \"dislike\",1)\r\n",
    "print(\"\\nOriginal string:\",str)\r\n",
    "print(\"Replaced string:\",replace_str2)"
   ],
   "outputs": [
    {
     "output_type": "stream",
     "name": "stdout",
     "text": [
      "Original string: I like PHP but I like Python more\n",
      "Replaced string: I like Java but I like Python more\n",
      "\n",
      "Original string: I like PHP but I like Python more\n",
      "Replaced string: I dislike PHP but I like Python more\n"
     ]
    }
   ],
   "metadata": {}
  },
  {
   "cell_type": "markdown",
   "source": [
    "### `split()` and `join()` "
   ],
   "metadata": {}
  },
  {
   "cell_type": "code",
   "execution_count": 11,
   "source": [
    "print(\"x\".join([\"A\", \"B\",\"C\"]))\r\n",
    "print(\"\".join([\"A\", \"B\",\"C\"]))"
   ],
   "outputs": [
    {
     "output_type": "stream",
     "name": "stdout",
     "text": [
      "AexBexC\n",
      "ABC\n"
     ]
    }
   ],
   "metadata": {}
  },
  {
   "cell_type": "markdown",
   "source": [
    "What has happened is the join() string has gone through each letter in the string variable and added an X after each letter."
   ],
   "metadata": {}
  },
  {
   "cell_type": "code",
   "execution_count": 25,
   "source": [
    "# Apply join on string data\r\n",
    "print('Joining each character with comma:', ','.join('python'))\r\n",
    "# Apply join on list of strings\r\n",
    "print('Joining list of strings with space:', ' '.join(['I','like', 'programming']))\r\n",
    "# Apply join on tuple of strings\r\n",
    "print('Joining tuple of strings with colon:', ':'.join(('011156432','Mehnaz', '10','45')))"
   ],
   "outputs": [
    {
     "output_type": "stream",
     "name": "stdout",
     "text": [
      "Joining each character with comma: p,y,t,h,o,n\n",
      "Joining list of strings with space: I like programming\n",
      "Joining tuple of strings with colon: 011156432:Mehnaz:10:45\n"
     ]
    }
   ],
   "metadata": {}
  },
  {
   "cell_type": "code",
   "execution_count": 15,
   "source": [
    "s= \"Hello, World\"\r\n",
    "r=s.split(\" \")\r\n",
    "print(r)\r\n",
    "s= \"Hello, World\"\r\n",
    "r=s.split(\", \")\r\n",
    "print(r)"
   ],
   "outputs": [
    {
     "output_type": "stream",
     "name": "stdout",
     "text": [
      "['Hello,', 'World']\n",
      "['Hello', 'World']\n"
     ]
    }
   ],
   "metadata": {}
  },
  {
   "cell_type": "markdown",
   "source": [
    "### `strip()` - remove white spaces\r\n",
    "\r\n",
    "- `strip()` method is used to remove white spaces from both sides of a string. \r\n",
    "- This method does not take any argument.\r\n",
    "\r\n",
    "There are two related methods for removing white spaces. \r\n",
    "\r\n",
    "- `lstrip()` method to remove the white space from the left side \r\n",
    "- `rstrip()` method to remove the white space from the right side of the string. "
   ],
   "metadata": {}
  },
  {
   "cell_type": "code",
   "execution_count": 24,
   "source": [
    "strVal = \"      Welcome to Py     \"\r\n",
    "\r\n",
    "# Print output before and after strip\r\n",
    "print(\"The output before strip():\", strVal)\r\n",
    "print(\"The output after strip():\", strVal.strip(),\"(Added to check)\")"
   ],
   "outputs": [
    {
     "output_type": "stream",
     "name": "stdout",
     "text": [
      "The output before strip():       Welcome to Py     \n",
      "The output after strip(): Welcome to Py (Added to check)\n"
     ]
    }
   ],
   "metadata": {}
  },
  {
   "cell_type": "markdown",
   "source": [
    "## Substring \r\n",
    "\r\n",
    "- We can create a substring using `string slicing`. \r\n",
    "- We can use `split()` function to create a `list of substring`s based on specified `delimiter`.\r\n",
    "\r\n",
    "```python\r\n",
    "s = 'My Name is Jhon'\r\n",
    "\r\n",
    "# create substring using slice\r\n",
    "name = s[11:]\r\n",
    "print(name) #Jhon\r\n",
    "\r\n",
    "# list of substrings using split\r\n",
    "l1 = s.split()\r\n",
    "print(l1) # ['My', 'Name', 'is', 'Jhon']\r\n",
    "```\r\n",
    "\r\n",
    "### string slicing\r\n",
    "- extracting multiple characters from a string(sub string)\r\n",
    "- Syntax: `str[start_idx : end_idx + 1]`\r\n",
    "\r\n",
    "> NOTE: **slice is exclusive**"
   ],
   "metadata": {}
  },
  {
   "cell_type": "code",
   "execution_count": 1,
   "source": [
    "s = \"Hello World\"\r\n",
    "print(s[:2]) \r\n",
    "print(s[0:2])"
   ],
   "outputs": [
    {
     "output_type": "stream",
     "name": "stdout",
     "text": [
      "He\n",
      "He\n"
     ]
    }
   ],
   "metadata": {}
  },
  {
   "cell_type": "code",
   "execution_count": 2,
   "source": [
    "print(s[2:]) \r\n",
    "print(s[:]) \r\n",
    "print(s[:2]+s[2:]) "
   ],
   "outputs": [
    {
     "output_type": "stream",
     "name": "stdout",
     "text": [
      "llo World\n",
      "Hello World\n",
      "Hello World\n"
     ]
    }
   ],
   "metadata": {}
  },
  {
   "cell_type": "markdown",
   "source": [
    "#### Slicing with Negative index"
   ],
   "metadata": {}
  },
  {
   "cell_type": "code",
   "execution_count": 4,
   "source": [
    "print(s[:-2]) # all char exept last 2\r\n",
    "print(s[-1])\r\n",
    "print(s[-6:])\r\n",
    "print(s[-6:-1]) # left to right"
   ],
   "outputs": [
    {
     "output_type": "stream",
     "name": "stdout",
     "text": [
      "Hello Wor\n",
      "d\n",
      " World\n",
      " Worl\n"
     ]
    }
   ],
   "metadata": {}
  },
  {
   "cell_type": "markdown",
   "source": [
    "#### Using a Step in a Slice\r\n",
    "\r\n",
    "- Syntax: `str[start_idx : end_idx + 1 : step_size]`\r\n"
   ],
   "metadata": {}
  },
  {
   "cell_type": "code",
   "execution_count": null,
   "source": [
    "print(s[::1])\r\n",
    "print(s[::2])\r\n",
    "print(s[1:10:2])"
   ],
   "outputs": [],
   "metadata": {}
  },
  {
   "cell_type": "markdown",
   "source": [
    "#### Slicing Backwards"
   ],
   "metadata": {}
  },
  {
   "cell_type": "code",
   "execution_count": 5,
   "source": [
    "print(s[::-1])   # in reverse order\r\n",
    "print(s[:-4:-1]) # last 3 char, in reverse order.\r\n",
    "print(s[::-2])"
   ],
   "outputs": [
    {
     "output_type": "stream",
     "name": "stdout",
     "text": [
      "dlroW olleH\n",
      "dlr\n",
      "drWolH\n"
     ]
    }
   ],
   "metadata": {}
  },
  {
   "cell_type": "markdown",
   "source": [
    "### Checking if substring is found"
   ],
   "metadata": {}
  },
  {
   "cell_type": "code",
   "execution_count": 10,
   "source": [
    "\r\n",
    "s = 'My Name is Jhon'\r\n",
    "\r\n",
    "if 'Name' in s:\r\n",
    "    print('Substring found')\r\n",
    "\r\n",
    "if s.find('Name') != -1:\r\n",
    "    print('Substring found')"
   ],
   "outputs": [
    {
     "output_type": "stream",
     "name": "stdout",
     "text": [
      "Substring found\n",
      "Substring found\n"
     ]
    }
   ],
   "metadata": {}
  },
  {
   "cell_type": "markdown",
   "source": [
    "### Count of Substring Occurrence\r\n",
    "\r\n",
    "-We can use count() function to find the number of occurrences of a substring in the string."
   ],
   "metadata": {}
  },
  {
   "cell_type": "code",
   "execution_count": 14,
   "source": [
    "s = 'My Name is Jhon'\r\n",
    "\r\n",
    "print('Substring count =', s.count('a'))\r\n",
    "\r\n",
    "s = 'This Is The Best Theorem'\r\n",
    "print('Substring count =', s.count('Th'))"
   ],
   "outputs": [
    {
     "output_type": "stream",
     "name": "stdout",
     "text": [
      "Substring count = 1\n",
      "Substring count = 3\n"
     ]
    }
   ],
   "metadata": {}
  },
  {
   "cell_type": "markdown",
   "source": [
    "### Find all indexes of substring"
   ],
   "metadata": {}
  },
  {
   "cell_type": "code",
   "execution_count": 15,
   "source": [
    "def find_all_indexes(input_str, substring):\r\n",
    "    l2 = []\r\n",
    "    length = len(input_str)\r\n",
    "    index = 0\r\n",
    "    while index < length:\r\n",
    "        i = input_str.find(substring, index)\r\n",
    "        if i == -1:\r\n",
    "            return l2\r\n",
    "        l2.append(i)\r\n",
    "        index = i + 1\r\n",
    "    return l2\r\n",
    "\r\n",
    "\r\n",
    "s = 'This Is The Best Theorem'\r\n",
    "print(find_all_indexes(s, 'Th'))"
   ],
   "outputs": [
    {
     "output_type": "stream",
     "name": "stdout",
     "text": [
      "[0, 8, 17]\n"
     ]
    }
   ],
   "metadata": {}
  },
  {
   "cell_type": "markdown",
   "source": [
    "## Reverse a String"
   ],
   "metadata": {}
  },
  {
   "cell_type": "markdown",
   "source": [
    "### Python Reverse String using Slicing"
   ],
   "metadata": {}
  },
  {
   "cell_type": "code",
   "execution_count": 65,
   "source": [
    "\r\n",
    "def reverse_slicing(s):\r\n",
    "    return s[::-1]\r\n",
    "\r\n",
    "input_str = 'ABç∂EF'\r\n",
    "print('Reverse String using slicing =', reverse_slicing(input_str))\r\n",
    "\r\n",
    "\r\n",
    "def reverse_recursion(s):\r\n",
    "    if len(s) == 0:\r\n",
    "        return s\r\n",
    "    else:\r\n",
    "        return reverse_recursion(s[1:]) + s[0]\r\n",
    "print('Reverse String using recursion =', reverse_recursion(input_str))\r\n"
   ],
   "outputs": [
    {
     "output_type": "stream",
     "name": "stdout",
     "text": [
      "Reverse String using slicing = FE∂çBA\n",
      "Reverse String using recursion = FE∂çBA\n"
     ]
    }
   ],
   "metadata": {}
  },
  {
   "cell_type": "markdown",
   "source": [
    "### for loop"
   ],
   "metadata": {}
  },
  {
   "cell_type": "code",
   "execution_count": 64,
   "source": [
    "def reverse_for_loop(s):\r\n",
    "    s1 = ''\r\n",
    "    for c in s:\r\n",
    "        s1 = c + s1  # appending chars in reverse order\r\n",
    "    return s1\r\n",
    "\r\n",
    "input_str = 'ABç∂EF'\r\n",
    "print('Reverse String using for loop =', reverse_for_loop(input_str))\r\n"
   ],
   "outputs": [
    {
     "output_type": "stream",
     "name": "stdout",
     "text": [
      "Reverse String using for loop = FE∂çBA\n"
     ]
    }
   ],
   "metadata": {}
  },
  {
   "cell_type": "markdown",
   "source": [
    "### list.reverse()"
   ],
   "metadata": {}
  },
  {
   "cell_type": "code",
   "execution_count": null,
   "source": [
    "def reverse_list(s):\r\n",
    "    temp_list = list(s)\r\n",
    "    temp_list.reverse()\r\n",
    "    return ''.join(temp_list)"
   ],
   "outputs": [],
   "metadata": {}
  },
  {
   "cell_type": "markdown",
   "source": [
    "## String Replacement Fields and F-String"
   ],
   "metadata": {}
  },
  {
   "cell_type": "code",
   "execution_count": 19,
   "source": [
    "name= \"Soikat\"\r\n",
    "age=22\r\n",
    "print(\"Myself {0}. My age is {1} years\".format(name,age))\r\n",
    "print()\r\n",
    "#  Multiline String using triple quotes\r\n",
    "print(\"\"\"Myself {0}. \r\n",
    "My age is {1} years\"\"\".format(name,age))\r\n",
    "\r\n",
    "# Literal String Interpolation\r\n",
    "print(f\"Myself {name}. My age is {age} years\")\r\n",
    "\r\n",
    "# Lambda expressions with f-strings\r\n",
    "print()\r\n",
    "x = -20.45\r\n",
    "print(f'Lambda Example: {(lambda x: abs(x)) (x)}')\r\n",
    "print(f'Lambda Square Example: {(lambda x: pow(x, 2)) (5)}')\r\n",
    "\r\n",
    "print()\r\n",
    "# f-strings miscellaneous examples\r\n",
    "\r\n",
    "print(f'{\"quoted string\"}')\r\n",
    "print(f'{{ {4*10} }}')\r\n",
    "print(f'{{{4*10}}}')\r\n",
    "\r\n"
   ],
   "outputs": [
    {
     "output_type": "stream",
     "name": "stdout",
     "text": [
      "Myself Soikat. My age is 22 years\n",
      "\n",
      "Myself Soikat. \n",
      "My age is 22 years\n",
      "Myself Soikat. My age is 22 years\n",
      "\n",
      "Lambda Example: 20.45\n",
      "Lambda Square Example: 25\n",
      "\n",
      "quoted string\n",
      "{ 40 }\n",
      "{40}\n"
     ]
    }
   ],
   "metadata": {}
  },
  {
   "cell_type": "markdown",
   "source": [
    "## More on String Formatting"
   ],
   "metadata": {}
  },
  {
   "cell_type": "code",
   "execution_count": 61,
   "source": [
    "#for i in range(1,10):\r\n",
    "    print(\"No. {0} squared is {1} and cubed is {2}\".format(i,i**2,i**3))"
   ],
   "outputs": [
    {
     "output_type": "stream",
     "name": "stdout",
     "text": [
      "No. 1 squared is 1 and cubed is 1\n",
      "No. 2 squared is 4 and cubed is 8\n",
      "No. 3 squared is 9 and cubed is 27\n",
      "No. 4 squared is 16 and cubed is 64\n",
      "No. 5 squared is 25 and cubed is 125\n",
      "No. 6 squared is 36 and cubed is 216\n",
      "No. 7 squared is 49 and cubed is 343\n",
      "No. 8 squared is 64 and cubed is 512\n",
      "No. 9 squared is 81 and cubed is 729\n"
     ]
    }
   ],
   "metadata": {}
  },
  {
   "cell_type": "code",
   "execution_count": 62,
   "source": [
    "for i in range(1,10):\r\n",
    "    print(\"No. {0:2} squared is {1:4} and cubed is {2:4}\".format(i,i**2,i**3))"
   ],
   "outputs": [
    {
     "output_type": "stream",
     "name": "stdout",
     "text": [
      "No.  1 squared is    1 and cubed is    1\n",
      "No.  2 squared is    4 and cubed is    8\n",
      "No.  3 squared is    9 and cubed is   27\n",
      "No.  4 squared is   16 and cubed is   64\n",
      "No.  5 squared is   25 and cubed is  125\n",
      "No.  6 squared is   36 and cubed is  216\n",
      "No.  7 squared is   49 and cubed is  343\n",
      "No.  8 squared is   64 and cubed is  512\n",
      "No.  9 squared is   81 and cubed is  729\n"
     ]
    }
   ],
   "metadata": {}
  },
  {
   "cell_type": "code",
   "execution_count": 63,
   "source": [
    "for i in range(1,10):\r\n",
    "    print(\"No. {0:2} squared is {1:<4} and cubed is {2:<4}\".format(i,i**2,i**3)) # left align"
   ],
   "outputs": [
    {
     "output_type": "stream",
     "name": "stdout",
     "text": [
      "No.  1 squared is 1    and cubed is 1   \n",
      "No.  2 squared is 4    and cubed is 8   \n",
      "No.  3 squared is 9    and cubed is 27  \n",
      "No.  4 squared is 16   and cubed is 64  \n",
      "No.  5 squared is 25   and cubed is 125 \n",
      "No.  6 squared is 36   and cubed is 216 \n",
      "No.  7 squared is 49   and cubed is 343 \n",
      "No.  8 squared is 64   and cubed is 512 \n",
      "No.  9 squared is 81   and cubed is 729 \n"
     ]
    }
   ],
   "metadata": {}
  },
  {
   "cell_type": "code",
   "execution_count": 64,
   "source": [
    "for i in range(1,10):\r\n",
    "    print(\"No. {0:2} squared is {1:<4} and cubed is {2:^4}\".format(i,i**2,i**3)) # center align"
   ],
   "outputs": [
    {
     "output_type": "stream",
     "name": "stdout",
     "text": [
      "No.  1 squared is 1    and cubed is  1  \n",
      "No.  2 squared is 4    and cubed is  8  \n",
      "No.  3 squared is 9    and cubed is  27 \n",
      "No.  4 squared is 16   and cubed is  64 \n",
      "No.  5 squared is 25   and cubed is 125 \n",
      "No.  6 squared is 36   and cubed is 216 \n",
      "No.  7 squared is 49   and cubed is 343 \n",
      "No.  8 squared is 64   and cubed is 512 \n",
      "No.  9 squared is 81   and cubed is 729 \n"
     ]
    }
   ],
   "metadata": {}
  },
  {
   "cell_type": "code",
   "execution_count": 80,
   "source": [
    "print(\"Pi is ~ {0}\".format(22/7))\r\n",
    "print(\"Pi is ~ {0:20f}\".format(22/7))\r\n",
    "print(\"Pi is ~ {0:<20f}\".format(22/7))\r\n",
    "print(\"Pi is ~ {0:<20.20f}\".format(22/7))"
   ],
   "outputs": [
    {
     "output_type": "stream",
     "name": "stdout",
     "text": [
      "Pi is ~ 3.142857142857143\n",
      "Pi is ~             3.142857\n",
      "Pi is ~ 3.142857            \n",
      "Pi is ~ 3.14285714285714279370\n"
     ]
    }
   ],
   "metadata": {}
  },
  {
   "cell_type": "markdown",
   "source": [
    "## Raw String"
   ],
   "metadata": {}
  },
  {
   "cell_type": "code",
   "execution_count": 38,
   "source": [
    "raw_s = r'Hi\\nHello'\r\n",
    "print(raw_s)\r\n",
    "raw_s = r'\\''\r\n",
    "print(raw_s)\r\n",
    "\r\n",
    "raw_s = r'ab\\\\'\r\n",
    "print(raw_s)\r\n",
    "\r\n",
    "raw_s = R'\\\\\\\"'  # prefix can be 'R' or 'r'\r\n",
    "print(raw_s)"
   ],
   "outputs": [
    {
     "output_type": "stream",
     "name": "stdout",
     "text": [
      "Hi\\nHello\n",
      "\\'\n",
      "ab\\\\\n",
      "\\\\\\\"\n"
     ]
    }
   ],
   "metadata": {}
  },
  {
   "cell_type": "markdown",
   "source": [
    "## String Conversion"
   ],
   "metadata": {}
  },
  {
   "cell_type": "markdown",
   "source": [
    "## Few Operations on Strings"
   ],
   "metadata": {}
  },
  {
   "cell_type": "code",
   "execution_count": 23,
   "source": [
    "\"abc\" + \"pqr\""
   ],
   "outputs": [
    {
     "output_type": "execute_result",
     "data": {
      "text/plain": [
       "'abcpqr'"
      ]
     },
     "metadata": {},
     "execution_count": 23
    }
   ],
   "metadata": {}
  },
  {
   "cell_type": "code",
   "execution_count": 34,
   "source": [
    "# cannnot concatenate other data type\r\n",
    "\"abc\" + 1"
   ],
   "outputs": [
    {
     "output_type": "error",
     "ename": "TypeError",
     "evalue": "can only concatenate str (not \"int\") to str",
     "traceback": [
      "\u001b[1;31m---------------------------------------------------------------------------\u001b[0m",
      "\u001b[1;31mTypeError\u001b[0m                                 Traceback (most recent call last)",
      "\u001b[1;32m<ipython-input-34-67b336e1625b>\u001b[0m in \u001b[0;36m<module>\u001b[1;34m\u001b[0m\n\u001b[0;32m      1\u001b[0m \u001b[1;31m# cannnot concatenate other data type\u001b[0m\u001b[1;33m\u001b[0m\u001b[1;33m\u001b[0m\u001b[1;33m\u001b[0m\u001b[0m\n\u001b[1;32m----> 2\u001b[1;33m \u001b[1;34m\"abc\"\u001b[0m \u001b[1;33m+\u001b[0m \u001b[1;36m1\u001b[0m\u001b[1;33m\u001b[0m\u001b[1;33m\u001b[0m\u001b[0m\n\u001b[0m",
      "\u001b[1;31mTypeError\u001b[0m: can only concatenate str (not \"int\") to str"
     ]
    }
   ],
   "metadata": {}
  },
  {
   "cell_type": "code",
   "execution_count": 38,
   "source": [
    "# type conversion is the way\r\n",
    "\"abc \" + str(1)\r\n",
    "\r\n",
    "# Note: TypeError: 'str' object is not callable (Python)\r\n",
    "\r\n",
    "# You can get this error if you have variable `str` and trying to call `str() function.\r\n",
    "\r\n",
    "# Resolve with: `del str` \r\n"
   ],
   "outputs": [
    {
     "output_type": "execute_result",
     "data": {
      "text/plain": [
       "'abc 1'"
      ]
     },
     "metadata": {},
     "execution_count": 38
    }
   ],
   "metadata": {}
  },
  {
   "cell_type": "code",
   "execution_count": 39,
   "source": [
    "\"*\"*5"
   ],
   "outputs": [
    {
     "output_type": "execute_result",
     "data": {
      "text/plain": [
       "'*****'"
      ]
     },
     "metadata": {},
     "execution_count": 39
    }
   ],
   "metadata": {}
  },
  {
   "cell_type": "markdown",
   "source": [
    "## String Module"
   ],
   "metadata": {}
  },
  {
   "cell_type": "code",
   "execution_count": 33,
   "source": [
    "\r\n",
    "import string\r\n",
    "\r\n",
    "# string module constants\r\n",
    "print(string.ascii_letters)\r\n",
    "print(string.ascii_lowercase)\r\n",
    "print(string.ascii_uppercase)\r\n",
    "print(string.digits)\r\n",
    "print(string.hexdigits)\r\n",
    "print(string.whitespace)  # ' \\t\\n\\r\\x0b\\x0c'\r\n",
    "print(string.punctuation)"
   ],
   "outputs": [
    {
     "output_type": "stream",
     "name": "stdout",
     "text": [
      "abcdefghijklmnopqrstuvwxyzABCDEFGHIJKLMNOPQRSTUVWXYZ\n",
      "abcdefghijklmnopqrstuvwxyz\n",
      "ABCDEFGHIJKLMNOPQRSTUVWXYZ\n",
      "0123456789\n",
      "0123456789abcdefABCDEF\n",
      " \t\n",
      "\u000b\f\n",
      "!\"#$%&'()*+,-./:;<=>?@[\\]^_`{|}~\n"
     ]
    }
   ],
   "metadata": {}
  },
  {
   "cell_type": "markdown",
   "source": [
    "## Python Generate Random String\n",
    "\n",
    "Let’s define the utility function to generate a random string from the given sequence of characters and specified size."
   ],
   "metadata": {}
  },
  {
   "cell_type": "code",
   "execution_count": 25,
   "source": [
    "\r\n",
    "import random\r\n",
    "import string\r\n",
    "\r\n",
    "def generate(str_size, allowed_chars):\r\n",
    "    return ''.join(random.choice(allowed_chars) for x in range(str_size))\r\n",
    "\r\n",
    "chars = string.ascii_letters + string.punctuation\r\n",
    "print(chars)\r\n",
    "\r\n",
    "size = 12\r\n",
    "print('Random String of length 12 =', generate(size, chars))"
   ],
   "outputs": [
    {
     "output_type": "stream",
     "name": "stdout",
     "text": [
      "abcdefghijklmnopqrstuvwxyzABCDEFGHIJKLMNOPQRSTUVWXYZ!\"#$%&'()*+,-./:;<=>?@[\\]^_`{|}~\n",
      "Random String of length 12 = }.]~Hpem%^_:\n"
     ]
    }
   ],
   "metadata": {}
  },
  {
   "cell_type": "markdown",
   "source": [
    "We are using `random.choice()` function to select a random character from the provided sequence of characters. Then we are using for loop to run it given number of times. Then we are using string join() function to concatenate them and return the randomly generated string."
   ],
   "metadata": {}
  },
  {
   "cell_type": "markdown",
   "source": [
    "What if we want to keep the random string size as variable, say between 8 and 12 characters. Let’s tweak our function little bit to randomly select the size of the random string."
   ],
   "metadata": {}
  },
  {
   "cell_type": "code",
   "execution_count": 30,
   "source": [
    "\r\n",
    "import random\r\n",
    "from random import randint\r\n",
    "import string\r\n",
    "\r\n",
    "def random_string_generator_variable_size(min_size, max_size, allowed_chars):\r\n",
    "    return ''.join(random.choice(allowed_chars) for x in range(randint(min_size, max_size)))\r\n",
    "\r\n",
    "\r\n",
    "chars = string.ascii_letters + string.punctuation\r\n",
    "print('Random String of random length (6-12) =', random_string_generator_variable_size(6, 12, chars))\r\n"
   ],
   "outputs": [
    {
     "output_type": "stream",
     "name": "stdout",
     "text": [
      "Random String of random length (6-12) = ,GBJOn}gI:\n"
     ]
    }
   ],
   "metadata": {}
  },
  {
   "cell_type": "markdown",
   "source": [
    "### Random UUID Generation\n",
    "\n",
    "If you want a Unique ID based on RFC-4122 specifications, then you can use Python uuid module."
   ],
   "metadata": {}
  },
  {
   "cell_type": "code",
   "execution_count": 31,
   "source": [
    "\r\n",
    "import uuid\r\n",
    "\r\n",
    "print('Random UUID from uuid1() =', uuid.uuid1())\r\n",
    "print('Random UUID from uuid4() =', uuid.uuid4())"
   ],
   "outputs": [
    {
     "output_type": "stream",
     "name": "stdout",
     "text": [
      "Random UUID from uuid1() = 702ea43f-db64-11eb-97e3-cea4caa3e803\n",
      "Random UUID from uuid4() = c33e26c0-ad16-416f-8777-422134629fa9\n"
     ]
    }
   ],
   "metadata": {}
  }
 ]
}