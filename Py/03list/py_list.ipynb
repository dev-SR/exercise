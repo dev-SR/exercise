{
 "cells": [
  {
   "cell_type": "markdown",
   "metadata": {},
   "source": [
    "# LIST\n",
    "\n"
   ]
  },
  {
   "cell_type": "code",
   "execution_count": null,
   "metadata": {},
   "outputs": [],
   "source": [
    "\"\"\" \n",
    "cd .\\Py\\03list\\\n",
    "jupyter nbconvert --to markdown py_list.ipynb --output README.md\n",
    "\"\"\""
   ]
  },
  {
   "cell_type": "markdown",
   "metadata": {},
   "source": [
    "## 🌟Creating List🌟"
   ]
  },
  {
   "cell_type": "code",
   "execution_count": 2,
   "metadata": {},
   "outputs": [
    {
     "name": "stdout",
     "output_type": "stream",
     "text": [
      "[0, 1, 2, 3, 4, 5, 6, 7, 8, 9]\n",
      "[0, 4, 16, 36, 64, 100, 144, 196, 256, 324]\n",
      "[0, 0, 0, 0, 0, 0, 0, 0, 0, 0]\n"
     ]
    }
   ],
   "source": [
    "print(list(range(10)))\n",
    "print([i**2 for i in range(20) if i % 2 == 0])\n",
    "print([0] * 10)"
   ]
  },
  {
   "cell_type": "code",
   "execution_count": 8,
   "metadata": {},
   "outputs": [
    {
     "name": "stdout",
     "output_type": "stream",
     "text": [
      "[[None, None], [None, None]]\n",
      "[1, 2, 3, 4]\n",
      "[1, 2, 3, 4, 6]\n"
     ]
    }
   ],
   "source": [
    "print([[None]*2]*2)\n",
    "# List having multiple ref\n",
    "l = [1, 2, 3, 4]\n",
    "ref = l.copy()\n",
    "ref.append(6)\n",
    "\n",
    "print(l)\n",
    "print(ref)"
   ]
  },
  {
   "cell_type": "markdown",
   "metadata": {},
   "source": [
    "## 🚀List Input"
   ]
  },
  {
   "cell_type": "markdown",
   "metadata": {},
   "source": [
    "### Multiline Input"
   ]
  },
  {
   "cell_type": "code",
   "execution_count": 3,
   "metadata": {},
   "outputs": [
    {
     "name": "stdout",
     "output_type": "stream",
     "text": [
      "[1, 2, 3]\n"
     ]
    }
   ],
   "source": [
    "# creating an empty list\n",
    "lst = []\n",
    "\n",
    "# number of elements as input\n",
    "n = int(input(\"Enter number of elements : \"))\n",
    "\n",
    "# iterating till the range\n",
    "for i in range(0, n):\n",
    "    ele = int(input(f\"element - {i+1} : \"))\n",
    "\n",
    "    lst.append(ele)  # adding the element\n",
    "\n",
    "print(lst)\n"
   ]
  },
  {
   "cell_type": "markdown",
   "metadata": {},
   "source": [
    "```bash\n",
    ">> Enter number of elements : 3\n",
    ">> element - 1 : 1\n",
    ">> element - 2 : 2\n",
    ">> element - 3 : 3\n",
    ">> [1, 2, 3]\n",
    "```"
   ]
  },
  {
   "cell_type": "markdown",
   "metadata": {},
   "source": [
    "### Single Line Input"
   ]
  },
  {
   "cell_type": "code",
   "execution_count": 5,
   "metadata": {},
   "outputs": [
    {
     "data": {
      "text/plain": [
       "[1, 2, 4, 5]"
      ]
     },
     "execution_count": 5,
     "metadata": {},
     "output_type": "execute_result"
    }
   ],
   "source": [
    "lists = input(\"Enter Space separated list : \")\n",
    "# converting the input string to list\n",
    "lists = lists.split()\n",
    "lists = [int(i) for i in lists]\n",
    "lists"
   ]
  },
  {
   "cell_type": "markdown",
   "metadata": {},
   "source": [
    "```py\n",
    ">> Enter Space Separated Numbers : 1 2 3\n",
    ">> [1, 2, 3]\n",
    "```"
   ]
  },
  {
   "cell_type": "code",
   "execution_count": 8,
   "metadata": {},
   "outputs": [
    {
     "data": {
      "text/plain": [
       "[1, 2, 4, 55]"
      ]
     },
     "execution_count": 8,
     "metadata": {},
     "output_type": "execute_result"
    }
   ],
   "source": [
    "lists = [int(i) for i in input(\"Enter Space separated list : \").split()]\n",
    "lists"
   ]
  },
  {
   "cell_type": "markdown",
   "metadata": {},
   "source": [
    "## Indexing/Slicing of List works same as String"
   ]
  },
  {
   "cell_type": "code",
   "execution_count": 14,
   "metadata": {},
   "outputs": [
    {
     "name": "stdout",
     "output_type": "stream",
     "text": [
      "1\n",
      "6\n",
      "[2, 3, 4, 5]\n",
      "[1, 3, 5]\n",
      "[5, 2, 3, 4, 5, 6]\n"
     ]
    }
   ],
   "source": [
    "\n",
    "l = [1,2,3,4,5,6]\n",
    "\n",
    "print(l[0])\n",
    "print(l[-1])\n",
    "print(l[1:-1])\n",
    "print(l[::2])\n",
    "# because of mutable property\n",
    "l[0] = 5\n",
    "print(l)"
   ]
  },
  {
   "cell_type": "markdown",
   "metadata": {},
   "source": [
    "## 🌟Unpacking Operator🌟"
   ]
  },
  {
   "cell_type": "code",
   "execution_count": 10,
   "metadata": {},
   "outputs": [
    {
     "name": "stdout",
     "output_type": "stream",
     "text": [
      "0\n",
      "1\n",
      "[2, 3, 4]\n",
      "\n",
      "0\n",
      "4\n",
      "[1, 2, 3]\n",
      "\n",
      "[0, 1, 2, 3, 4, 'H', 'e', 'l', 'l', 'o']\n"
     ]
    }
   ],
   "source": [
    "# rest equivalent\n",
    "n = list(range(5))\n",
    "first,second,*other =n\n",
    "\n",
    "print(first)\n",
    "print(second)\n",
    "print(other)\n",
    "\n",
    "print()\n",
    "first,*other,last =n\n",
    "\n",
    "print(first)\n",
    "print(last)\n",
    "print(other)\n",
    "\n",
    "print()\n",
    "n = [*range(5),*\"Hello\"]\n",
    "print(n)"
   ]
  },
  {
   "cell_type": "markdown",
   "metadata": {},
   "source": [
    "## 🌟Iteration🌟"
   ]
  },
  {
   "cell_type": "markdown",
   "metadata": {},
   "source": [
    "### `for item in list`"
   ]
  },
  {
   "cell_type": "code",
   "execution_count": 31,
   "metadata": {},
   "outputs": [
    {
     "name": "stdout",
     "output_type": "stream",
     "text": [
      "a b c "
     ]
    }
   ],
   "source": [
    "for i in \"abc\":\n",
    "\tprint(i,end=\" \")\n"
   ]
  },
  {
   "cell_type": "code",
   "execution_count": 5,
   "metadata": {},
   "outputs": [
    {
     "name": "stdout",
     "output_type": "stream",
     "text": [
      "True\n",
      "\n",
      "Java\n",
      "C\n",
      "C++\n",
      "Kotlin\n",
      "TypeScript\n",
      "\n"
     ]
    }
   ],
   "source": [
    "programming_lan = [\"Java\", \"C\", \"C++\", \"Kotlin\", \"TypeScript\"]\n",
    "\n",
    "# List Membership Test\n",
    "v = \"C\" in programming_lan\n",
    "print(v)\n",
    "print()\n",
    "\n",
    "# looping\n",
    "for l in programming_lan:\n",
    "    print(l)\n",
    "\n",
    "print()\n"
   ]
  },
  {
   "cell_type": "markdown",
   "metadata": {},
   "source": [
    "### `in range(start, end, step)`"
   ]
  },
  {
   "cell_type": "code",
   "execution_count": 6,
   "metadata": {},
   "outputs": [
    {
     "name": "stdout",
     "output_type": "stream",
     "text": [
      "range(0, 10)\n",
      "[0, 1, 2, 3, 4, 5, 6, 7, 8, 9]\n",
      "[2, 3, 4, 5, 6, 7]\n",
      "[2, 5, 8, 11, 14, 17]\n"
     ]
    }
   ],
   "source": [
    "print(range(10))\n",
    "\n",
    "print(list(range(10)))\n",
    "\n",
    "print(list(range(2, 8)))\n",
    "\n",
    "print(list(range(2, 20, 3)))\n"
   ]
  },
  {
   "cell_type": "code",
   "execution_count": 32,
   "metadata": {},
   "outputs": [
    {
     "name": "stdout",
     "output_type": "stream",
     "text": [
      "0 1 2 3 4 "
     ]
    }
   ],
   "source": [
    "for i in range(5):\n",
    "\tprint(i,end=\" \")"
   ]
  },
  {
   "cell_type": "markdown",
   "metadata": {},
   "source": [
    "### using indexing"
   ]
  },
  {
   "cell_type": "markdown",
   "metadata": {},
   "source": [
    "Above code doesn't give index of the element. It gives the element itself. Below are the ways to get the index of the element."
   ]
  },
  {
   "cell_type": "markdown",
   "metadata": {},
   "source": [
    "#### `for i in range(len(list))` "
   ]
  },
  {
   "cell_type": "code",
   "execution_count": 8,
   "metadata": {},
   "outputs": [
    {
     "name": "stdout",
     "output_type": "stream",
     "text": [
      "0: Java\n",
      "1: C\n",
      "2: C++\n",
      "3: Kotlin\n",
      "4: TypeScript\n",
      "\n"
     ]
    }
   ],
   "source": [
    "# !index\n",
    "# Tricks\n",
    "for i in range(len(programming_lan)):\n",
    "    print(f\"{i}: {programming_lan[i]}\")\n",
    "    \n",
    "print()\n",
    "\n"
   ]
  },
  {
   "cell_type": "markdown",
   "metadata": {},
   "source": [
    "#### `for i,value in enumerate(list)`"
   ]
  },
  {
   "cell_type": "code",
   "execution_count": 9,
   "metadata": {},
   "outputs": [
    {
     "name": "stdout",
     "output_type": "stream",
     "text": [
      "(0, 'Java')\n",
      "(1, 'C')\n",
      "(2, 'C++')\n",
      "(3, 'Kotlin')\n",
      "(4, 'TypeScript')\n",
      "\n",
      "0: Java\n",
      "1: C\n",
      "2: C++\n",
      "3: Kotlin\n",
      "4: TypeScript\n",
      "\n"
     ]
    }
   ],
   "source": [
    "\n",
    "# looping with enumerate()\n",
    "for lan in enumerate(programming_lan):\n",
    "    print(lan)\n",
    "\n",
    "print()\n",
    "# also returns each item with its index postion.\n",
    "for i, v in enumerate(programming_lan):\n",
    "    print(f\"{i}: {v}\")\n",
    "\n",
    "print()\n"
   ]
  },
  {
   "cell_type": "markdown",
   "metadata": {},
   "source": [
    "## Some methods for list "
   ]
  },
  {
   "cell_type": "markdown",
   "metadata": {},
   "source": [
    "### add"
   ]
  },
  {
   "cell_type": "code",
   "execution_count": 9,
   "metadata": {},
   "outputs": [
    {
     "name": "stdout",
     "output_type": "stream",
     "text": [
      "['', 10, 'A', '', 'B', '', 'C', 33, 33]\n",
      "['', 10, 10, 'A', '', 'B', '', 'C', 33, 33]\n",
      "[2, 3, 5, 7]\n",
      "[2, 3, 5, 7, 9, 7, 5]\n",
      "['re', 're', 're']\n"
     ]
    }
   ],
   "source": [
    "# add the given element at the end of the list\n",
    "l.append(33)\n",
    "print(l)\n",
    "# insert 10 at index 1\n",
    "l.insert(1,10)\n",
    "print(l)\n",
    "\n",
    "odd = [2, 4, 6, 8]\n",
    "# change 2nd to 4th items\n",
    "odd[1:4] = [3, 5, 7]  \n",
    "print(odd)\n",
    "\n",
    "# Concatenating and repeating lists\n",
    "print(odd + [9, 7, 5])\n",
    "print([\"re\"] * 3)\n"
   ]
  },
  {
   "cell_type": "markdown",
   "metadata": {},
   "source": [
    "### remove"
   ]
  },
  {
   "cell_type": "code",
   "execution_count": 22,
   "metadata": {},
   "outputs": [
    {
     "name": "stdout",
     "output_type": "stream",
     "text": [
      "[5, 10, 2, 3, 4, 5, 6]\n",
      "[5, 2, 3, 4, 5, 6]\n",
      "[2, 3, 4, 5, 6]\n",
      "[5, 6]\n",
      "[]\n"
     ]
    }
   ],
   "source": [
    "# pop():\n",
    "# delete the last element\n",
    "# can also delete from specified index\n",
    "l.pop()\n",
    "print(l)\n",
    "l.pop(1)\n",
    "print(l)\n",
    "\n",
    "# remove()\n",
    "l.remove(5)\n",
    "print(l)\n",
    "\n",
    "del l[0:3]\n",
    "print(l)\n",
    "\n",
    "l.clear()\n",
    "print(l)"
   ]
  },
  {
   "cell_type": "code",
   "execution_count": 25,
   "metadata": {},
   "outputs": [
    {
     "name": "stdout",
     "output_type": "stream",
     "text": [
      "[6, 5, 4, 3, 2]\n"
     ]
    }
   ],
   "source": [
    "# reverse\n",
    "l.reverse()\n",
    "print(l)"
   ]
  },
  {
   "cell_type": "markdown",
   "metadata": {},
   "source": [
    "### Finding Items"
   ]
  },
  {
   "cell_type": "code",
   "execution_count": 35,
   "metadata": {},
   "outputs": [
    {
     "name": "stdout",
     "output_type": "stream",
     "text": [
      "0\n",
      "1\n"
     ]
    }
   ],
   "source": [
    "letters = [\"a\",\"b\",\"c\"]\n",
    "print(letters.count(\"d\"))\n",
    "\n",
    "if \"b\" in letters:\n",
    "    print(letters.index(\"b\"))"
   ]
  },
  {
   "cell_type": "markdown",
   "metadata": {},
   "source": [
    "## Queue and Stack using List "
   ]
  },
  {
   "cell_type": "code",
   "execution_count": 3,
   "metadata": {},
   "outputs": [
    {
     "name": "stdout",
     "output_type": "stream",
     "text": [
      "[1, 2, 3, 4]\n",
      "[2, 3, 4]\n"
     ]
    }
   ],
   "source": [
    "# queue using list\n",
    "q = [1,2,3]\n",
    "q.append(4)\n",
    "print(q)\n",
    "q.pop(0)\n",
    "print(q)"
   ]
  },
  {
   "cell_type": "code",
   "execution_count": 4,
   "metadata": {},
   "outputs": [
    {
     "name": "stdout",
     "output_type": "stream",
     "text": [
      "[1, 2, 3, 4]\n",
      "[1, 2, 3]\n"
     ]
    }
   ],
   "source": [
    "# stack using list\n",
    "s = [1,2,3]\n",
    "s.append(4)\n",
    "print(s)\n",
    "s.pop()\n",
    "print(s)"
   ]
  },
  {
   "cell_type": "markdown",
   "metadata": {},
   "source": [
    "## 2D list "
   ]
  },
  {
   "cell_type": "markdown",
   "metadata": {},
   "source": [
    "### Creating 2D list"
   ]
  },
  {
   "cell_type": "code",
   "execution_count": 4,
   "metadata": {},
   "outputs": [
    {
     "name": "stdout",
     "output_type": "stream",
     "text": [
      "[[1, 2, 3], [4, 5, 6], [7, 8, 9]]\n",
      "[[0, 0], [0, 0]]\n"
     ]
    }
   ],
   "source": [
    "list_2d = [ [1,2,3],\n",
    "\t\t\t[4,5,6],\n",
    "\t\t\t[7,8,9]]\n",
    "print(list_2d)\n",
    "\n",
    "print([[0]*2]*2)\n",
    "\n"
   ]
  },
  {
   "cell_type": "markdown",
   "metadata": {},
   "source": [
    "#### Taking Input"
   ]
  },
  {
   "cell_type": "code",
   "execution_count": 8,
   "metadata": {},
   "outputs": [
    {
     "name": "stdout",
     "output_type": "stream",
     "text": [
      "Enter the entries rowwise:\n"
     ]
    }
   ],
   "source": [
    "\n",
    "R = int(input(\"Enter the number of rows:\"))\n",
    "C = int(input(\"Enter the number of columns:\"))\n",
    "\n",
    "matrix = []\n",
    "print(\"Enter the entries rowwise:\")\n",
    "\n",
    "# For user input\n",
    "for i in range(R):\t\t # A for loop for row entries\n",
    "\ta = []\n",
    "\tfor j in range(C):\t # A for loop for column entries\n",
    "\t\ta.append(int(input()))\n",
    "\tmatrix.append(a)"
   ]
  },
  {
   "cell_type": "markdown",
   "metadata": {},
   "source": [
    "```\n",
    "Enter the number of rows:2\n",
    "Enter the number of columns:3\n",
    "Enter the entries rowwise:\n",
    "1\n",
    "2\n",
    "3\n",
    "4\n",
    "5\n",
    "6\n",
    "\n",
    "1 2 3 \n",
    "4 5 6 \n",
    "```"
   ]
  },
  {
   "cell_type": "code",
   "execution_count": 6,
   "metadata": {},
   "outputs": [
    {
     "data": {
      "text/plain": [
       "[[1, 2], [3, 4]]"
      ]
     },
     "execution_count": 6,
     "metadata": {},
     "output_type": "execute_result"
    }
   ],
   "source": [
    "# one-liner logic to take input for rows and columns\n",
    "R = 2\n",
    "C = 2\n",
    "mat = [[int(input()) for x in range (C)] for y in range(R)]\n",
    "mat"
   ]
  },
  {
   "cell_type": "markdown",
   "metadata": {},
   "source": [
    "### Accessing 2D list"
   ]
  },
  {
   "cell_type": "code",
   "execution_count": 2,
   "metadata": {},
   "outputs": [
    {
     "name": "stdout",
     "output_type": "stream",
     "text": [
      "[[1, 2, 3], [4, 5, 6], [7, 8, 9]]\n",
      "[4, 5, 6]\n",
      "4\n"
     ]
    }
   ],
   "source": [
    "print(list_2d[1])\n",
    "print(list_2d[1][0])"
   ]
  },
  {
   "cell_type": "markdown",
   "metadata": {},
   "source": [
    "### Iterating 2D list"
   ]
  },
  {
   "cell_type": "code",
   "execution_count": 3,
   "metadata": {},
   "outputs": [
    {
     "name": "stdout",
     "output_type": "stream",
     "text": [
      "0,0: 1\n",
      "0,1: 2\n",
      "0,2: 3\n",
      "1,0: 4\n",
      "1,1: 5\n",
      "1,2: 6\n",
      "2,0: 7\n",
      "2,1: 8\n",
      "2,2: 9\n"
     ]
    }
   ],
   "source": [
    "for i,line in enumerate(list_2d):\n",
    "\tfor j,value in enumerate(line):\n",
    "\t\tprint(f\"{i},{j}: {value}\")"
   ]
  },
  {
   "cell_type": "markdown",
   "metadata": {},
   "source": [
    "### Operations on 2D list"
   ]
  },
  {
   "cell_type": "code",
   "execution_count": 22,
   "metadata": {},
   "outputs": [
    {
     "name": "stdout",
     "output_type": "stream",
     "text": [
      "[[3, 5], [4, 5]]\n",
      "5\n"
     ]
    }
   ],
   "source": [
    "A = [[1, 2],\n",
    "     [3, 4]]\n",
    "\n",
    "B = [[2, 3],\n",
    "     [1, 1]]\n",
    "\n",
    "C = [[None, None], [None, None]]\n",
    "for i in range(2):\n",
    "\tfor j in range(2):\n",
    "\t\tC[i][j] = A[i][j] + B[i][j]\n",
    "\n",
    "print(C)\n",
    "print(C[1][1])\n"
   ]
  },
  {
   "cell_type": "markdown",
   "metadata": {},
   "source": [
    "## Sorting"
   ]
  },
  {
   "cell_type": "code",
   "execution_count": 42,
   "metadata": {},
   "outputs": [
    {
     "name": "stdout",
     "output_type": "stream",
     "text": [
      "[5, 4, 3, 2, 1]\n",
      "[1, 2, 3, 4, 5]\n",
      "[5, 4, 3, 2, 1]\n",
      "['B', 'D', 'a', 'c', 'e']\n",
      "['a', 'B', 'c', 'D', 'e']\n"
     ]
    }
   ],
   "source": [
    "l=[1,2,3,4,5]\n",
    "\n",
    "l.sort(reverse=True)\n",
    "print(l)\n",
    "l.sort()\n",
    "print(l)\n",
    "\n",
    "# sorted() returns new list\n",
    "sorted_list =sorted(l,reverse=True)\n",
    "print(sorted_list)\n",
    "\n",
    "# Case-Insensitive Sorting\n",
    "l=['a','B','e','D','c']\n",
    "l.sort()\n",
    "print(l)\n",
    "l.sort(key=str.casefold)\n",
    "print(l)\n"
   ]
  },
  {
   "cell_type": "code",
   "execution_count": 40,
   "metadata": {},
   "outputs": [
    {
     "name": "stdout",
     "output_type": "stream",
     "text": [
      "[('product 2', 5), ('product 1', 10), ('product 5', 23), ('product 4', 45)]\n"
     ]
    }
   ],
   "source": [
    "items = [\n",
    "    (\"product 1\",10),\n",
    "    (\"product 2\",5),\n",
    "    (\"product 4\",45),\n",
    "    (\"product 5\",23),\n",
    "]\n",
    "\n",
    "def sorted_item(i):\n",
    "    return i[1] #return price\n",
    "\n",
    "items.sort(key=sorted_item)\n",
    "print(items)"
   ]
  },
  {
   "cell_type": "markdown",
   "metadata": {},
   "source": [
    "#### Using lembda:\n",
    "\n",
    "syntax:\n",
    "\n",
    "`lembda parameters:expression` "
   ]
  },
  {
   "cell_type": "code",
   "execution_count": 41,
   "metadata": {},
   "outputs": [
    {
     "name": "stdout",
     "output_type": "stream",
     "text": [
      "[('product 2', 5), ('product 1', 10), ('product 5', 23), ('product 4', 45)]\n"
     ]
    }
   ],
   "source": [
    "items = [\n",
    "    (\"product 1\",10),\n",
    "    (\"product 2\",5),\n",
    "    (\"product 4\",45),\n",
    "    (\"product 5\",23),\n",
    "]\n",
    "# def sorted_item(i):\n",
    "#     return i[1]\n",
    "items.sort(key=lambda i:i[1])\n",
    "print(items)"
   ]
  },
  {
   "cell_type": "markdown",
   "metadata": {},
   "source": [
    "## 🌟Map Function🌟"
   ]
  },
  {
   "cell_type": "code",
   "execution_count": 48,
   "metadata": {},
   "outputs": [
    {
     "name": "stdout",
     "output_type": "stream",
     "text": [
      "[10, 5, 45, 23]\n",
      "\n",
      "<class 'map'>\n",
      "[10, 5, 45, 23]\n"
     ]
    }
   ],
   "source": [
    "items = [\n",
    "    (\"product 1\",10),\n",
    "    (\"product 2\",5),\n",
    "    (\"product 4\",45),\n",
    "    (\"proeduct 5\",23),\n",
    "]\n",
    "# extracting price from list of tuples\n",
    "prices = []\n",
    "for item in items:\n",
    "    prices.append(item[1])\n",
    "\n",
    "print(prices)\n",
    "print()\n",
    "# using map\n",
    "prices_mapped = map(lambda item:item[1],items)\n",
    "print(type(prices_mapped))\n",
    "prices = list(prices_mapped)\n",
    "print(prices)"
   ]
  },
  {
   "cell_type": "markdown",
   "metadata": {},
   "source": [
    "## 🌟Filter Function🌟"
   ]
  },
  {
   "cell_type": "code",
   "execution_count": 54,
   "metadata": {},
   "outputs": [
    {
     "name": "stdout",
     "output_type": "stream",
     "text": [
      "[('product 1', 10), ('product 4', 45), ('proeduct 5', 23)]\n"
     ]
    }
   ],
   "source": [
    "filtered = list(filter(lambda item:item[1]>=10,items ))\n",
    "print(filtered)"
   ]
  },
  {
   "cell_type": "markdown",
   "metadata": {},
   "source": [
    "## List Comprehension🌟🌟🌟\n",
    "\n"
   ]
  },
  {
   "cell_type": "markdown",
   "metadata": {},
   "source": [
    "`[expression for item in list]`\n",
    "\n",
    "```python\n",
    "letters = list(map(lambda x: x, 'human'))\n",
    "print(letters) # ['h','u','m','a','n']\n",
    "\n",
    "```"
   ]
  },
  {
   "cell_type": "code",
   "execution_count": 6,
   "metadata": {},
   "outputs": [
    {
     "name": "stdout",
     "output_type": "stream",
     "text": [
      "[1, 4, 9, 16, 25, 36]\n",
      "[1, 16, 81, 256, 625, 1296]\n"
     ]
    }
   ],
   "source": [
    "l = [1,2,3,4,5,6]\n",
    "# creating a new list of squares of each element\n",
    "new_l = []\n",
    "for el in l:\n",
    "    new_l.append(el**2)\n",
    "\n",
    "print(new_l)\n",
    "\n",
    "# With List Comprehension:\n",
    "\n",
    "new_l = [el**2 for el in new_l] # [(What to Store ) for each element of list]\n",
    "print(new_l)\n"
   ]
  },
  {
   "cell_type": "markdown",
   "metadata": {},
   "source": [
    "### We can also add an if condition"
   ]
  },
  {
   "cell_type": "code",
   "execution_count": 12,
   "metadata": {},
   "outputs": [
    {
     "name": "stdout",
     "output_type": "stream",
     "text": [
      "[2, 4, 6, 8]\n",
      "[4, 16, 36, 64]\n",
      "[1, 4, 27, 16, 125, 36, 343, 64]\n",
      "\n",
      "['A', 'B', 'C']\n"
     ]
    }
   ],
   "source": [
    "l =[1,2,3,4,5,6,7,8]\n",
    "# filtering even elements\n",
    "filtered = [i for i in l if i % 2==0]\n",
    "print(filtered)\n",
    "# for i in l:\n",
    "# \tif(i%2==0):\n",
    "# \t\tprint(i)\n",
    "\n",
    "# (If you're familiar with SQL, you might think of this as being like a \"WHERE\" clause)\n",
    "\n",
    "filtered = [i**2 for i in l if i % 2 == 0]\n",
    "print(filtered)\n",
    "# new_l=[]\n",
    "# for i in l:\n",
    "# \tif(i%2==0):\n",
    "# \t\tnew_l.append(i**2)\n",
    "\n",
    "# VS->\n",
    "# else block in this case is must\n",
    "filtered = [i**2 if i % 2 == 0 else i**3 for i in l] \n",
    "print(filtered)\n",
    "# new_l=[]\n",
    "# for i in l:\n",
    "# \tif(i%2==0):\n",
    "# \t\tnew_l.append(i**2)\n",
    "# \telse:\n",
    "# \t\tnew_l.append(i**3)\n",
    "\n",
    "print()\n",
    "# removing empty string from the list\n",
    "l =[\"\",\"A\",\"\",\"B\",\"\",\"C\"]\n",
    "removed = [i for i in l if i]\n",
    "print(removed) \n"
   ]
  },
  {
   "cell_type": "markdown",
   "metadata": {},
   "source": [
    "### Using with String"
   ]
  },
  {
   "cell_type": "code",
   "execution_count": 6,
   "metadata": {},
   "outputs": [
    {
     "name": "stdout",
     "output_type": "stream",
     "text": [
      "[['maNgo'], ['BanAna'], ['PytHoN', 'iS', 'Love'], ['Cat', 'iS', 'not', 'doG']]\n",
      "['maNgo', 'BanAna', 'PytHoN', 'iS', 'Love', 'Cat', 'iS', 'not', 'doG']\n",
      "['Mango', 'Banana', 'Python', 'Is', 'Love', 'Cat', 'Is', 'Not', 'Dog']\n"
     ]
    }
   ],
   "source": [
    "\n",
    "list_string = ['maNgo', 'BanAna', 'PytHoN iS Love', 'Cat iS not doG']\n",
    "\n",
    "# make the list of string to list of list of words\n",
    "list_of_list = [sentence.split() for sentence in list_string]\n",
    "print(list_of_list)\n",
    "\n",
    "words = sum(list_of_list, [])  # make the list of list to a single list\n",
    "print(words)  # print the list of word\n",
    "\n",
    "# modify the case\n",
    "correct_case = [str.upper(word[0])+str.lower(word[1:]) for word in words if len(word) > 1]\n",
    "\n",
    "# print the list of word with desired case\n",
    "print(correct_case)"
   ]
  },
  {
   "cell_type": "markdown",
   "metadata": {},
   "source": [
    "### Making Nested List Comprehension\n",
    "\n",
    "However, you can also use nested List comprehension. That means, you can use a list comprehension inside another list comprehension. For example, the previous example code can be written shorter using nested Python list Comprehension. Like this,"
   ]
  },
  {
   "cell_type": "code",
   "execution_count": 7,
   "metadata": {},
   "outputs": [
    {
     "name": "stdout",
     "output_type": "stream",
     "text": [
      "['Mango', 'Banana', 'Python', 'Is', 'Love', 'Cat', 'Is', 'Not', 'Dog']\n"
     ]
    }
   ],
   "source": [
    "\n",
    "list_string = ['maNgo', 'BanAna', 'PytHoN iS Love', 'Cat iS not doG']\n",
    "\n",
    "correct_case = [str.upper(word[0])+str.lower(word[1:])\n",
    "                for word in sum([sentence.split() for sentence in list_string], [])\n",
    "                if len(word) > 1]\n",
    "\n",
    "# print the list of word with desired case\n",
    "print(correct_case)"
   ]
  },
  {
   "cell_type": "markdown",
   "metadata": {},
   "source": [
    "### Replacing Map and Filter function with list comprehension"
   ]
  },
  {
   "cell_type": "code",
   "execution_count": 3,
   "metadata": {},
   "outputs": [
    {
     "name": "stdout",
     "output_type": "stream",
     "text": [
      "[10, 5, 45, 23]\n",
      "[('product 1', 10), ('product 4', 45), ('proeduct 5', 23)]\n"
     ]
    }
   ],
   "source": [
    "items = [\n",
    "    (\"product 1\",10),\n",
    "    (\"product 2\",5),\n",
    "    (\"product 4\",45),\n",
    "    (\"proeduct 5\",23),\n",
    "]\n",
    "\n",
    "# prices = list(map(lambda item:item[1],items))\n",
    "prices = [item[1] for item in items]\n",
    "# filtered = list(filter(lambda item:item[1]>=10,items ))\n",
    "filtered = [item for item in items if item[1] >= 10]\n",
    "\n",
    "\n",
    "print(prices)\n",
    "print(filtered)"
   ]
  },
  {
   "cell_type": "markdown",
   "metadata": {},
   "source": [
    "### Difference between Generator Expressions and List Comprehensions\n",
    "\n",
    "**What are Generator Expressions?**\n",
    "\n",
    "Generator Expressions are somewhat similar to list comprehensions, but the former doesn’t construct list object. Instead of creating a list and keeping the whole sequence in the memory, the generator generates the next element in demand.\n",
    "When a normal function with a return statement is called, it **terminates** whenever it gets a return statement. But a function with a yield statement **saves the state of the function and can be picked up from the same state, next time the function is called.**\n",
    "\n",
    "The Generator Expression allows us to create a generator _without the yield keyword._without\n"
   ]
  },
  {
   "cell_type": "code",
   "execution_count": 1,
   "metadata": {},
   "outputs": [
    {
     "name": "stdout",
     "output_type": "stream",
     "text": [
      "[0, 2, 4, 6, 8, 10]\n",
      "<generator object <genexpr> at 0x00000242AFC14C80>\n",
      "0 2 4 6 8 10 "
     ]
    }
   ],
   "source": [
    "# List Comprehension\n",
    "list_comprehension = [i for i in range(11) if i % 2 == 0]\n",
    "  \n",
    "print(list_comprehension)\n",
    "\n",
    "# Generator Expression\n",
    "generator_expression = (i for i in range(11) if i % 2 == 0)\n",
    "print(generator_expression)\n",
    "for i in generator_expression:\n",
    "    print(i, end=\" \")"
   ]
  },
  {
   "cell_type": "markdown",
   "metadata": {},
   "source": [
    "**So what’s the difference between Generator Expressions and List Comprehensions?**\n",
    "\n",
    "The generator yields one item at a time and generates item only when in demand. Whereas, in a list comprehension, Python reserves memory for the whole list. Thus we can say that the generator expressions are memory efficient than the lists. Generator expressions are also faster than list comprehension and hence time efficient."
   ]
  },
  {
   "cell_type": "code",
   "execution_count": 6,
   "metadata": {},
   "outputs": [
    {
     "name": "stdout",
     "output_type": "stream",
     "text": [
      "x =  87616\n",
      "y =  112\n"
     ]
    }
   ],
   "source": [
    "# import getsizeof from sys module\n",
    "from sys import getsizeof\n",
    "  \n",
    "comp = [i for i in range(10000)]\n",
    "gen = (i for i in range(10000))\n",
    "  \n",
    "#gives size for list comprehension\n",
    "x = getsizeof(comp) \n",
    "print(\"x = \", x)\n",
    "  \n",
    "#gives size for generator expression\n",
    "y = getsizeof(gen) \n",
    "print(\"y = \", y)"
   ]
  },
  {
   "cell_type": "markdown",
   "metadata": {},
   "source": [
    "## Zip Function"
   ]
  },
  {
   "cell_type": "code",
   "execution_count": 57,
   "metadata": {},
   "outputs": [
    {
     "name": "stdout",
     "output_type": "stream",
     "text": [
      "[(1, 10), (2, 20), (3, 30)]\n",
      "[('a', 1, 10), ('b', 2, 20), ('c', 3, 30)]\n"
     ]
    }
   ],
   "source": [
    "l1 = [1,2,3]\n",
    "l2= [10,20,30]\n",
    "\n",
    "print(list(zip(l1,l2)))\n",
    "print(list(zip(\"abc\",l1,l2)))"
   ]
  },
  {
   "cell_type": "markdown",
   "metadata": {},
   "source": [
    "## Examples"
   ]
  },
  {
   "cell_type": "markdown",
   "metadata": {},
   "source": [
    "### ex1\n",
    "\n"
   ]
  },
  {
   "cell_type": "markdown",
   "metadata": {},
   "source": [
    "`R` and `Python` have some libraries (like `numpy` and `pandas`) compare each element of the list to a number (i.e. do an 'element-wise' comparison) and give us a list of booleans like `[False, False, True, True]`."
   ]
  },
  {
   "cell_type": "code",
   "execution_count": 8,
   "metadata": {},
   "outputs": [
    {
     "name": "stdout",
     "output_type": "stream",
     "text": [
      "[False, False, True, True]\n",
      "[False, False, True, True]\n",
      "[False, False, True, True]\n"
     ]
    }
   ],
   "source": [
    "L=[1,2,3,4]\n",
    "l = []\n",
    "for num in L:\n",
    "    if num > 2:\n",
    "        l.append(True)\n",
    "    else:\n",
    "        l.append(False)\n",
    "\n",
    "print(l)\n",
    "\n",
    "l=[]\n",
    "for ele in L:\n",
    "    l.append(ele > 2)\n",
    "print(l)\n",
    "\n",
    "l = [ele > 2 for ele in L]\n",
    "print(l)"
   ]
  },
  {
   "cell_type": "markdown",
   "metadata": {},
   "source": [
    "### Ex2"
   ]
  },
  {
   "cell_type": "code",
   "execution_count": 19,
   "metadata": {},
   "outputs": [
    {
     "name": "stdout",
     "output_type": "stream",
     "text": [
      "Please add options from the list below:\n",
      "1:Java\n",
      "2:C\n",
      "3:C++\n",
      "4:Kotlin\n",
      "5:TypeScript\n",
      "\n",
      "Adding 1\n",
      "Adding 1\n",
      "Adding 2\n",
      "Adding 3\n",
      "Selected Language: ['Java', 'Java', 'C', 'C++']\n"
     ]
    }
   ],
   "source": [
    "op =\"xx\"\n",
    "lan = []\n",
    "\n",
    "while op !='0':\n",
    "    if op in \"12345\":\n",
    "        print(f\"Adding {op}\")\n",
    "        if op == '1':\n",
    "            lan.append(\"Java\")\n",
    "        elif op =='2':\n",
    "            lan.append(\"C\")\n",
    "        elif op =='3':\n",
    "            lan.append(\"C++\")\n",
    "        elif op =='4':\n",
    "            lan.append(\"Kotlin\")\n",
    "        elif op =='5':\n",
    "            lan.append(\"TypeScript\")\n",
    "    else:\n",
    "        print(\"Please add options from the list below:\")\n",
    "        print(\"1:Java\")\n",
    "        print(\"2:C\")\n",
    "        print(\"3:C++\")\n",
    "        print(\"4:Kotlin\")\n",
    "        print(\"5:TypeScript\")\n",
    "        print()\n",
    "    \n",
    "    op = input()\n",
    "\n",
    "print(f\"Selected Language: {lan}\")\n",
    "      "
   ]
  },
  {
   "cell_type": "markdown",
   "metadata": {},
   "source": [
    "### List to String vice-versa"
   ]
  },
  {
   "cell_type": "code",
   "execution_count": 21,
   "metadata": {},
   "outputs": [
    {
     "name": "stdout",
     "output_type": "stream",
     "text": [
      "12345\n",
      "01/31/1956\n"
     ]
    }
   ],
   "source": [
    "digits=[\"1\",\"2\",\"3\",\"4\",\"5\"]\n",
    "s=\"\".join(digits)\n",
    "print(s)\n",
    "\n",
    "datestr = '1956-01-31'\n",
    "year, month, day = datestr.split('-')\n",
    "s='/'.join([month, day, year])\n",
    "print(s)"
   ]
  },
  {
   "cell_type": "code",
   "execution_count": 18,
   "metadata": {},
   "outputs": [
    {
     "name": "stdout",
     "output_type": "stream",
     "text": [
      "12345x\n",
      "\n",
      "['1', '2', '3', '4', '5']\n"
     ]
    }
   ],
   "source": [
    "zip_code=\"12345x\"\n",
    "digits = [digit for digit in zip_code if digit.isdigit()]\n",
    "print(zip_code)\n",
    "print()\n",
    "print(digits)\n"
   ]
  },
  {
   "cell_type": "markdown",
   "metadata": {},
   "source": [
    "### ex 3"
   ]
  },
  {
   "cell_type": "markdown",
   "metadata": {},
   "source": [
    "A researcher has gathered thousands of news articles. But she wants to focus her attention on articles including a specific word. Complete the function below to help her filter her list of articles.\n",
    "\n",
    "Your function should meet the following criteria:\n",
    "\n",
    "- Do not include documents where the keyword string shows up only as a part of a larger word. For example, if she were looking for the keyword “closed”, you would not include the string “enclosed.”\n",
    "- She does not want you to distinguish upper case from lower case letters. So the phrase “Closed the case.” would be included when the keyword is “closed”\n",
    "- Do not let periods or commas affect what is matched. “It is closed.” would be included when the keyword is “closed”. But you can assume there are no other types of punctuation."
   ]
  },
  {
   "cell_type": "code",
   "execution_count": 53,
   "metadata": {},
   "outputs": [
    {
     "name": "stdout",
     "output_type": "stream",
     "text": [
      "['The', 'Learn', 'Python', 'Challenge', 'Casino']\n",
      "['the', 'learn', 'python', 'challenge', 'casino']\n",
      "\n",
      "['They', 'bought', 'a', 'car,', 'and', 'a', 'horse']\n",
      "['they', 'bought', 'a', 'car', 'and', 'a', 'horse']\n",
      "\n",
      "['Casinoville?']\n",
      "['casinoville']\n",
      "\n",
      "['He', 'bought', 'a', 'casino.', \"That's\", 'crazy.']\n",
      "['he', 'bought', 'a', 'casino', \"that's\", 'crazy']\n",
      "\n",
      "found at : [0, 3]\n",
      "{'casino': 3}\n"
     ]
    }
   ],
   "source": [
    "doc_list = ['The Learn Python Challenge Casino', 'They bought a car, and a horse',\n",
    "            'Casinoville?', \"He bought a casino. That's crazy.\"]\n",
    "  # list to hold the indices of matching documents\n",
    "keyword = \"casino\"\n",
    "indeces=[]\n",
    "keyword_to_indices = {}\n",
    "\n",
    "# Iterate through the indices (i) and elements (doc) of documents\n",
    "for i,doc in enumerate(doc_list):\n",
    "\ttokens = doc.split()\n",
    "\tprint([token for token in tokens])\n",
    "\tnormalized = [token.rstrip('.,?').lower() for token in tokens]\n",
    "\tprint(normalized)\n",
    "\tprint()\n",
    "\tif keyword.lower() in normalized:\n",
    "\t\tindeces.append(i)\n",
    "\t\tkeyword_to_indices[keyword] = i\n",
    "\n",
    "print(\"found at : \"+str(indeces))\n",
    "print(keyword_to_indices)\n"
   ]
  },
  {
   "cell_type": "markdown",
   "metadata": {},
   "source": [
    "### ex4 - Rotation of a List\n",
    "\n"
   ]
  },
  {
   "cell_type": "code",
   "execution_count": 10,
   "metadata": {},
   "outputs": [
    {
     "name": "stdout",
     "output_type": "stream",
     "text": [
      "[9, 3, 5, 2, 7, 8]\n"
     ]
    }
   ],
   "source": [
    "lst = [3,5,2,7,8,9]\n",
    "steps=4\n",
    "n=len(lst)\n",
    "\n",
    "key=lst[-1]\n",
    "\n",
    "for i in range(n-1, 0, -1):  # range(start, stop[, step])\n",
    "\tlst[i] = lst[i-1]\n",
    "\n",
    "lst[0]=key\n",
    "print(lst)"
   ]
  },
  {
   "cell_type": "markdown",
   "metadata": {},
   "source": [
    "### EX: 🌟Lo Shu Magic Square "
   ]
  },
  {
   "cell_type": "markdown",
   "metadata": {},
   "source": [
    "The Lo Shu Magic Square is a grid with 3 rows and 3 columns.The Lo Shu Magic Square has the following properties:\n",
    "\n",
    "1. The grid contains the numbers 1 through 9 exactly.\n",
    "2. The sum of each row, each column, and each diagonal all add up to the same number.\n",
    "\n",
    "<div align=\"center\">\n",
    "<img src=\"img/phpEUzytT.png\" alt=\"phpEUzytT.png\" width=\"300px\">\n",
    "</div>"
   ]
  },
  {
   "cell_type": "code",
   "execution_count": 17,
   "metadata": {},
   "outputs": [
    {
     "name": "stdout",
     "output_type": "stream",
     "text": [
      "Square is Magic and is Lo Shu\n",
      "\n"
     ]
    }
   ],
   "source": [
    "# Array dimensions\n",
    "N = 3\n",
    "\n",
    "# Directions\n",
    "HORIZONTAL = \"HORIZONTAL\"\n",
    "VERTICAL = \"VERTICAL\"\n",
    "DIAGONAL = \"DIAGONAL\"\n",
    "\n",
    "# use this array to bypass user input when testing\n",
    "SQUARE = [[4, 9, 2],\n",
    "          [3, 5, 7],\n",
    "          [8, 1, 6]]\n",
    "\n",
    "\n",
    "# Horizontal, Vertical and Diagonal summing\n",
    "def universal_sum(square, direction):\n",
    "    diagonal_1 = 0\n",
    "    diagonal_2 = 0\n",
    "    row_sum = 0\n",
    "    u_sum = []\n",
    "    for x in range(N):\n",
    "        if direction == DIAGONAL:\n",
    "            diagonal_1 += square[x][x]\n",
    "            diagonal_2 += square[x][N - (x + 1)]\n",
    "        for y in range(N):\n",
    "            if direction == HORIZONTAL:\n",
    "                row_sum += square[x][y]\n",
    "            elif direction == VERTICAL:\n",
    "                row_sum += square[y][x]\n",
    "        u_sum.append(row_sum)\n",
    "        row_sum = 0\n",
    "    if direction == DIAGONAL:\n",
    "        return [diagonal_1, diagonal_2]\n",
    "    return u_sum\n",
    "\n",
    "\n",
    "# check if sums are equal in horizontal, vertical\n",
    "# and diagonal arrays\n",
    "def check_equal(iterator):\n",
    "    return len(set(iterator)) <= 1\n",
    "\n",
    "\n",
    "# method to find duplicates for lo shu condition\n",
    "def find_repeat(square):\n",
    "    seen = set()\n",
    "    for x in range(N):\n",
    "        for y in range(N):\n",
    "            if square[x][y] in seen:\n",
    "                return 0\n",
    "            seen.add(square[x][y])\n",
    "    return 1\n",
    "\n",
    "\n",
    "# lo shu checks\n",
    "def is_lo_shu(square):\n",
    "    for row in square:\n",
    "        for element in row:\n",
    "            if element >= 10:\n",
    "                return 0\n",
    "\n",
    "    if sum(universal_sum(square, HORIZONTAL)) == 45:\n",
    "        if sum(universal_sum(square, VERTICAL)) == 45:\n",
    "            if sum(universal_sum(square, DIAGONAL)) == 30:\n",
    "                if find_repeat(square) == 1:\n",
    "                    return 1\n",
    "    return 0\n",
    "\n",
    "\n",
    "# get user input and return 2d array\n",
    "def getuserinput():\n",
    "    square = []\n",
    "    i = 1\n",
    "    for x in range(N):\n",
    "        row_list = []\n",
    "        for y in range(N):\n",
    "            print(\"Enter number\", i, \"[\", x, \"][\", y, \"]: \", end=\"\")\n",
    "            row_list.append(int(input(), 10))\n",
    "            i += 1\n",
    "        square.append(row_list)\n",
    "    return square\n",
    "\n",
    "\n",
    "def check_square(square):\n",
    "    if check_equal(universal_sum(square, HORIZONTAL)) and check_equal(universal_sum(square, VERTICAL)) and check_equal(\n",
    "            universal_sum(square, DIAGONAL)):\n",
    "        is_magic = 1\n",
    "    else:\n",
    "        is_magic = 0\n",
    "\n",
    "    if is_lo_shu(square):\n",
    "        is_loshu = 1\n",
    "    else:\n",
    "        is_loshu = 0\n",
    "\n",
    "    if is_magic and is_loshu:\n",
    "        print(\"Square is Magic and is Lo Shu\\n\")\n",
    "        return\n",
    "    elif is_magic and not is_loshu:\n",
    "        print(\"Square is Magic, but not Lo Shu\\n\")\n",
    "        return\n",
    "    elif not is_magic:\n",
    "        print(\"Square is not Magic\\n\")\n",
    "        return\n",
    "\n",
    "\n",
    "def main():\n",
    "    # while 1:\n",
    "        # square = getuserinput()\n",
    "        \n",
    "        check_square(SQUARE)\n",
    "        # repeat = input('Do you wish to enter a new square? (y/n)')\n",
    "        # if \"n\" in repeat:\n",
    "        #     break\n",
    "    # print(\"Bye!\")\n",
    "\n",
    "\n",
    "main()\n"
   ]
  },
  {
   "cell_type": "markdown",
   "metadata": {},
   "source": [
    "### ex: 🌟 Breath First Search (CLRS) 🌟"
   ]
  },
  {
   "cell_type": "markdown",
   "metadata": {},
   "source": [
    "<div align=\"center\">\n",
    "<img src=\"img/BFS_cormen_stepbystep_process.png\" alt=\"BFS_cormen_stepbystep_process.png\" width=\"800px\">\n",
    "</div>\n",
    "\n",
    "Algorithm:\n",
    "\n",
    "<div align=\"center\">\n",
    "<img src=\"img/BFS_cormen.png\" alt=\"BFS_cormen.png\" width=\"700px\">\n",
    "</div>\n"
   ]
  },
  {
   "cell_type": "code",
   "execution_count": 15,
   "metadata": {},
   "outputs": [
    {
     "name": "stdout",
     "output_type": "stream",
     "text": [
      "v ->r\n",
      "r ->vs\n",
      "s ->rw\n",
      "w ->stx\n",
      "t ->wux\n",
      "u ->txy\n",
      "x ->wtuy\n",
      "y ->ux\n"
     ]
    }
   ],
   "source": [
    "nodes = [\"v\", \"r\", \"s\", \"w\", \"t\", \"u\", \"x\", \"y\"]\n",
    "AdjMatrix = [\n",
    "  #  v  r  s  w  t  u  x  y\n",
    "    [0, 1, 0, 0, 0, 0, 0, 0], # v\n",
    "\t[1, 0, 1, 0, 0, 0, 0, 0], # r\n",
    "    [0, 1, 0, 1, 0, 0, 0, 0], # s\n",
    "    [0, 0, 1, 0, 1, 0, 1, 0], # w\n",
    "    [0, 0, 0, 1, 0, 1, 1, 0], # t\n",
    "    [0, 0, 0, 0, 1, 0, 1, 1], # u\n",
    "    [0, 0, 0, 1, 1, 1, 0, 1], # x\n",
    " \t[0, 0, 0, 0, 0, 1, 1, 0]  # y\n",
    "]\n",
    "for i, r in enumerate(AdjMatrix):\n",
    "\tprint(f\"{nodes[i]} ->\", end=\"\")\n",
    "\tfor j, c in enumerate(r):\n",
    "\t\tif(c == 1):\n",
    "\t\t\tprint(nodes[j], end=\"\")\n",
    "\tprint()\n"
   ]
  },
  {
   "cell_type": "code",
   "execution_count": 5,
   "metadata": {},
   "outputs": [],
   "source": [
    "queue = []\n",
    "visited = []\n",
    "colour = [0] * 8\n",
    "d = [0] * 8\n",
    "p = [None] * 8\n",
    "start = 2\n",
    "colour[start] = 1\n",
    "queue.append(start)\n",
    "while queue:\n",
    "\t# print(f\"Q: {queue}\")\n",
    "\tcurrent_node = queue.pop(0)\n",
    "\t# print(f\"Currently Visiting: {nodes[current_node]}\")\n",
    "\tvisited.append(current_node)\n",
    "\t# print(AdjMatrix[current_node])\n",
    "\tfor i, child_of_current in enumerate(AdjMatrix[current_node]):\n",
    "\t\tif child_of_current == 1:\n",
    "\t\t\t# print(f\"{nodes[i]} \",end=\"\")\n",
    "\t\t\tif colour[i] == 0:\n",
    "\t\t\t\tcolour[i] = 1\n",
    "\t\t\t\tqueue.append(i)\n",
    "\t\t\t\td[i] = d[current_node] + 1\n",
    "\t\t\t\tp[i] = current_node\n",
    "\n",
    "\tcolour[current_node] = 2\n"
   ]
  },
  {
   "cell_type": "code",
   "execution_count": 6,
   "metadata": {},
   "outputs": [
    {
     "name": "stdout",
     "output_type": "stream",
     "text": [
      "\n",
      "Nodes: v r s w t u x y \n",
      "Color: B B B B B B B B \n",
      "Dist.: 2 1 0 1 2 3 2 3 \n",
      "Prev.: r s - s w t w x \n"
     ]
    }
   ],
   "source": [
    "def PrintTable():\n",
    "\tprint()\n",
    "\tprint(\"Nodes: \", end=\"\")\n",
    "\tfor i, node in enumerate(nodes):\n",
    "\t\tprint(f\"{node} \", end=\"\")\n",
    "\tprint()\n",
    "\tprint(\"Color: \", end=\"\")\n",
    "\tfor c in colour:\n",
    "\t\tif c == 0:\n",
    "\t\t\tprint(f\"W \", end=\"\")\n",
    "\t\telif c == 1:\n",
    "\t\t\tprint(f\"G \", end=\"\")\n",
    "\t\telse:\n",
    "\t\t\tprint(f\"B \", end=\"\")\n",
    "\tprint()\n",
    "\tprint(\"Dist.: \", end=\"\")\n",
    "\tfor i in d:\n",
    "\t\tprint(f\"{i} \", end=\"\")\n",
    "\tprint()\n",
    "\tprint(\"Prev.: \", end=\"\")\n",
    "\tfor i, node in enumerate(nodes):\n",
    "\t\tif p[i] is not None:\n",
    "\t\t\tprint(f\"{nodes[p[i]]} \", end=\"\")\n",
    "\t\telse:\n",
    "\t\t\tprint(\"- \", end=\"\")\n",
    "\tprint()\n",
    "\n",
    "PrintTable()"
   ]
  },
  {
   "cell_type": "markdown",
   "metadata": {},
   "source": [
    "<div align=\"center\">\n",
    "<img src=\"img/bfs.jpg\" alt=\"bfs.gif\" width=\"600px\">\n",
    "</div>"
   ]
  },
  {
   "cell_type": "markdown",
   "metadata": {},
   "source": [
    "Printing Step By Step:"
   ]
  },
  {
   "cell_type": "code",
   "execution_count": 8,
   "metadata": {},
   "outputs": [],
   "source": [
    "queue = []\n",
    "visited = []\n",
    "colour = [0] * 8\n",
    "d = [0] * 8\n",
    "p = [None] * 8\n",
    "start = 2\n",
    "colour[start] = 1\n",
    "queue.append(start)\n",
    "while queue:\n",
    "\tcurrent_node = queue.pop(0)\n",
    "\tvisited.append(current_node)\n",
    "\tfor i, child_of_current in enumerate(AdjMatrix[current_node]):\n",
    "\t\tif child_of_current == 1:\n",
    "\t\t\tif colour[i] == 0:\n",
    "\t\t\t\tcolour[i] = 1\n",
    "\t\t\t\tqueue.append(i)\n",
    "\t\t\t\td[i] = d[current_node] + 1\n",
    "\t\t\t\tp[i] = current_node\n",
    "\n",
    "\tcolour[current_node] = 2\n",
    "\tPrintTable()"
   ]
  },
  {
   "cell_type": "markdown",
   "metadata": {},
   "source": [
    "With Weighted Cost:"
   ]
  },
  {
   "cell_type": "markdown",
   "metadata": {},
   "source": [
    "<div align=\"center\">\n",
    "<img src=\"img/bfswc.jpg\" alt=\"bfswc.jpg\" width=\"500px\">\n",
    "</div>"
   ]
  },
  {
   "cell_type": "code",
   "execution_count": 18,
   "metadata": {},
   "outputs": [
    {
     "name": "stdout",
     "output_type": "stream",
     "text": [
      "A ->E(5) H(2) \n",
      "E ->H(8) F(20) \n",
      "H ->F(3) C(5) \n",
      "F ->C(1) \n",
      "C ->\n"
     ]
    }
   ],
   "source": [
    "nodes = [\"A\", \"E\", \"H\", \"F\", \"C\"]\n",
    "AdjMatrix = [\n",
    "  #  A  E  H  F  C \n",
    "    [0, 1, 1, 0, 0], # A\n",
    "\t[0, 0, 1, 1, 0], # E\n",
    "    [0, 0, 0, 1, 1], # H\n",
    "    [0, 0, 0, 0, 1], # F\n",
    "    [0, 0, 0, 0, 0]  # C\n",
    "]\n",
    "cost = [\n",
    "  #  A  E  H  F  C\n",
    "    [0, 5, 2, 0, 0],   # A\n",
    "   \t[0, 0, 8, 20, 0],  # E\n",
    "    [0, 0, 0, 3, 5],   # H\n",
    "    [0, 0, 0, 0, 1],   # F\n",
    "    [0, 0, 0, 0, 0]    # C\n",
    "]\n",
    "\n",
    "for i, r in enumerate(AdjMatrix):\n",
    "\tprint(f\"{nodes[i]} ->\", end=\"\")\n",
    "\tfor j, c in enumerate(r):\n",
    "\t\tif(c == 1):\n",
    "\t\t\tprint(nodes[j], end=\"\")\n",
    "\t\t\tprint(f\"({cost[i][j]}) \", end=\"\")\n",
    "\tprint()\n"
   ]
  },
  {
   "cell_type": "code",
   "execution_count": 23,
   "metadata": {},
   "outputs": [
    {
     "name": "stdout",
     "output_type": "stream",
     "text": [
      "\n",
      "Nodes: A E H F C \n",
      "Color: B B B B B \n",
      "Dist.: 0 5 2 25 7 \n",
      "Prev.: - A A E H \n"
     ]
    }
   ],
   "source": [
    "queue = []\n",
    "visited = []\n",
    "colour = [0] * 5\n",
    "d = [0] * 5\n",
    "p = [None] * 5\n",
    "start = 0\n",
    "colour[start] = 1\n",
    "queue.append(start)\n",
    "while queue:\n",
    "\tcurrent_node = queue.pop(0)\n",
    "\tvisited.append(current_node)\n",
    "\tfor i, child_of_current in enumerate(AdjMatrix[current_node]):\n",
    "\t\tif child_of_current == 1:\n",
    "\t\t\tif colour[i] == 0:\n",
    "\t\t\t\tcolour[i] = 1\n",
    "\t\t\t\tqueue.append(i)\n",
    "\t\t\t\td[i] = d[current_node] + cost[current_node][i]\n",
    "\t\t\t\tp[i] = current_node\n",
    "\n",
    "\tcolour[current_node] = 2\n",
    "\tPrintTable()"
   ]
  }
 ],
 "metadata": {
  "interpreter": {
   "hash": "b3ba2566441a7c06988d0923437866b63cedc61552a5af99d1f4fb67d367b25f"
  },
  "kernelspec": {
   "display_name": "Python 3.8.10 64-bit ('base': conda)",
   "name": "python3"
  },
  "language_info": {
   "codemirror_mode": {
    "name": "ipython",
    "version": 3
   },
   "file_extension": ".py",
   "mimetype": "text/x-python",
   "name": "python",
   "nbconvert_exporter": "python",
   "pygments_lexer": "ipython3",
   "version": "3.8.8"
  },
  "orig_nbformat": 2
 },
 "nbformat": 4,
 "nbformat_minor": 2
}
