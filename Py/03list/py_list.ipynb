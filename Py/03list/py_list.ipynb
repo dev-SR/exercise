{
 "metadata": {
  "language_info": {
   "codemirror_mode": {
    "name": "ipython",
    "version": 3
   },
   "file_extension": ".py",
   "mimetype": "text/x-python",
   "name": "python",
   "nbconvert_exporter": "python",
   "pygments_lexer": "ipython3",
   "version": "3.8.8"
  },
  "orig_nbformat": 2,
  "kernelspec": {
   "name": "python3",
   "display_name": "Python 3.8.8 64-bit ('base': conda)"
  },
  "interpreter": {
   "hash": "b3ba2566441a7c06988d0923437866b63cedc61552a5af99d1f4fb67d367b25f"
  }
 },
 "nbformat": 4,
 "nbformat_minor": 2,
 "cells": [
  {
   "cell_type": "markdown",
   "source": [
    "# LIST\n",
    "\n"
   ],
   "metadata": {}
  },
  {
   "cell_type": "markdown",
   "source": [
    "## Example"
   ],
   "metadata": {}
  },
  {
   "cell_type": "code",
   "execution_count": 15,
   "source": [
    "# ex\r\n",
    "print(list(range(10)))\r\n",
    "print([i**2 for i in range(20) if i % 2 == 0])"
   ],
   "outputs": [
    {
     "output_type": "stream",
     "name": "stdout",
     "text": [
      "[0, 1, 2, 3, 4, 5, 6, 7, 8, 9]\n",
      "[0, 4, 16, 36, 64, 100, 144, 196, 256, 324]\n"
     ]
    }
   ],
   "metadata": {}
  },
  {
   "cell_type": "markdown",
   "source": [
    "## Indexing/Slicing of List works same as String"
   ],
   "metadata": {}
  },
  {
   "cell_type": "code",
   "execution_count": 14,
   "source": [
    "\r\n",
    "l = [1,2,3,4,5,6]\r\n",
    "\r\n",
    "print(l[0])\r\n",
    "print(l[-1])\r\n",
    "print(l[1:-1])\r\n",
    "print(l[::2])\r\n",
    "# because of mutable property\r\n",
    "l[0] = 5\r\n",
    "print(l)"
   ],
   "outputs": [
    {
     "output_type": "stream",
     "name": "stdout",
     "text": [
      "1\n",
      "6\n",
      "[2, 3, 4, 5]\n",
      "[1, 3, 5]\n",
      "[5, 2, 3, 4, 5, 6]\n"
     ]
    }
   ],
   "metadata": {}
  },
  {
   "cell_type": "markdown",
   "source": [
    "## Unpacking Operator"
   ],
   "metadata": {}
  },
  {
   "cell_type": "code",
   "execution_count": 10,
   "source": [
    "# rest equivalent\n",
    "n = list(range(5))\n",
    "first,second,*other =n\n",
    "\n",
    "print(first)\n",
    "print(second)\n",
    "print(other)\n",
    "\n",
    "print()\n",
    "first,*other,last =n\n",
    "\n",
    "print(first)\n",
    "print(last)\n",
    "print(other)\n",
    "\n",
    "print()\n",
    "n = [*range(5),*\"Hello\"]\n",
    "print(n)"
   ],
   "outputs": [
    {
     "output_type": "stream",
     "name": "stdout",
     "text": [
      "0\n",
      "1\n",
      "[2, 3, 4]\n",
      "\n",
      "0\n",
      "4\n",
      "[1, 2, 3]\n",
      "\n",
      "[0, 1, 2, 3, 4, 'H', 'e', 'l', 'l', 'o']\n"
     ]
    }
   ],
   "metadata": {}
  },
  {
   "cell_type": "markdown",
   "source": [
    "## iteration"
   ],
   "metadata": {}
  },
  {
   "cell_type": "code",
   "execution_count": 31,
   "source": [
    "programming_lan= [\"Java\",\"C\",\"C++\",\"Kotlin\",\"TypeScript\"]\n",
    "\n",
    "# List Membership Test\n",
    "v = \"C\" in programming_lan\n",
    "print(v)\n",
    "\n",
    "# looping\n",
    "for lan in programming_lan:\n",
    "    print(lan)\n",
    "\n",
    "print()\n",
    "\n",
    "# looping with enumerate()\n",
    "for lan in enumerate(programming_lan):\n",
    "    print(lan)\n",
    "\n",
    "print()\n",
    "# also returns each item with its index postion.\n",
    "for i,v in enumerate(programming_lan):\n",
    "    print(f\"{i+1}: {v}\")\n"
   ],
   "outputs": [
    {
     "output_type": "stream",
     "name": "stdout",
     "text": [
      "True\n",
      "Java\n",
      "C\n",
      "C++\n",
      "Kotlin\n",
      "TypeScript\n",
      "\n",
      "(0, 'Java')\n",
      "(1, 'C')\n",
      "(2, 'C++')\n",
      "(3, 'Kotlin')\n",
      "(4, 'TypeScript')\n",
      "\n",
      "1: Java\n",
      "2: C\n",
      "3: C++\n",
      "4: Kotlin\n",
      "5: TypeScript\n"
     ]
    }
   ],
   "metadata": {}
  },
  {
   "cell_type": "markdown",
   "source": [
    "## Some methods for list "
   ],
   "metadata": {}
  },
  {
   "cell_type": "markdown",
   "source": [
    "### add"
   ],
   "metadata": {}
  },
  {
   "cell_type": "code",
   "execution_count": 9,
   "source": [
    "# add the given element at the end of the list\n",
    "l.append(33)\n",
    "print(l)\n",
    "# insert 10 at index 1\n",
    "l.insert(1,10)\n",
    "print(l)\n",
    "\n",
    "odd = [2, 4, 6, 8]\n",
    "# change 2nd to 4th items\n",
    "odd[1:4] = [3, 5, 7]  \n",
    "print(odd)\n",
    "\n",
    "# Concatenating and repeating lists\n",
    "print(odd + [9, 7, 5])\n",
    "print([\"re\"] * 3)\n"
   ],
   "outputs": [
    {
     "output_type": "stream",
     "name": "stdout",
     "text": [
      "['', 10, 'A', '', 'B', '', 'C', 33, 33]\n",
      "['', 10, 10, 'A', '', 'B', '', 'C', 33, 33]\n",
      "[2, 3, 5, 7]\n",
      "[2, 3, 5, 7, 9, 7, 5]\n",
      "['re', 're', 're']\n"
     ]
    }
   ],
   "metadata": {}
  },
  {
   "cell_type": "markdown",
   "source": [
    "### remove"
   ],
   "metadata": {}
  },
  {
   "cell_type": "code",
   "execution_count": 22,
   "source": [
    "# pop():\n",
    "# delete the last element\n",
    "# can also delete from specified index\n",
    "l.pop()\n",
    "print(l)\n",
    "l.pop(1)\n",
    "print(l)\n",
    "\n",
    "# remove()\n",
    "l.remove(5)\n",
    "print(l)\n",
    "\n",
    "del l[0:3]\n",
    "print(l)\n",
    "\n",
    "l.clear()\n",
    "print(l)"
   ],
   "outputs": [
    {
     "output_type": "stream",
     "name": "stdout",
     "text": [
      "[5, 10, 2, 3, 4, 5, 6]\n",
      "[5, 2, 3, 4, 5, 6]\n",
      "[2, 3, 4, 5, 6]\n",
      "[5, 6]\n",
      "[]\n"
     ]
    }
   ],
   "metadata": {}
  },
  {
   "cell_type": "code",
   "execution_count": 25,
   "source": [
    "# reverse\n",
    "l.reverse()\n",
    "print(l)"
   ],
   "outputs": [
    {
     "output_type": "stream",
     "name": "stdout",
     "text": [
      "[6, 5, 4, 3, 2]\n"
     ]
    }
   ],
   "metadata": {}
  },
  {
   "cell_type": "markdown",
   "source": [
    "### Finding Items"
   ],
   "metadata": {}
  },
  {
   "cell_type": "code",
   "execution_count": 35,
   "source": [
    "letters = [\"a\",\"b\",\"c\"]\n",
    "print(letters.count(\"d\"))\n",
    "\n",
    "if \"b\" in letters:\n",
    "    print(letters.index(\"b\"))"
   ],
   "outputs": [
    {
     "output_type": "stream",
     "name": "stdout",
     "text": [
      "0\n",
      "1\n"
     ]
    }
   ],
   "metadata": {}
  },
  {
   "cell_type": "markdown",
   "source": [
    "## 2D list "
   ],
   "metadata": {}
  },
  {
   "cell_type": "code",
   "execution_count": 33,
   "source": [
    "list_2d = [[1,2,3],[4,5,6,],[7,8,9]]\n",
    "print(list_2d)\n",
    "\n",
    "# accessing element in 2D list\n",
    "print(list_2d[1])\n",
    "print(list_2d[1][0])\n"
   ],
   "outputs": [
    {
     "output_type": "stream",
     "name": "stdout",
     "text": [
      "[[1, 2, 3], [4, 5, 6], [7, 8, 9]]\n",
      "[4, 5, 6]\n",
      "4\n"
     ]
    }
   ],
   "metadata": {}
  },
  {
   "cell_type": "markdown",
   "source": [
    "## Sorting"
   ],
   "metadata": {}
  },
  {
   "cell_type": "code",
   "execution_count": 42,
   "source": [
    "l=[1,2,3,4,5]\n",
    "\n",
    "l.sort(reverse=True)\n",
    "print(l)\n",
    "l.sort()\n",
    "print(l)\n",
    "\n",
    "# sorted() returns new list\n",
    "sorted_list =sorted(l,reverse=True)\n",
    "print(sorted_list)\n",
    "\n",
    "# Case-Insensitive Sorting\n",
    "l=['a','B','e','D','c']\n",
    "l.sort()\n",
    "print(l)\n",
    "l.sort(key=str.casefold)\n",
    "print(l)\n"
   ],
   "outputs": [
    {
     "output_type": "stream",
     "name": "stdout",
     "text": [
      "[5, 4, 3, 2, 1]\n",
      "[1, 2, 3, 4, 5]\n",
      "[5, 4, 3, 2, 1]\n",
      "['B', 'D', 'a', 'c', 'e']\n",
      "['a', 'B', 'c', 'D', 'e']\n"
     ]
    }
   ],
   "metadata": {}
  },
  {
   "cell_type": "code",
   "execution_count": 40,
   "source": [
    "items = [\n",
    "    (\"product 1\",10),\n",
    "    (\"product 2\",5),\n",
    "    (\"product 4\",45),\n",
    "    (\"product 5\",23),\n",
    "]\n",
    "\n",
    "def sorted_item(i):\n",
    "    return i[1] #return price\n",
    "\n",
    "items.sort(key=sorted_item)\n",
    "print(items)"
   ],
   "outputs": [
    {
     "output_type": "stream",
     "name": "stdout",
     "text": [
      "[('product 2', 5), ('product 1', 10), ('product 5', 23), ('product 4', 45)]\n"
     ]
    }
   ],
   "metadata": {}
  },
  {
   "cell_type": "markdown",
   "source": [
    "#### Using lembda:\n",
    "\n",
    "syntax:\n",
    "\n",
    "`lembda parameters:expression` "
   ],
   "metadata": {}
  },
  {
   "cell_type": "code",
   "execution_count": 41,
   "source": [
    "items = [\n",
    "    (\"product 1\",10),\n",
    "    (\"product 2\",5),\n",
    "    (\"product 4\",45),\n",
    "    (\"product 5\",23),\n",
    "]\n",
    "# def sorted_item(i):\n",
    "#     return i[1]\n",
    "items.sort(key=lambda i:i[1])\n",
    "print(items)"
   ],
   "outputs": [
    {
     "output_type": "stream",
     "name": "stdout",
     "text": [
      "[('product 2', 5), ('product 1', 10), ('product 5', 23), ('product 4', 45)]\n"
     ]
    }
   ],
   "metadata": {}
  },
  {
   "cell_type": "markdown",
   "source": [
    "## Map Function"
   ],
   "metadata": {}
  },
  {
   "cell_type": "code",
   "execution_count": 48,
   "source": [
    "items = [\r\n",
    "    (\"product 1\",10),\r\n",
    "    (\"product 2\",5),\r\n",
    "    (\"product 4\",45),\r\n",
    "    (\"proeduct 5\",23),\r\n",
    "]\r\n",
    "# extracting price from list of tuples\r\n",
    "prices = []\r\n",
    "for item in items:\r\n",
    "    prices.append(item[1])\r\n",
    "\r\n",
    "print(prices)\r\n",
    "print()\r\n",
    "# using map\r\n",
    "prices_mapped = map(lambda item:item[1],items)\r\n",
    "print(type(prices_mapped))\r\n",
    "prices = list(prices_mapped)\r\n",
    "print(prices)"
   ],
   "outputs": [
    {
     "output_type": "stream",
     "name": "stdout",
     "text": [
      "[10, 5, 45, 23]\n",
      "\n",
      "<class 'map'>\n",
      "[10, 5, 45, 23]\n"
     ]
    }
   ],
   "metadata": {}
  },
  {
   "cell_type": "markdown",
   "source": [
    "## Filter Function"
   ],
   "metadata": {}
  },
  {
   "cell_type": "code",
   "execution_count": 54,
   "source": [
    "filtered = list(filter(lambda item:item[1]>=10,items ))\r\n",
    "print(filtered)"
   ],
   "outputs": [
    {
     "output_type": "stream",
     "name": "stdout",
     "text": [
      "[('product 1', 10), ('product 4', 45), ('proeduct 5', 23)]\n"
     ]
    }
   ],
   "metadata": {}
  },
  {
   "cell_type": "markdown",
   "source": [
    "## List Comprehension\r\n",
    "\r\n",
    "`[expression for item in list]`\r\n",
    "\r\n",
    "```python\r\n",
    "letters = list(map(lambda x: x, 'human'))\r\n",
    "print(letters) # ['h','u','m','a','n']\r\n",
    "\r\n",
    "```"
   ],
   "metadata": {}
  },
  {
   "cell_type": "code",
   "execution_count": 28,
   "source": [
    "l = [1,2,3,4,5,6]\r\n",
    "# creating a new list of squares of each element\r\n",
    "new_l = []\r\n",
    "for el in l:\r\n",
    "    new_l.append(el**2)\r\n",
    "\r\n",
    "print(new_l)\r\n",
    "\r\n",
    "# With List Comprehension:\r\n",
    "\r\n",
    "new_l = [el**2 for el in new_l] # [(What to Store ) for each element of list]\r\n",
    "print(new_l)\r\n"
   ],
   "outputs": [
    {
     "output_type": "stream",
     "name": "stdout",
     "text": [
      "[1, 4, 9, 16, 25, 36]\n",
      "[1, 16, 81, 256, 625, 1296]\n"
     ]
    }
   ],
   "metadata": {}
  },
  {
   "cell_type": "markdown",
   "source": [
    "### We can also add an if condition"
   ],
   "metadata": {}
  },
  {
   "cell_type": "code",
   "execution_count": 5,
   "source": [
    "l =[1,2,3,4,5,6,7,8]\r\n",
    "# filtering even elements\r\n",
    "filtered = [i for i in l if i % 2==0]\r\n",
    "print(filtered)\r\n",
    "\r\n",
    "# (If you're familiar with SQL, you might think of this as being like a \"WHERE\" clause)\r\n",
    "\r\n",
    "print()\r\n",
    "# removing empty string from the list\r\n",
    "l =[\"\",\"A\",\"\",\"B\",\"\",\"C\"]\r\n",
    "removed = [i for i in l if i]\r\n",
    "print(removed) \r\n"
   ],
   "outputs": [
    {
     "output_type": "stream",
     "name": "stdout",
     "text": [
      "[2, 4, 6, 8]\n",
      "\n",
      "['A', 'B', 'C']\n"
     ]
    }
   ],
   "metadata": {}
  },
  {
   "cell_type": "markdown",
   "source": [
    "### Using with String"
   ],
   "metadata": {}
  },
  {
   "cell_type": "code",
   "execution_count": 6,
   "source": [
    "\r\n",
    "list_string = ['maNgo', 'BanAna', 'PytHoN iS Love', 'Cat iS not doG']\r\n",
    "\r\n",
    "# make the list of string to list of list of words\r\n",
    "list_of_list = [sentence.split() for sentence in list_string]\r\n",
    "print(list_of_list)\r\n",
    "\r\n",
    "words = sum(list_of_list, [])  # make the list of list to a single list\r\n",
    "print(words)  # print the list of word\r\n",
    "\r\n",
    "# modify the case\r\n",
    "correct_case = [str.upper(word[0])+str.lower(word[1:]) for word in words if len(word) > 1]\r\n",
    "\r\n",
    "# print the list of word with desired case\r\n",
    "print(correct_case)"
   ],
   "outputs": [
    {
     "output_type": "stream",
     "name": "stdout",
     "text": [
      "[['maNgo'], ['BanAna'], ['PytHoN', 'iS', 'Love'], ['Cat', 'iS', 'not', 'doG']]\n",
      "['maNgo', 'BanAna', 'PytHoN', 'iS', 'Love', 'Cat', 'iS', 'not', 'doG']\n",
      "['Mango', 'Banana', 'Python', 'Is', 'Love', 'Cat', 'Is', 'Not', 'Dog']\n"
     ]
    }
   ],
   "metadata": {}
  },
  {
   "cell_type": "markdown",
   "source": [
    "### Making Nested List Comprehension\n",
    "\n",
    "However, you can also use nested List comprehension. That means, you can use a list comprehension inside another list comprehension. For example, the previous example code can be written shorter using nested Python list Comprehension. Like this,"
   ],
   "metadata": {}
  },
  {
   "cell_type": "code",
   "execution_count": 7,
   "source": [
    "\n",
    "list_string = ['maNgo', 'BanAna', 'PytHoN iS Love', 'Cat iS not doG']\n",
    "\n",
    "correct_case = [str.upper(word[0])+str.lower(word[1:])\n",
    "                for word in sum([sentence.split() for sentence in list_string], [])\n",
    "                if len(word) > 1]\n",
    "\n",
    "# print the list of word with desired case\n",
    "print(correct_case)"
   ],
   "outputs": [
    {
     "output_type": "stream",
     "name": "stdout",
     "text": [
      "['Mango', 'Banana', 'Python', 'Is', 'Love', 'Cat', 'Is', 'Not', 'Dog']\n"
     ]
    }
   ],
   "metadata": {}
  },
  {
   "cell_type": "markdown",
   "source": [
    "### Replacing Map and Filter function with list comprehension"
   ],
   "metadata": {}
  },
  {
   "cell_type": "code",
   "execution_count": 3,
   "source": [
    "items = [\n",
    "    (\"product 1\",10),\n",
    "    (\"product 2\",5),\n",
    "    (\"product 4\",45),\n",
    "    (\"proeduct 5\",23),\n",
    "]\n",
    "\n",
    "# prices = list(map(lambda item:item[1],items))\n",
    "prices = [item[1] for item in items]\n",
    "# filtered = list(filter(lambda item:item[1]>=10,items ))\n",
    "filtered = [item for item in items if item[1] >= 10]\n",
    "\n",
    "\n",
    "print(prices)\n",
    "print(filtered)"
   ],
   "outputs": [
    {
     "output_type": "stream",
     "name": "stdout",
     "text": [
      "[10, 5, 45, 23]\n",
      "[('product 1', 10), ('product 4', 45), ('proeduct 5', 23)]\n"
     ]
    }
   ],
   "metadata": {}
  },
  {
   "cell_type": "markdown",
   "source": [
    "### Difference between Generator Expressions and List Comprehensions\n",
    "\n",
    "**What are Generator Expressions?**\n",
    "\n",
    "Generator Expressions are somewhat similar to list comprehensions, but the former doesn’t construct list object. Instead of creating a list and keeping the whole sequence in the memory, the generator generates the next element in demand.\n",
    "When a normal function with a return statement is called, it **terminates** whenever it gets a return statement. But a function with a yield statement **saves the state of the function and can be picked up from the same state, next time the function is called.**\n",
    "\n",
    "The Generator Expression allows us to create a generator _without the yield keyword._without\n"
   ],
   "metadata": {}
  },
  {
   "cell_type": "code",
   "execution_count": 1,
   "source": [
    "# List Comprehension\n",
    "list_comprehension = [i for i in range(11) if i % 2 == 0]\n",
    "  \n",
    "print(list_comprehension)\n",
    "\n",
    "# Generator Expression\n",
    "generator_expression = (i for i in range(11) if i % 2 == 0)\n",
    "print(generator_expression)\n",
    "for i in generator_expression:\n",
    "    print(i, end=\" \")"
   ],
   "outputs": [
    {
     "output_type": "stream",
     "name": "stdout",
     "text": [
      "[0, 2, 4, 6, 8, 10]\n",
      "<generator object <genexpr> at 0x00000242AFC14C80>\n",
      "0 2 4 6 8 10 "
     ]
    }
   ],
   "metadata": {}
  },
  {
   "cell_type": "markdown",
   "source": [
    "**So what’s the difference between Generator Expressions and List Comprehensions?**\n",
    "\n",
    "The generator yields one item at a time and generates item only when in demand. Whereas, in a list comprehension, Python reserves memory for the whole list. Thus we can say that the generator expressions are memory efficient than the lists. Generator expressions are also faster than list comprehension and hence time efficient."
   ],
   "metadata": {}
  },
  {
   "cell_type": "code",
   "execution_count": 6,
   "source": [
    "# import getsizeof from sys module\n",
    "from sys import getsizeof\n",
    "  \n",
    "comp = [i for i in range(10000)]\n",
    "gen = (i for i in range(10000))\n",
    "  \n",
    "#gives size for list comprehension\n",
    "x = getsizeof(comp) \n",
    "print(\"x = \", x)\n",
    "  \n",
    "#gives size for generator expression\n",
    "y = getsizeof(gen) \n",
    "print(\"y = \", y)"
   ],
   "outputs": [
    {
     "output_type": "stream",
     "name": "stdout",
     "text": [
      "x =  87616\n",
      "y =  112\n"
     ]
    }
   ],
   "metadata": {}
  },
  {
   "cell_type": "markdown",
   "source": [
    "## Zip Function"
   ],
   "metadata": {}
  },
  {
   "cell_type": "code",
   "execution_count": 57,
   "source": [
    "l1 = [1,2,3]\n",
    "l2= [10,20,30]\n",
    "\n",
    "print(list(zip(l1,l2)))\n",
    "print(list(zip(\"abc\",l1,l2)))"
   ],
   "outputs": [
    {
     "output_type": "stream",
     "name": "stdout",
     "text": [
      "[(1, 10), (2, 20), (3, 30)]\n",
      "[('a', 1, 10), ('b', 2, 20), ('c', 3, 30)]\n"
     ]
    }
   ],
   "metadata": {}
  },
  {
   "cell_type": "markdown",
   "source": [
    "# Examples"
   ],
   "metadata": {}
  },
  {
   "cell_type": "code",
   "execution_count": 19,
   "source": [
    "op =\"xx\"\n",
    "lan = []\n",
    "\n",
    "while op !='0':\n",
    "    if op in \"12345\":\n",
    "        print(f\"Adding {op}\")\n",
    "        if op == '1':\n",
    "            lan.append(\"Java\")\n",
    "        elif op =='2':\n",
    "            lan.append(\"C\")\n",
    "        elif op =='3':\n",
    "            lan.append(\"C++\")\n",
    "        elif op =='4':\n",
    "            lan.append(\"Kotlin\")\n",
    "        elif op =='5':\n",
    "            lan.append(\"TypeScript\")\n",
    "    else:\n",
    "        print(\"Please add options from the list below:\")\n",
    "        print(\"1:Java\")\n",
    "        print(\"2:C\")\n",
    "        print(\"3:C++\")\n",
    "        print(\"4:Kotlin\")\n",
    "        print(\"5:TypeScript\")\n",
    "        print()\n",
    "    \n",
    "    op = input()\n",
    "\n",
    "print(f\"Selected Language: {lan}\")\n",
    "      "
   ],
   "outputs": [
    {
     "output_type": "stream",
     "name": "stdout",
     "text": [
      "Please add options from the list below:\n",
      "1:Java\n",
      "2:C\n",
      "3:C++\n",
      "4:Kotlin\n",
      "5:TypeScript\n",
      "\n",
      "Adding 1\n",
      "Adding 1\n",
      "Adding 2\n",
      "Adding 3\n",
      "Selected Language: ['Java', 'Java', 'C', 'C++']\n"
     ]
    }
   ],
   "metadata": {}
  }
 ]
}