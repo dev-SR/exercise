{
 "cells": [
  {
   "attachments": {},
   "cell_type": "markdown",
   "metadata": {},
   "source": [
    "# Glob"
   ]
  },
  {
   "cell_type": "code",
   "execution_count": 1,
   "metadata": {},
   "outputs": [],
   "source": [
    "\"\"\"\n",
    "cd ./Py/10_io/glob\n",
    "jupyter nbconvert --to markdown glob_module.ipynb --output README.md\n",
    "\"\"\"\n"
   ]
  },
  {
   "attachments": {},
   "cell_type": "markdown",
   "metadata": {},
   "source": [
    "The `glob` module in Python is used to **search for files and directories** whose *names match a specified patter*n. Here's an example use case:\n",
    "\n"
   ]
  },
  {
   "cell_type": "code",
   "execution_count": 15,
   "metadata": {},
   "outputs": [
    {
     "data": {
      "text/plain": [
       "['files\\\\aasdjl copy 2.txt',\n",
       " 'files\\\\aasdjl copy 3.txt',\n",
       " 'files\\\\aasdjl copy.txt',\n",
       " 'files\\\\aasdjl.txt',\n",
       " 'files\\\\ex copy 2.csv',\n",
       " 'files\\\\ex copy.csv',\n",
       " 'files\\\\ex.csv',\n",
       " 'files\\\\input1.txt',\n",
       " 'files\\\\input2.txt']"
      ]
     },
     "execution_count": 15,
     "metadata": {},
     "output_type": "execute_result"
    }
   ],
   "source": [
    "from glob import glob\n",
    "files = glob(\"files/*\")\n",
    "files\n"
   ]
  },
  {
   "attachments": {},
   "cell_type": "markdown",
   "metadata": {},
   "source": [
    "- Finding files with a particular extension: "
   ]
  },
  {
   "cell_type": "code",
   "execution_count": 16,
   "metadata": {},
   "outputs": [
    {
     "data": {
      "text/plain": [
       "['files\\\\ex copy 2.csv', 'files\\\\ex copy.csv', 'files\\\\ex.csv']"
      ]
     },
     "execution_count": 16,
     "metadata": {},
     "output_type": "execute_result"
    }
   ],
   "source": [
    "csv_files = glob('files/*.csv')\n",
    "csv_files"
   ]
  },
  {
   "attachments": {},
   "cell_type": "markdown",
   "metadata": {},
   "source": [
    "- Suppose you have a directory that contains many `text` files, and you want to search for all the files that contain the word `\"input\"` in their names. You can use the glob module to achieve this:"
   ]
  },
  {
   "cell_type": "code",
   "execution_count": 14,
   "metadata": {},
   "outputs": [
    {
     "data": {
      "text/plain": [
       "['files\\\\input1.txt', 'files\\\\input2.txt']"
      ]
     },
     "execution_count": 14,
     "metadata": {},
     "output_type": "execute_result"
    }
   ],
   "source": [
    "files = glob(\"files/*input*.txt\")\n",
    "files\n"
   ]
  },
  {
   "attachments": {},
   "cell_type": "markdown",
   "metadata": {},
   "source": [
    "- Sorting files: "
   ]
  },
  {
   "cell_type": "code",
   "execution_count": 19,
   "metadata": {},
   "outputs": [
    {
     "name": "stdout",
     "output_type": "stream",
     "text": [
      "['files\\\\ex copy 2.csv', 'files\\\\ex copy.csv', 'files\\\\ex.csv', 'files\\\\input1.txt', 'files\\\\input2.txt', 'files\\\\aasdjl copy 2.txt', 'files\\\\aasdjl copy 3.txt', 'files\\\\aasdjl copy.txt', 'files\\\\aasdjl.txt']\n"
     ]
    }
   ],
   "source": [
    "import os\n",
    "files =glob('files/*')\n",
    "files = sorted(files, key=os.path.getmtime, reverse=True)\n",
    "print(files)\n"
   ]
  }
 ],
 "metadata": {
  "kernelspec": {
   "display_name": "base",
   "language": "python",
   "name": "python3"
  },
  "language_info": {
   "codemirror_mode": {
    "name": "ipython",
    "version": 3
   },
   "file_extension": ".py",
   "mimetype": "text/x-python",
   "name": "python",
   "nbconvert_exporter": "python",
   "pygments_lexer": "ipython3",
   "version": "3.9.12"
  },
  "orig_nbformat": 2,
  "vscode": {
   "interpreter": {
    "hash": "13a64c48d63ab7fa89dd239a6172cf842d756bd82fcb4ba948a9115b41dc50a1"
   }
  }
 },
 "nbformat": 4,
 "nbformat_minor": 2
}
