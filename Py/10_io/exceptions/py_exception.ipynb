{
 "cells": [
  {
   "cell_type": "markdown",
   "metadata": {},
   "source": [
    "# Exceptions in Python\n",
    "\n",
    "- Whenever these error occur, Python creates an exception object\n",
    "- As a programmer, our task is to handle these exceptions appropriately "
   ]
  },
  {
   "cell_type": "code",
   "execution_count": 2,
   "metadata": {},
   "outputs": [
    {
     "ename": "TypeError",
     "evalue": "can only concatenate str (not \"int\") to str",
     "output_type": "error",
     "traceback": [
      "\u001b[1;31m---------------------------------------------------------------------------\u001b[0m",
      "\u001b[1;31mTypeError\u001b[0m                                 Traceback (most recent call last)",
      "\u001b[1;32m<ipython-input-2-48a28808618d>\u001b[0m in \u001b[0;36m<module>\u001b[1;34m\u001b[0m\n\u001b[1;32m----> 1\u001b[1;33m \u001b[1;34m\"Hello\"\u001b[0m \u001b[1;33m+\u001b[0m \u001b[1;36m1\u001b[0m\u001b[1;33m\u001b[0m\u001b[1;33m\u001b[0m\u001b[0m\n\u001b[0m",
      "\u001b[1;31mTypeError\u001b[0m: can only concatenate str (not \"int\") to str"
     ]
    }
   ],
   "source": [
    "\"Hello\" + 1"
   ]
  },
  {
   "cell_type": "code",
   "execution_count": 7,
   "metadata": {},
   "outputs": [
    {
     "name": "stdout",
     "output_type": "stream",
     "text": [
      "['ArithmeticError', 'AssertionError', 'AttributeError', 'BaseException', 'BlockingIOError', 'BrokenPipeError', 'BufferError', 'BytesWarning', 'ChildProcessError', 'ConnectionAbortedError', 'Connection .....\n"
     ]
    }
   ],
   "source": [
    "print(str(dir(__builtins__))[0:200],\".....\")"
   ]
  },
  {
   "cell_type": "markdown",
   "metadata": {},
   "source": [
    "## Try - Except\n",
    "\n",
    "- whenever an exception occur, it makes our program crash if not handled properly.\n",
    "- To avoid this issue, we use Try block. The suspected line that can throw any error, we put inside try block.\n",
    "- Except Block will help to receive the program flow if any line inside try-block throws an error."
   ]
  },
  {
   "cell_type": "code",
   "execution_count": 9,
   "metadata": {},
   "outputs": [
    {
     "name": "stdout",
     "output_type": "stream",
     "text": [
      "Current el:  2\n",
      "Result:  2.5\n",
      "Current el:  0\n"
     ]
    },
    {
     "ename": "ZeroDivisionError",
     "evalue": "division by zero",
     "output_type": "error",
     "traceback": [
      "\u001b[1;31m---------------------------------------------------------------------------\u001b[0m",
      "\u001b[1;31mZeroDivisionError\u001b[0m                         Traceback (most recent call last)",
      "\u001b[1;32m<ipython-input-9-3788d6a3482d>\u001b[0m in \u001b[0;36m<module>\u001b[1;34m\u001b[0m\n\u001b[0;32m      3\u001b[0m \u001b[1;32mfor\u001b[0m \u001b[0mel\u001b[0m \u001b[1;32min\u001b[0m \u001b[0ml\u001b[0m\u001b[1;33m:\u001b[0m\u001b[1;33m\u001b[0m\u001b[1;33m\u001b[0m\u001b[0m\n\u001b[0;32m      4\u001b[0m                 \u001b[0mprint\u001b[0m\u001b[1;33m(\u001b[0m\u001b[1;34m\"Current el: \"\u001b[0m\u001b[1;33m,\u001b[0m \u001b[0mel\u001b[0m\u001b[1;33m)\u001b[0m\u001b[1;33m\u001b[0m\u001b[1;33m\u001b[0m\u001b[0m\n\u001b[1;32m----> 5\u001b[1;33m                 \u001b[0mres\u001b[0m \u001b[1;33m=\u001b[0m \u001b[1;36m5\u001b[0m\u001b[1;33m/\u001b[0m\u001b[0mint\u001b[0m\u001b[1;33m(\u001b[0m\u001b[0mel\u001b[0m\u001b[1;33m)\u001b[0m\u001b[1;33m\u001b[0m\u001b[1;33m\u001b[0m\u001b[0m\n\u001b[0m\u001b[0;32m      6\u001b[0m                 \u001b[0mprint\u001b[0m\u001b[1;33m(\u001b[0m\u001b[1;34m\"Result: \"\u001b[0m\u001b[1;33m,\u001b[0m \u001b[0mres\u001b[0m\u001b[1;33m)\u001b[0m\u001b[1;33m\u001b[0m\u001b[1;33m\u001b[0m\u001b[0m\n",
      "\u001b[1;31mZeroDivisionError\u001b[0m: division by zero"
     ]
    }
   ],
   "source": [
    "l = [2, 0, 'Hello', None]\n",
    "\n",
    "for el in l:\n",
    "\tprint(\"Current el: \", el)\n",
    "\tres = 5/int(el)\n",
    "\tprint(\"Result: \", res)"
   ]
  },
  {
   "cell_type": "code",
   "execution_count": 8,
   "metadata": {},
   "outputs": [
    {
     "name": "stdout",
     "output_type": "stream",
     "text": [
      "Current el:  2\n",
      "Result:  2.5\n",
      "Current el:  0\n",
      "Current el:  Hello\n",
      "Current el:  None\n"
     ]
    }
   ],
   "source": [
    "l = [2,0,'Hello',None]\n",
    "\n",
    "for el in l:\n",
    "\ttry:\n",
    "\t\tprint(\"Current el: \",el)\n",
    "\t\tres = 5/int(el)\n",
    "\t\tprint(\"Result: \",res)\n",
    "\texcept:\n",
    "\t\tpass"
   ]
  },
  {
   "cell_type": "code",
   "execution_count": 12,
   "metadata": {},
   "outputs": [
    {
     "name": "stdout",
     "output_type": "stream",
     "text": [
      "Current el:  2\n",
      "Result:  2.5\n",
      "--------------------------------------------------\n",
      "Current el:  0\n",
      "Error caused:  division by zero\n",
      "<class 'ZeroDivisionError'>\n",
      "--------------------------------------------------\n",
      "Current el:  Hello\n",
      "Error caused:  invalid literal for int() with base 10: 'Hello'\n",
      "<class 'ValueError'>\n",
      "--------------------------------------------------\n",
      "Current el:  None\n",
      "Error caused:  int() argument must be a string, a bytes-like object or a number, not 'NoneType'\n",
      "<class 'TypeError'>\n",
      "--------------------------------------------------\n",
      "\n",
      "There are 100 more lines.\n"
     ]
    }
   ],
   "source": [
    "for el in l:\n",
    "\ttry:\n",
    "\t\tprint(\"Current el: \", el)\n",
    "\t\tres = 5/int(el)\n",
    "\t\tprint(\"Result: \", res)\n",
    "\texcept Exception as e:\n",
    "\t\tprint(\"Error caused: \",e)\n",
    "\t\tprint(sys.exc_info()[0])\n",
    "\tprint(\"-\"*50)\n",
    "\n",
    "print(\"\\nThere are 100 more lines.\")"
   ]
  },
  {
   "cell_type": "code",
   "execution_count": 14,
   "metadata": {},
   "outputs": [
    {
     "name": "stdout",
     "output_type": "stream",
     "text": [
      "Current el:  2\n",
      "Result:  2.5\n",
      "--------------------------------------------------\n",
      "Current el:  0\n",
      "Don't divide by zero:  division by zero\n",
      "--------------------------------------------------\n",
      "Current el:  Hello\n",
      "ValueError caused:  invalid literal for int() with base 10: 'Hello'\n",
      "--------------------------------------------------\n",
      "Current el:  None\n",
      "Error caused:  int() argument must be a string, a bytes-like object or a number, not 'NoneType'\n",
      "<class 'TypeError'>\n",
      "--------------------------------------------------\n",
      "\n",
      "There are 100 more lines.\n"
     ]
    }
   ],
   "source": [
    "for el in l:\n",
    "\ttry:\n",
    "\t\tprint(\"Current el: \", el)\n",
    "\t\tres = 5/int(el)\n",
    "\t\tprint(\"Result: \", res)\n",
    "\texcept ValueError as ve:\n",
    "\t\tprint(\"ValueError caused: \", ve)\n",
    "\texcept ZeroDivisionError as ze:\n",
    "\t\tprint(\"Don't divide by zero: \", ze)\n",
    "\texcept Exception as e:\n",
    "\t\tprint(\"Error caused: \", e)\n",
    "\t\tprint(sys.exc_info()[0])\n",
    "\tprint(\"-\"*50)\n",
    "\n",
    "print(\"\\nThere are 100 more lines.\")\n"
   ]
  },
  {
   "cell_type": "code",
   "execution_count": 6,
   "metadata": {},
   "outputs": [
    {
     "name": "stdout",
     "output_type": "stream",
     "text": [
      "You didn't enter a valid int\n",
      "division by zero\n",
      "Execution continues...\n",
      "\n",
      "You didn't enter a valid int\n",
      "division by zero\n",
      "Execution continues...\n"
     ]
    }
   ],
   "source": [
    "try:\n",
    "    age = int(input(\"Enter anython but number:\"))\n",
    "    div = 10/age\n",
    "except ValueError:\n",
    "    print(\"You didn't enter a valid int\")\n",
    "except ZeroDivisionError as ex:\n",
    "    print(\"You didn't enter a valid int\")\n",
    "    print(ex)\n",
    "else:\n",
    "    print(\"No exceptions thrown.\")\n",
    "print(\"Execution continues...\")\n",
    "\n",
    "print()\n",
    "# Avoid duplicate expt. message with..(x1,x2..)\n",
    "try:\n",
    "    age = int(input(\"Enter anython but number:\"))\n",
    "    div = 10/age\n",
    "except (ValueError,ZeroDivisionError) as ex:\n",
    "    print(\"You didn't enter a valid int\")\n",
    "    print(ex)\n",
    "else:\n",
    "    print(\"No exceptions thrown.\")\n",
    "print(\"Execution continues...\")"
   ]
  },
  {
   "cell_type": "markdown",
   "metadata": {},
   "source": [
    "## Releasing external resources with`Finally` and `With`\n",
    "\n",
    "### Finally \n",
    "\n",
    "- finally block is executed everytime, no matter error occurred or not.\n",
    "- this can be used to release the allocated resources.\n",
    "- e.g. closing a file, or closing a db connection"
   ]
  },
  {
   "cell_type": "code",
   "execution_count": 15,
   "metadata": {},
   "outputs": [
    {
     "name": "stdout",
     "output_type": "stream",
     "text": [
      "Error occurred : division by zero\n",
      "I will always execute\n"
     ]
    }
   ],
   "source": [
    "try:\n",
    "\tans = 5/0\n",
    "\tprint(ans)\n",
    "except Exception as e:\n",
    "    print(\"Error occurred :\",e)\n",
    "finally:\n",
    "    print(\"I will always execute\")\n"
   ]
  },
  {
   "cell_type": "code",
   "execution_count": 20,
   "metadata": {},
   "outputs": [],
   "source": [
    "# try:\n",
    "#     file = open(\"app.py\")\n",
    "#     file.close()\n",
    "# except FileNotFoundError:\n",
    "#     print(\"aaa\")\n",
    "#     file.close()\n",
    "# else:\n",
    "#      file.close()\n",
    "\n",
    "# avoiding duplication with finally\n",
    "try:\n",
    "    f = open(\"app.py\")\n",
    "except FileNotFoundError:\n",
    "    print(\"aaa\")\n",
    "else:\n",
    "    print(\"No expt\")\n",
    "finally:\n",
    "    f.close()"
   ]
  },
  {
   "cell_type": "markdown",
   "metadata": {},
   "source": [
    "### `With` to automatically release external resources without `finally`"
   ]
  },
  {
   "cell_type": "code",
   "execution_count": 18,
   "metadata": {},
   "outputs": [
    {
     "name": "stdout",
     "output_type": "stream",
     "text": [
      "[Errno 2] No such file or directory: 'app.py'\n"
     ]
    }
   ],
   "source": [
    "try:\n",
    "    with open(\"app.py\") as file, open(\"another.txt\") as an:\n",
    "        print(\"File Opened...\")\n",
    "\n",
    "except FileNotFoundError as ex:\n",
    "    print(ex)\n",
    "else:\n",
    "    print(\"No expt\")"
   ]
  },
  {
   "cell_type": "markdown",
   "metadata": {},
   "source": [
    "## Raising Exception\n",
    "\n",
    "- programmers can create new exceptions whenever code doesn't work in a usual way.\n",
    "- raise keyword is used to raise an Exception"
   ]
  },
  {
   "cell_type": "code",
   "execution_count": 16,
   "metadata": {},
   "outputs": [
    {
     "ename": "Exception",
     "evalue": "Error",
     "output_type": "error",
     "traceback": [
      "\u001b[1;31m---------------------------------------------------------------------------\u001b[0m",
      "\u001b[1;31mException\u001b[0m                                 Traceback (most recent call last)",
      "\u001b[1;32m<ipython-input-16-2ebba92f5f3b>\u001b[0m in \u001b[0;36m<module>\u001b[1;34m\u001b[0m\n\u001b[1;32m----> 1\u001b[1;33m \u001b[1;32mraise\u001b[0m \u001b[0mException\u001b[0m\u001b[1;33m(\u001b[0m\u001b[1;34m\"Error\"\u001b[0m\u001b[1;33m)\u001b[0m\u001b[1;33m\u001b[0m\u001b[1;33m\u001b[0m\u001b[0m\n\u001b[0m",
      "\u001b[1;31mException\u001b[0m: Error"
     ]
    }
   ],
   "source": [
    "raise Exception(\"Error\")"
   ]
  },
  {
   "cell_type": "code",
   "execution_count": 23,
   "metadata": {},
   "outputs": [
    {
     "name": "stdout",
     "output_type": "stream",
     "text": [
      "Hello  abc\n",
      "Error occurred : Name cannot be less than 4 characters\n",
      "<class 'ValueError'>\n"
     ]
    }
   ],
   "source": [
    "try:\n",
    "\tname = input(\"Enter your name :\")\n",
    "\t\n",
    "\tprint(\"Hello \",name)\n",
    "\tif len(name) < 4:\n",
    "\t\traise ValueError(\"Name cannot be less than 4 characters\")\n",
    "\t\n",
    "except Exception as e:\n",
    "\tprint(\"Error occurred :\",e)\n",
    "\tprint(sys.exc_info()[0])"
   ]
  }
 ],
 "metadata": {
  "interpreter": {
   "hash": "8cdb09b0bc1c395d296938b19fe7764d972a7ceeffba4d3ad7ff6a3771581719"
  },
  "kernelspec": {
   "display_name": "Python 3.8.8 64-bit ('base': conda)",
   "name": "python3"
  },
  "language_info": {
   "codemirror_mode": {
    "name": "ipython",
    "version": 3
   },
   "file_extension": ".py",
   "mimetype": "text/x-python",
   "name": "python",
   "nbconvert_exporter": "python",
   "pygments_lexer": "ipython3",
   "version": "3.8.8"
  },
  "orig_nbformat": 2
 },
 "nbformat": 4,
 "nbformat_minor": 2
}
