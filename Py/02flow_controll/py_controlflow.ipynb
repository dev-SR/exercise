{
 "cells": [
  {
   "cell_type": "markdown",
   "metadata": {},
   "source": [
    "# Flow Control"
   ]
  },
  {
   "cell_type": "code",
   "execution_count": null,
   "metadata": {},
   "outputs": [],
   "source": [
    "\"\"\"  \n",
    "cd .\\Py\\02flow_controll\\ \n",
    "jupyter nbconvert --to markdown py_controlflow.ipynb --output README.md\n",
    "\"\"\""
   ]
  },
  {
   "cell_type": "markdown",
   "metadata": {},
   "source": [
    "## Truthy and Falsy Values\n"
   ]
  },
  {
   "cell_type": "markdown",
   "metadata": {},
   "source": [
    "\n",
    "> - Values that evaluate to False are considered Falsy.\n",
    "> - Values that evaluate to True are considered Truthy."
   ]
  },
  {
   "cell_type": "markdown",
   "metadata": {},
   "source": [
    "### Falsy Values\n"
   ]
  },
  {
   "cell_type": "markdown",
   "metadata": {},
   "source": [
    "#### Sequences and Collections:\n",
    "\n"
   ]
  },
  {
   "cell_type": "markdown",
   "metadata": {},
   "source": [
    "- Empty lists []\n",
    "- Empty tuples ()\n",
    "- Empty dictionaries {}\n",
    "- Empty sets set()\n",
    "= Empty strings \"\"\n",
    "- Empty ranges range(0)\n",
    "\n"
   ]
  },
  {
   "cell_type": "markdown",
   "metadata": {},
   "source": [
    "#### Numbers\n",
    "\n"
   ]
  },
  {
   "cell_type": "markdown",
   "metadata": {},
   "source": [
    "- Zero of any numeric type.\n",
    "- Integer: 0\n",
    "- Float: 0.0\n",
    "- Complex: 0j\n",
    "\n"
   ]
  },
  {
   "cell_type": "markdown",
   "metadata": {},
   "source": [
    "#### Constants\n"
   ]
  },
  {
   "cell_type": "markdown",
   "metadata": {},
   "source": [
    "\n",
    "- None\n",
    "- False\n"
   ]
  },
  {
   "cell_type": "markdown",
   "metadata": {},
   "source": [
    "\n",
    "### Truthy Values\n"
   ]
  },
  {
   "cell_type": "markdown",
   "metadata": {},
   "source": [
    "\n",
    "> By default, an object is considered true.\n"
   ]
  },
  {
   "cell_type": "markdown",
   "metadata": {},
   "source": [
    "\n",
    "#### Truthy values include:\n",
    "\n"
   ]
  },
  {
   "cell_type": "markdown",
   "metadata": {},
   "source": [
    "- Non-empty sequences or collections (lists, tuples, strings, dictionaries, sets).\n",
    "- Numeric values that are not zero.\n",
    "- True"
   ]
  },
  {
   "cell_type": "markdown",
   "metadata": {},
   "source": [
    "## Comparison"
   ]
  },
  {
   "cell_type": "markdown",
   "metadata": {},
   "source": [
    "### Chained Comparison"
   ]
  },
  {
   "cell_type": "code",
   "execution_count": 4,
   "metadata": {},
   "outputs": [
    {
     "name": "stdout",
     "output_type": "stream",
     "text": [
      "Enjoy your free time\n"
     ]
    }
   ],
   "source": [
    "age = int(input(\"How old are you?\"))\n",
    "# if age >= 16 and age <= 65;\n",
    "if 16 <= age <=65:\n",
    "    print(\"Have a good day at work\")\n",
    "else:\n",
    "    print(\"Enjoy your free time\")"
   ]
  },
  {
   "cell_type": "markdown",
   "metadata": {},
   "source": [
    "### ! -> not"
   ]
  },
  {
   "cell_type": "code",
   "execution_count": 8,
   "metadata": {},
   "outputs": [
    {
     "name": "stdout",
     "output_type": "stream",
     "text": [
      "Go swimming\n"
     ]
    }
   ],
   "source": [
    "day = \"Firday\"\n",
    "temperature = 30\n",
    "raining = False\n",
    "if day == \"Saturday\" and temperature > 27 or not raining:\n",
    "    print(\"Go swimming\")\n",
    "else:\n",
    "    print(\"Learn Python\")"
   ]
  },
  {
   "cell_type": "code",
   "execution_count": 17,
   "metadata": {},
   "outputs": [
    {
     "name": "stdout",
     "output_type": "stream",
     "text": [
      "Are you the man with no name?\n"
     ]
    }
   ],
   "source": [
    "name = input(\"Please enter your name: \")\n",
    "if name:\n",
    "    print(f\"Hello, {name}\")\n",
    "else:\n",
    "    print(\"Are you the man with no name?\")"
   ]
  },
  {
   "cell_type": "markdown",
   "metadata": {},
   "source": [
    "# FOR"
   ]
  },
  {
   "cell_type": "code",
   "execution_count": 9,
   "metadata": {},
   "outputs": [
    {
     "name": "stdout",
     "output_type": "stream",
     "text": [
      ",;: ,;\n"
     ]
    },
    {
     "data": {
      "text/plain": [
       "'9 233 372 036 854 775 807'"
      ]
     },
     "execution_count": 9,
     "metadata": {},
     "output_type": "execute_result"
    }
   ],
   "source": [
    "number = \"9,233;372:036 854,775;807\"\n",
    "separators = \"\"\n",
    "for char in number:\n",
    "    if not char.isnumeric():\n",
    "        separators = separators + char\n",
    "\n",
    "print(separators)\n",
    "values = \"\".join(char if char not in separators else \" \" for char in number);\n",
    "values"
   ]
  },
  {
   "cell_type": "markdown",
   "metadata": {},
   "source": [
    "### Continue"
   ]
  },
  {
   "cell_type": "code",
   "execution_count": 10,
   "metadata": {},
   "outputs": [
    {
     "name": "stdout",
     "output_type": "stream",
     "text": [
      "Buying List: milk\n",
      "Buying List: pasta\n",
      "Buying List: eggs\n",
      "Buying List: bread\n"
     ]
    }
   ],
   "source": [
    "shopping_list = ['milk','pasta','eggs','rice','bread']\n",
    "for item in shopping_list:\n",
    "    if item == 'rice':\n",
    "        continue # skip if rice\n",
    "    print(\"Buying List: \" + item)"
   ]
  },
  {
   "cell_type": "markdown",
   "metadata": {},
   "source": [
    "### break"
   ]
  },
  {
   "cell_type": "code",
   "execution_count": 12,
   "metadata": {},
   "outputs": [
    {
     "name": "stdout",
     "output_type": "stream",
     "text": [
      "Item found at postiton 3\n"
     ]
    }
   ],
   "source": [
    "shopping_list = ['milk','pasta','eggs','rice','bread']\n",
    "item_to_found = \"rice\"\n",
    "found_at = None\n",
    "\n",
    "for index in range(len(shopping_list)):\n",
    "    if shopping_list[index] == item_to_found:\n",
    "        found_at = index\n",
    "        break # stop if rice\n",
    "\n",
    "if found_at is not None:\n",
    "    print(f\"Item found at postiton {found_at}\")\n",
    "else:\n",
    "    print(f\"{item_to_found} not found\")"
   ]
  },
  {
   "cell_type": "markdown",
   "metadata": {},
   "source": [
    "# WHILE"
   ]
  },
  {
   "cell_type": "code",
   "execution_count": 2,
   "metadata": {},
   "outputs": [],
   "source": [
    "while 1:\n",
    "\tstop = input(\"Press 'q' to quit: \")\n",
    "\tif stop == 'q':\n",
    "\t\tbreak"
   ]
  },
  {
   "cell_type": "code",
   "execution_count": 1,
   "metadata": {},
   "outputs": [],
   "source": [
    "available = [\"north\",\"south\",\"east\",\"west\"]\n",
    "chosen = \"\"\n",
    "while chosen not in available:\n",
    "    chosen = input(\"Please chooose a direction: \")\n",
    "    if chosen.casefold() == 'quit':\n",
    "        print(\"Game Over\")\n",
    "        break\n",
    "\n",
    "if not chosen:\n",
    "    print(f\"You have choosen {chosen}\") "
   ]
  },
  {
   "cell_type": "markdown",
   "metadata": {},
   "source": [
    "### Guessing Game"
   ]
  },
  {
   "cell_type": "code",
   "execution_count": 39,
   "metadata": {},
   "outputs": [
    {
     "name": "stdout",
     "output_type": "stream",
     "text": [
      "8\n",
      "Please guess number between 1 and 8\n",
      "Please guess higher\n",
      "Please guess higher\n",
      "Please guess higher\n",
      "Please guess higher\n",
      "Well done, you guessed it\n"
     ]
    }
   ],
   "source": [
    "from random import randint\n",
    "answer = randint(1,10)\n",
    "print(answer)\n",
    "print(f\"Please guess number between 1 and {answer}\")\n",
    "\n",
    "guess = 1000\n",
    "while guess != answer:\n",
    "    guess = int(input())\n",
    "    if guess ==0:\n",
    "        break\n",
    "    if guess == answer:\n",
    "        print(\"Well done, you guessed it\")\n",
    "    else:\n",
    "        if guess < answer:\n",
    "            print(\"Please guess higher\")\n",
    "        else:\n",
    "            print(\"Please guess lower\")"
   ]
  },
  {
   "cell_type": "markdown",
   "metadata": {},
   "source": [
    "### Hi Lo Game"
   ]
  },
  {
   "cell_type": "code",
   "execution_count": null,
   "metadata": {},
   "outputs": [],
   "source": [
    "low =1 \n",
    "high =1000\n",
    "\n",
    "print(f\"Please think of a number between {low} and {high}\")\n",
    "\n",
    "guesses = 1\n",
    "guess=1000\n",
    "while True:\n",
    "    print(f\"\\t Guessing in the range of {low} and {high}\")\n",
    "    guess = low + (high -low) // 2\n",
    "    high_low = input (f\"My guess is {}.\")"
   ]
  }
 ],
 "metadata": {
  "interpreter": {
   "hash": "8cdb09b0bc1c395d296938b19fe7764d972a7ceeffba4d3ad7ff6a3771581719"
  },
  "kernelspec": {
   "display_name": "Python 3.8.5 64-bit ('base': conda)",
   "language": "python",
   "name": "python3"
  },
  "language_info": {
   "codemirror_mode": {
    "name": "ipython",
    "version": 3
   },
   "file_extension": ".py",
   "mimetype": "text/x-python",
   "name": "python",
   "nbconvert_exporter": "python",
   "pygments_lexer": "ipython3",
   "version": "3.8.8"
  },
  "orig_nbformat": 2
 },
 "nbformat": 4,
 "nbformat_minor": 2
}
