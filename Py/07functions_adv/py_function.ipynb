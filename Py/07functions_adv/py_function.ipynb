{
 "cells": [
  {
   "cell_type": "markdown",
   "metadata": {},
   "source": [
    "# Python Functions\n",
    "\n"
   ]
  },
  {
   "cell_type": "code",
   "execution_count": null,
   "metadata": {},
   "outputs": [],
   "source": [
    "\"\"\"\n",
    "cd .\\Py\\07functions_adv\\\n",
    "jupyter nbconvert --to markdown py_function.ipynb --output README.md\n",
    "cd ../..\n",
    "\"\"\"\n"
   ]
  },
  {
   "cell_type": "markdown",
   "metadata": {},
   "source": [
    "## Intro"
   ]
  },
  {
   "cell_type": "markdown",
   "metadata": {},
   "source": [
    "Syntax:\n",
    "```py\n",
    "    def function_name(parameters):\n",
    "    \n",
    "        \"\"\"\n",
    "        Doc String\n",
    "        \"\"\"\n",
    "        Statement(s)\n",
    "```\n",
    "\n",
    "1. keyword \"def\" marks the start of function header\n",
    "\n",
    "2. Parameters (arguments) through which we pass values to a function. These are optional\n",
    "\n",
    "3. A colon(:) to mark the end of funciton header\n",
    "\n",
    "4. Doc string describe what the function does. This is optional\n",
    "\n",
    "5. \"return\" statement to return a value from the function. This is optional"
   ]
  },
  {
   "cell_type": "code",
   "execution_count": 3,
   "metadata": {},
   "outputs": [],
   "source": [
    "# funciton definition\n",
    "def greeting(name):\n",
    "    print(\"Good Morning \",name)"
   ]
  },
  {
   "cell_type": "code",
   "execution_count": 6,
   "metadata": {},
   "outputs": [
    {
     "name": "stdout",
     "output_type": "stream",
     "text": [
      "<function greeting at 0x000002298CFA0E50>\n",
      "<class 'function'>\n"
     ]
    }
   ],
   "source": [
    "print(greeting)\n",
    "print(type(greeting))"
   ]
  },
  {
   "cell_type": "code",
   "execution_count": 8,
   "metadata": {},
   "outputs": [
    {
     "name": "stdout",
     "output_type": "stream",
     "text": [
      "Good Morning  Jhon\n"
     ]
    }
   ],
   "source": [
    "# function calling\n",
    "greeting(\"Jhon\")"
   ]
  },
  {
   "cell_type": "markdown",
   "metadata": {},
   "source": [
    "### Doc String\n",
    "\n",
    "The first string after the function header is called the docstring and is short for documentation string.\n",
    "Although optional, documentation is a good programming practice, always document your code\n",
    "Doc string will be written in triple quotes so that docstring can extend up to multiple lines"
   ]
  },
  {
   "cell_type": "code",
   "execution_count": 2,
   "metadata": {},
   "outputs": [],
   "source": [
    "def add(a,b):\n",
    "    \"\"\"\n",
    "     this is doc string\n",
    "     \n",
    "     returns sum of 2 numbers\n",
    "    \"\"\"\n",
    "    return(a+b)"
   ]
  },
  {
   "cell_type": "code",
   "execution_count": 5,
   "metadata": {},
   "outputs": [
    {
     "name": "stdout",
     "output_type": "stream",
     "text": [
      "6\n",
      "\n",
      "     this is doc string\n",
      "     \n",
      "     returns sum of 2 numbers\n",
      "    \n"
     ]
    }
   ],
   "source": [
    "res = add(3,3)\n",
    "print(res)\n",
    "print(add.__doc__)  # print doc string of the function"
   ]
  },
  {
   "cell_type": "code",
   "execution_count": 15,
   "metadata": {},
   "outputs": [],
   "source": [
    "def product(lst):\n",
    "    \"\"\"\n",
    "        lst : it is list\n",
    "        \n",
    "        return : product of all elements in a list\n",
    "    \"\"\"\n",
    "    s = 1\n",
    "    for i in lst:\n",
    "        s*=i\n",
    "    return s    "
   ]
  },
  {
   "cell_type": "code",
   "execution_count": 14,
   "metadata": {},
   "outputs": [
    {
     "name": "stdout",
     "output_type": "stream",
     "text": [
      "120\n"
     ]
    }
   ],
   "source": [
    "res = product([1,2,3,4,5])\n",
    "print(res)"
   ]
  },
  {
   "cell_type": "markdown",
   "metadata": {},
   "source": [
    "### Returning multiple values in form of a tuple"
   ]
  },
  {
   "cell_type": "code",
   "execution_count": 6,
   "metadata": {},
   "outputs": [],
   "source": [
    "def cal(a,b):\n",
    "    return(a+b,a-b,a*b,a/b)\n",
    "\n",
    "\n",
    "def cal2(a, b):\n",
    "    return a+b, a-b, a*b, a/b\n"
   ]
  },
  {
   "cell_type": "code",
   "execution_count": 7,
   "metadata": {},
   "outputs": [
    {
     "name": "stdout",
     "output_type": "stream",
     "text": [
      "(5, -1, 6, 0.6666666666666666)\n",
      "6\n",
      "<class 'tuple'>\n",
      "(5, -1, 6, 0.6666666666666666)\n",
      "6\n",
      "<class 'tuple'>\n"
     ]
    }
   ],
   "source": [
    "res = cal(2,3)\n",
    "print(res)\n",
    "print(res[2])\n",
    "print(type(res))\n",
    "\n",
    "res = cal2(2, 3)\n",
    "print(res)\n",
    "print(res[2])\n",
    "print(type(res))\n"
   ]
  },
  {
   "cell_type": "markdown",
   "metadata": {},
   "source": [
    "## Default Parameters "
   ]
  },
  {
   "cell_type": "code",
   "execution_count": 19,
   "metadata": {},
   "outputs": [],
   "source": [
    "def intro(name,age=20):\n",
    "    print(\"Hello\",name)\n",
    "    print(\"I'm \",age,\" years old.\")"
   ]
  },
  {
   "cell_type": "code",
   "execution_count": 21,
   "metadata": {},
   "outputs": [
    {
     "name": "stdout",
     "output_type": "stream",
     "text": [
      "Hello Soikat\n",
      "I'm  20  years old.\n",
      "\n",
      "Hello Soikat\n",
      "I'm  69  years old.\n"
     ]
    }
   ],
   "source": [
    "intro(\"Soikat\")\n",
    "print()\n",
    "intro(\"Soikat\",69)"
   ]
  },
  {
   "cell_type": "markdown",
   "metadata": {},
   "source": [
    "## Argument"
   ]
  },
  {
   "cell_type": "markdown",
   "metadata": {},
   "source": [
    "### Arbitrary arguments\n",
    "\n",
    "it can receive any number of arguments and store them in a `tuple`"
   ]
  },
  {
   "cell_type": "code",
   "execution_count": 4,
   "metadata": {},
   "outputs": [
    {
     "name": "stdout",
     "output_type": "stream",
     "text": [
      "(1, 2, 3, 4, 'Soikat', True)\n",
      "<class 'tuple'>\n",
      "2 4 6 8 SoikatSoikat 2 "
     ]
    }
   ],
   "source": [
    "def args_func(*args):\n",
    "    print(args)\n",
    "    print(type(args))\n",
    "    for i in args:\n",
    "        print(i*2,end=\" \")\n",
    "\n",
    "\n",
    "args_func(1, 2, 3, 4,\"Soikat\",True)\n"
   ]
  },
  {
   "cell_type": "markdown",
   "metadata": {},
   "source": [
    "### Keyword arguments (`**kwargs`)\n",
    "\n",
    "- it also takes any number of arguments and store them in `dictionary`\n",
    "- `parameter` name is mandatory while calling function"
   ]
  },
  {
   "cell_type": "code",
   "execution_count": null,
   "metadata": {},
   "outputs": [
    {
     "name": "stdout",
     "output_type": "stream",
     "text": [
      "{'name': 'soikat', 'age': 69, 'hobby': ['cricket', 'football']}\n",
      "<class 'dict'>\n",
      "name  :  soikat\n",
      "age  :  69\n",
      "hobby  :  ['cricket', 'football']\n"
     ]
    }
   ],
   "source": [
    "def intro(**kwargs):\n",
    "    print(kwargs)\n",
    "    print(type(kwargs))\n",
    "    \n",
    "    for k,v in kwargs.items():\n",
    "        print(k,\" : \",v)\n",
    "\n",
    "\n",
    "intro(name=\"soikat\", age=69, hobby=[\"cricket\", \"football\"])\n"
   ]
  },
  {
   "cell_type": "code",
   "execution_count": null,
   "metadata": {},
   "outputs": [
    {
     "name": "stdout",
     "output_type": "stream",
     "text": [
      "a b 22\n",
      "(1, 2, 3)\n",
      "{'x': 10, 'y': 20}\n"
     ]
    }
   ],
   "source": [
    "def combined(a,b,age=20,*args,**kwargs):\n",
    "\tprint(a,b,age)\n",
    "\tprint(args)\n",
    "\tprint(kwargs)\n",
    "\n",
    "combined('a','b',22,1,2,3,x=10,y=20)"
   ]
  },
  {
   "cell_type": "markdown",
   "metadata": {},
   "source": [
    "### 🚀Unpacking Argument Lists"
   ]
  },
  {
   "cell_type": "markdown",
   "metadata": {},
   "source": [
    "The reverse situation occurs when the arguments are already in a `list` or `tuple` but need to be unpacked for a function call requiring separate positional arguments. For instance, the built-in `range()` function expects separate start and stop arguments. If they are not available separately, write the function call with the `*-operator` to unpack the arguments out of a list or tuple:\n",
    "\n"
   ]
  },
  {
   "cell_type": "code",
   "execution_count": null,
   "metadata": {},
   "outputs": [
    {
     "name": "stdout",
     "output_type": "stream",
     "text": [
      "[3, 4, 5]\n",
      "[3, 4, 5]\n"
     ]
    }
   ],
   "source": [
    "print(list(range(3, 6)))             # normal call with separate arguments)\n",
    "args = [3, 6]\n",
    "print(list(range(*args)))           # call with arguments unpacked from a list\n"
   ]
  },
  {
   "cell_type": "markdown",
   "metadata": {},
   "source": [
    "In the same fashion, `dictionaries` can deliver keyword arguments with the `**-operator`:\n",
    "\n"
   ]
  },
  {
   "cell_type": "code",
   "execution_count": null,
   "metadata": {},
   "outputs": [
    {
     "name": "stdout",
     "output_type": "stream",
     "text": [
      "Soikat Germany DE\n"
     ]
    }
   ],
   "source": [
    "def info(name, country='Bangladesh', country_code='BD'):\n",
    "\tprint(name, country, country_code)\n",
    "\t\n",
    "info_dic = {\n",
    "\t'name': 'Soikat',\n",
    "\t'country': 'Germany',\n",
    "\t'country_code': 'DE'\n",
    "}\n",
    "\n",
    "info(**info_dic)"
   ]
  },
  {
   "cell_type": "markdown",
   "metadata": {},
   "source": [
    "## Scope and Life Time of Variables\n",
    "\n"
   ]
  },
  {
   "cell_type": "markdown",
   "metadata": {},
   "source": [
    "- Scope of a variable is the portion of a program where the variable is recognized\n",
    "- variables defined inside a function is not visible from outside. Hence, they have a local scope.\n",
    "- Lifetime of a variable is the period throughout which the variable exits in the memory. \n",
    "- The lifetime of variables inside a function is as long as the function executes.\n",
    "- Variables are destroyed once we return from the function. "
   ]
  },
  {
   "cell_type": "code",
   "execution_count": 3,
   "metadata": {},
   "outputs": [
    {
     "name": "stdout",
     "output_type": "stream",
     "text": [
      "inside fn: This is local variable\n",
      "inside fn: This is global variable\n",
      "This is global variable\n"
     ]
    },
    {
     "ename": "NameError",
     "evalue": "name 'local_var' is not defined",
     "output_type": "error",
     "traceback": [
      "\u001b[1;31m---------------------------------------------------------------------------\u001b[0m",
      "\u001b[1;31mNameError\u001b[0m                                 Traceback (most recent call last)",
      "\u001b[1;32m~\\AppData\\Local\\Temp/ipykernel_17224/1423070490.py\u001b[0m in \u001b[0;36m<module>\u001b[1;34m\u001b[0m\n\u001b[0;32m     19\u001b[0m \u001b[1;33m\u001b[0m\u001b[0m\n\u001b[0;32m     20\u001b[0m \u001b[1;31m#print local variable of the function\u001b[0m\u001b[1;33m\u001b[0m\u001b[1;33m\u001b[0m\u001b[0m\n\u001b[1;32m---> 21\u001b[1;33m \u001b[0mprint\u001b[0m\u001b[1;33m(\u001b[0m\u001b[0mlocal_var\u001b[0m\u001b[1;33m)\u001b[0m\u001b[1;33m\u001b[0m\u001b[1;33m\u001b[0m\u001b[0m\n\u001b[0m",
      "\u001b[1;31mNameError\u001b[0m: name 'local_var' is not defined"
     ]
    }
   ],
   "source": [
    "global_var = \"This is global variable\"\n",
    "\n",
    "\n",
    "def test_life_time():\n",
    "    \"\"\"\n",
    "    This function test the life time of a variables\n",
    "    \"\"\"\n",
    "    local_var = \"This is local variable\"\n",
    "    print(f\"inside fn: {local_var}\")  # print local variable local_var\n",
    "\n",
    "    print(f\"inside fn: {global_var}\")  # print global variable global_var\n",
    "\n",
    "\n",
    "#calling function\n",
    "test_life_time()\n",
    "\n",
    "#print global variable global_var\n",
    "print(global_var)\n",
    "\n",
    "#print local variable of the function\n",
    "print(local_var)\n"
   ]
  },
  {
   "cell_type": "markdown",
   "metadata": {},
   "source": [
    "### 🍉Modifying Global Variable From Inside the Function"
   ]
  },
  {
   "cell_type": "code",
   "execution_count": 7,
   "metadata": {},
   "outputs": [],
   "source": [
    "c = 1  # global variable\n",
    "\n",
    "\n",
    "def add():\n",
    "    c = c + 2  # increment c by 2\n",
    "    print(c)\n",
    "\n",
    "\n",
    "add()\n"
   ]
  },
  {
   "cell_type": "markdown",
   "metadata": {},
   "source": [
    "When we run the above program, the output shows an error:\n",
    "```\n",
    "UnboundLocalError: local variable 'c' referenced before assignment\n",
    "```\n",
    "This is because we can only access the global variable but cannot modify it from inside the function.\n",
    "\n",
    "The solution for this is to use the `global` keyword."
   ]
  },
  {
   "cell_type": "code",
   "execution_count": 8,
   "metadata": {},
   "outputs": [
    {
     "name": "stdout",
     "output_type": "stream",
     "text": [
      "Inside add(): 2\n",
      "In main: 2\n"
     ]
    }
   ],
   "source": [
    "c = 0  # global variable\n",
    "\n",
    "\n",
    "def add():\n",
    "    global c\n",
    "    c = c + 2  # increment by 2\n",
    "    print(\"Inside add():\", c)\n",
    "\n",
    "\n",
    "add()\n",
    "print(\"In main:\", c)\n"
   ]
  },
  {
   "cell_type": "markdown",
   "metadata": {},
   "source": [
    "- [https://www.programiz.com/python-programming/global-keyword](https://www.programiz.com/python-programming/global-keyword)"
   ]
  },
  {
   "cell_type": "markdown",
   "metadata": {},
   "source": [
    "## Lambda\n",
    "\n",
    "In Python, anonymous function is a function that is defined without a name.\n",
    "\n",
    "While normal functions are defined using the def keyword, in Python anonymous functions are defined using the lambda keyword.\n",
    "\n",
    "Lambda functions are used extensively along with built-in functions like filter(), map()\n",
    "\n",
    "**syntax:**\n",
    "```py    \n",
    "    lambda arguments: expression\n",
    "```\n"
   ]
  },
  {
   "cell_type": "code",
   "execution_count": 10,
   "metadata": {},
   "outputs": [
    {
     "name": "stdout",
     "output_type": "stream",
     "text": [
      "3\n",
      "1\n"
     ]
    }
   ],
   "source": [
    "# def add(a,b):\n",
    "\t# return a+b\n",
    "\n",
    "add = lambda a,b : a+b\n",
    "sub = (lambda a,b : a-b)\n",
    "print(add(1,2))\n",
    "print(sub(2,1))"
   ]
  },
  {
   "cell_type": "code",
   "execution_count": 14,
   "metadata": {},
   "outputs": [
    {
     "data": {
      "text/plain": [
       "0"
      ]
     },
     "execution_count": 14,
     "metadata": {},
     "output_type": "execute_result"
    }
   ],
   "source": [
    "(lambda x,y : x+y if x+y>0 else 0)(5,-40)"
   ]
  },
  {
   "cell_type": "code",
   "execution_count": 15,
   "metadata": {},
   "outputs": [
    {
     "data": {
      "text/plain": [
       "45"
      ]
     },
     "execution_count": 15,
     "metadata": {},
     "output_type": "execute_result"
    }
   ],
   "source": [
    "func = (lambda x, y: x+y if x+y > 0 else 0)\n",
    "func(5, 40)"
   ]
  },
  {
   "cell_type": "code",
   "execution_count": 16,
   "metadata": {},
   "outputs": [
    {
     "data": {
      "text/plain": [
       "[('A', 6), ('B', 5), ('C', 2)]"
      ]
     },
     "execution_count": 16,
     "metadata": {},
     "output_type": "execute_result"
    }
   ],
   "source": [
    "names = [('B',5),('C',2),('A',6)]\n",
    "sorted(names)"
   ]
  },
  {
   "cell_type": "code",
   "execution_count": 17,
   "metadata": {},
   "outputs": [
    {
     "data": {
      "text/plain": [
       "[('C', 2), ('B', 5), ('A', 6)]"
      ]
     },
     "execution_count": 17,
     "metadata": {},
     "output_type": "execute_result"
    }
   ],
   "source": [
    "sorted(names,key=lambda x:x[1])"
   ]
  },
  {
   "cell_type": "markdown",
   "metadata": {},
   "source": [
    "## In-built Functions\n",
    "\n",
    " - `abs()`\n",
    " - `round()`\n",
    " - Aggregation functions: `sum(),max(),min()`\n",
    " - `all()` and `any()`\n",
    " - `enumerate()`\n",
    " - `filter()`\n",
    " - `map()`\n",
    " - `reduce()`"
   ]
  },
  {
   "cell_type": "markdown",
   "metadata": {},
   "source": [
    "### math"
   ]
  },
  {
   "cell_type": "code",
   "execution_count": 1,
   "metadata": {},
   "outputs": [
    {
     "name": "stdout",
     "output_type": "stream",
     "text": [
      "\u001b[1;31mSignature:\u001b[0m \u001b[0mabs\u001b[0m\u001b[1;33m(\u001b[0m\u001b[0mx\u001b[0m\u001b[1;33m,\u001b[0m \u001b[1;33m/\u001b[0m\u001b[1;33m)\u001b[0m\u001b[1;33m\u001b[0m\u001b[1;33m\u001b[0m\u001b[0m\n",
      "\u001b[1;31mDocstring:\u001b[0m Return the absolute value of the argument.\n",
      "\u001b[1;31mType:\u001b[0m      builtin_function_or_method\n"
     ]
    }
   ],
   "source": [
    "abs?"
   ]
  },
  {
   "cell_type": "code",
   "execution_count": 38,
   "metadata": {},
   "outputs": [
    {
     "data": {
      "text/plain": [
       "1.2"
      ]
     },
     "execution_count": 38,
     "metadata": {},
     "output_type": "execute_result"
    }
   ],
   "source": [
    "abs(-1.2)"
   ]
  },
  {
   "cell_type": "code",
   "execution_count": 43,
   "metadata": {},
   "outputs": [
    {
     "name": "stdout",
     "output_type": "stream",
     "text": [
      "5.68\n"
     ]
    },
    {
     "data": {
      "text/plain": [
       "6"
      ]
     },
     "execution_count": 43,
     "metadata": {},
     "output_type": "execute_result"
    }
   ],
   "source": [
    "n = round(5.67876,2)\n",
    "print(n)\n",
    "round(5.67876333)"
   ]
  },
  {
   "cell_type": "markdown",
   "metadata": {},
   "source": [
    "### Aggregation Functions"
   ]
  },
  {
   "cell_type": "code",
   "execution_count": 45,
   "metadata": {},
   "outputs": [
    {
     "data": {
      "text/plain": [
       "21"
      ]
     },
     "execution_count": 45,
     "metadata": {},
     "output_type": "execute_result"
    }
   ],
   "source": [
    "l = [2,6,3,2,6,2]\n",
    "\n",
    "sum(l)"
   ]
  },
  {
   "cell_type": "code",
   "execution_count": 47,
   "metadata": {},
   "outputs": [
    {
     "data": {
      "text/plain": [
       "6"
      ]
     },
     "execution_count": 47,
     "metadata": {},
     "output_type": "execute_result"
    }
   ],
   "source": [
    "max(l)"
   ]
  },
  {
   "cell_type": "code",
   "execution_count": 48,
   "metadata": {},
   "outputs": [
    {
     "data": {
      "text/plain": [
       "2"
      ]
     },
     "execution_count": 48,
     "metadata": {},
     "output_type": "execute_result"
    }
   ],
   "source": [
    "min(l)"
   ]
  },
  {
   "cell_type": "markdown",
   "metadata": {},
   "source": [
    "### `all()` and `any()`\n",
    "\n",
    "- `all()`\n",
    "  - `True`: if all elements in an iterable are true.\n",
    "  - `False`: if any elements in an iterable is true.\n",
    "  \n",
    "- `any()`\n",
    "  - `True`: if any one of the element in an iterable are true.\n",
    "  - `False`: otherwise."
   ]
  },
  {
   "cell_type": "code",
   "execution_count": 6,
   "metadata": {},
   "outputs": [
    {
     "name": "stdout",
     "output_type": "stream",
     "text": [
      "True\n",
      "\n",
      "False\n",
      "\n",
      "True\n"
     ]
    }
   ],
   "source": [
    "lst = [1,2,3,4]\n",
    "print(all(lst))\n",
    "print()\n",
    "tup = (0,1,2,3) # 0 is present\n",
    "print(all(tup))\n",
    "print()\n",
    "lst = []\n",
    "print(all(lst)) # no el that is false"
   ]
  },
  {
   "cell_type": "code",
   "execution_count": 7,
   "metadata": {},
   "outputs": [
    {
     "name": "stdout",
     "output_type": "stream",
     "text": [
      "True\n",
      "\n",
      "True\n",
      "\n",
      "False\n"
     ]
    }
   ],
   "source": [
    "lst = [1,2,3,4]\n",
    "print(any(lst))\n",
    "print()\n",
    "tup = (0,1,2,3) # 0 is present\n",
    "print(any(tup))\n",
    "print()\n",
    "lst = []\n",
    "print(any(lst)) # no el that is true"
   ]
  },
  {
   "cell_type": "markdown",
   "metadata": {},
   "source": [
    "### `dir` \n",
    "\n",
    "- displays all the functions associated with an object"
   ]
  },
  {
   "cell_type": "code",
   "execution_count": 12,
   "metadata": {},
   "outputs": [
    {
     "name": "stdout",
     "output_type": "stream",
     "text": [
      "\n"
     ]
    }
   ],
   "source": [
    "lst = [1,2,3]\n",
    "dir(lst)\n",
    "print()\n",
    "# ['__add__',\n",
    "#  '__class__',\n",
    "#  '__contains__',\n",
    "#  .............\n",
    "# 'append',\n",
    "# 'clear',\n",
    "# 'copy',\n",
    "# 'count',\n",
    "# 'extend',\n",
    "# 'index',\n",
    "# 'insert',\n",
    "# 'pop',\n",
    "# 'remove',\n",
    "# 'reverse',\n",
    "# 'sort']\n"
   ]
  },
  {
   "cell_type": "markdown",
   "metadata": {},
   "source": [
    "### `enumerate()`\n",
    "\n",
    "- adds a counter to an iterable and returns it in a form of enumerate object."
   ]
  },
  {
   "cell_type": "code",
   "execution_count": 13,
   "metadata": {},
   "outputs": [
    {
     "name": "stdout",
     "output_type": "stream",
     "text": [
      "0 apple\n",
      "1 mango\n",
      "2 banana\n",
      "3 grapes\n"
     ]
    }
   ],
   "source": [
    "f = ['apple','mango','banana','grapes']\n",
    "\n",
    "for idx,el in enumerate(f):\n",
    "\tprint(idx,el)"
   ]
  },
  {
   "cell_type": "markdown",
   "metadata": {},
   "source": [
    "### `map()`\n",
    "\n",
    "- Map applies a function to all the items of an iterable"
   ]
  },
  {
   "cell_type": "code",
   "execution_count": 16,
   "metadata": {},
   "outputs": [
    {
     "name": "stdout",
     "output_type": "stream",
     "text": [
      "[2, 3, 4, 5, 6]\n"
     ]
    }
   ],
   "source": [
    "l = [1, 2, 3, 4, 5]\n",
    "\n",
    "new_l = []\n",
    "for el in l:\n",
    "\tnew_l.append(el+1)\n",
    "\n",
    "print(new_l)"
   ]
  },
  {
   "cell_type": "code",
   "execution_count": 50,
   "metadata": {},
   "outputs": [
    {
     "name": "stdout",
     "output_type": "stream",
     "text": [
      "<map object at 0x000002298D65F7F0>\n",
      "[2, 3, 4, 5, 6]\n"
     ]
    }
   ],
   "source": [
    "l =[1,2,3,4,5]\n",
    "def add_one(x):\n",
    "    return x+1;\n",
    "new_l = map(add_one,l)\n",
    "print(new_l) \n",
    "print(list(new_l))"
   ]
  },
  {
   "cell_type": "code",
   "execution_count": 19,
   "metadata": {},
   "outputs": [
    {
     "data": {
      "text/plain": [
       "[2, 3, 4, 5, 6]"
      ]
     },
     "execution_count": 19,
     "metadata": {},
     "output_type": "execute_result"
    }
   ],
   "source": [
    "m = map(lambda x : x+1,l)\n",
    "list(m)"
   ]
  },
  {
   "cell_type": "markdown",
   "metadata": {},
   "source": [
    "### `filter()`\n",
    "\n",
    "- The filter() method construct an iterator from elements of an iterable for which a function returns true."
   ]
  },
  {
   "cell_type": "code",
   "execution_count": 22,
   "metadata": {},
   "outputs": [
    {
     "data": {
      "text/plain": [
       "[2, 4, 6]"
      ]
     },
     "execution_count": 22,
     "metadata": {},
     "output_type": "execute_result"
    }
   ],
   "source": [
    "l = [1,2,3,4,5,6]\n",
    "new_l = []\n",
    "for el in l:\n",
    "    if el%2 == 0:\n",
    "        new_l.append(el)\n",
    "new_l\n",
    "\n"
   ]
  },
  {
   "cell_type": "code",
   "execution_count": 52,
   "metadata": {},
   "outputs": [
    {
     "name": "stdout",
     "output_type": "stream",
     "text": [
      "<filter object at 0x000002298D323E50>\n",
      "[2, 4, 6]\n"
     ]
    }
   ],
   "source": [
    "l = [1,2,3,4,5,6]\n",
    "\n",
    "# filter even elements\n",
    "def is_even(x):\n",
    "    return x%2==0;\n",
    "\n",
    "filtered_el = filter(is_even,l)\n",
    "print(filtered_el)\n",
    "print(list(filtered_el))"
   ]
  },
  {
   "cell_type": "code",
   "execution_count": 23,
   "metadata": {},
   "outputs": [
    {
     "data": {
      "text/plain": [
       "[2, 4, 6]"
      ]
     },
     "execution_count": 23,
     "metadata": {},
     "output_type": "execute_result"
    }
   ],
   "source": [
    "list(filter(lambda x:x%2==0,l))"
   ]
  },
  {
   "cell_type": "markdown",
   "metadata": {},
   "source": [
    "### `reduce()`\n",
    "\n",
    "- perform some computation on a list and returns the result.\n",
    "- It applies a rolling computation to a sequential pairs of a values in a list."
   ]
  },
  {
   "cell_type": "code",
   "execution_count": 24,
   "metadata": {},
   "outputs": [
    {
     "name": "stdout",
     "output_type": "stream",
     "text": [
      "120\n"
     ]
    }
   ],
   "source": [
    "# product of elements in a list\n",
    "lst = [1,2,3,4,5]\n",
    "\n",
    "product = 1\n",
    "for num in lst:\n",
    "\tproduct *= num\n",
    "\n",
    "print(product)"
   ]
  },
  {
   "cell_type": "markdown",
   "metadata": {},
   "source": [
    "```\n",
    "[ 1, 2, 3, 4, 5]\n",
    "  [ 2, 3, 4, 5]\n",
    "    [ 6, 4, 5]\n",
    "      [ 24, 5]\n",
    "        120\n",
    "```"
   ]
  },
  {
   "cell_type": "code",
   "execution_count": 26,
   "metadata": {},
   "outputs": [
    {
     "data": {
      "text/plain": [
       "120"
      ]
     },
     "execution_count": 26,
     "metadata": {},
     "output_type": "execute_result"
    }
   ],
   "source": [
    "from functools import reduce\n",
    "\n",
    "def mul(x,y):\n",
    "\treturn x*y\n",
    "\n",
    "product = reduce(mul,lst)\n",
    "product"
   ]
  },
  {
   "cell_type": "code",
   "execution_count": 29,
   "metadata": {},
   "outputs": [
    {
     "data": {
      "text/plain": [
       "120"
      ]
     },
     "execution_count": 29,
     "metadata": {},
     "output_type": "execute_result"
    }
   ],
   "source": [
    "product_lst = reduce(lambda x, y: x*y, lst)\n",
    "product_lst"
   ]
  }
 ],
 "metadata": {
  "interpreter": {
   "hash": "13a64c48d63ab7fa89dd239a6172cf842d756bd82fcb4ba948a9115b41dc50a1"
  },
  "kernelspec": {
   "display_name": "Python 3.9.7 ('base')",
   "language": "python",
   "name": "python3"
  },
  "language_info": {
   "codemirror_mode": {
    "name": "ipython",
    "version": 3
   },
   "file_extension": ".py",
   "mimetype": "text/x-python",
   "name": "python",
   "nbconvert_exporter": "python",
   "pygments_lexer": "ipython3",
   "version": "3.9.7"
  },
  "orig_nbformat": 2
 },
 "nbformat": 4,
 "nbformat_minor": 2
}
