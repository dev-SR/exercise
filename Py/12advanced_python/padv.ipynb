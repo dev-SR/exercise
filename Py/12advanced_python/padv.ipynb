{
 "cells": [
  {
   "cell_type": "markdown",
   "metadata": {},
   "source": [
    "# Advance Topics in Python"
   ]
  },
  {
   "cell_type": "code",
   "execution_count": 1,
   "metadata": {},
   "outputs": [],
   "source": [
    "\"\"\"\n",
    "cd .\\Py\\12advanced_python\\\n",
    "jupyter nbconvert --to markdown padv.ipynb --output README.md\n",
    "\"\"\"\n"
   ]
  },
  {
   "cell_type": "markdown",
   "metadata": {},
   "source": [
    "## Type Hints & Annotations"
   ]
  },
  {
   "cell_type": "markdown",
   "metadata": {},
   "source": [
    "Static typing in Python is optional and can be introduced gradually (this is known as gradual typing). With gradual typing, you can choose to specify the portion of your code that should be dynamically or statically typed. The static type-checkers will ignore the dynamically-typed portions of your code and will not give out warnings on code that does not have type hints nor prevents inconsistent types from compiling during runtime."
   ]
  },
  {
   "cell_type": "markdown",
   "metadata": {},
   "source": [
    "- [logrocket.com/understanding-type-annotation-python](https://blog.logrocket.com/understanding-type-annotation-python/#:~:text=With%20type%20hints%2C%20you%20can,them%20to%20your%20Python%20code.)\n",
    "- [https://dev.to/dan_starner/using-pythons-type-annotations-4cfe](https://dev.to/dan_starner/using-pythons-type-annotations-4cfe)\n",
    "- [https://towardsdatascience.com/type-annotations-in-python-d90990b172dc](https://towardsdatascience.com/type-annotations-in-python-d90990b172dc)"
   ]
  },
  {
   "cell_type": "markdown",
   "metadata": {},
   "source": [
    "### Adding type hints to variables"
   ]
  },
  {
   "cell_type": "markdown",
   "metadata": {},
   "source": [
    "In Python, you can define a variable with a type hint using the following syntax:\n",
    "\n",
    "```py\n",
    "variable_name: type = value\n",
    "```"
   ]
  },
  {
   "cell_type": "code",
   "execution_count": 11,
   "metadata": {},
   "outputs": [],
   "source": [
    "# Built-in class examples\n",
    "an_int: int = 3\n",
    "a_float: float = 1.23\n",
    "a_str: str = 'Hello'\n",
    "a_bool: bool = False\n",
    "a_list: list = [1, 2, 3]\n",
    "a_set: set = set([1, 2, 3])  # or {1, 2, 3}\n",
    "a_dict: dict = {'a': 1, 'b': 2}"
   ]
  },
  {
   "cell_type": "markdown",
   "metadata": {},
   "source": [
    "- If you’re using Python `≤3.8`, you need to import `List` from the typing module:\n",
    "- If you’re using Python `≤3.8`, you need to import `Dict` from the typing module.\n",
    "\n",
    "\n"
   ]
  },
  {
   "cell_type": "code",
   "execution_count": 23,
   "metadata": {},
   "outputs": [],
   "source": [
    "name: str = \"soikat\"\n"
   ]
  },
  {
   "cell_type": "markdown",
   "metadata": {},
   "source": [
    "In Python, you can read the type hints defined on variables using the `__annotations__` dictionary:"
   ]
  },
  {
   "cell_type": "code",
   "execution_count": 13,
   "metadata": {},
   "outputs": [
    {
     "data": {
      "text/plain": [
       "{'name': str,\n",
       " 'g': dict[str, int],\n",
       " 'an_int': int,\n",
       " 'a_float': float,\n",
       " 'a_str': str,\n",
       " 'a_bool': bool,\n",
       " 'a_list': list,\n",
       " 'a_set': set,\n",
       " 'a_dict': dict}"
      ]
     },
     "execution_count": 13,
     "metadata": {},
     "output_type": "execute_result"
    }
   ],
   "source": [
    "__annotations__"
   ]
  },
  {
   "cell_type": "markdown",
   "metadata": {},
   "source": [
    "#### Forcing Type Checks on Runtime"
   ]
  },
  {
   "cell_type": "markdown",
   "metadata": {},
   "source": [
    "As mentioned earlier, the Python interpreter does not enforce types, so defining a variable with a wrong type won’t trigger an error:"
   ]
  },
  {
   "cell_type": "code",
   "execution_count": 14,
   "metadata": {},
   "outputs": [
    {
     "data": {
      "text/plain": [
       "'soikat'"
      ]
     },
     "execution_count": 14,
     "metadata": {},
     "output_type": "execute_result"
    }
   ],
   "source": [
    "name: int = \"soikat\"\n",
    "name\n"
   ]
  },
  {
   "cell_type": "markdown",
   "metadata": {},
   "source": [
    "Since Python is by default, a dynamically-typed language, tools like `mypy` were created to give us the benefits of a statically-typed environment. `mypy` is a optional static type checker created by Jukka Lehtosalo. It checks for annotated code in Python and emits warnings if annotated types are used inconsistently."
   ]
  },
  {
   "cell_type": "markdown",
   "metadata": {},
   "source": [
    "You can force type checks on runtime with mypy (documentation). Before doing so, install it with either pip or conda:\n",
    "\n"
   ]
  },
  {
   "cell_type": "markdown",
   "metadata": {},
   "source": [
    "```\n",
    "pip install mypy\n",
    "conda install mypy\n",
    "```"
   ]
  },
  {
   "cell_type": "markdown",
   "metadata": {},
   "source": [
    "Then Run the following command to check your code:\n",
    "\n",
    "```\n",
    "# deactivate inside vscode notebook\n",
    "# conda deactivate   \n",
    "mypy script.py\n",
    "```"
   ]
  },
  {
   "cell_type": "markdown",
   "metadata": {},
   "source": [
    "##### Using with jupyter notebook:"
   ]
  },
  {
   "cell_type": "markdown",
   "metadata": {},
   "source": [
    " [https://gitlab.tue.nl/jupyter-projects/nb_mypy/-/blob/master/Nb_Mypy.ipynb](https://gitlab.tue.nl/jupyter-projects/nb_mypy/-/blob/master/Nb_Mypy.ipynb)"
   ]
  },
  {
   "cell_type": "code",
   "execution_count": 21,
   "metadata": {},
   "outputs": [],
   "source": [
    "# installation\n",
    "# !pip install nb_mypy"
   ]
  },
  {
   "cell_type": "code",
   "execution_count": 18,
   "metadata": {},
   "outputs": [
    {
     "name": "stderr",
     "output_type": "stream",
     "text": [
      "Version 1.0.3\n"
     ]
    }
   ],
   "source": [
    "%load_ext nb_mypy\n"
   ]
  },
  {
   "cell_type": "code",
   "execution_count": 24,
   "metadata": {},
   "outputs": [
    {
     "name": "stderr",
     "output_type": "stream",
     "text": [
      "<cell>1: error: Incompatible types in assignment (expression has type \"int\", variable has type \"str\")\n"
     ]
    }
   ],
   "source": [
    "answer: str = 30"
   ]
  },
  {
   "cell_type": "markdown",
   "metadata": {},
   "source": [
    "Other options: [https://stackoverflow.com/questions/58976685/type-check-jupyter-notebooks-with-mypy/72331068#72331068](https://stackoverflow.com/questions/58976685/type-check-jupyter-notebooks-with-mypy/72331068#72331068)"
   ]
  },
  {
   "cell_type": "markdown",
   "metadata": {},
   "source": [
    "### Adding types hints to functions"
   ]
  },
  {
   "cell_type": "markdown",
   "metadata": {},
   "source": [
    "To annotate a function, declare the annotation after each parameter and the return value:\n",
    "\n",
    "```python\n",
    "def function_name(param1: param1_type, param2: param2_type) -> return_type:\n",
    "```"
   ]
  },
  {
   "cell_type": "code",
   "execution_count": 28,
   "metadata": {},
   "outputs": [
    {
     "name": "stderr",
     "output_type": "stream",
     "text": [
      "<cell>1: error: Missing return statement\n"
     ]
    },
    {
     "name": "stdout",
     "output_type": "stream",
     "text": [
      "Python 3.1 has been released\n"
     ]
    }
   ],
   "source": [
    "def announcement(language: str, version: float) -> str:\n",
    "    print(f\"{language} {version} has been released\")\n",
    "\n",
    "announcement(\"Python\", 3.10)"
   ]
  },
  {
   "cell_type": "markdown",
   "metadata": {},
   "source": [
    "### Adding union type hints in function parameters"
   ]
  },
  {
   "cell_type": "code",
   "execution_count": 32,
   "metadata": {},
   "outputs": [
    {
     "name": "stderr",
     "output_type": "stream",
     "text": [
      "<cell>1: error: X | Y syntax for unions requires Python 3.10\n"
     ]
    },
    {
     "ename": "TypeError",
     "evalue": "unsupported operand type(s) for |: 'type' and 'type'",
     "output_type": "error",
     "traceback": [
      "\u001b[1;31m---------------------------------------------------------------------------\u001b[0m",
      "\u001b[1;31mTypeError\u001b[0m                                 Traceback (most recent call last)",
      "\u001b[1;32m~\\AppData\\Local\\Temp/ipykernel_14388/883972686.py\u001b[0m in \u001b[0;36m<module>\u001b[1;34m\u001b[0m\n\u001b[1;32m----> 1\u001b[1;33m \u001b[1;32mdef\u001b[0m \u001b[0mshow_type\u001b[0m\u001b[1;33m(\u001b[0m\u001b[0mnum\u001b[0m\u001b[1;33m:\u001b[0m \u001b[0mstr\u001b[0m \u001b[1;33m|\u001b[0m \u001b[0mint\u001b[0m\u001b[1;33m)\u001b[0m \u001b[1;33m->\u001b[0m \u001b[1;32mNone\u001b[0m\u001b[1;33m:\u001b[0m\u001b[1;33m\u001b[0m\u001b[1;33m\u001b[0m\u001b[0m\n\u001b[0m\u001b[0;32m      2\u001b[0m         \u001b[1;32mpass\u001b[0m\u001b[1;33m\u001b[0m\u001b[1;33m\u001b[0m\u001b[0m\n\u001b[0;32m      3\u001b[0m \u001b[1;33m\u001b[0m\u001b[0m\n\u001b[0;32m      4\u001b[0m \u001b[0mshow_type\u001b[0m\u001b[1;33m(\u001b[0m\u001b[1;34m'hello'\u001b[0m\u001b[1;33m)\u001b[0m\u001b[1;33m\u001b[0m\u001b[1;33m\u001b[0m\u001b[0m\n\u001b[0;32m      5\u001b[0m \u001b[0mshow_type\u001b[0m\u001b[1;33m(\u001b[0m\u001b[1;36m3\u001b[0m\u001b[1;33m)\u001b[0m\u001b[1;33m\u001b[0m\u001b[1;33m\u001b[0m\u001b[0m\n",
      "\u001b[1;31mTypeError\u001b[0m: unsupported operand type(s) for |: 'type' and 'type'"
     ]
    }
   ],
   "source": [
    "def show_type(num: str | int) -> None:\n",
    "\tpass\n",
    "\n",
    "show_type('hello')\n",
    "show_type(3)"
   ]
  },
  {
   "cell_type": "markdown",
   "metadata": {},
   "source": [
    "If you’re using Python ≤3.9, you need to `import Union` from the typing module. The parameter can be annotated as follows:\n",
    "\n"
   ]
  },
  {
   "cell_type": "code",
   "execution_count": 35,
   "metadata": {},
   "outputs": [
    {
     "name": "stderr",
     "output_type": "stream",
     "text": [
      "<cell>10: error: Argument 1 to \"show_type\" has incompatible type \"List[int]\"; expected \"Union[str, int]\"\n"
     ]
    },
    {
     "name": "stdout",
     "output_type": "stream",
     "text": [
      "<class 'str'>\n",
      "<class 'int'>\n",
      "<class 'list'>\n"
     ]
    }
   ],
   "source": [
    "from typing import Union\n",
    "\n",
    "\n",
    "def show_type(num: Union[str, int]) -> None:\n",
    "\tprint(type(num))\n",
    "\n",
    "\n",
    "show_type('hello')\n",
    "show_type(3)\n",
    "show_type([3])"
   ]
  },
  {
   "cell_type": "markdown",
   "metadata": {},
   "source": [
    "### Adding type hints to optional function parameters"
   ]
  },
  {
   "cell_type": "markdown",
   "metadata": {},
   "source": [
    "Not all parameters in a function are required; some are optional. Here’s an example of a function that takes an optional parameter:"
   ]
  },
  {
   "cell_type": "code",
   "execution_count": 36,
   "metadata": {},
   "outputs": [
    {
     "data": {
      "text/plain": [
       "'Name: Mr. John Doe'"
      ]
     },
     "execution_count": 36,
     "metadata": {},
     "output_type": "execute_result"
    }
   ],
   "source": [
    "from typing import Optional\n",
    "def format_name(name: str, title: Optional[str] = None) -> str:\n",
    "    if title:\n",
    "        return f\"Name: {title}. {name.title()}\"\n",
    "    else:\n",
    "        return f\"Name: {name.title()}\"\n",
    "\n",
    "\n",
    "format_name(\"john doe\", \"Mr\")\n"
   ]
  },
  {
   "cell_type": "markdown",
   "metadata": {},
   "source": [
    "### Type Aliases"
   ]
  },
  {
   "cell_type": "markdown",
   "metadata": {},
   "source": [
    "If you want to work with custom type names, you can use type aliases."
   ]
  },
  {
   "cell_type": "code",
   "execution_count": 40,
   "metadata": {},
   "outputs": [
    {
     "name": "stderr",
     "output_type": "stream",
     "text": [
      "<cell>14: error: List item 0 has incompatible type \"Tuple[str, str]\"; expected \"Tuple[int, int]\"\n",
      "<cell>14: error: List item 1 has incompatible type \"Tuple[str, str]\"; expected \"Tuple[int, int]\"\n"
     ]
    },
    {
     "name": "stdout",
     "output_type": "stream",
     "text": [
      "X: 1   Y: 2\n",
      "X: 3   Y: 4\n",
      "X: 1   Y: 2\n",
      "X: 3   Y: 4\n"
     ]
    }
   ],
   "source": [
    "from typing import Tuple\n",
    "\n",
    "\n",
    "# Declare a point type annotation using a tuple of ints of [x, y]\n",
    "Point = Tuple[int, int]\n",
    "\n",
    "\n",
    "# Create a function designed to take in a list of Points\n",
    "def print_points(points: list[Point]):\n",
    "    for point in points:\n",
    "        print(\"X:\", point[0], \"  Y:\", point[1])\n",
    "\n",
    "print_points([(1, 2), (3, 4)])\n",
    "print_points([(\"1\", \"2\"), (\"3\", \"4\")])\n"
   ]
  },
  {
   "cell_type": "markdown",
   "metadata": {},
   "source": [
    "### Annotating constants with Final"
   ]
  },
  {
   "cell_type": "markdown",
   "metadata": {},
   "source": [
    "At the time of writing, Python does not have an inbuilt way of defining constants. Starting with Python `3.10`, you can use the Final type from the typing module. This will mean mypy will emit warnings if there are attempts to change the variable value."
   ]
  },
  {
   "cell_type": "code",
   "execution_count": 37,
   "metadata": {},
   "outputs": [
    {
     "name": "stderr",
     "output_type": "stream",
     "text": [
      "<cell>3: error: Cannot assign to final name \"MIN\"\n"
     ]
    }
   ],
   "source": [
    "from typing import Final\n",
    "MIN: Final = 10\n",
    "MIN = MIN + 3"
   ]
  },
  {
   "cell_type": "markdown",
   "metadata": {},
   "source": [
    "### Annotate instances of a class"
   ]
  },
  {
   "cell_type": "code",
   "execution_count": 58,
   "metadata": {},
   "outputs": [
    {
     "name": "stderr",
     "output_type": "stream",
     "text": [
      "<cell>9: error: Argument \"age\" to \"Animal\" has incompatible type \"str\"; expected \"int\"\n",
      "<cell>10: error: Incompatible types in assignment (expression has type \"str\", variable has type \"Animal\")\n"
     ]
    }
   ],
   "source": [
    "from dataclasses import dataclass\n",
    "\n",
    "@dataclass\n",
    "class Animal:\n",
    "    name: str\n",
    "    age: int\n",
    "\n",
    "# instance type: Animal\n",
    "dog:Animal = Animal(name=\"Kevin\", age=\"3\")\n",
    "dog=\"lol\""
   ]
  },
  {
   "cell_type": "markdown",
   "metadata": {},
   "source": [
    "### Annotate Class Type"
   ]
  },
  {
   "cell_type": "code",
   "execution_count": 64,
   "metadata": {},
   "outputs": [
    {
     "name": "stderr",
     "output_type": "stream",
     "text": [
      "<cell>10: error: \"Animal\" not callable\n",
      "<cell>13: error: Argument 1 to \"make_animal\" has incompatible type \"Type[Animal]\"; expected \"Animal\"\n"
     ]
    }
   ],
   "source": [
    "from dataclasses import dataclass\n",
    "\n",
    "@dataclass\n",
    "class Animal:\n",
    "    name: str\n",
    "    age: int\n",
    "    \n",
    "# take Animal class and return instance of Animal\n",
    "def make_animal(animal_class: Animal, name: str,age:int) -> Animal:\n",
    "    return animal_class(name=name, age=age)\n",
    "\n",
    "\n",
    "dog = make_animal(Animal, \"Kevin\",3)\n"
   ]
  },
  {
   "cell_type": "markdown",
   "metadata": {},
   "source": [
    "The type of `animal_class` looks the same as the return type though, even though we know the first is a `class` and the second an `instance`. What we should use instead is `type[Animal]`:"
   ]
  },
  {
   "cell_type": "code",
   "execution_count": 66,
   "metadata": {},
   "outputs": [],
   "source": [
    "from typing import Type\n",
    "def make_animal(animal_class: Type[Animal], name: str,age:int) -> Animal:\n",
    "    return animal_class(name=name, age=age)\n",
    "\n",
    "dog = make_animal(Animal, \"Kevin\",3)"
   ]
  },
  {
   "cell_type": "markdown",
   "metadata": {},
   "source": [
    "### `TypeVar`"
   ]
  },
  {
   "cell_type": "markdown",
   "metadata": {},
   "source": [
    "`TypeVar` is a generic type variable. It can be used to define a generic type."
   ]
  },
  {
   "cell_type": "code",
   "execution_count": 51,
   "metadata": {},
   "outputs": [
    {
     "name": "stdout",
     "output_type": "stream",
     "text": [
      "2\n",
      "b\n"
     ]
    }
   ],
   "source": [
    "from typing import TypeVar\n",
    "\t\n",
    "T = TypeVar('T')\n",
    "def get_item(lst: list[T], index: int) -> T:\n",
    "\treturn lst[index]\n",
    "\t\n",
    "print(get_item([1, 2, 3], 1))\n",
    "print(get_item(['a', 'b', 'c'], 1))"
   ]
  },
  {
   "cell_type": "markdown",
   "metadata": {},
   "source": [
    "### `NewType`"
   ]
  },
  {
   "cell_type": "markdown",
   "metadata": {},
   "source": [
    "`NewType` is a generic type that can be used to define a new type."
   ]
  },
  {
   "cell_type": "code",
   "execution_count": 52,
   "metadata": {},
   "outputs": [
    {
     "name": "stderr",
     "output_type": "stream",
     "text": [
      "<cell>9: error: Argument 1 to \"get_user\" has incompatible type \"int\"; expected \"UserId\"\n"
     ]
    },
    {
     "name": "stdout",
     "output_type": "stream",
     "text": [
      "123456\n",
      "123456\n"
     ]
    }
   ],
   "source": [
    "from typing import NewType\n",
    "\n",
    "UserId = NewType('UserId', int)\n",
    "\n",
    "def get_user(x: UserId): \n",
    "\tprint(x)\n",
    "\n",
    "get_user(UserId(123456)) # this is fine\n",
    "get_user(123456) # that's an int, not a UserId"
   ]
  }
 ],
 "metadata": {
  "interpreter": {
   "hash": "13a64c48d63ab7fa89dd239a6172cf842d756bd82fcb4ba948a9115b41dc50a1"
  },
  "kernelspec": {
   "display_name": "Python 3.9.7 ('base')",
   "language": "python",
   "name": "python3"
  },
  "language_info": {
   "codemirror_mode": {
    "name": "ipython",
    "version": 3
   },
   "file_extension": ".py",
   "mimetype": "text/x-python",
   "name": "python",
   "nbconvert_exporter": "python",
   "pygments_lexer": "ipython3",
   "version": "3.9.7"
  },
  "orig_nbformat": 2
 },
 "nbformat": 4,
 "nbformat_minor": 2
}
