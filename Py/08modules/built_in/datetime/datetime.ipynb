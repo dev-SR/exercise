{
 "cells": [
  {
   "cell_type": "markdown",
   "metadata": {},
   "source": [
    "# DateTime"
   ]
  },
  {
   "cell_type": "code",
   "execution_count": 20,
   "metadata": {},
   "outputs": [],
   "source": [
    "\"\"\" \n",
    "cd .\\Py\\08modules\\built_in\\datetime\\\n",
    "jupyter nbconvert --to markdown datetime.ipynb --output README.md\n",
    "\n",
    " \"\"\"\n",
    "from datetime import datetime,date\n"
   ]
  },
  {
   "cell_type": "code",
   "execution_count": 5,
   "metadata": {},
   "outputs": [
    {
     "data": {
      "text/plain": [
       "datetime.datetime(2022, 6, 19, 23, 13, 26, 727317)"
      ]
     },
     "execution_count": 5,
     "metadata": {},
     "output_type": "execute_result"
    }
   ],
   "source": [
    "datetime.now()"
   ]
  },
  {
   "cell_type": "code",
   "execution_count": 8,
   "metadata": {},
   "outputs": [
    {
     "name": "stdout",
     "output_type": "stream",
     "text": [
      "2022-06-19\n"
     ]
    }
   ],
   "source": [
    "date_object = date.today()\n",
    "print(date_object)"
   ]
  },
  {
   "cell_type": "markdown",
   "metadata": {},
   "source": [
    "## Creating Python datetime Instances"
   ]
  },
  {
   "cell_type": "code",
   "execution_count": 9,
   "metadata": {},
   "outputs": [
    {
     "data": {
      "text/plain": [
       "datetime.date(2020, 1, 31)"
      ]
     },
     "execution_count": 9,
     "metadata": {},
     "output_type": "execute_result"
    }
   ],
   "source": [
    "from datetime import date, time, datetime\n",
    "date(year=2020, month=1, day=31)"
   ]
  },
  {
   "cell_type": "code",
   "execution_count": 10,
   "metadata": {},
   "outputs": [
    {
     "data": {
      "text/plain": [
       "datetime.time(13, 14, 31)"
      ]
     },
     "execution_count": 10,
     "metadata": {},
     "output_type": "execute_result"
    }
   ],
   "source": [
    "time(hour=13, minute=14, second=31)"
   ]
  },
  {
   "cell_type": "code",
   "execution_count": 11,
   "metadata": {},
   "outputs": [
    {
     "data": {
      "text/plain": [
       "datetime.datetime(2020, 1, 31, 13, 14, 31)"
      ]
     },
     "execution_count": 11,
     "metadata": {},
     "output_type": "execute_result"
    }
   ],
   "source": [
    "datetime(year=2020, month=1, day=31, hour=13, minute=14, second=31)"
   ]
  },
  {
   "cell_type": "markdown",
   "metadata": {},
   "source": [
    "## Using Strings to Create Python datetime Instances"
   ]
  },
  {
   "cell_type": "code",
   "execution_count": 12,
   "metadata": {},
   "outputs": [
    {
     "data": {
      "text/plain": [
       "datetime.date(2020, 1, 31)"
      ]
     },
     "execution_count": 12,
     "metadata": {},
     "output_type": "execute_result"
    }
   ],
   "source": [
    "from datetime import date\n",
    "date.fromisoformat(\"2020-01-31\")"
   ]
  },
  {
   "cell_type": "code",
   "execution_count": 14,
   "metadata": {},
   "outputs": [
    {
     "name": "stdout",
     "output_type": "stream",
     "text": [
      "2022-06-19 23:14:20.711485\n",
      "23:14:20\n",
      "2022-06-19 23:14:20\n",
      "2022-06-08 16:02:13\n",
      "2022-06-08 16:02:13\n"
     ]
    }
   ],
   "source": [
    "print(datetime.now())\n",
    "print(datetime.now().strftime('%H:%M:%S'))\n",
    "print(datetime.now().strftime('%Y-%m-%d %H:%M:%S'))\n",
    "print(datetime.strptime(\n",
    "    \"2022-06-08 16:02:13.885533+06:00\".split(\".\")[0], '%Y-%m-%d %H:%M:%S'))\n",
    "print(datetime.fromisoformat(\n",
    "    \"2022-06-08 16:02:13.885533+06:00\").strftime('%Y-%m-%d %H:%M:%S'))\n"
   ]
  },
  {
   "cell_type": "markdown",
   "metadata": {},
   "source": [
    "## DEADLINE"
   ]
  },
  {
   "cell_type": "code",
   "execution_count": 18,
   "metadata": {},
   "outputs": [
    {
     "name": "stdout",
     "output_type": "stream",
     "text": [
      "2022-06-19 23:15:19.630033\n",
      "2022-12-12 08:00:00\n",
      "Countdown to DEADLINE: 175 days, 8:44:40.368963\n"
     ]
    }
   ],
   "source": [
    "from datetime import datetime\n",
    "print(datetime.now())\n",
    "DEADLINE = datetime(year=2022, month=12, day=12, hour=8)\n",
    "print(DEADLINE)\n",
    "countdown = DEADLINE - datetime.now()\n",
    "print(f\"Countdown to DEADLINE: {countdown}\")\n"
   ]
  }
 ],
 "metadata": {
  "kernelspec": {
   "display_name": "Python 3.9.7 ('base')",
   "language": "python",
   "name": "python3"
  },
  "language_info": {
   "codemirror_mode": {
    "name": "ipython",
    "version": 3
   },
   "file_extension": ".py",
   "mimetype": "text/x-python",
   "name": "python",
   "nbconvert_exporter": "python",
   "pygments_lexer": "ipython3",
   "version": "3.9.7"
  },
  "orig_nbformat": 2,
  "vscode": {
   "interpreter": {
    "hash": "13a64c48d63ab7fa89dd239a6172cf842d756bd82fcb4ba948a9115b41dc50a1"
   }
  }
 },
 "nbformat": 4,
 "nbformat_minor": 2
}
