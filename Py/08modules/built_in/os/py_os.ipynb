{
 "cells": [
  {
   "cell_type": "markdown",
   "metadata": {},
   "source": [
    "# OS module"
   ]
  },
  {
   "cell_type": "code",
   "execution_count": null,
   "metadata": {},
   "outputs": [],
   "source": [
    "\"\"\"\n",
    "cd .\\Py\\08modules\\built_in\\os\\\n",
    "jupyter nbconvert --to markdown py_os.ipynb --output README.md\n",
    "\"\"\"\n"
   ]
  },
  {
   "cell_type": "code",
   "execution_count": 2,
   "metadata": {},
   "outputs": [
    {
     "name": "stdout",
     "output_type": "stream",
     "text": [
      "['DirEntry', 'F_OK', 'GenericAlias', 'Mapping', 'MutableMapping', 'O_APPEND', 'O_BINARY', 'O_CREAT', 'O_EXCL', 'O_NOINHERIT', 'O_RANDOM', 'O_RDONLY', 'O_RDWR', 'O_SEQUENTIAL', 'O_SHORT_LIVED', 'O_TEMPORARY', 'O_TEXT', 'O_TRUNC', 'O_WRONLY', 'P_DETACH', 'P_NOWAIT', 'P_NOWAITO', 'P_OVERLAY', 'P_WAIT', 'PathLike', 'R_OK', 'SEEK_CUR', 'SEEK_END', 'SEEK_SET', 'TMP_MAX', 'W_OK', 'X_OK', '_AddedDllDirectory', '_Environ', '__all__', '__builtins__', '__cached__', '__doc__', '__file__', '__loader__', '__name__', '__package__', '__spec__', '_check_methods', '_execvpe', '_exists', '_exit', '_fspath', '_get_exports_list', '_walk', '_wrap_close', 'abc', 'abort', 'access', 'add_dll_directory', 'altsep', 'chdir', 'chmod', 'close', 'closerange', 'cpu_count', 'curdir', 'defpath', 'device_encoding', 'devnull', 'dup', 'dup2', 'environ', 'error', 'execl', 'execle', 'execlp', 'execlpe', 'execv', 'execve', 'execvp', 'execvpe', 'extsep', 'fdopen', 'fsdecode', 'fsencode', 'fspath', 'fstat', 'fsync', 'ftruncate', 'get_exec_path', 'get_handle_inheritable', 'get_inheritable', 'get_terminal_size', 'getcwd', 'getcwdb', 'getenv', 'getlogin', 'getpid', 'getppid', 'isatty', 'kill', 'linesep', 'link', 'listdir', 'lseek', 'lstat', 'makedirs', 'mkdir', 'name', 'open', 'pardir', 'path', 'pathsep', 'pipe', 'popen', 'putenv', 'read', 'readlink', 'remove', 'removedirs', 'rename', 'renames', 'replace', 'rmdir', 'scandir', 'sep', 'set_handle_inheritable', 'set_inheritable', 'spawnl', 'spawnle', 'spawnv', 'spawnve', 'st', 'startfile', 'stat', 'stat_result', 'statvfs_result', 'strerror', 'supports_bytes_environ', 'supports_dir_fd', 'supports_effective_ids', 'supports_fd', 'supports_follow_symlinks', 'symlink', 'sys', 'system', 'terminal_size', 'times', 'times_result', 'truncate', 'umask', 'uname_result', 'unlink', 'unsetenv', 'urandom', 'utime', 'waitpid', 'waitstatus_to_exitcode', 'walk', 'write']\n"
     ]
    }
   ],
   "source": [
    "import os\n",
    "print(dir(os))"
   ]
  },
  {
   "cell_type": "markdown",
   "metadata": {},
   "source": [
    "## Current Directory"
   ]
  },
  {
   "cell_type": "code",
   "execution_count": 2,
   "metadata": {},
   "outputs": [
    {
     "data": {
      "text/plain": [
       "'d:\\\\CSE\\\\Others\\\\Codes\\\\Py\\\\08modules\\\\built_in\\\\os'"
      ]
     },
     "execution_count": 2,
     "metadata": {},
     "output_type": "execute_result"
    }
   ],
   "source": [
    "os.getcwd() # current woring dir"
   ]
  },
  {
   "cell_type": "markdown",
   "metadata": {},
   "source": [
    "## `os.path.join()`"
   ]
  },
  {
   "cell_type": "code",
   "execution_count": 18,
   "metadata": {},
   "outputs": [
    {
     "name": "stdout",
     "output_type": "stream",
     "text": [
      "/home\\User/Desktop\\file.txt\n",
      "/home\\file.txt\n",
      "/home\n",
      "/home\\User/Public/Documents\\\n"
     ]
    }
   ],
   "source": [
    "# Path\n",
    "path = \"/home\"\n",
    "\n",
    "# Join various path components\n",
    "print(os.path.join(path, \"User/Desktop\", \"file.txt\"))## /home\\User/Desktop\\file.txt\n",
    "\n",
    "\n",
    "# Path\n",
    "path = \"User/Documents\"\n",
    "\n",
    "# Join various path components\n",
    "print(os.path.join(path, \"/home\", \"file.txt\")) # /home\\file.txt\n",
    "\n",
    "# In above example '/home'\n",
    "# represents an absolute path\n",
    "# so all previous components i.e User / Documents\n",
    "# are thrown away and joining continues\n",
    "# from the absolute path component i.e / home.\n",
    "\n",
    "\n",
    "# Path\n",
    "path = \"/User\"\n",
    "\n",
    "# Join various path components\n",
    "print(os.path.join(path, \"Downloads\", \"file.txt\", \"/home\")) # /home\n",
    "# In above example '/User' and '/home'\n",
    "# both represents an absolute path\n",
    "# but '/home' is the last value\n",
    "# so all previous components before '/home'\n",
    "# will be discarded and joining will\n",
    "# continue from '/home'\n",
    "\n",
    "# Path\n",
    "path = \"/home\"\n",
    "\n",
    "# Join various path components\n",
    "print(os.path.join(path, \"User/Public/\", \"Documents\", \"\"))  \n",
    "# /home\\User/Public/Documents\\\n",
    "\n",
    "# In above example the last\n",
    "# path component is empty\n",
    "# so a directory separator ('/')\n",
    "# will be put at the end\n",
    "# along with the concatenated value\n"
   ]
  },
  {
   "cell_type": "markdown",
   "metadata": {},
   "source": [
    "## Make New Directory"
   ]
  },
  {
   "cell_type": "code",
   "execution_count": 3,
   "metadata": {},
   "outputs": [],
   "source": [
    "os.mkdir(\"newly_created\")"
   ]
  },
  {
   "cell_type": "markdown",
   "metadata": {},
   "source": [
    "## Get the list of all files and dir. in the specified directory."
   ]
  },
  {
   "cell_type": "markdown",
   "metadata": {},
   "source": [
    "- [https://stackoverflow.com/questions/59268696/why-is-os-scandir-as-slow-as-os-listdir](https://stackoverflow.com/questions/59268696/why-is-os-scandir-as-slow-as-os-listdir)"
   ]
  },
  {
   "cell_type": "markdown",
   "metadata": {},
   "source": [
    "### `os.listdir()`"
   ]
  },
  {
   "cell_type": "markdown",
   "metadata": {},
   "source": [
    "It doesn't seem to have advantages compared to `os.scandir()` excepting that is easier to understand. Use it when only need to list files in directory."
   ]
  },
  {
   "cell_type": "code",
   "execution_count": 7,
   "metadata": {},
   "outputs": [
    {
     "data": {
      "text/plain": [
       "['img', 'newly_created', 'py_os.ipynb', 'README.md', 'test']"
      ]
     },
     "execution_count": 7,
     "metadata": {},
     "output_type": "execute_result"
    }
   ],
   "source": [
    "os.listdir()"
   ]
  },
  {
   "cell_type": "code",
   "execution_count": 8,
   "metadata": {},
   "outputs": [
    {
     "data": {
      "text/plain": [
       "['img', 'newly_created', 'py_os.ipynb', 'README.md', 'test']"
      ]
     },
     "execution_count": 8,
     "metadata": {},
     "output_type": "execute_result"
    }
   ],
   "source": [
    "os.listdir(os.getcwd())\n"
   ]
  },
  {
   "cell_type": "code",
   "execution_count": 18,
   "metadata": {},
   "outputs": [
    {
     "name": "stdout",
     "output_type": "stream",
     "text": [
      "['README.md']\n"
     ]
    }
   ],
   "source": [
    "my_files = [x for x in os.listdir() if x.endswith(\".md\")]\n",
    "print(my_files)"
   ]
  },
  {
   "cell_type": "markdown",
   "metadata": {},
   "source": [
    "### `os.scandir()`"
   ]
  },
  {
   "cell_type": "markdown",
   "metadata": {},
   "source": [
    "The `os.scandir()` method extracts an `iterator` of `os.DirEntry` objects. These objects correspond to entries in a directory given by path."
   ]
  },
  {
   "cell_type": "code",
   "execution_count": 14,
   "metadata": {},
   "outputs": [
    {
     "data": {
      "text/plain": [
       "<nt.ScandirIterator at 0x2366c77d250>"
      ]
     },
     "execution_count": 14,
     "metadata": {},
     "output_type": "execute_result"
    }
   ],
   "source": [
    "os.scandir()"
   ]
  },
  {
   "cell_type": "code",
   "execution_count": 15,
   "metadata": {},
   "outputs": [
    {
     "data": {
      "text/plain": [
       "[<DirEntry 'img'>,\n",
       " <DirEntry 'newly_created'>,\n",
       " <DirEntry 'py_os.ipynb'>,\n",
       " <DirEntry 'README.md'>,\n",
       " <DirEntry 'test'>]"
      ]
     },
     "execution_count": 15,
     "metadata": {},
     "output_type": "execute_result"
    }
   ],
   "source": [
    "[ x for x in os.scandir(\".\")]"
   ]
  },
  {
   "cell_type": "code",
   "execution_count": 16,
   "metadata": {},
   "outputs": [
    {
     "data": {
      "text/plain": [
       "['py_os.ipynb', 'README.md']"
      ]
     },
     "execution_count": 16,
     "metadata": {},
     "output_type": "execute_result"
    }
   ],
   "source": [
    "[ x.name for x in os.scandir(\".\") if x.is_file()]"
   ]
  },
  {
   "cell_type": "code",
   "execution_count": 17,
   "metadata": {},
   "outputs": [
    {
     "name": "stdout",
     "output_type": "stream",
     "text": [
      "['README.md']\n"
     ]
    }
   ],
   "source": [
    "my_files = [f.name for f in os.scandir() if f.name.endswith('.md')]\n",
    "print(my_files)\n"
   ]
  },
  {
   "cell_type": "markdown",
   "metadata": {},
   "source": [
    "### `os.walk()`"
   ]
  },
  {
   "cell_type": "markdown",
   "metadata": {},
   "source": [
    "This is the most used function when we need to fetch all the items in a directory (and subdirs)."
   ]
  },
  {
   "cell_type": "markdown",
   "metadata": {},
   "source": [
    "<div align=\"center\">\n",
    "<img src=\"img/oswalk.jpg\" alt=\"oswalk.jpg\" width=\"300px\">\n",
    "</div>"
   ]
  },
  {
   "cell_type": "code",
   "execution_count": 19,
   "metadata": {},
   "outputs": [
    {
     "data": {
      "text/plain": [
       "'d:\\\\CSE\\\\Programs\\\\Codes\\\\Py\\\\08modules\\\\built_in\\\\os\\\\test'"
      ]
     },
     "execution_count": 19,
     "metadata": {},
     "output_type": "execute_result"
    }
   ],
   "source": [
    "test_path = os.path.join(os.getcwd(), \"test\")\n",
    "test_path"
   ]
  },
  {
   "cell_type": "code",
   "execution_count": 33,
   "metadata": {},
   "outputs": [
    {
     "name": "stdout",
     "output_type": "stream",
     "text": [
      "d:\\CSE\\Others\\Codes\\Py\\08modules\\built_in\\os\\test\n",
      "['A', 'B']\n",
      "['test1.txt']\n",
      "____________________________________\n",
      "d:\\CSE\\Others\\Codes\\Py\\08modules\\built_in\\os\\test\\A\n",
      "['A1', 'A2']\n",
      "[]\n",
      "____________________________________\n",
      "d:\\CSE\\Others\\Codes\\Py\\08modules\\built_in\\os\\test\\A\\A1\n",
      "['A11']\n",
      "['test3.txt']\n",
      "____________________________________\n",
      "d:\\CSE\\Others\\Codes\\Py\\08modules\\built_in\\os\\test\\A\\A1\\A11\n",
      "[]\n",
      "[]\n",
      "____________________________________\n",
      "d:\\CSE\\Others\\Codes\\Py\\08modules\\built_in\\os\\test\\A\\A2\n",
      "[]\n",
      "['test4.txt']\n",
      "____________________________________\n",
      "d:\\CSE\\Others\\Codes\\Py\\08modules\\built_in\\os\\test\\B\n",
      "[]\n",
      "['test2.txt']\n",
      "____________________________________\n"
     ]
    }
   ],
   "source": [
    "for (root,dirs,files) in os.walk(test_path, topdown=True):\n",
    "        print(root)\n",
    "        print(dirs)\n",
    "        print(files)\n",
    "        print(\"____________________________________\")\n",
    "\n",
    "        "
   ]
  },
  {
   "cell_type": "code",
   "execution_count": 21,
   "metadata": {},
   "outputs": [
    {
     "name": "stdout",
     "output_type": "stream",
     "text": [
      "d:\\CSE\\Programs\\Codes\\Py\\08modules\\built_in\\os\\test\\test1.txt\n",
      "d:\\CSE\\Programs\\Codes\\Py\\08modules\\built_in\\os\\test\\A\\A1\\test3.txt\n",
      "d:\\CSE\\Programs\\Codes\\Py\\08modules\\built_in\\os\\test\\A\\A2\\test4.txt\n",
      "d:\\CSE\\Programs\\Codes\\Py\\08modules\\built_in\\os\\test\\B\\test2.txt\n"
     ]
    }
   ],
   "source": [
    "for r, d, f in os.walk(test_path):\n",
    "    for file in f:\n",
    "        if \".txt\" in file:\n",
    "            print(os.path.join(r, file))\n"
   ]
  },
  {
   "cell_type": "markdown",
   "metadata": {},
   "source": [
    "## Remove"
   ]
  },
  {
   "cell_type": "code",
   "execution_count": null,
   "metadata": {},
   "outputs": [],
   "source": [
    "# os.remove()\n",
    "# os.removedirs()\n",
    "# os.rename()"
   ]
  }
 ],
 "metadata": {
  "interpreter": {
   "hash": "13a64c48d63ab7fa89dd239a6172cf842d756bd82fcb4ba948a9115b41dc50a1"
  },
  "kernelspec": {
   "display_name": "Python 3.9.7 ('base')",
   "language": "python",
   "name": "python3"
  },
  "language_info": {
   "codemirror_mode": {
    "name": "ipython",
    "version": 3
   },
   "file_extension": ".py",
   "mimetype": "text/x-python",
   "name": "python",
   "nbconvert_exporter": "python",
   "pygments_lexer": "ipython3",
   "version": "3.9.7"
  },
  "orig_nbformat": 2
 },
 "nbformat": 4,
 "nbformat_minor": 2
}
