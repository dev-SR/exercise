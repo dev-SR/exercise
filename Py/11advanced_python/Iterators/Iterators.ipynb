{
 "cells": [
  {
   "cell_type": "markdown",
   "id": "ed763869",
   "metadata": {},
   "source": [
    "# Python Iterators\n",
    "\n",
    "- Iterators are objects that can be iterated upon.\n",
    "- Terminology : iterator, iterable, iteration.\n",
    "\n",
    "\n",
    "\n",
    "<img src=\"https://media.giphy.com/media/l44QeXqzp5JoYSNe8/giphy.gif\" width=200>\n",
    "\n",
    "\n",
    "**Iterator**\n",
    "- Any object that you can traverse upon is an **iterator**. An object which will return data, one element at a time. \n",
    "- Python iterator object must implement two special methods, `__iter__()` and `__next__()` , known as iterator protocol.\n",
    "\n",
    "\n",
    "**Iterable**\n",
    "- An object is called **iterable** if we can get an iterator from it. Examples - list, tuple, string etc. are iterables.\n",
    "\n",
    "**Iteration**\n",
    "- repetiton of the process.\n"
   ]
  },
  {
   "cell_type": "markdown",
   "id": "b0446d6f",
   "metadata": {},
   "source": [
    "## Iterating Through an Iterator\n"
   ]
  },
  {
   "cell_type": "code",
   "execution_count": 9,
   "id": "b3eb343c",
   "metadata": {},
   "outputs": [
    {
     "data": {
      "text/plain": [
       "<list_iterator at 0x286667a8a60>"
      ]
     },
     "execution_count": 9,
     "metadata": {},
     "output_type": "execute_result"
    }
   ],
   "source": [
    "# iterable \n",
    "my_list = [1,2]\n",
    "# get an iterator.\n",
    "my_iter = iter(my_list)\n",
    "my_iter"
   ]
  },
  {
   "cell_type": "code",
   "execution_count": 10,
   "id": "4b9a71df",
   "metadata": {},
   "outputs": [
    {
     "data": {
      "text/plain": [
       "1"
      ]
     },
     "execution_count": 10,
     "metadata": {},
     "output_type": "execute_result"
    }
   ],
   "source": [
    "# next element\n",
    "next(my_iter)"
   ]
  },
  {
   "cell_type": "code",
   "execution_count": 11,
   "id": "c5f35b28",
   "metadata": {},
   "outputs": [
    {
     "data": {
      "text/plain": [
       "2"
      ]
     },
     "execution_count": 11,
     "metadata": {},
     "output_type": "execute_result"
    }
   ],
   "source": [
    "# next element\n",
    "next(my_iter)"
   ]
  },
  {
   "cell_type": "code",
   "execution_count": 12,
   "id": "fb664d78",
   "metadata": {},
   "outputs": [
    {
     "ename": "StopIteration",
     "evalue": "",
     "output_type": "error",
     "traceback": [
      "\u001b[1;31m---------------------------------------------------------------------------\u001b[0m",
      "\u001b[1;31mStopIteration\u001b[0m                             Traceback (most recent call last)",
      "\u001b[1;32m<ipython-input-12-56a19a8bf4b2>\u001b[0m in \u001b[0;36m<module>\u001b[1;34m\u001b[0m\n\u001b[0;32m      1\u001b[0m \u001b[1;31m# next element\u001b[0m\u001b[1;33m\u001b[0m\u001b[1;33m\u001b[0m\u001b[1;33m\u001b[0m\u001b[0m\n\u001b[1;32m----> 2\u001b[1;33m \u001b[0mnext\u001b[0m\u001b[1;33m(\u001b[0m\u001b[0mmy_iter\u001b[0m\u001b[1;33m)\u001b[0m\u001b[1;33m\u001b[0m\u001b[1;33m\u001b[0m\u001b[0m\n\u001b[0m",
      "\u001b[1;31mStopIteration\u001b[0m: "
     ]
    }
   ],
   "source": [
    "# next element\n",
    "next(my_iter)"
   ]
  },
  {
   "cell_type": "markdown",
   "id": "26c80b6a",
   "metadata": {},
   "source": [
    "## Loops for Iterators"
   ]
  },
  {
   "cell_type": "markdown",
   "id": "f1392a45",
   "metadata": {},
   "source": [
    "- A more elegant way of automatically iterating is by using the for loop. \n",
    "- We can iterate over any object that can return an iterator, for example list, string, file etc."
   ]
  },
  {
   "cell_type": "code",
   "execution_count": 13,
   "id": "2f0f5e42",
   "metadata": {},
   "outputs": [
    {
     "name": "stdout",
     "output_type": "stream",
     "text": [
      "1\n",
      "2\n"
     ]
    }
   ],
   "source": [
    "for ele in my_list:\n",
    "    print(ele)"
   ]
  },
  {
   "cell_type": "code",
   "execution_count": 14,
   "id": "d4ae1039",
   "metadata": {},
   "outputs": [
    {
     "name": "stdout",
     "output_type": "stream",
     "text": [
      "1\n",
      "2\n"
     ]
    }
   ],
   "source": [
    "my_iter = iter(my_list)\n",
    "\n",
    "# infinte while loop\n",
    "while True:\n",
    "    try:\n",
    "        # getting the next element\n",
    "        ele = next(my_iter)\n",
    "        print(ele)\n",
    "    except StopIteration:\n",
    "        # all the elements are exhausated.\n",
    "        break"
   ]
  },
  {
   "cell_type": "markdown",
   "id": "ca76c0e2",
   "metadata": {},
   "source": [
    "# Building Custom Iterators\n",
    "- Every custom iterator must implement the `__iter__()` and the `__next__()` methods.\n",
    "- The `__iter__()` method returns the iterator object itself.\n",
    "- The `__next__()` method must return the next item in the sequence. On reaching the last element, it must raise StopIteration."
   ]
  },
  {
   "cell_type": "code",
   "execution_count": 21,
   "id": "4b1248cc",
   "metadata": {},
   "outputs": [],
   "source": [
    "class CubeNumber:\n",
    "    def __init__(self, number = 0):\n",
    "        self.number = number\n",
    "        \n",
    "    def __iter__(self):\n",
    "        self.ele = 0\n",
    "        return self\n",
    "    \n",
    "    def __next__(self):\n",
    "        if self.ele <= self.number:\n",
    "            result = self.ele**3 # 0^3,....\n",
    "            self.ele += 1  # move pointer to next number 0^3 -> 1^3 -> 2^3...\n",
    "            return result\n",
    "        else:\n",
    "            raise StopIteration"
   ]
  },
  {
   "cell_type": "code",
   "execution_count": 22,
   "id": "fa14aa19",
   "metadata": {},
   "outputs": [],
   "source": [
    "cn = CubeNumber(5)"
   ]
  },
  {
   "cell_type": "code",
   "execution_count": 23,
   "id": "395b9d6e",
   "metadata": {},
   "outputs": [],
   "source": [
    "my_iter = cn.__iter__()"
   ]
  },
  {
   "cell_type": "code",
   "execution_count": 24,
   "id": "bb018ebd",
   "metadata": {},
   "outputs": [
    {
     "data": {
      "text/plain": [
       "0"
      ]
     },
     "execution_count": 24,
     "metadata": {},
     "output_type": "execute_result"
    }
   ],
   "source": [
    "my_iter.__next__()"
   ]
  },
  {
   "cell_type": "code",
   "execution_count": 25,
   "id": "083dcb7b",
   "metadata": {},
   "outputs": [
    {
     "data": {
      "text/plain": [
       "1"
      ]
     },
     "execution_count": 25,
     "metadata": {},
     "output_type": "execute_result"
    }
   ],
   "source": [
    "my_iter.__next__()"
   ]
  },
  {
   "cell_type": "code",
   "execution_count": 26,
   "id": "f47ea40f",
   "metadata": {},
   "outputs": [
    {
     "data": {
      "text/plain": [
       "8"
      ]
     },
     "execution_count": 26,
     "metadata": {},
     "output_type": "execute_result"
    }
   ],
   "source": [
    "my_iter.__next__()"
   ]
  },
  {
   "cell_type": "code",
   "execution_count": 27,
   "id": "bbeb20a7",
   "metadata": {},
   "outputs": [
    {
     "data": {
      "text/plain": [
       "27"
      ]
     },
     "execution_count": 27,
     "metadata": {},
     "output_type": "execute_result"
    }
   ],
   "source": [
    "my_iter.__next__()"
   ]
  },
  {
   "cell_type": "code",
   "execution_count": 28,
   "id": "2be3a2c1",
   "metadata": {},
   "outputs": [
    {
     "data": {
      "text/plain": [
       "64"
      ]
     },
     "execution_count": 28,
     "metadata": {},
     "output_type": "execute_result"
    }
   ],
   "source": [
    "my_iter.__next__()"
   ]
  },
  {
   "cell_type": "code",
   "execution_count": 29,
   "id": "888d6a20",
   "metadata": {},
   "outputs": [
    {
     "data": {
      "text/plain": [
       "125"
      ]
     },
     "execution_count": 29,
     "metadata": {},
     "output_type": "execute_result"
    }
   ],
   "source": [
    "my_iter.__next__()"
   ]
  },
  {
   "cell_type": "code",
   "execution_count": 30,
   "id": "d47a2a89",
   "metadata": {},
   "outputs": [
    {
     "ename": "StopIteration",
     "evalue": "",
     "output_type": "error",
     "traceback": [
      "\u001b[1;31m---------------------------------------------------------------------------\u001b[0m",
      "\u001b[1;31mStopIteration\u001b[0m                             Traceback (most recent call last)",
      "\u001b[1;32m<ipython-input-30-56d779eb7d74>\u001b[0m in \u001b[0;36m<module>\u001b[1;34m\u001b[0m\n\u001b[1;32m----> 1\u001b[1;33m \u001b[0mmy_iter\u001b[0m\u001b[1;33m.\u001b[0m\u001b[0m__next__\u001b[0m\u001b[1;33m(\u001b[0m\u001b[1;33m)\u001b[0m\u001b[1;33m\u001b[0m\u001b[1;33m\u001b[0m\u001b[0m\n\u001b[0m",
      "\u001b[1;32m<ipython-input-21-5f3b4bdd8d50>\u001b[0m in \u001b[0;36m__next__\u001b[1;34m(self)\u001b[0m\n\u001b[0;32m     13\u001b[0m             \u001b[1;32mreturn\u001b[0m \u001b[0mresult\u001b[0m\u001b[1;33m\u001b[0m\u001b[1;33m\u001b[0m\u001b[0m\n\u001b[0;32m     14\u001b[0m         \u001b[1;32melse\u001b[0m\u001b[1;33m:\u001b[0m\u001b[1;33m\u001b[0m\u001b[1;33m\u001b[0m\u001b[0m\n\u001b[1;32m---> 15\u001b[1;33m             \u001b[1;32mraise\u001b[0m \u001b[0mStopIteration\u001b[0m\u001b[1;33m\u001b[0m\u001b[1;33m\u001b[0m\u001b[0m\n\u001b[0m",
      "\u001b[1;31mStopIteration\u001b[0m: "
     ]
    }
   ],
   "source": [
    "my_iter.__next__()"
   ]
  },
  {
   "cell_type": "code",
   "execution_count": 31,
   "id": "fa939661",
   "metadata": {},
   "outputs": [
    {
     "name": "stdout",
     "output_type": "stream",
     "text": [
      "0\n",
      "1\n",
      "8\n",
      "27\n",
      "64\n",
      "125\n"
     ]
    }
   ],
   "source": [
    "for ele in cn:\n",
    "    print(ele)"
   ]
  }
 ],
 "metadata": {
  "interpreter": {
   "hash": "8cdb09b0bc1c395d296938b19fe7764d972a7ceeffba4d3ad7ff6a3771581719"
  },
  "kernelspec": {
   "display_name": "Python 3.8.8 64-bit ('base': conda)",
   "name": "python3"
  },
  "language_info": {
   "codemirror_mode": {
    "name": "ipython",
    "version": 3
   },
   "file_extension": ".py",
   "mimetype": "text/x-python",
   "name": "python",
   "nbconvert_exporter": "python",
   "pygments_lexer": "ipython3",
   "version": "3.8.8"
  }
 },
 "nbformat": 4,
 "nbformat_minor": 5
}
