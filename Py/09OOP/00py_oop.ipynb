{
 "cells": [
  {
   "cell_type": "markdown",
   "metadata": {},
   "source": [
    "# OOP"
   ]
  },
  {
   "cell_type": "markdown",
   "metadata": {},
   "source": [
    "## OOP concept\n",
    "\n",
    "**Abstraction**\n",
    "\n",
    "- Data Abstraction is the property through which only essential details are displayed to the user\n",
    "- Hiding the implementation\n",
    "- e.g. the working of a car\n",
    "\n",
    "**Encapsulation**\n",
    "\n",
    "- wrapping up of data into one unit\n",
    "- All the properties and methods are combined together\n",
    "  \n",
    "**Inheritance**\n",
    "\n",
    "- It is the mechanism by which one class is allowed to inherit the feature (properties and methods) of another class\n",
    "- This offers a lot of reusability of code\n",
    "\n",
    "**Polymorphism**\n",
    "\n",
    "- The word polymorphism means having many forms\n",
    "- We can define polymorphism as the ability of a message to be displayed in more than one form"
   ]
  },
  {
   "cell_type": "markdown",
   "metadata": {},
   "source": [
    "## OOP in Python\n",
    "\n",
    "**Defining the constructor of a Class**\n",
    "\n",
    "- A constructor is a special member function of a class that is executed whenever we create new objects of the class.\n",
    "\n",
    "```python\n",
    "def __init__(self):\n",
    "    ...\n",
    "    ...\n",
    "```\n",
    "\n",
    "**Defining the methods of a instance**\n",
    "\n",
    "```\n",
    "def intro(self):\n",
    "    ...\n",
    "    ...\n",
    "```\n",
    "\n",
    "In object-oriented programming, variables at the class level are referred to as class variables, whereas variables at the object level are called instance variables.\n",
    "\n",
    "### Instance Attribute and Class Attributes\n",
    "\n",
    "#### Class Attributes\n",
    "\n",
    "- defined within the _class construction_\n",
    "- shared by all instances of the class\n",
    "- They are associated with the class\n",
    "- Accessed by `class_name.variable`\n",
    "\n",
    "They therefore will generally have the same value for every instance unless you are using the class variable to initialize a variable.\n",
    "\n",
    "#### Instance Variables\n",
    "\n",
    "Instance variables are owned by instances of the class. This means that for each object or instance of a class, the instance variables are different.\n",
    "\n",
    "Unlike class variables, instance variables are defined within methods.\n",
    "\n",
    "Instance variables, owned by objects of the class, allow for each object or instance to have different values assigned to those variables."
   ]
  },
  {
   "cell_type": "code",
   "execution_count": 15,
   "metadata": {},
   "outputs": [
    {
     "name": "stdout",
     "output_type": "stream",
     "text": [
      "0\n",
      "10\n",
      "\n",
      "0\n",
      "20\n"
     ]
    }
   ],
   "source": [
    "class Test:\n",
    "    # class variable - common to all\n",
    "\tclass_var= 0\n",
    "\t\n",
    "\tdef __init__(self,v):\n",
    "\t # instance variables - only availabe to instance\n",
    "\t\tself.instance_var = v\n",
    "\t\t# local variable - only availabe to method\n",
    "\t\tlocal_var = 0\n",
    "\n",
    "t1= Test(10)\n",
    "t2= Test(20)\n",
    "\n",
    "print(t1.class_var)\n",
    "print(t1.instance_var)\n",
    "print()\n",
    "print(t2.class_var)\n",
    "print(t2.instance_var)"
   ]
  },
  {
   "cell_type": "code",
   "execution_count": 28,
   "metadata": {},
   "outputs": [
    {
     "ename": "AttributeError",
     "evalue": "'Test' object has no attribute 'local_var'",
     "output_type": "error",
     "traceback": [
      "\u001b[1;31m---------------------------------------------------------------------------\u001b[0m",
      "\u001b[1;31mAttributeError\u001b[0m                            Traceback (most recent call last)",
      "\u001b[1;32m<ipython-input-28-bac5ddb7ca08>\u001b[0m in \u001b[0;36m<module>\u001b[1;34m\u001b[0m\n\u001b[1;32m----> 1\u001b[1;33m \u001b[0mt1\u001b[0m\u001b[1;33m.\u001b[0m\u001b[0mlocal_var\u001b[0m\u001b[1;33m\u001b[0m\u001b[1;33m\u001b[0m\u001b[0m\n\u001b[0m",
      "\u001b[1;31mAttributeError\u001b[0m: 'Test' object has no attribute 'local_var'"
     ]
    }
   ],
   "source": [
    "t1.local_var"
   ]
  },
  {
   "cell_type": "code",
   "execution_count": 4,
   "metadata": {},
   "outputs": [
    {
     "name": "stdout",
     "output_type": "stream",
     "text": [
      "{'instance_var': 10}\n",
      "{'instance_var': 20}\n"
     ]
    }
   ],
   "source": [
    "print(t1.__dict__)\n",
    "print(t2.__dict__)"
   ]
  },
  {
   "cell_type": "code",
   "execution_count": 14,
   "metadata": {},
   "outputs": [
    {
     "name": "stdout",
     "output_type": "stream",
     "text": [
      "True\n",
      "True\n",
      "True\n",
      "10\n",
      "0\n"
     ]
    }
   ],
   "source": [
    "print(hasattr(t1,'instance_var'))\n",
    "print(hasattr(t1, 'class_var'))\n",
    "print(hasattr(t1, '__init__'))\n",
    "\n",
    "print(getattr(t1,'instance_var'))\n",
    "print(getattr(t1, 'class_var'))"
   ]
  },
  {
   "cell_type": "markdown",
   "metadata": {},
   "source": [
    "### EX- 1"
   ]
  },
  {
   "cell_type": "code",
   "execution_count": 6,
   "metadata": {},
   "outputs": [],
   "source": [
    "class Human:\n",
    "\n",
    "    # class variable - common to all\n",
    "    database = []\n",
    "    population = 0\n",
    "    id_seq = 0\n",
    "\n",
    "    def __init__(self,name,age,is_alive = True):\n",
    "        # instance variables - only availabe to instance\n",
    "        self.name = name\n",
    "        self.age = age\n",
    "        self.is_alive = is_alive\n",
    "        # \n",
    "        self.id = Human.id_seq\n",
    "        Human.id_seq += 1\n",
    "        Human.population += 1\n",
    "        Human.database.append(self)\n",
    "\n",
    "    # instance methods\n",
    "    def intro(self):\n",
    "        print(\"Hi, My name is\",self.name,\"My age is\",self.age)\n",
    "    \n",
    "    def die(self):\n",
    "        if self.is_alive:\n",
    "            print(self.name, \"is dying\")\n",
    "            self.is_alive = False\n",
    "            Human.population -= 1\n",
    "        else:\n",
    "            print(\"{} is already dead\".format(self.name))"
   ]
  },
  {
   "cell_type": "code",
   "execution_count": 7,
   "metadata": {},
   "outputs": [],
   "source": [
    "h1 = Human(\"soikat\",22)\n",
    "h2 = Human(\"Jhon\",69)"
   ]
  },
  {
   "cell_type": "code",
   "execution_count": 8,
   "metadata": {},
   "outputs": [
    {
     "name": "stdout",
     "output_type": "stream",
     "text": [
      "Hi, My name is soikat My age is 22\n",
      "Hi, My name is Jhon My age is 69\n"
     ]
    }
   ],
   "source": [
    "h1.intro()\n",
    "h2.intro()"
   ]
  },
  {
   "cell_type": "code",
   "execution_count": 32,
   "metadata": {},
   "outputs": [
    {
     "name": "stdout",
     "output_type": "stream",
     "text": [
      "2\n",
      "2\n",
      "2\n",
      "2\n",
      "soikat\n",
      "Jhon\n"
     ]
    }
   ],
   "source": [
    "# class variables:\n",
    "print(Human.population)\n",
    "print(Human.id_seq)\n",
    "\n",
    "# class variable is common for all\n",
    "print(h1.population)\n",
    "print(h2.population)\n",
    "# instance variable is not\n",
    "print(h1.name)\n",
    "print(h2.name)"
   ]
  },
  {
   "cell_type": "code",
   "execution_count": 33,
   "metadata": {},
   "outputs": [
    {
     "data": {
      "text/plain": [
       "True"
      ]
     },
     "execution_count": 33,
     "metadata": {},
     "output_type": "execute_result"
    }
   ],
   "source": [
    "h1.is_alive"
   ]
  },
  {
   "cell_type": "code",
   "execution_count": 34,
   "metadata": {},
   "outputs": [
    {
     "name": "stdout",
     "output_type": "stream",
     "text": [
      "soikat is dying\n"
     ]
    }
   ],
   "source": [
    "h1.die()"
   ]
  },
  {
   "cell_type": "code",
   "execution_count": 35,
   "metadata": {},
   "outputs": [
    {
     "data": {
      "text/plain": [
       "False"
      ]
     },
     "execution_count": 35,
     "metadata": {},
     "output_type": "execute_result"
    }
   ],
   "source": [
    "h1.is_alive"
   ]
  },
  {
   "cell_type": "code",
   "execution_count": 36,
   "metadata": {},
   "outputs": [
    {
     "name": "stdout",
     "output_type": "stream",
     "text": [
      "soikat is already dead\n"
     ]
    }
   ],
   "source": [
    "h1.die()"
   ]
  },
  {
   "cell_type": "code",
   "execution_count": 37,
   "metadata": {},
   "outputs": [
    {
     "data": {
      "text/plain": [
       "1"
      ]
     },
     "execution_count": 37,
     "metadata": {},
     "output_type": "execute_result"
    }
   ],
   "source": [
    "Human.population"
   ]
  },
  {
   "cell_type": "markdown",
   "metadata": {},
   "source": [
    "### Private members"
   ]
  },
  {
   "cell_type": "code",
   "execution_count": 29,
   "metadata": {},
   "outputs": [],
   "source": [
    "class FrqCounter():\n",
    "    def __init__(self):\n",
    "        self.d = {}\n",
    "    \n",
    "    def add(self,v):\n",
    "        self.d[v.lower()] = self.d.get(v.lower(),0) + 1\n",
    "    \n",
    "    def __str__(self):\n",
    "        return f\"FC ({self.d})\""
   ]
  },
  {
   "cell_type": "code",
   "execution_count": 30,
   "metadata": {},
   "outputs": [
    {
     "name": "stdout",
     "output_type": "stream",
     "text": [
      "FC ({'python': 10, 'c++': 1})\n"
     ]
    }
   ],
   "source": [
    "fcnt = FrqCounter()\n",
    "fcnt.add(\"python\")\n",
    "fcnt.add(\"Python\")\n",
    "fcnt.add(\"C++\")\n",
    "fcnt.d[\"python\"] = 10 # but direct access should not be allowed\n",
    "print(fcnt)\n"
   ]
  },
  {
   "cell_type": "markdown",
   "metadata": {},
   "source": [
    "> making 'd' private\n",
    "\n",
    "The `private` members of a class are only accessible within the class. In Python, a private member can be defined by using a prefix `__` (double underscore).\n"
   ]
  },
  {
   "cell_type": "code",
   "execution_count": 42,
   "metadata": {},
   "outputs": [],
   "source": [
    "class FrqCounter():\n",
    "    def __init__(self):\n",
    "        # private member\n",
    "        self.__d = {}\n",
    "    \n",
    "    def add(self,v):\n",
    "        # private members are accessible from a class\n",
    "        self.__d[v.lower()] = self.__d.get(v.lower(),0) + 1\n",
    "    \n",
    "    def __str__(self):\n",
    "        return f\"FC ({self.d})\"\n"
   ]
  },
  {
   "cell_type": "code",
   "execution_count": 47,
   "metadata": {},
   "outputs": [
    {
     "ename": "AttributeError",
     "evalue": "'FrqCounter' object has no attribute 'd'",
     "output_type": "error",
     "traceback": [
      "\u001b[1;31m---------------------------------------------------------------------------\u001b[0m",
      "\u001b[1;31mAttributeError\u001b[0m                            Traceback (most recent call last)",
      "\u001b[1;32m<ipython-input-47-1eebd60a5344>\u001b[0m in \u001b[0;36m<module>\u001b[1;34m\u001b[0m\n\u001b[0;32m      3\u001b[0m \u001b[0mfcnt\u001b[0m\u001b[1;33m.\u001b[0m\u001b[0madd\u001b[0m\u001b[1;33m(\u001b[0m\u001b[1;34m\"Python\"\u001b[0m\u001b[1;33m)\u001b[0m\u001b[1;33m\u001b[0m\u001b[1;33m\u001b[0m\u001b[0m\n\u001b[0;32m      4\u001b[0m \u001b[0mfcnt\u001b[0m\u001b[1;33m.\u001b[0m\u001b[0madd\u001b[0m\u001b[1;33m(\u001b[0m\u001b[1;34m\"C++\"\u001b[0m\u001b[1;33m)\u001b[0m\u001b[1;33m\u001b[0m\u001b[1;33m\u001b[0m\u001b[0m\n\u001b[1;32m----> 5\u001b[1;33m \u001b[0mfcnt\u001b[0m\u001b[1;33m.\u001b[0m\u001b[0md\u001b[0m\u001b[1;33m[\u001b[0m\u001b[1;34m\"python\"\u001b[0m\u001b[1;33m]\u001b[0m \u001b[1;33m=\u001b[0m \u001b[1;36m10\u001b[0m \u001b[1;31m# AttributeError\u001b[0m\u001b[1;33m\u001b[0m\u001b[1;33m\u001b[0m\u001b[0m\n\u001b[0m\u001b[0;32m      6\u001b[0m \u001b[0mprint\u001b[0m\u001b[1;33m(\u001b[0m\u001b[0mfcnt\u001b[0m\u001b[1;33m.\u001b[0m\u001b[0md\u001b[0m\u001b[1;33m)\u001b[0m \u001b[1;31m# AttributeError\u001b[0m\u001b[1;33m\u001b[0m\u001b[1;33m\u001b[0m\u001b[0m\n\u001b[0;32m      7\u001b[0m \u001b[0mprint\u001b[0m\u001b[1;33m(\u001b[0m\u001b[0mfcnt\u001b[0m\u001b[1;33m.\u001b[0m\u001b[0m__d\u001b[0m\u001b[1;33m)\u001b[0m \u001b[1;31m# AttributeError\u001b[0m\u001b[1;33m\u001b[0m\u001b[1;33m\u001b[0m\u001b[0m\n",
      "\u001b[1;31mAttributeError\u001b[0m: 'FrqCounter' object has no attribute 'd'"
     ]
    }
   ],
   "source": [
    "fcnt = FrqCounter()\n",
    "fcnt.add(\"python\")\n",
    "fcnt.add(\"Python\")\n",
    "fcnt.add(\"C++\")\n",
    "fcnt.d[\"python\"] = 10 # AttributeError\n",
    "print(fcnt.d) # AttributeError\n",
    "print(fcnt.__d) # AttributeError"
   ]
  },
  {
   "cell_type": "markdown",
   "metadata": {},
   "source": [
    "#### Name Mangling to access private members\n",
    "\n",
    "Python performs name mangling on private attributes. Every member with a double underscore will be changed to `object._class__variable`."
   ]
  },
  {
   "cell_type": "code",
   "execution_count": 49,
   "metadata": {},
   "outputs": [
    {
     "name": "stdout",
     "output_type": "stream",
     "text": [
      "{'python': 2, 'c++': 1}\n"
     ]
    }
   ],
   "source": [
    "print(fcnt._FrqCounter__d)"
   ]
  },
  {
   "cell_type": "code",
   "execution_count": 48,
   "metadata": {},
   "outputs": [
    {
     "name": "stdout",
     "output_type": "stream",
     "text": [
      "{'_FrqCounter__d': {'python': 2, 'c++': 1}}\n"
     ]
    }
   ],
   "source": [
    " print(fcnt.__dict__)"
   ]
  },
  {
   "cell_type": "markdown",
   "metadata": {},
   "source": [
    "### Magic Methods\n",
    "\n",
    "- they are called automatically when some particular event occur\n",
    "\n",
    "- e.g. `__repr__`(toString) , `__init__`,, `__str__` "
   ]
  },
  {
   "cell_type": "code",
   "execution_count": 38,
   "metadata": {},
   "outputs": [
    {
     "name": "stdout",
     "output_type": "stream",
     "text": [
      "<__main__.Human object at 0x0000020FF9D60790>\n",
      "[<__main__.Human object at 0x0000020FF9D60790>, <__main__.Human object at 0x0000020FF9D60430>]\n",
      "<__main__.Human object at 0x0000020FF9D60790>\n",
      "Jhon\n"
     ]
    }
   ],
   "source": [
    "# before overriding __repr__ magic function\n",
    "print(h1)\n",
    "print(Human.database)\n",
    "print(Human.database[0])\n",
    "print(Human.database[1].name)"
   ]
  },
  {
   "cell_type": "code",
   "execution_count": 47,
   "metadata": {},
   "outputs": [],
   "source": [
    "class Human():\n",
    "\n",
    "    # class variable\n",
    "    database = []\n",
    "    population = 0\n",
    "    id_seq = 0\n",
    "\n",
    "    # constructor\n",
    "    def __init__(self,name,age,is_alive = True):\n",
    "        # instance variables\n",
    "        self.name = name\n",
    "        self.age = age\n",
    "        self.is_alive = is_alive\n",
    "        # \n",
    "        self.id = Human.id_seq\n",
    "        Human.id_seq += 1\n",
    "        Human.population += 1\n",
    "        Human.database.append(self)\n",
    "\n",
    "    # instance methods\n",
    "    def intro(self):\n",
    "        print(\"Hi, My name is\",self.name,\"My age is\",self.age)\n",
    "    \n",
    "    def die(self):\n",
    "        if self.is_alive:\n",
    "            print(self.name, \"is dying\")\n",
    "            self.is_alive = False\n",
    "            Human.population -= 1\n",
    "        else:\n",
    "            print(\"{} is already dead\".format(self.name))\n",
    "    \n",
    "    # __repr__ is a special method used to represent a class’s objects as a string\n",
    "    def __repr__(self):\n",
    "        return \"%s(%r)\" % (self.__class__, self.__dict__)\n",
    "    # The __str__ method in Python represents the class objects as a string. The __str__ method is\n",
    "    # called when the following functions are invoked on the object and return a string: print(), str()\n",
    "    def __str__(self):\n",
    "        return f\"Human [{self.id}, {self.name}, {self.age}, {self.is_alive}]\"\n",
    "    #  `__repr__` vs `__str__`: __repr__ is for developers, __str__ is for customers.\n",
    "    # If we have not defined the __str__, then it will call the __repr__ method."
   ]
  },
  {
   "cell_type": "code",
   "execution_count": 48,
   "metadata": {},
   "outputs": [
    {
     "name": "stdout",
     "output_type": "stream",
     "text": [
      "[<class '__main__.Human'>({'name': 'soikat', 'age': 22, 'is_alive': True, 'id': 0}), <class '__main__.Human'>({'name': 'Jhon', 'age': 69, 'is_alive': True, 'id': 1})]\n",
      "\n",
      "Human [0, soikat, 22, True]\n",
      "Human [0, soikat, 22, True]\n",
      "Human [0, soikat, 22, True]\n",
      "other magic methods: \n",
      "['__class__', '__delattr__', '__dict__', '__dir__', '__doc__', '__eq__', '__format__', '__ge__', '__getattribute__', '__gt__', '__hash__', '__init__', '__init_subclass__', '__le__', '__lt__', '__module__', '__ne__', '__new__', '__reduce__', '__reduce_ex__', '__repr__', '__setattr__', '__sizeof__', '__str__', '__subclasshook__', '__weakref__', 'database', 'die', 'id_seq', 'intro', 'population']\n"
     ]
    }
   ],
   "source": [
    "# after overriding __repr__ magic function\n",
    "h1 = Human(\"soikat\",22)\n",
    "h2 = Human(\"Jhon\",69)\n",
    "# __repr__\n",
    "print(Human.database)\n",
    "print()\n",
    "# __str__\n",
    "print(h1)\n",
    "print(str(h1))\n",
    "print(Human.database[0])\n",
    "\n",
    "\n",
    "print(\"other magic methods: \\n\"+str(dir(Human)))"
   ]
  },
  {
   "cell_type": "markdown",
   "metadata": {},
   "source": [
    "### Comparing Objects"
   ]
  },
  {
   "cell_type": "code",
   "execution_count": 59,
   "metadata": {},
   "outputs": [],
   "source": [
    "class Point():\n",
    "    def __init__(self,x,y):\n",
    "        self.x=x\n",
    "        self.y=y\n",
    "    \n",
    "    def __eq__(self,other):\n",
    "        return self.x==other.x and self.y==other.y\n",
    "\n",
    "    def __gt__(self,other):\n",
    "        return self.x > other.x and self.y>other.y   \n",
    "\n",
    "    def __add__(self,o):\n",
    "        return Point(self.x+o.x,self.y+o.y)\n",
    "    \n",
    "    def __str__(self):\n",
    "        return f\"Point({self.x} , {self.y})\""
   ]
  },
  {
   "cell_type": "code",
   "execution_count": 60,
   "metadata": {},
   "outputs": [
    {
     "name": "stdout",
     "output_type": "stream",
     "text": [
      "True\n",
      "True\n",
      "Point(2 , 4)\n"
     ]
    }
   ],
   "source": [
    "p1= Point(1,2)\n",
    "p2= Point(1,2)\n",
    "p3= Point(10,3)\n",
    "\n",
    "print(p1==p2)\n",
    "print(p3>p1)\n",
    "print(p1+p2)"
   ]
  },
  {
   "cell_type": "markdown",
   "metadata": {},
   "source": [
    "### Custom containers"
   ]
  },
  {
   "cell_type": "code",
   "execution_count": 16,
   "metadata": {},
   "outputs": [],
   "source": [
    "class FreqCount():\n",
    "\n",
    "    def __init__(self):\n",
    "        self.d={}\n",
    "\n",
    "    def add(self,v):\n",
    "        self.d[v.lower()] = self.d.get(v.lower(),0) + 1\n",
    "\n",
    "    def __getitem__(self,v):\n",
    "        return self.d.get(v.lower(),0)\n",
    "\n",
    "    def __setitem__(self,v,count):\n",
    "        self.d[v.lower()] = count\n",
    "\n",
    "    def __len__(self):\n",
    "        return len(self.d)\n",
    "\n",
    "    def __iter__(self):\n",
    "        return iter(self.d)\n",
    "    \n",
    "    def __str__(self):\n",
    "        return f\"FC ({self.d})\"\n"
   ]
  },
  {
   "cell_type": "code",
   "execution_count": 33,
   "metadata": {},
   "outputs": [
    {
     "name": "stdout",
     "output_type": "stream",
     "text": [
      "3\n",
      "2\n",
      "FC ({'python': 3, 'c++': 10})\n",
      "\n",
      "python -> 3\n",
      "c++ -> 10\n"
     ]
    }
   ],
   "source": [
    "\n",
    "fc = FreqCount()\n",
    "fc.add(\"python\")\n",
    "fc.add(\"Python\")\n",
    "fc.add(\"python\")\n",
    "# print(fc.d) instead use __getitem__\n",
    "print(fc[\"python\"])\n",
    "# using __setitem__ instead of fc.d[\"c++\"]\n",
    "fc[\"c++\"] = 10\n",
    "# __len__\n",
    "print(len(fc))\n",
    "# __str__\n",
    "print(fc)\n",
    "print()\n",
    "# __iter__\n",
    "for i in fc:\n",
    "    print(i,\"->\",fc[i])\n"
   ]
  },
  {
   "cell_type": "markdown",
   "metadata": {},
   "source": [
    "### Class method and Static method \n",
    "\n",
    "#### Static Method\n",
    "\n",
    "A static method does not receive an implicit first argument (`self`). \n",
    "\n",
    "Syntax: \n",
    "\n",
    "```python\n",
    "class C(object):\n",
    "    @staticmethod\n",
    "    def fun(arg1, arg2, ...):\n",
    "        ...\n",
    "returns: a static method for function fun.\n",
    "```\n",
    "\n",
    "- A static method is also a method that is bound to the class and not the object of the class.\n",
    "- A static method can’t access or modify the class state.\n",
    "- It is present in a class because it makes sense for the method to be present in class."
   ]
  },
  {
   "cell_type": "code",
   "execution_count": 33,
   "metadata": {},
   "outputs": [
    {
     "name": "stdout",
     "output_type": "stream",
     "text": [
      "Welcome to School!!\n"
     ]
    }
   ],
   "source": [
    "class Student():\n",
    "\tdef __init__(self,name,age):\n",
    "\t\tself.name = name\n",
    "\t\tself.age = age\n",
    "\t\n",
    "\tdef __str__(self):\n",
    "\t\treturn f\"Student [{self.name}, {self.age}]\"\n",
    "\t\n",
    "\t@staticmethod\n",
    "\tdef welcomeToSchool(): # self is not required\n",
    "\t\tprint(\"Welcome to School!!\")\n",
    "\t\n",
    "\t@staticmethod\n",
    "\tdef isTeen(self,age): # explicitly mentioning self\n",
    "\t\treturn age>=13 and age<=19\n",
    "\n",
    "s1 = Student(\"soikat\",22)\n",
    "s1.welcomeToSchool()\n"
   ]
  },
  {
   "cell_type": "code",
   "execution_count": 32,
   "metadata": {},
   "outputs": [
    {
     "name": "stdout",
     "output_type": "stream",
     "text": [
      "Welcome to School!!\n"
     ]
    }
   ],
   "source": [
    "Student.welcomeToSchool()"
   ]
  },
  {
   "cell_type": "code",
   "execution_count": 34,
   "metadata": {},
   "outputs": [
    {
     "data": {
      "text/plain": [
       "False"
      ]
     },
     "execution_count": 34,
     "metadata": {},
     "output_type": "execute_result"
    }
   ],
   "source": [
    "Student.isTeen(s1,22)"
   ]
  },
  {
   "cell_type": "markdown",
   "metadata": {},
   "source": [
    "#### Class Method\n",
    "\n",
    "Class methods are methods that are called on the class itself, not on a specific object instance. Therefore, it belongs to a class level, and all class instances share a class method.\n",
    "\n",
    "- **A class method is bound to the class and not the object of the class**. It can access only class variables.\n",
    "- It can modify the class state by changing the value of a class variable that would apply across all the class objects.\n",
    "\n",
    "The difference between a static method and a class method is:\n",
    "\n",
    "- Static method knows nothing about the class and just deals with the parameters\n",
    "- Class method works with the class since its parameter is always the class itself.\n",
    "\n",
    "The class method can be called both by the class and its object.\n",
    "\n",
    "```python\n",
    "class C(object):\n",
    "    @classmethod\n",
    "    def fun(cls, arg1, arg2, ...):\n",
    "       ....\n",
    "# fun: function that needs to be converted into a class method\n",
    "# returns: a class method for function.\n",
    "```\n"
   ]
  },
  {
   "cell_type": "markdown",
   "metadata": {},
   "source": [
    "##### When do you use the class method?\n",
    "\n",
    "###### 1. Factory methods\n",
    "\n",
    "Class methods are used when we are dealing with factory methods. **Factory methods are those methods that return a class object for different use cases**. Thus, factory methods create concrete implementations of a common interface.\n",
    "\n",
    "It is similar to function overloading in C++. Since, Python doesn't have anything as such, class methods and static methods are used.\n"
   ]
  },
  {
   "cell_type": "code",
   "execution_count": 39,
   "metadata": {},
   "outputs": [
    {
     "name": "stdout",
     "output_type": "stream",
     "text": [
      "Jessa's age is: 20\n",
      "Joy's age is: 26\n"
     ]
    }
   ],
   "source": [
    "from datetime import date\n",
    "\n",
    "\n",
    "class Student:\n",
    "    def __init__(self, name, age):\n",
    "        self.name = name\n",
    "        self.age = age\n",
    "\n",
    "    @classmethod\n",
    "    def calculate_age(cls, name, birth_year):\n",
    "        # calculate age an set it as a age\n",
    "        # return new object\n",
    "        return cls(name, date.today().year - birth_year)\n",
    "\n",
    "    def show(self):\n",
    "        print(self.name + \"'s age is: \" + str(self.age))\n",
    "\n",
    "\n",
    "jessa = Student('Jessa', 20)\n",
    "jessa.show()\n",
    "\n",
    "# create new object using the factory method\n",
    "joy = Student.calculate_age(\"Joy\", 1995)\n",
    "joy.show()\n"
   ]
  },
  {
   "cell_type": "markdown",
   "metadata": {},
   "source": [
    "The constructor takes normal parameters `name` and `age`. While, `fromBirthYear` takes `class`, `name` and `birthYear`, calculates the current age by subtracting it with the current year and returns the class instance.\n",
    "\n",
    "The `fromBirthYear` method takes `Person` class (not `Person` object) as the first parameter `cls` and **returns** the constructor by calling `cls(name, date.today().year - birthYear)`, which is equivalent to `Person(name, date.today().year - birthYear)`"
   ]
  },
  {
   "cell_type": "markdown",
   "metadata": {},
   "source": [
    "###### 2. Correct instance creation in inheritance\n",
    "\n",
    "Whenever you derive a class from implementing a factory method as a class method, it ensures correct instance creation of the derived class. \n",
    "\n",
    "You can create a static method for the above example but the object it creates, will always be hard coded as Base class. \n",
    "\n",
    "But, when you use a class method, it creates the correct instance of the derived class."
   ]
  },
  {
   "cell_type": "code",
   "execution_count": 38,
   "metadata": {},
   "outputs": [
    {
     "name": "stdout",
     "output_type": "stream",
     "text": [
      "True\n",
      "False\n"
     ]
    }
   ],
   "source": [
    "from datetime import date\n",
    "\n",
    "# random Person\n",
    "class Person:\n",
    "    def __init__(self, name, age):\n",
    "        self.name = name\n",
    "        self.age = age\n",
    "\n",
    "    @staticmethod\n",
    "    def fromFathersAge(name, fatherAge, fatherPersonAgeDiff):\n",
    "        return Person(name, date.today().year - fatherAge + fatherPersonAgeDiff)\n",
    "\n",
    "    @classmethod\n",
    "    def fromBirthYear(cls, name, birthYear):\n",
    "        return cls(name, date.today().year - birthYear)\n",
    "\n",
    "    def display(self):\n",
    "        print(self.name + \"'s age is: \" + str(self.age))\n",
    "\n",
    "# Inheritance\n",
    "class Man(Person):\n",
    "    sex = 'Male'\n",
    "\n",
    "\n",
    "man = Man.fromBirthYear('John', 1985) # using classmethod\n",
    "print(isinstance(man, Man))\n",
    "\n",
    "man1 = Man.fromFathersAge('John', 1965, 20) # using staticmethod\n",
    "print(isinstance(man1, Man))\n"
   ]
  },
  {
   "cell_type": "markdown",
   "metadata": {},
   "source": [
    "Here, using a `static` method to create a class instance wants us to hardcode the instance type during creation.\n",
    "\n",
    "This clearly causes a problem when inheriting `Person` to `Man`.\n",
    "\n",
    "`fromFathersAge` method **doesn't return** a `Man` object but its base class `Person`'s object.\n",
    "\n",
    "This violates the OOP paradigm. Using a class method as `fromBirthYear` can ensure the OOP-ness of the code since it takes the first parameter as the class itself and calls its factory method."
   ]
  },
  {
   "cell_type": "markdown",
   "metadata": {},
   "source": [
    "## Inheritance \n",
    "\n",
    "-  a process where one class acquire all the methods and properties of another class\n",
    "\n",
    "**Parent Class** is the class being inherited, also called base class.\n",
    "**Child Class** is the class that inherits another class, also called derived class.\n",
    "\n",
    "Syntax :\n",
    "\n",
    "```python\n",
    "class ChildClassName(ParentClassName)\n",
    "```"
   ]
  },
  {
   "cell_type": "code",
   "execution_count": 105,
   "metadata": {},
   "outputs": [],
   "source": [
    "# Child class\n",
    "class Hitman(Human):\n",
    "    # re-initialize constructor\n",
    "    def __init__(self,name,age):\n",
    "        super().__init__(name,age)\n",
    "        # additional hitman properties\n",
    "        self.kills  = 0\n",
    "        self.kills_list = []\n",
    "    \n",
    "    def kill(self,person):\n",
    "        \"\"\"\n",
    "        `person` will be an object of Human\n",
    "        \"\"\"\n",
    "        if person.is_alive:\n",
    "            print(\"{} is killing {}\".format(self.name,person.name))\n",
    "            person.die()\n",
    "            self.kills+=1\n",
    "            self.kills_list.append(person)\n",
    "        else:\n",
    "            print(\"{} is already dead.\".format(person.name))\n",
    "\n",
    "    # function overriding - Achieving Polymorphism:\n",
    "    def intro(self):\n",
    "        print(\"Hi, my nam is {}, I've killed {} people\".format(self.name,self.kills))\n"
   ]
  },
  {
   "cell_type": "code",
   "execution_count": 106,
   "metadata": {},
   "outputs": [
    {
     "name": "stdout",
     "output_type": "stream",
     "text": [
      "3\n",
      "[[0, soikat, 22, True], [1, Jhon, 69, True], [2, Bob, 10, True]]\n"
     ]
    }
   ],
   "source": [
    "h3 =  Human(\"Bob\",10)\n",
    "print(Human.population)\n",
    "print(Human.database)"
   ]
  },
  {
   "cell_type": "code",
   "execution_count": 107,
   "metadata": {},
   "outputs": [
    {
     "name": "stdout",
     "output_type": "stream",
     "text": [
      "[3, James, 40, True]\n",
      "4\n",
      "[[0, soikat, 22, True], [1, Jhon, 69, True], [2, Bob, 10, True], [3, James, 40, True]]\n"
     ]
    }
   ],
   "source": [
    "bond = Hitman(\"James\",40)\n",
    "print(bond)\n",
    "print(Human.population)\n",
    "print(Human.database)"
   ]
  },
  {
   "cell_type": "code",
   "execution_count": 108,
   "metadata": {},
   "outputs": [
    {
     "name": "stdout",
     "output_type": "stream",
     "text": [
      "4\n",
      "[[0, soikat, 22, True], [1, Jhon, 69, True], [2, Bob, 10, True], [3, James, 40, True]]\n",
      "James is killing Bob\n",
      "Bob is dying\n",
      "1\n",
      "[[2, Bob, 10, False]]\n"
     ]
    }
   ],
   "source": [
    "print(Human.population)\n",
    "print(Human.database)\n",
    "bond.kill(h3)\n",
    "print(bond.kills)\n",
    "print(bond.kills_list)"
   ]
  },
  {
   "cell_type": "code",
   "execution_count": 109,
   "metadata": {},
   "outputs": [
    {
     "name": "stdout",
     "output_type": "stream",
     "text": [
      "Bob is already dead.\n"
     ]
    }
   ],
   "source": [
    "bond.kill(h3)"
   ]
  },
  {
   "cell_type": "code",
   "execution_count": 110,
   "metadata": {},
   "outputs": [
    {
     "name": "stdout",
     "output_type": "stream",
     "text": [
      "Hi, My name is Jhon My age is 69\n",
      "Hi, my nam is James, I've killed 1 people\n"
     ]
    }
   ],
   "source": [
    "# Polymorphism \n",
    "h2.intro()\n",
    "bond.intro()"
   ]
  },
  {
   "cell_type": "markdown",
   "metadata": {},
   "source": [
    "### Method Overriding with super()\n",
    "\n",
    "The `super()` builtin returns a proxy object (temporary object of the superclass) that allows us to access methods of the base class.\n",
    "\n",
    "In Python, `super()` has two major use cases:\n",
    "\n",
    "- Allows us to avoid using the base class name explicitly\n",
    "- Working with Multiple Inheritance"
   ]
  },
  {
   "cell_type": "code",
   "execution_count": 5,
   "metadata": {},
   "outputs": [
    {
     "name": "stdout",
     "output_type": "stream",
     "text": [
      "Mammal constructor\n",
      "Animal constructor\n",
      "1\n",
      "2\n"
     ]
    }
   ],
   "source": [
    "class Animal():\n",
    "    def __init__(self):\n",
    "        print(\"Animal constructor\")\n",
    "        self.age = 1\n",
    "    \n",
    "   \n",
    "class Mammal(Animal):\n",
    "    def __init__(self):\n",
    "        print(\"Mammal constructor\")\n",
    "        self.weight = 2\n",
    "        super().__init__()\n",
    "    \n",
    "m = Mammal()\n",
    "print(m.age)\n",
    "print(m.weight)"
   ]
  },
  {
   "cell_type": "markdown",
   "metadata": {},
   "source": [
    "### Multiple Inheritance"
   ]
  },
  {
   "cell_type": "code",
   "execution_count": 8,
   "metadata": {},
   "outputs": [
    {
     "name": "stdout",
     "output_type": "stream",
     "text": [
      "Employee greeting...\n"
     ]
    }
   ],
   "source": [
    "class Employee:\n",
    "    def greet(self):\n",
    "        print(\"Employee greeting...\")\n",
    "\n",
    "class Person:\n",
    "    def greet(self):\n",
    "        print(\"Person greeting...\")\n",
    "\n",
    "\n",
    "class Manager(Employee,Person):\n",
    "    pass\n",
    "\n",
    "m = Manager()\n",
    "m.greet()"
   ]
  },
  {
   "cell_type": "code",
   "execution_count": 9,
   "metadata": {},
   "outputs": [
    {
     "name": "stdout",
     "output_type": "stream",
     "text": [
      "Person greeting...\n"
     ]
    }
   ],
   "source": [
    "class Manager(Person, Employee):\n",
    "    pass\n",
    "\n",
    "m = Manager()\n",
    "m.greet()"
   ]
  },
  {
   "cell_type": "markdown",
   "metadata": {},
   "source": [
    "## Abstract Base Classes\n",
    "\n",
    "> lets build a class:"
   ]
  },
  {
   "cell_type": "code",
   "execution_count": null,
   "metadata": {},
   "outputs": [],
   "source": []
  },
  {
   "cell_type": "code",
   "execution_count": 11,
   "metadata": {},
   "outputs": [],
   "source": [
    "class InvalidOperationError(Exception):\n",
    "    pass\n",
    "\n",
    "class Stream:\n",
    "    def __init__(self):\n",
    "        self.opened = False\n",
    "    \n",
    "    def open(self):\n",
    "        if self.opened:\n",
    "            raise InvalidOperationError(\"Stream is Already opened\")\n",
    "        self.opened = True\n",
    "    \n",
    "    def close(self):\n",
    "        if self.opened:\n",
    "            raise InvalidOperationError(\"Stream is Already opened\")\n",
    "        self.opened = True\n",
    "\n",
    "class FileStream(Stream):\n",
    "    def read(self):\n",
    "        print(\"Reading data from a file\")\n",
    "    \n",
    "\n",
    "class NetworkStream(Stream):\n",
    "    def read(self):\n",
    "        print(\"Reading data from a network\")\n"
   ]
  },
  {
   "cell_type": "markdown",
   "metadata": {},
   "source": [
    "**Whats wrong with below code:::**\n",
    "\n",
    "```py\n",
    "stream = Stream()\n",
    "print(stream.opened)\n",
    "stream.open()\n",
    "print(stream.opened)\n",
    "```\n",
    "\n",
    "We should not allow `Stream()` class to be instantiated as above beacuse `Stream()` is abstruct idea... we don't know what type of stream we are talking about?? is it  `FileStream` or `NetworkStream`\n"
   ]
  },
  {
   "cell_type": "code",
   "execution_count": 22,
   "metadata": {},
   "outputs": [],
   "source": [
    "from abc import ABC,abstractmethod"
   ]
  },
  {
   "cell_type": "code",
   "execution_count": 23,
   "metadata": {},
   "outputs": [],
   "source": [
    "\n",
    "class InvalidOperationError(Exception):\n",
    "    pass\n",
    "\n",
    "class Stream(ABC):\n",
    "    def __init__(self):\n",
    "        self.opened = False\n",
    "    \n",
    "    def open(self):\n",
    "        if self.opened:\n",
    "            raise InvalidOperationError(\"Stream is Already opened\")\n",
    "        self.opened = True\n",
    "    \n",
    "    def close(self):\n",
    "        if self.opened:\n",
    "            raise InvalidOperationError(\"Stream is Already opened\")\n",
    "        self.opened = True\n",
    "\n",
    "    @abstractmethod\n",
    "    def read(self):\n",
    "        pass\n",
    "\n",
    "class FileStream(Stream):\n",
    "    def read(self):\n",
    "        print(\"Reading data from a file\")\n",
    "    \n",
    "\n",
    "class NetworkStream(Stream):\n",
    "    def read(self):\n",
    "        print(\"Reading data from a network\")\n"
   ]
  },
  {
   "cell_type": "markdown",
   "metadata": {},
   "source": [
    "> abstruct class can't be instantiated"
   ]
  },
  {
   "cell_type": "code",
   "execution_count": 24,
   "metadata": {},
   "outputs": [
    {
     "ename": "TypeError",
     "evalue": "Can't instantiate abstract class Stream with abstract methods read",
     "output_type": "error",
     "traceback": [
      "\u001b[1;31m---------------------------------------------------------------------------\u001b[0m",
      "\u001b[1;31mTypeError\u001b[0m                                 Traceback (most recent call last)",
      "\u001b[1;32m<ipython-input-24-1456ce223969>\u001b[0m in \u001b[0;36m<module>\u001b[1;34m\u001b[0m\n\u001b[1;32m----> 1\u001b[1;33m \u001b[0mstream\u001b[0m \u001b[1;33m=\u001b[0m \u001b[0mStream\u001b[0m\u001b[1;33m(\u001b[0m\u001b[1;33m)\u001b[0m\u001b[1;33m\u001b[0m\u001b[1;33m\u001b[0m\u001b[0m\n\u001b[0m\u001b[0;32m      2\u001b[0m \u001b[0mstream\u001b[0m\u001b[1;33m.\u001b[0m\u001b[0mopen\u001b[0m\u001b[1;33m(\u001b[0m\u001b[1;33m)\u001b[0m\u001b[1;33m\u001b[0m\u001b[1;33m\u001b[0m\u001b[0m\n",
      "\u001b[1;31mTypeError\u001b[0m: Can't instantiate abstract class Stream with abstract methods read"
     ]
    }
   ],
   "source": [
    "stream = Stream()\n",
    "stream.open()"
   ]
  },
  {
   "cell_type": "markdown",
   "metadata": {},
   "source": [
    "> Also we now  must implement `read()` method"
   ]
  },
  {
   "cell_type": "code",
   "execution_count": 25,
   "metadata": {},
   "outputs": [
    {
     "ename": "TypeError",
     "evalue": "Can't instantiate abstract class MemoryStream with abstract methods read",
     "output_type": "error",
     "traceback": [
      "\u001b[1;31m---------------------------------------------------------------------------\u001b[0m",
      "\u001b[1;31mTypeError\u001b[0m                                 Traceback (most recent call last)",
      "\u001b[1;32m<ipython-input-25-e4845ed35a73>\u001b[0m in \u001b[0;36m<module>\u001b[1;34m\u001b[0m\n\u001b[0;32m      2\u001b[0m     \u001b[1;32mpass\u001b[0m\u001b[1;33m\u001b[0m\u001b[1;33m\u001b[0m\u001b[0m\n\u001b[0;32m      3\u001b[0m \u001b[1;33m\u001b[0m\u001b[0m\n\u001b[1;32m----> 4\u001b[1;33m \u001b[0mmem\u001b[0m \u001b[1;33m=\u001b[0m \u001b[0mMemoryStream\u001b[0m\u001b[1;33m(\u001b[0m\u001b[1;33m)\u001b[0m\u001b[1;33m\u001b[0m\u001b[1;33m\u001b[0m\u001b[0m\n\u001b[0m",
      "\u001b[1;31mTypeError\u001b[0m: Can't instantiate abstract class MemoryStream with abstract methods read"
     ]
    }
   ],
   "source": [
    "class MemoryStream(Stream):\n",
    "    pass\n",
    "\n",
    "mem = MemoryStream()"
   ]
  },
  {
   "cell_type": "code",
   "execution_count": 27,
   "metadata": {},
   "outputs": [
    {
     "name": "stdout",
     "output_type": "stream",
     "text": [
      "True\n"
     ]
    }
   ],
   "source": [
    "class MemoryStream(Stream):\n",
    "    def read():\n",
    "        print(\"Memory Stream\")\n",
    "\n",
    "mem = MemoryStream()\n",
    "mem.open()\n",
    "print(mem.opened)"
   ]
  },
  {
   "cell_type": "markdown",
   "metadata": {},
   "source": [
    "## Polymorphism\n",
    "\n",
    "- One function Name can have different functionality.\n",
    "\n",
    "**Function overriding** - If derived class defines same function in it's base class, it known as function overriding. This is used to achieve Polymorphism."
   ]
  },
  {
   "cell_type": "code",
   "execution_count": 30,
   "metadata": {},
   "outputs": [],
   "source": [
    "from abc import ABC,abstractmethod\n",
    "\n",
    "class UIControl(ABC):\n",
    "    @abstractmethod\n",
    "    def draw(self):\n",
    "        pass\n",
    "\n",
    "class TextBox(UIControl):\n",
    "    def draw(self):\n",
    "        print(\"TextBox...\")\n",
    "\n",
    "class DropDownList(UIControl):\n",
    "    def draw(self):\n",
    "        print(\"DropDownList....\")\n",
    "    \n",
    "\n",
    "def draw(controls):\n",
    "    for c in controls:\n",
    "        c.draw()"
   ]
  },
  {
   "cell_type": "code",
   "execution_count": 31,
   "metadata": {},
   "outputs": [
    {
     "name": "stdout",
     "output_type": "stream",
     "text": [
      "DropDownList....\n",
      "TextBox...\n"
     ]
    }
   ],
   "source": [
    "\n",
    "ddl = DropDownList()\n",
    "txtbx = TextBox()\n",
    "\n",
    "draw([ddl,txtbx])"
   ]
  }
 ],
 "metadata": {
  "interpreter": {
   "hash": "b3ba2566441a7c06988d0923437866b63cedc61552a5af99d1f4fb67d367b25f"
  },
  "kernelspec": {
   "display_name": "Python 3.8.10 64-bit ('base': conda)",
   "name": "python3"
  },
  "language_info": {
   "codemirror_mode": {
    "name": "ipython",
    "version": 3
   },
   "file_extension": ".py",
   "mimetype": "text/x-python",
   "name": "python",
   "nbconvert_exporter": "python",
   "pygments_lexer": "ipython3",
   "version": "3.8.8"
  },
  "orig_nbformat": 2
 },
 "nbformat": 4,
 "nbformat_minor": 2
}
