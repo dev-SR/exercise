{
 "cells": [
  {
   "cell_type": "markdown",
   "metadata": {},
   "source": [
    "# OOP"
   ]
  },
  {
   "cell_type": "code",
   "execution_count": null,
   "metadata": {},
   "outputs": [],
   "source": [
    "\"\"\"\n",
    "cd .\\Py\\09OOP\\\n",
    "jupyter nbconvert --to markdown 00py_oop.ipynb --output README.md\n",
    "\n",
    "\"\"\"\n"
   ]
  },
  {
   "cell_type": "markdown",
   "metadata": {},
   "source": [
    "## OOP concept"
   ]
  },
  {
   "cell_type": "markdown",
   "metadata": {},
   "source": [
    "**Abstraction**\n",
    "\n",
    "- Data Abstraction is the property through which only essential details are displayed to the user\n",
    "- Hiding the implementation\n",
    "- e.g. the working of a car\n",
    "\n",
    "**Encapsulation**\n",
    "\n",
    "- wrapping up of data into one unit\n",
    "- All the properties and methods are combined together\n",
    "  \n",
    "**Inheritance**\n",
    "\n",
    "- It is the mechanism by which one class is allowed to inherit the feature (properties and methods) of another class\n",
    "- This offers a lot of reusability of code\n",
    "\n",
    "**Polymorphism**\n",
    "\n",
    "- The word polymorphism means having many forms\n",
    "- We can define polymorphism as the ability of a message to be displayed in more than one form"
   ]
  },
  {
   "cell_type": "markdown",
   "metadata": {},
   "source": [
    "## Basics"
   ]
  },
  {
   "cell_type": "markdown",
   "metadata": {},
   "source": [
    "**Defining the constructor of a Class**\n",
    "\n",
    "- A constructor is a special member function of a class that is executed whenever we create new objects of the class.\n",
    "\n",
    "```python\n",
    "def __init__(self):\n",
    "    ...\n",
    "    ...\n",
    "```\n",
    "\n",
    "The `__init__` method is a special method in Python classes that is *automatically called when an object is created from the class.* It is used to initialize the object's attributes and perform setup tasks\n",
    "\n",
    "\n",
    "**Defining the methods of a instance**\n",
    "\n",
    "```\n",
    "def intro(self):\n",
    "    ...\n",
    "    ...\n",
    "```\n",
    "\n",
    "In object-oriented programming, variables at the class level are referred to as class variables, whereas variables at the object level are called instance variables.\n",
    "\n"
   ]
  },
  {
   "cell_type": "markdown",
   "metadata": {},
   "source": [
    "## Instance Attribute and Class Attributes"
   ]
  },
  {
   "cell_type": "markdown",
   "metadata": {},
   "source": [
    "**Class Attributes**\n",
    "\n",
    "- defined within the _class construction_\n",
    "- shared by all instances of the class\n",
    "- They are associated with the class\n",
    "- Accessed by `class_name.variable`\n",
    "\n",
    "They therefore will generally have the same value for every instance unless you are using the class variable to initialize a variable.\n",
    "\n",
    "**Instance Variables**\n",
    "\n",
    "Instance variables are owned by instances of the class. This means that for each object or instance of a class, the instance variables are different.\n",
    "\n",
    "Unlike class variables, instance variables are defined within methods.\n",
    "\n",
    "Instance variables, owned by objects of the class, allow for each object or instance to have different values assigned to those variables."
   ]
  },
  {
   "cell_type": "code",
   "execution_count": 1,
   "metadata": {},
   "outputs": [
    {
     "name": "stdout",
     "output_type": "stream",
     "text": [
      "0\n",
      "10\n",
      "\n",
      "0\n",
      "20\n"
     ]
    }
   ],
   "source": [
    "class Test:\n",
    "    # class variable - common to all\n",
    "\tclass_var= 0\n",
    "\t\n",
    "\tdef __init__(self,v):\n",
    "\t # instance variables - only available to instance\n",
    "\t\tself.instance_var = v\n",
    "\t\t# local variable - only available to current method\n",
    "\t\tlocal_var = 0\n",
    "\n",
    "t1= Test(10)\n",
    "t2= Test(20)\n",
    "\n",
    "print(t1.class_var)\n",
    "print(t1.instance_var)\n",
    "print()\n",
    "print(t2.class_var)\n",
    "print(t2.instance_var)"
   ]
  },
  {
   "cell_type": "code",
   "execution_count": 28,
   "metadata": {},
   "outputs": [
    {
     "ename": "AttributeError",
     "evalue": "'Test' object has no attribute 'local_var'",
     "output_type": "error",
     "traceback": [
      "\u001b[1;31m---------------------------------------------------------------------------\u001b[0m",
      "\u001b[1;31mAttributeError\u001b[0m                            Traceback (most recent call last)",
      "\u001b[1;32m<ipython-input-28-bac5ddb7ca08>\u001b[0m in \u001b[0;36m<module>\u001b[1;34m\u001b[0m\n\u001b[1;32m----> 1\u001b[1;33m \u001b[0mt1\u001b[0m\u001b[1;33m.\u001b[0m\u001b[0mlocal_var\u001b[0m\u001b[1;33m\u001b[0m\u001b[1;33m\u001b[0m\u001b[0m\n\u001b[0m",
      "\u001b[1;31mAttributeError\u001b[0m: 'Test' object has no attribute 'local_var'"
     ]
    }
   ],
   "source": [
    "t1.local_var"
   ]
  },
  {
   "cell_type": "code",
   "execution_count": 4,
   "metadata": {},
   "outputs": [
    {
     "name": "stdout",
     "output_type": "stream",
     "text": [
      "{'instance_var': 10}\n",
      "{'instance_var': 20}\n"
     ]
    }
   ],
   "source": [
    "print(t1.__dict__)\n",
    "print(t2.__dict__)"
   ]
  },
  {
   "cell_type": "code",
   "execution_count": 14,
   "metadata": {},
   "outputs": [
    {
     "name": "stdout",
     "output_type": "stream",
     "text": [
      "True\n",
      "True\n",
      "True\n",
      "10\n",
      "0\n"
     ]
    }
   ],
   "source": [
    "print(hasattr(t1,'instance_var'))\n",
    "print(hasattr(t1, 'class_var'))\n",
    "print(hasattr(t1, '__init__'))\n",
    "\n",
    "print(getattr(t1,'instance_var'))\n",
    "print(getattr(t1, 'class_var'))"
   ]
  },
  {
   "cell_type": "markdown",
   "metadata": {},
   "source": [
    "#### EX- 1"
   ]
  },
  {
   "cell_type": "code",
   "execution_count": 6,
   "metadata": {},
   "outputs": [],
   "source": [
    "class Human:\n",
    "\n",
    "    # class variable - common to all\n",
    "    database = []\n",
    "    population = 0\n",
    "    id_seq = 0\n",
    "\n",
    "    def __init__(self,name,age,is_alive = True):\n",
    "        # instance variables - only availabe to instance\n",
    "        self.name = name\n",
    "        self.age = age\n",
    "        self.is_alive = is_alive\n",
    "        # accessing class variable\n",
    "        self.id = Human.id_seq\n",
    "        Human.id_seq += 1\n",
    "        Human.population += 1\n",
    "        Human.database.append(self)\n",
    "\n",
    "    # instance methods\n",
    "    def intro(self):\n",
    "        print(\"Hi, My name is\",self.name,\"My age is\",self.age)\n",
    "    \n",
    "    def die(self):\n",
    "        if self.is_alive:\n",
    "            print(self.name, \"is dying\")\n",
    "            self.is_alive = False\n",
    "            Human.population -= 1\n",
    "        else:\n",
    "            print(\"{} is already dead\".format(self.name))"
   ]
  },
  {
   "cell_type": "code",
   "execution_count": 7,
   "metadata": {},
   "outputs": [],
   "source": [
    "h1 = Human(\"soikat\",22)\n",
    "h2 = Human(\"Jhon\",69)"
   ]
  },
  {
   "cell_type": "code",
   "execution_count": 8,
   "metadata": {},
   "outputs": [
    {
     "name": "stdout",
     "output_type": "stream",
     "text": [
      "Hi, My name is soikat My age is 22\n",
      "Hi, My name is Jhon My age is 69\n"
     ]
    }
   ],
   "source": [
    "h1.intro()\n",
    "h2.intro()"
   ]
  },
  {
   "cell_type": "code",
   "execution_count": 32,
   "metadata": {},
   "outputs": [
    {
     "name": "stdout",
     "output_type": "stream",
     "text": [
      "2\n",
      "2\n",
      "2\n",
      "2\n",
      "soikat\n",
      "Jhon\n"
     ]
    }
   ],
   "source": [
    "# class variables:\n",
    "print(Human.population)\n",
    "print(Human.id_seq)\n",
    "\n",
    "# class variable is common for all\n",
    "print(h1.population)\n",
    "print(h2.population)\n",
    "# instance variable is not\n",
    "print(h1.name)\n",
    "print(h2.name)"
   ]
  },
  {
   "cell_type": "code",
   "execution_count": 33,
   "metadata": {},
   "outputs": [
    {
     "data": {
      "text/plain": [
       "True"
      ]
     },
     "execution_count": 33,
     "metadata": {},
     "output_type": "execute_result"
    }
   ],
   "source": [
    "h1.is_alive"
   ]
  },
  {
   "cell_type": "code",
   "execution_count": 34,
   "metadata": {},
   "outputs": [
    {
     "name": "stdout",
     "output_type": "stream",
     "text": [
      "soikat is dying\n"
     ]
    }
   ],
   "source": [
    "h1.die()"
   ]
  },
  {
   "cell_type": "code",
   "execution_count": 35,
   "metadata": {},
   "outputs": [
    {
     "data": {
      "text/plain": [
       "False"
      ]
     },
     "execution_count": 35,
     "metadata": {},
     "output_type": "execute_result"
    }
   ],
   "source": [
    "h1.is_alive"
   ]
  },
  {
   "cell_type": "code",
   "execution_count": 36,
   "metadata": {},
   "outputs": [
    {
     "name": "stdout",
     "output_type": "stream",
     "text": [
      "soikat is already dead\n"
     ]
    }
   ],
   "source": [
    "h1.die()"
   ]
  },
  {
   "cell_type": "code",
   "execution_count": 37,
   "metadata": {},
   "outputs": [
    {
     "data": {
      "text/plain": [
       "1"
      ]
     },
     "execution_count": 37,
     "metadata": {},
     "output_type": "execute_result"
    }
   ],
   "source": [
    "Human.population"
   ]
  },
  {
   "cell_type": "markdown",
   "metadata": {},
   "source": [
    "## Encapsulation : Private members"
   ]
  },
  {
   "cell_type": "markdown",
   "metadata": {},
   "source": [
    "Encapsulation is the process of bundling data and methods together within a class. It allows for data hiding and controlling access to the object's attributes using getter and setter methods.\n"
   ]
  },
  {
   "cell_type": "code",
   "execution_count": 1,
   "metadata": {},
   "outputs": [
    {
     "name": "stdout",
     "output_type": "stream",
     "text": [
      "0\n"
     ]
    },
    {
     "ename": "AttributeError",
     "evalue": "'Test' object has no attribute '__private'",
     "output_type": "error",
     "traceback": [
      "\u001b[1;31m---------------------------------------------------------------------------\u001b[0m",
      "\u001b[1;31mAttributeError\u001b[0m                            Traceback (most recent call last)",
      "\u001b[1;32m<ipython-input-1-747979b56390>\u001b[0m in \u001b[0;36m<module>\u001b[1;34m\u001b[0m\n\u001b[0;32m      8\u001b[0m \u001b[1;33m\u001b[0m\u001b[0m\n\u001b[0;32m      9\u001b[0m \u001b[0mprint\u001b[0m\u001b[1;33m(\u001b[0m\u001b[0mt\u001b[0m\u001b[1;33m.\u001b[0m\u001b[0m_not_so_private\u001b[0m\u001b[1;33m)\u001b[0m  \u001b[1;31m# 0\u001b[0m\u001b[1;33m\u001b[0m\u001b[1;33m\u001b[0m\u001b[0m\n\u001b[1;32m---> 10\u001b[1;33m \u001b[0mprint\u001b[0m\u001b[1;33m(\u001b[0m\u001b[0mt\u001b[0m\u001b[1;33m.\u001b[0m\u001b[0m__private\u001b[0m\u001b[1;33m)\u001b[0m  \u001b[1;31m# AttributeError: 'Test' object has no attribute '__private'\u001b[0m\u001b[1;33m\u001b[0m\u001b[1;33m\u001b[0m\u001b[0m\n\u001b[0m",
      "\u001b[1;31mAttributeError\u001b[0m: 'Test' object has no attribute '__private'"
     ]
    }
   ],
   "source": [
    "class Test:\n",
    "\tdef __init__(self):\n",
    "\t\tself.__private = 0\n",
    "\t\tself._not_so_private = 0\n",
    "\n",
    "\n",
    "t = Test()\n",
    "\n",
    "print(t._not_so_private)  # 0\n",
    "print(t.__private)  # AttributeError: 'Test' object has no attribute '__private'\n"
   ]
  },
  {
   "cell_type": "markdown",
   "metadata": {},
   "source": [
    "Why do we need private members?"
   ]
  },
  {
   "cell_type": "code",
   "execution_count": 2,
   "metadata": {},
   "outputs": [],
   "source": [
    "class FrqCounter():\n",
    "    def __init__(self):\n",
    "        self.d = {}\n",
    "    \n",
    "    def add(self,v):\n",
    "        self.d[v.lower()] = self.d.get(v.lower(),0) + 1\n",
    "    \n",
    "    def __str__(self):\n",
    "        return f\"FC ({self.d})\""
   ]
  },
  {
   "cell_type": "code",
   "execution_count": 3,
   "metadata": {},
   "outputs": [
    {
     "name": "stdout",
     "output_type": "stream",
     "text": [
      "FC ({'python': 2})\n",
      "FC ({'python': 10, 'c++': 1})\n"
     ]
    }
   ],
   "source": [
    "fcnt = FrqCounter()\n",
    "fcnt.add(\"python\")\n",
    "fcnt.add(\"Python\")\n",
    "print(fcnt)\n",
    "fcnt.add(\"C++\")\n",
    "fcnt.d[\"python\"] = 10 # but direct access should not be allowed\n",
    "print(fcnt)\n"
   ]
  },
  {
   "cell_type": "markdown",
   "metadata": {},
   "source": [
    "> making 'd' private\n",
    "\n",
    "The `private` members of a class are only accessible within the class. In Python, a private member can be defined by using a prefix `__` (double underscore).\n"
   ]
  },
  {
   "cell_type": "code",
   "execution_count": 28,
   "metadata": {},
   "outputs": [],
   "source": [
    "class FrqCounter():\n",
    "    def __init__(self):\n",
    "        # private member using `__` prefix ; !!not `_`\n",
    "        self.__d = {}\n",
    "    \n",
    "    def add(self,v):\n",
    "        # private members are accessible from a class\n",
    "        self.__d[v.lower()] = self.__d.get(v.lower(),0) + 1\n",
    "    \n",
    "    def __str__(self):\n",
    "        return f\"FC ({self.d})\"\n"
   ]
  },
  {
   "cell_type": "code",
   "execution_count": 32,
   "metadata": {},
   "outputs": [],
   "source": [
    "fcnt = FrqCounter()\n",
    "fcnt.add(\"python\")\n",
    "fcnt.add(\"Python\")\n",
    "fcnt.add(\"C++\")\n",
    "# fcnt.d[\"python\"] = 10 # AttributeError: 'FrqCounter' object has no attribute 'd'\n",
    "# print(fcnt.d) # AttributeError: 'FrqCounter' object has no attribute 'd'\n",
    "# print(fcnt.__d) # AttributeError: 'FrqCounter' object has no attribute '__d'"
   ]
  },
  {
   "cell_type": "markdown",
   "metadata": {},
   "source": [
    "### Getters and Setters"
   ]
  },
  {
   "cell_type": "markdown",
   "metadata": {},
   "source": [
    "Private variables in python are not actually hidden fields like in other object oriented languages. Getters and Setters in python are often used when:\n",
    "\n",
    "- We use getters & setters to add validation logic around getting and setting a value.\n",
    "- To avoid direct access of a class field i.e. private variables cannot be accessed directly or modified by external user."
   ]
  },
  {
   "cell_type": "markdown",
   "metadata": {},
   "source": [
    "#### Using normal function"
   ]
  },
  {
   "cell_type": "code",
   "execution_count": 44,
   "metadata": {},
   "outputs": [
    {
     "name": "stdout",
     "output_type": "stream",
     "text": [
      "21\n"
     ]
    }
   ],
   "source": [
    "class Test:\n",
    "\tdef __init__(self):\n",
    "\t\tself.__private = 0\n",
    "\t\t\n",
    "\t# getter method\n",
    "\tdef get_private(self):\n",
    "\t\treturn self.__private\n",
    "\n",
    "\t# setter method\n",
    "\tdef set_private(self, x):\n",
    "\t\tself.__private = x\n",
    "\n",
    "\n",
    "t = Test()\n",
    "\n",
    "# setting the age using setter\n",
    "t.set_private(21)\n",
    "\n",
    "# retrieving age using getter\n",
    "print(t.get_private())\n",
    "\n",
    "# print(t.__private)  # AttributeError: 'Test' object has no attribute '__private'\n"
   ]
  },
  {
   "cell_type": "markdown",
   "metadata": {},
   "source": [
    "#### Using `@property` decorators as 'getter'\n"
   ]
  },
  {
   "cell_type": "markdown",
   "metadata": {},
   "source": [
    "The `@property` decorator in Python is used to define a method as a `\"getter\"` for a class attribute. It allows you to access the method like an attribute rather than calling it as a method. The main purpose of the @property decorator is to provide a controlled way to access and compute values for an object's attributes.\n"
   ]
  },
  {
   "cell_type": "code",
   "execution_count": 4,
   "metadata": {},
   "outputs": [
    {
     "name": "stdout",
     "output_type": "stream",
     "text": [
      "Jhon\n"
     ]
    },
    {
     "ename": "AttributeError",
     "evalue": "can't set attribute",
     "output_type": "error",
     "traceback": [
      "\u001b[1;31m---------------------------------------------------------------------------\u001b[0m",
      "\u001b[1;31mAttributeError\u001b[0m                            Traceback (most recent call last)",
      "\u001b[1;32m<ipython-input-4-461a102b3cac>\u001b[0m in \u001b[0;36m<module>\u001b[1;34m\u001b[0m\n\u001b[0;32m      9\u001b[0m \u001b[0mt\u001b[0m \u001b[1;33m=\u001b[0m \u001b[0mTest\u001b[0m\u001b[1;33m(\u001b[0m\u001b[1;33m)\u001b[0m\u001b[1;33m\u001b[0m\u001b[1;33m\u001b[0m\u001b[0m\n\u001b[0;32m     10\u001b[0m \u001b[0mprint\u001b[0m\u001b[1;33m(\u001b[0m\u001b[0mt\u001b[0m\u001b[1;33m.\u001b[0m\u001b[0mread_only\u001b[0m\u001b[1;33m)\u001b[0m\u001b[1;33m\u001b[0m\u001b[1;33m\u001b[0m\u001b[0m\n\u001b[1;32m---> 11\u001b[1;33m \u001b[0mt\u001b[0m\u001b[1;33m.\u001b[0m\u001b[0mread_only\u001b[0m  \u001b[1;33m=\u001b[0m \u001b[1;34m\"Sara\"\u001b[0m \u001b[1;31m# AttributeError: can't set attribute\u001b[0m\u001b[1;33m\u001b[0m\u001b[1;33m\u001b[0m\u001b[0m\n\u001b[0m",
      "\u001b[1;31mAttributeError\u001b[0m: can't set attribute"
     ]
    }
   ],
   "source": [
    "class Test:\n",
    "\tdef __init__(self):\n",
    "\t\tpass\n",
    "\n",
    "\t@property\n",
    "\tdef read_only(self):\n",
    "\t\treturn \"Jhon\"\n",
    "\n",
    "t = Test()\n",
    "print(t.read_only) # Jhon\n",
    "t.read_only  = \"Sara\" # AttributeError: can't set attribute"
   ]
  },
  {
   "cell_type": "code",
   "execution_count": 5,
   "metadata": {},
   "outputs": [
    {
     "name": "stdout",
     "output_type": "stream",
     "text": [
      "Phone\n",
      "Tablet\n"
     ]
    }
   ],
   "source": [
    "class Item:\n",
    "\tdef __init__(self,name):\n",
    "\t\tself.__name = name\n",
    "\t\n",
    "\t# getter method\n",
    "\t@property\n",
    "\tdef name(self):\n",
    "\t\treturn self.__name\n",
    "\t\t\n",
    "\t# setter method\n",
    "\t@name.setter\n",
    "\tdef name(self, value):\n",
    "\t\tif len(value) > 10:\n",
    "\t\t\traise Exception(\"Name is too long\")\n",
    "\t\telse:\n",
    "\t\t\tself.__name = value\n",
    "\n",
    "\t\n",
    "i = Item(\"Phone\")\n",
    "print(i.name)\n",
    "i.name = \"Tablet\"\n",
    "print(i.name)\n",
    "\n",
    "# i.name = \"Tablet is too long\" # Exception: Name is too long\n"
   ]
  },
  {
   "cell_type": "markdown",
   "metadata": {},
   "source": [
    "## Class method and Static method \n",
    "\n"
   ]
  },
  {
   "cell_type": "markdown",
   "metadata": {},
   "source": [
    "`@classmethod` and `@staticmethod` are both used to define methods that are associated with a class rather than an instance of the class. However, they serve different purposes:\n",
    "\n",
    "1. **@classmethod**:\n",
    "   - It takes the class (`cls`) as its first argument, allowing you to access and modify class-level attributes and methods.\n",
    "   - Typically used for factory methods or methods that create instances of the class.\n",
    "   - Can be overridden by subclasses.\n",
    "   \n",
    "2. **@staticmethod**:\n",
    "   - It does not take the class or instance as its first argument. It behaves like a regular function defined within a class.\n",
    "   - Often used for utility functions related to the class, which do not depend on class-specific attributes or methods.\n",
    "   - Cannot be overridden by subclasses.\n",
    "\n",
    "Here are examples to illustrate the difference:\n",
    "\n",
    "**@classmethod Example (Factory Method):**"
   ]
  },
  {
   "cell_type": "code",
   "execution_count": null,
   "metadata": {},
   "outputs": [],
   "source": [
    "class Rectangle:\n",
    "    def __init__(self, width, height):\n",
    "        self.width = width\n",
    "        self.height = height\n",
    "\n",
    "    @classmethod\n",
    "    def create_square(cls, side_length):\n",
    "        return cls(side_length, side_length)\n",
    "\n",
    "square = Rectangle.create_square(5)\n",
    "print(square.width, square.height)  # Output: 5 5"
   ]
  },
  {
   "cell_type": "markdown",
   "metadata": {},
   "source": [
    "\n",
    "\n",
    "In this example, `create_square` is a class method used as a factory to create square instances of the `Rectangle` class. It takes the class (`cls`) as its first argument and returns an instance of the class.\n",
    "\n",
    "**@staticmethod Example (Utility Function):**\n",
    "\n",
    "\n"
   ]
  },
  {
   "cell_type": "code",
   "execution_count": null,
   "metadata": {},
   "outputs": [],
   "source": [
    "class MathUtils:\n",
    "    @staticmethod\n",
    "    def add(x, y):\n",
    "        return x + y\n",
    "\n",
    "result = MathUtils.add(3, 4)\n",
    "print(result)  # Output: 7"
   ]
  },
  {
   "cell_type": "markdown",
   "metadata": {},
   "source": [
    "In this example, `add` is a static method within the `MathUtils` class. It does not depend on class-specific attributes or methods and can be called directly on the class without creating an instance.\n",
    "\n",
    "To summarize, `@classmethod` is typically used for methods that operate on the class itself or create instances of the class, while `@staticmethod` is used for utility functions that are related to the class but do not depend on its state."
   ]
  },
  {
   "cell_type": "markdown",
   "metadata": {},
   "source": [
    "\n",
    "|`@classmethod`  |`@staticmethod`|\n",
    "|---------|---------|\n",
    "|It can access **class attributes**, but not the **instance attributes**.|It cannot access either **class attributes** or **instance attributes**.|\n",
    "|It can be called using the `ClassName.MethodName()` or object.MethodName() | It can be called using the `ClassName.MethodName()` or `object.MethodName().`|\n",
    "|It can be used to **declare a factory method that returns objects of the class**.| It cannot return an object of the class.|\n"
   ]
  },
  {
   "cell_type": "markdown",
   "metadata": {},
   "source": [
    "## Magic Methods\n"
   ]
  },
  {
   "cell_type": "markdown",
   "metadata": {},
   "source": [
    "- they are called automatically when some particular event occur\n",
    "- e.g. `__repr__` , `__init__`,, `__str__` "
   ]
  },
  {
   "cell_type": "markdown",
   "metadata": {},
   "source": [
    "### `__repr__`  vs `__str__` "
   ]
  },
  {
   "cell_type": "code",
   "execution_count": 7,
   "metadata": {},
   "outputs": [
    {
     "data": {
      "text/plain": [
       "datetime.datetime(2023, 9, 12, 15, 4, 14, 905963)"
      ]
     },
     "execution_count": 7,
     "metadata": {},
     "output_type": "execute_result"
    }
   ],
   "source": [
    "import datetime\n",
    "\n",
    "# Create a datetime object representing the current date and time\n",
    "today = datetime.datetime.now()\n",
    "today\n"
   ]
  },
  {
   "cell_type": "code",
   "execution_count": 10,
   "metadata": {},
   "outputs": [
    {
     "name": "stdout",
     "output_type": "stream",
     "text": [
      "datetime.datetime(2023, 9, 12, 15, 4, 14, 905963)\n"
     ]
    }
   ],
   "source": [
    "# Similarly\n",
    "print(repr(today))"
   ]
  },
  {
   "cell_type": "markdown",
   "metadata": {},
   "source": [
    "but 👉"
   ]
  },
  {
   "cell_type": "code",
   "execution_count": 8,
   "metadata": {},
   "outputs": [
    {
     "name": "stdout",
     "output_type": "stream",
     "text": [
      "2023-09-12 15:04:14.905963\n"
     ]
    }
   ],
   "source": [
    "print(today)"
   ]
  },
  {
   "cell_type": "markdown",
   "metadata": {},
   "source": [
    "In this example, `today` is a datetime object representing the current date and time. When we evaluate it in the `REPL`, the `.__repr__()` method is called, providing a detailed and unambiguous representation. When we use the `print()` function, the `.__str__()` method is called, presenting a more user-friendly and human-readable representation.\n",
    "\n",
    "\n",
    "Often, the official string representation is a valid Python expression that you can use to create a new object with the same value. You can confirm this with the datetime.datetime object by copying the official string representation and assigning it to a new name. You can also attempt to use the informal string representation, but this won’t work:"
   ]
  },
  {
   "cell_type": "code",
   "execution_count": 12,
   "metadata": {},
   "outputs": [
    {
     "data": {
      "text/plain": [
       "True"
      ]
     },
     "execution_count": 12,
     "metadata": {},
     "output_type": "execute_result"
    }
   ],
   "source": [
    "new_date = datetime.datetime(2023, 9, 12, 15, 4, 14, 905963)\n",
    "new_date == today"
   ]
  },
  {
   "cell_type": "code",
   "execution_count": 13,
   "metadata": {},
   "outputs": [
    {
     "ename": "SyntaxError",
     "evalue": "leading zeros in decimal integer literals are not permitted; use an 0o prefix for octal integers (<ipython-input-13-82edebb4853b>, line 1)",
     "output_type": "error",
     "traceback": [
      "\u001b[1;36m  File \u001b[1;32m\"<ipython-input-13-82edebb4853b>\"\u001b[1;36m, line \u001b[1;32m1\u001b[0m\n\u001b[1;33m    new_date = 2023-02-18 18:40:02.160890\u001b[0m\n\u001b[1;37m                     ^\u001b[0m\n\u001b[1;31mSyntaxError\u001b[0m\u001b[1;31m:\u001b[0m leading zeros in decimal integer literals are not permitted; use an 0o prefix for octal integers\n"
     ]
    }
   ],
   "source": [
    "new_date = 2023-02-18 18:40:02.160890"
   ]
  },
  {
   "cell_type": "markdown",
   "metadata": {},
   "source": [
    "The output you got from `.__repr__()` when you evaluated today in the REPL created a new object equal to the original one.\n",
    "\n",
    "However, the string representation from `.__str__()`, which you got when you used `print()`, isn’t a valid Python expression, so it raises a SyntaxError."
   ]
  },
  {
   "cell_type": "markdown",
   "metadata": {},
   "source": [
    "In short:\n",
    "\n",
    "- `.__repr__()` provides the official string representation of an object, aimed at the **programmer**.\n",
    "- `.__str__()` provides the informal string representation of an object, aimed at the **user**."
   ]
  },
  {
   "cell_type": "code",
   "execution_count": 15,
   "metadata": {},
   "outputs": [
    {
     "name": "stdout",
     "output_type": "stream",
     "text": [
      "Alice (30 years old)\n"
     ]
    }
   ],
   "source": [
    "class Person:\n",
    "    def __init__(self, name, age):\n",
    "        self.name = name\n",
    "        self.age = age\n",
    "\n",
    "    def __str__(self):\n",
    "        return f\"{self.name} ({self.age} years old)\"\n",
    "\n",
    "person = Person(\"Alice\", 30)\n",
    "print(str(person))  # Output: Alice (30 years old)\n"
   ]
  },
  {
   "cell_type": "code",
   "execution_count": 16,
   "metadata": {},
   "outputs": [
    {
     "name": "stdout",
     "output_type": "stream",
     "text": [
      "Point(3, 4)\n"
     ]
    }
   ],
   "source": [
    "class Point:\n",
    "    def __init__(self, x, y):\n",
    "        self.x = x\n",
    "        self.y = y\n",
    "\n",
    "    def __repr__(self):\n",
    "        return f\"Point({self.x}, {self.y})\"\n",
    "\n",
    "point = Point(3, 4)\n",
    "print(repr(point))  # Output: Point(3, 4)\n"
   ]
  },
  {
   "cell_type": "markdown",
   "metadata": {},
   "source": [
    "### `__hash__`"
   ]
  },
  {
   "cell_type": "code",
   "execution_count": 25,
   "metadata": {},
   "outputs": [
    {
     "name": "stdout",
     "output_type": "stream",
     "text": [
      "Node(A)\n",
      "Graph({Node(A): [Node(B)], Node(B): [Node(A), Node(C)], Node(C): [Node(B)]})\n"
     ]
    }
   ],
   "source": [
    "class Node:\n",
    "    def __init__(self, name):\n",
    "        self.name = name\n",
    "\n",
    "    def __hash__(self):\n",
    "        return hash(self.name)\n",
    "\n",
    "    def __repr__(self):\n",
    "        return f\"Node({self.name})\"\n",
    "\n",
    "class Graph:\n",
    "    def __init__(self):\n",
    "        self.adjacency_list = {}\n",
    "\n",
    "    def add_node(self, node):\n",
    "        self.adjacency_list[node] = []\n",
    "\n",
    "    def add_edge(self, node1, node2):\n",
    "        self.adjacency_list[node1].append(node2)\n",
    "        self.adjacency_list[node2].append(node1)\n",
    "\n",
    "    def __repr__(self):\n",
    "        return f\"Graph({self.adjacency_list})\"\n",
    "\n",
    "# Create nodes\n",
    "node_A = Node(\"A\")\n",
    "node_B = Node(\"B\")\n",
    "node_C = Node(\"C\")\n",
    "\n",
    "# Create a graph and add nodes\n",
    "graph = Graph()\n",
    "graph.add_node(node_A)\n",
    "graph.add_node(node_B)\n",
    "graph.add_node(node_C)\n",
    "\n",
    "# Add edges\n",
    "graph.add_edge(node_A, node_B)\n",
    "graph.add_edge(node_B, node_C)\n",
    "\n",
    "# Display node and graph representations\n",
    "print(node_A)    # Output: Node(A)\n",
    "print(graph)      # Output: Graph({Node(A): [Node(B)], Node(B): [Node(A), Node(C)], Node(C): [Node(B)]})\n"
   ]
  },
  {
   "cell_type": "markdown",
   "metadata": {},
   "source": [
    "### Comparing Objects"
   ]
  },
  {
   "cell_type": "code",
   "execution_count": null,
   "metadata": {},
   "outputs": [],
   "source": [
    "class Point():\n",
    "    def __init__(self,x,y):\n",
    "        self.x=x\n",
    "        self.y=y\n",
    "    \n",
    "    def __eq__(self,other):\n",
    "        return self.x==other.x and self.y==other.y\n",
    "\n",
    "    def __gt__(self,other):\n",
    "        return self.x > other.x and self.y>other.y   \n",
    "\n",
    "    def __add__(self,o):\n",
    "        return Point(self.x+o.x,self.y+o.y)\n",
    "    \n",
    "    def __str__(self):\n",
    "        return f\"Point({self.x} , {self.y})\""
   ]
  },
  {
   "cell_type": "code",
   "execution_count": null,
   "metadata": {},
   "outputs": [
    {
     "name": "stdout",
     "output_type": "stream",
     "text": [
      "True\n",
      "True\n",
      "Point(2 , 4)\n"
     ]
    }
   ],
   "source": [
    "p1= Point(1,2)\n",
    "p2= Point(1,2)\n",
    "p3= Point(10,3)\n",
    "\n",
    "print(p1==p2)\n",
    "print(p3>p1)\n",
    "print(p1+p2)"
   ]
  },
  {
   "cell_type": "markdown",
   "metadata": {},
   "source": [
    "## Inheritance \n"
   ]
  },
  {
   "cell_type": "markdown",
   "metadata": {},
   "source": [
    "### Intro"
   ]
  },
  {
   "cell_type": "markdown",
   "metadata": {},
   "source": [
    "Inheritance in Python allows you to create a new class (called a subclass or derived class) that inherits attributes and methods from an existing class (called a superclass or base class). This enables you to create new classes that reuse and extend the behavior of existing classes. Here's a concise overview of inheritance in Python:\n",
    "\n",
    "\n",
    "- **Superclass**: The existing class that you want to inherit from.\n",
    "- **Subclass**: The new class that you are creating, which inherits from the superclass.\n",
    "\n",
    "Syntax :\n",
    "\n",
    "```python\n",
    "class Superclass:\n",
    "    # Superclass attributes and methods\n",
    "\n",
    "class Subclass(Superclass):\n",
    "    # Subclass attributes and methods\n",
    "```"
   ]
  },
  {
   "cell_type": "markdown",
   "metadata": {},
   "source": [
    "Key Concepts:\n",
    "\n",
    "- **Inheritance**: Inheritance establishes an \"is-a\" relationship between the superclass and subclass. The subclass is a specialized version of the superclass.\n",
    "\n",
    "- **Accessing Superclass Members**: The subclass can access attributes and methods of the superclass using the `super()` function."
   ]
  },
  {
   "cell_type": "code",
   "execution_count": 27,
   "metadata": {},
   "outputs": [
    {
     "name": "stdout",
     "output_type": "stream",
     "text": [
      "Buddy says Woof!\n",
      "Whiskers says Meow!\n"
     ]
    }
   ],
   "source": [
    "class Animal:\n",
    "    def __init__(self, name):\n",
    "        self.name = name\n",
    "\n",
    "    def speak(self):\n",
    "        pass\n",
    "\n",
    "class Dog(Animal):\n",
    "    def speak(self):\n",
    "        return f\"{self.name} says Woof!\"\n",
    "\n",
    "class Cat(Animal):\n",
    "    def speak(self):\n",
    "        return f\"{self.name} says Meow!\"\n",
    "\n",
    "# Create instances of subclasses\n",
    "dog = Dog(\"Buddy\")\n",
    "cat = Cat(\"Whiskers\")\n",
    "\n",
    "# Call methods of the subclasses\n",
    "print(dog.speak())  # Output: Buddy says Woof!\n",
    "print(cat.speak())  # Output: Whiskers says Meow!\n"
   ]
  },
  {
   "cell_type": "markdown",
   "metadata": {},
   "source": [
    "### super()"
   ]
  },
  {
   "cell_type": "markdown",
   "metadata": {},
   "source": [
    "In Python, the `super()` function is used to access and call **methods or attributes** from a parent (or superclass) class within a subclass. **It allows you to extend or override the behavior of the parent class's methods while still using them in the subclass**. Here's a concise example:\n",
    "\n"
   ]
  },
  {
   "cell_type": "code",
   "execution_count": 31,
   "metadata": {},
   "outputs": [
    {
     "name": "stdout",
     "output_type": "stream",
     "text": [
      "Alice says something\n",
      "Bob says something and plays with blocks\n"
     ]
    }
   ],
   "source": [
    "class Parent:\n",
    "    def __init__(self, name):\n",
    "        self.name = name\n",
    "\n",
    "    def speak(self):\n",
    "        return f\"{self.name} says something\"\n",
    "\n",
    "class Child(Parent):\n",
    "    def __init__(self, name, toy):\n",
    "        super().__init__(name)  # Call the parent class's constructor\n",
    "        self.toy = toy\n",
    "\n",
    "    def speak(self):\n",
    "        parent_speech = super().speak()  # Call the parent class's method\n",
    "        return f\"{self.name} says something and plays with {self.toy}\"\n",
    "\n",
    "# Create instances\n",
    "parent = Parent(\"Alice\")\n",
    "child = Child(\"Bob\", \"blocks\")\n",
    "\n",
    "# Access parent class's method from the child\n",
    "parent_message = parent.speak()\n",
    "child_message = child.speak()\n",
    "\n",
    "print(parent_message)  # Output: Alice says something\n",
    "print(child_message)   # Output: Bob says something and plays with blocks\n"
   ]
  },
  {
   "cell_type": "markdown",
   "metadata": {},
   "source": [
    "### Multiple Inheritance"
   ]
  },
  {
   "cell_type": "code",
   "execution_count": 32,
   "metadata": {},
   "outputs": [
    {
     "name": "stdout",
     "output_type": "stream",
     "text": [
      "Employee greeting...\n"
     ]
    }
   ],
   "source": [
    "class Employee:\n",
    "    def greet(self):\n",
    "        print(\"Employee greeting...\")\n",
    "\n",
    "class Person:\n",
    "    def greet(self):\n",
    "        print(\"Person greeting...\")\n",
    "\n",
    "\n",
    "class Manager(Employee,Person):\n",
    "    pass\n",
    "\n",
    "m = Manager()\n",
    "m.greet()"
   ]
  },
  {
   "cell_type": "code",
   "execution_count": 9,
   "metadata": {},
   "outputs": [
    {
     "name": "stdout",
     "output_type": "stream",
     "text": [
      "Person greeting...\n"
     ]
    }
   ],
   "source": [
    "class Manager(Person, Employee):\n",
    "    pass\n",
    "\n",
    "m = Manager()\n",
    "m.greet()"
   ]
  },
  {
   "cell_type": "markdown",
   "metadata": {},
   "source": [
    "## Polymorphism\n",
    "\n",
    "- One function Name can have different functionality.\n",
    "\n",
    "**Function overriding** - If derived class defines same function in it's base class, it known as function overriding. This is used to achieve Polymorphism."
   ]
  },
  {
   "cell_type": "code",
   "execution_count": 33,
   "metadata": {},
   "outputs": [
    {
     "name": "stdout",
     "output_type": "stream",
     "text": [
      "Woof!\n",
      "Meow!\n"
     ]
    }
   ],
   "source": [
    "class Animal:\n",
    "    def speak(self):\n",
    "        pass\n",
    "\n",
    "class Dog(Animal):\n",
    "    def speak(self):\n",
    "        return \"Woof!\"\n",
    "\n",
    "class Cat(Animal):\n",
    "    def speak(self):\n",
    "        return \"Meow!\"\n",
    "\n",
    "# Polymorphic behavior\n",
    "def animal_sound(animal):\n",
    "    return animal.speak()\n",
    "\n",
    "dog = Dog()\n",
    "cat = Cat()\n",
    "\n",
    "print(animal_sound(dog))  # Output: \"Woof!\"\n",
    "print(animal_sound(cat))  # Output: \"Meow!\"\n"
   ]
  }
 ],
 "metadata": {
  "interpreter": {
   "hash": "13a64c48d63ab7fa89dd239a6172cf842d756bd82fcb4ba948a9115b41dc50a1"
  },
  "kernelspec": {
   "display_name": "Python 3.9.7 ('base')",
   "language": "python",
   "name": "python3"
  },
  "language_info": {
   "codemirror_mode": {
    "name": "ipython",
    "version": 3
   },
   "file_extension": ".py",
   "mimetype": "text/x-python",
   "name": "python",
   "nbconvert_exporter": "python",
   "pygments_lexer": "ipython3",
   "version": "3.9.12"
  },
  "orig_nbformat": 2
 },
 "nbformat": 4,
 "nbformat_minor": 2
}
