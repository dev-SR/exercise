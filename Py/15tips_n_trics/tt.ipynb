{
 "cells": [
  {
   "cell_type": "markdown",
   "metadata": {},
   "source": [
    "# Play with Pythons"
   ]
  },
  {
   "cell_type": "code",
   "execution_count": 6,
   "metadata": {},
   "outputs": [],
   "source": [
    "\"\"\"\n",
    "cd .\\Py\\15tips_n_trics\\\n",
    "jupyter nbconvert --to markdown tt.ipynb --output README.md\n",
    "\"\"\"\n"
   ]
  },
  {
   "cell_type": "markdown",
   "metadata": {},
   "source": [
    "## 🚀Unpacking Argument Lists"
   ]
  },
  {
   "cell_type": "markdown",
   "metadata": {},
   "source": [
    "The reverse situation occurs when the arguments are already in a `list` or `tuple` but need to be unpacked for a function call requiring separate positional arguments. For instance, the built-in `range()` function expects separate start and stop arguments. If they are not available separately, write the function call with the `*-operator` to unpack the arguments out of a list or tuple:\n",
    "\n"
   ]
  },
  {
   "cell_type": "code",
   "execution_count": 2,
   "metadata": {},
   "outputs": [
    {
     "name": "stdout",
     "output_type": "stream",
     "text": [
      "(1, 2)\n",
      "(1, 2, 3)\n"
     ]
    }
   ],
   "source": [
    "def multipleParam(*param):\n",
    "\tprint(param)\n",
    "\n",
    "\n",
    "multipleParam(1, 2)\n",
    "args= [1, 2, 3]\n",
    "multipleParam(*args)\n"
   ]
  },
  {
   "cell_type": "markdown",
   "metadata": {},
   "source": [
    "In the same fashion, `dictionaries` can deliver keyword arguments with the `**-operator`:\n",
    "\n"
   ]
  },
  {
   "cell_type": "code",
   "execution_count": null,
   "metadata": {},
   "outputs": [
    {
     "name": "stdout",
     "output_type": "stream",
     "text": [
      "Soikat Germany DE\n"
     ]
    }
   ],
   "source": [
    "def info(name, country='Bangladesh', country_code='BD'):\n",
    "\tprint(name, country, country_code)\n",
    "\t\n",
    "info_dic = {\n",
    "\t'name': 'Soikat',\n",
    "\t'country': 'Germany',\n",
    "\t'country_code': 'DE'\n",
    "}\n",
    "\n",
    "info(**info_dic)"
   ]
  },
  {
   "cell_type": "markdown",
   "metadata": {},
   "source": [
    "## Callback: functions with parameters, class methods as callback"
   ]
  },
  {
   "cell_type": "code",
   "execution_count": 10,
   "metadata": {},
   "outputs": [
    {
     "name": "stdout",
     "output_type": "stream",
     "text": [
      "CallMe()\n",
      "1 2 3\n",
      "CallMe(1, 2, 3)\n",
      "1 2 3\n",
      "CallMe(1, 2, 3)\n",
      "1 2\n",
      "test(1, 2)\n"
     ]
    }
   ],
   "source": [
    "def CallMe():\n",
    "    print(\"CallMe()\")\n",
    "\n",
    "def CallMe3(a, b, c):\n",
    "    print(f\"CallMe({a}, {b}, {c})\")\n",
    "\t\n",
    "class Tester:\n",
    "    def __init__(self):\n",
    "        pass\n",
    "\n",
    "    def test(self, a, b):\n",
    "        print(f\"test({a}, {b})\")\n",
    "\n",
    "\n",
    "def callback(cb):\n",
    "    cb()\n",
    "    \n",
    "def callbackWithParam(cb, param):\n",
    "    print(*param) # unpack\n",
    "    cb(*param)\n",
    "\n",
    "\n",
    "\n",
    "callback(CallMe)\n",
    "callbackWithParam(CallMe3, [1, 2, 3])\n",
    "# or\n",
    "callbackWithParam(CallMe3, (1, 2, 3))\n",
    "\n",
    "t = Tester()\n",
    "callbackWithParam(t.test, [1, 2])\n"
   ]
  }
 ],
 "metadata": {
  "interpreter": {
   "hash": "13a64c48d63ab7fa89dd239a6172cf842d756bd82fcb4ba948a9115b41dc50a1"
  },
  "kernelspec": {
   "display_name": "Python 3.9.7 ('base')",
   "language": "python",
   "name": "python3"
  },
  "language_info": {
   "codemirror_mode": {
    "name": "ipython",
    "version": 3
   },
   "file_extension": ".py",
   "mimetype": "text/x-python",
   "name": "python",
   "nbconvert_exporter": "python",
   "pygments_lexer": "ipython3",
   "version": "3.9.7"
  },
  "orig_nbformat": 2
 },
 "nbformat": 4,
 "nbformat_minor": 2
}
