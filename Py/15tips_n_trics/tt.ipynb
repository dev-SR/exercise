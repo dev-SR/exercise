{
 "cells": [
  {
   "cell_type": "markdown",
   "metadata": {},
   "source": [
    "# Play with Pythons"
   ]
  },
  {
   "cell_type": "code",
   "execution_count": 6,
   "metadata": {},
   "outputs": [],
   "source": [
    "\"\"\"\n",
    "cd .\\Py\\15tips_n_trics\\\n",
    "jupyter nbconvert --to markdown tt.ipynb --output README.md\n",
    "\"\"\"\n"
   ]
  },
  {
   "cell_type": "markdown",
   "metadata": {},
   "source": [
    "## Functions"
   ]
  },
  {
   "cell_type": "markdown",
   "metadata": {},
   "source": [
    "### 🚀Unpacking Argument Lists and Keyword Arguments"
   ]
  },
  {
   "cell_type": "markdown",
   "metadata": {},
   "source": [
    "The reverse situation occurs when the arguments are already in a `list` or `tuple` but need to be unpacked for a function call requiring separate positional arguments. For instance, the built-in `range()` function expects separate start and stop arguments. If they are not available separately, write the function call with the `*-operator` to unpack the arguments out of a list or tuple:\n",
    "\n"
   ]
  },
  {
   "cell_type": "code",
   "execution_count": 4,
   "metadata": {},
   "outputs": [
    {
     "name": "stdout",
     "output_type": "stream",
     "text": [
      "(1, 2)\n",
      "(1, 2, 3)\n"
     ]
    }
   ],
   "source": [
    "def multipleParam(*param):\n",
    "\tprint(param)\n",
    "\n",
    "\n",
    "multipleParam(1, 2)\n",
    "args= [1, 2, 3]\n",
    "multipleParam(*args)\n"
   ]
  },
  {
   "cell_type": "markdown",
   "metadata": {},
   "source": [
    "In the same fashion, `dictionaries` can deliver keyword arguments with the `**-operator`:\n",
    "\n"
   ]
  },
  {
   "cell_type": "code",
   "execution_count": null,
   "metadata": {},
   "outputs": [
    {
     "name": "stdout",
     "output_type": "stream",
     "text": [
      "Soikat Germany DE\n"
     ]
    }
   ],
   "source": [
    "def info(name, country='Bangladesh', country_code='BD'):\n",
    "\tprint(name, country, country_code)\n",
    "\t\n",
    "info_dic = {\n",
    "\t'name': 'Soikat',\n",
    "\t'country': 'Germany',\n",
    "\t'country_code': 'DE'\n",
    "}\n",
    "\n",
    "info(**info_dic)"
   ]
  },
  {
   "cell_type": "markdown",
   "metadata": {},
   "source": [
    "### 🚀🚀Using Unpacking Argument Lists and Keyword Arguments to build 📢Callbacks📢"
   ]
  },
  {
   "cell_type": "markdown",
   "metadata": {},
   "source": [
    "Using Unpacking Argument Lists: pass list/tuple as positional arguments to a callback function:"
   ]
  },
  {
   "cell_type": "code",
   "execution_count": 31,
   "metadata": {},
   "outputs": [
    {
     "name": "stdout",
     "output_type": "stream",
     "text": [
      "[1, 2]\n",
      "3\n",
      "(1, 2)\n",
      "3\n",
      "[1, 2, 3]\n",
      "6\n"
     ]
    }
   ],
   "source": [
    "def fun(a, b):\n",
    "\treturn a + b\n",
    "def fun2(a, b,c):\n",
    "\treturn a + b+c\n",
    "# takes n arguments as n size List/Tuple\n",
    "def withListOrTupleAsParam(cb, param):\n",
    "\tprint(param)\n",
    "\treturn cb(*param)\n",
    "\n",
    "\n",
    "print(withListOrTupleAsParam(fun, [1, 2]))\n",
    "print(withListOrTupleAsParam(fun, (1, 2)))\n",
    "print(withListOrTupleAsParam(fun2, [1, 2,3]))"
   ]
  },
  {
   "cell_type": "markdown",
   "metadata": {},
   "source": [
    "Using Unpacking Keyword Arguments: pass dictionary as keyword arguments to a callback function:"
   ]
  },
  {
   "cell_type": "code",
   "execution_count": 35,
   "metadata": {},
   "outputs": [
    {
     "name": "stdout",
     "output_type": "stream",
     "text": [
      "3\n",
      "6\n",
      "1\n"
     ]
    }
   ],
   "source": [
    "def fun(a,b = 0, c = 0):\n",
    "\treturn a + b + c\n",
    "\n",
    "def withDictAsParam(cb, param):\n",
    "    return cb(**param)\n",
    "\n",
    "\n",
    "print(withDictAsParam(fun, {'a': 1, 'b': 2}))\n",
    "print(withDictAsParam(fun, {'a': 1, 'b': 2, 'c': 3}))\n",
    "print(withDictAsParam(fun, {'a': 1}))\n"
   ]
  },
  {
   "cell_type": "markdown",
   "metadata": {},
   "source": [
    "With class methods"
   ]
  },
  {
   "cell_type": "code",
   "execution_count": null,
   "metadata": {},
   "outputs": [],
   "source": [
    "class Tester:\n",
    "    def __init__(self):\n",
    "        pass\n",
    "\n",
    "    def fun(self,a, b):\n",
    "        return a + b\n",
    "\n",
    "t = Tester()\n",
    "withListOrTupleAsParam(t.fun,[1,2])\n"
   ]
  },
  {
   "cell_type": "markdown",
   "metadata": {},
   "source": [
    "Example:"
   ]
  },
  {
   "cell_type": "code",
   "execution_count": null,
   "metadata": {},
   "outputs": [],
   "source": [
    "from time import sleep\n",
    "from rich.console import Console\n",
    "console = Console()\n",
    "\n",
    "def withLoaderWithParam(cb, param, message=\"\", spinner='aesthetic'):\n",
    "    done = False\n",
    "    returns = None\n",
    "    with console.status(f\"[bold yellow] {message}...\", spinner=spinner) as s:\n",
    "        while not done:\n",
    "            returns = cb(*param)\n",
    "            done = True\n",
    "    return returns\n",
    "\n",
    "\n",
    "withLoaderWithParam(sleep, [5], message=\"Sleeping for 5 seconds\", spinner='dots')\n"
   ]
  },
  {
   "cell_type": "markdown",
   "metadata": {},
   "source": [
    "## DSA"
   ]
  },
  {
   "cell_type": "markdown",
   "metadata": {},
   "source": [
    "### Merging Dictionaries"
   ]
  },
  {
   "cell_type": "code",
   "execution_count": 1,
   "metadata": {},
   "outputs": [
    {
     "data": {
      "text/plain": [
       "{1: 2, 3: 4}"
      ]
     },
     "execution_count": 1,
     "metadata": {},
     "output_type": "execute_result"
    }
   ],
   "source": [
    "def merge_dicts(*dict_args):\n",
    "    result = {}\n",
    "    for dictionary in dict_args:\n",
    "        result.update(dictionary)\n",
    "    return result\n",
    "\t\n",
    "merge_dicts({1:2}, {3:4})"
   ]
  },
  {
   "cell_type": "markdown",
   "metadata": {},
   "source": [
    "### Exclude Dictionary Keys"
   ]
  },
  {
   "cell_type": "code",
   "execution_count": 6,
   "metadata": {},
   "outputs": [
    {
     "data": {
      "text/plain": [
       "{3: 4}"
      ]
     },
     "execution_count": 6,
     "metadata": {},
     "output_type": "execute_result"
    }
   ],
   "source": [
    "def exclude_dict_keys(d, keys):\n",
    "    return {k: v for k, v in d.items() if k not in keys}\n",
    "\n",
    "\n",
    "exclude_dict_keys({1: 2, 3: 4}, [1])\n"
   ]
  }
 ],
 "metadata": {
  "interpreter": {
   "hash": "13a64c48d63ab7fa89dd239a6172cf842d756bd82fcb4ba948a9115b41dc50a1"
  },
  "kernelspec": {
   "display_name": "Python 3.9.7 ('base')",
   "language": "python",
   "name": "python3"
  },
  "language_info": {
   "codemirror_mode": {
    "name": "ipython",
    "version": 3
   },
   "file_extension": ".py",
   "mimetype": "text/x-python",
   "name": "python",
   "nbconvert_exporter": "python",
   "pygments_lexer": "ipython3",
   "version": "3.9.7"
  },
  "orig_nbformat": 2
 },
 "nbformat": 4,
 "nbformat_minor": 2
}
