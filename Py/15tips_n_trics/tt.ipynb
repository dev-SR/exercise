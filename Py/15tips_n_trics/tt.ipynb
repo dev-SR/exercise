{
 "cells": [
  {
   "cell_type": "markdown",
   "metadata": {},
   "source": [
    "# Play with Pythons"
   ]
  },
  {
   "cell_type": "code",
   "execution_count": 6,
   "metadata": {},
   "outputs": [],
   "source": [
    "\"\"\"\n",
    "cd .\\Py\\15tips_n_trics\\\n",
    "jupyter nbconvert --to markdown tt.ipynb --output README.md\n",
    "\"\"\"\n"
   ]
  },
  {
   "cell_type": "markdown",
   "metadata": {},
   "source": [
    "## Functions"
   ]
  },
  {
   "cell_type": "markdown",
   "metadata": {},
   "source": [
    "### 🚀Unpacking Argument Lists and Keyword Arguments"
   ]
  },
  {
   "cell_type": "markdown",
   "metadata": {},
   "source": [
    "The reverse situation occurs when the arguments are already in a `list` or `tuple` but need to be unpacked for a function call requiring separate positional arguments. For instance, the built-in `range()` function expects separate start and stop arguments. If they are not available separately, write the function call with the `*-operator` to unpack the arguments out of a list or tuple:\n",
    "\n"
   ]
  },
  {
   "cell_type": "code",
   "execution_count": 4,
   "metadata": {},
   "outputs": [
    {
     "name": "stdout",
     "output_type": "stream",
     "text": [
      "(1, 2)\n",
      "(1, 2, 3)\n"
     ]
    }
   ],
   "source": [
    "def multipleParam(*param):\n",
    "\tprint(param)\n",
    "\n",
    "\n",
    "multipleParam(1, 2)\n",
    "args= [1, 2, 3]\n",
    "multipleParam(*args)\n"
   ]
  },
  {
   "cell_type": "markdown",
   "metadata": {},
   "source": [
    "In the same fashion, `dictionaries` can deliver keyword arguments with the `**-operator`:\n",
    "\n"
   ]
  },
  {
   "cell_type": "code",
   "execution_count": null,
   "metadata": {},
   "outputs": [
    {
     "name": "stdout",
     "output_type": "stream",
     "text": [
      "Soikat Germany DE\n"
     ]
    }
   ],
   "source": [
    "def info(name, country='Bangladesh', country_code='BD'):\n",
    "\tprint(name, country, country_code)\n",
    "\t\n",
    "info_dic = {\n",
    "\t'name': 'Soikat',\n",
    "\t'country': 'Germany',\n",
    "\t'country_code': 'DE'\n",
    "}\n",
    "\n",
    "info(**info_dic)"
   ]
  },
  {
   "cell_type": "markdown",
   "metadata": {},
   "source": [
    "### 🚀🚀Using Unpacking Argument Lists and Keyword Arguments to build 📢Callbacks📢"
   ]
  },
  {
   "cell_type": "markdown",
   "metadata": {},
   "source": [
    "Using Unpacking Argument Lists: pass list/tuple as positional arguments to a callback function:"
   ]
  },
  {
   "cell_type": "code",
   "execution_count": 31,
   "metadata": {},
   "outputs": [
    {
     "name": "stdout",
     "output_type": "stream",
     "text": [
      "[1, 2]\n",
      "3\n",
      "(1, 2)\n",
      "3\n",
      "[1, 2, 3]\n",
      "6\n"
     ]
    }
   ],
   "source": [
    "def fun(a, b):\n",
    "\treturn a + b\n",
    "def fun2(a, b,c):\n",
    "\treturn a + b+c\n",
    "# takes n arguments as n size List/Tuple\n",
    "def withListOrTupleAsParam(cb, param):\n",
    "\tprint(param)\n",
    "\treturn cb(*param)\n",
    "\n",
    "\n",
    "print(withListOrTupleAsParam(fun, [1, 2]))\n",
    "print(withListOrTupleAsParam(fun, (1, 2)))\n",
    "print(withListOrTupleAsParam(fun2, [1, 2,3]))"
   ]
  },
  {
   "cell_type": "markdown",
   "metadata": {},
   "source": [
    "Using Unpacking Keyword Arguments: pass dictionary as keyword arguments to a callback function:"
   ]
  },
  {
   "cell_type": "code",
   "execution_count": 35,
   "metadata": {},
   "outputs": [
    {
     "name": "stdout",
     "output_type": "stream",
     "text": [
      "3\n",
      "6\n",
      "1\n"
     ]
    }
   ],
   "source": [
    "def fun(a,b = 0, c = 0):\n",
    "\treturn a + b + c\n",
    "\n",
    "def withDictAsParam(cb, param):\n",
    "    return cb(**param)\n",
    "\n",
    "\n",
    "print(withDictAsParam(fun, {'a': 1, 'b': 2}))\n",
    "print(withDictAsParam(fun, {'a': 1, 'b': 2, 'c': 3}))\n",
    "print(withDictAsParam(fun, {'a': 1}))\n"
   ]
  },
  {
   "cell_type": "markdown",
   "metadata": {},
   "source": [
    "With class methods"
   ]
  },
  {
   "cell_type": "code",
   "execution_count": null,
   "metadata": {},
   "outputs": [],
   "source": [
    "class Tester:\n",
    "    def __init__(self):\n",
    "        pass\n",
    "\n",
    "    def fun(self,a, b):\n",
    "        return a + b\n",
    "\n",
    "t = Tester()\n",
    "withListOrTupleAsParam(t.fun,[1,2])\n"
   ]
  },
  {
   "cell_type": "markdown",
   "metadata": {},
   "source": [
    "Example:"
   ]
  },
  {
   "cell_type": "code",
   "execution_count": null,
   "metadata": {},
   "outputs": [],
   "source": [
    "from time import sleep\n",
    "from rich.console import Console\n",
    "console = Console()\n",
    "\n",
    "def withLoaderWithParam(cb, param, message=\"\", spinner='aesthetic'):\n",
    "    done = False\n",
    "    returns = None\n",
    "    with console.status(f\"[bold yellow] {message}...\", spinner=spinner) as s:\n",
    "        while not done:\n",
    "            returns = cb(*param)\n",
    "            done = True\n",
    "    return returns\n",
    "\n",
    "\n",
    "withLoaderWithParam(sleep, [5], message=\"Sleeping for 5 seconds\", spinner='dots')\n"
   ]
  },
  {
   "cell_type": "markdown",
   "metadata": {},
   "source": [
    "## DSA"
   ]
  },
  {
   "cell_type": "markdown",
   "metadata": {},
   "source": [
    "### Merging Dictionaries"
   ]
  },
  {
   "cell_type": "code",
   "execution_count": 1,
   "metadata": {},
   "outputs": [
    {
     "data": {
      "text/plain": [
       "{1: 2, 3: 4}"
      ]
     },
     "execution_count": 1,
     "metadata": {},
     "output_type": "execute_result"
    }
   ],
   "source": [
    "def merge_dicts(*dict_args):\n",
    "    result = {}\n",
    "    for dictionary in dict_args:\n",
    "        result.update(dictionary)\n",
    "    return result\n",
    "\t\n",
    "merge_dicts({1:2}, {3:4})"
   ]
  },
  {
   "cell_type": "markdown",
   "metadata": {},
   "source": [
    "### Exclude Dictionary Keys"
   ]
  },
  {
   "cell_type": "code",
   "execution_count": 6,
   "metadata": {},
   "outputs": [
    {
     "data": {
      "text/plain": [
       "{3: 4}"
      ]
     },
     "execution_count": 6,
     "metadata": {},
     "output_type": "execute_result"
    }
   ],
   "source": [
    "def exclude_dict_keys(d, keys):\n",
    "    return {k: v for k, v in d.items() if k not in keys}\n",
    "\n",
    "\n",
    "exclude_dict_keys({1: 2, 3: 4}, [1])\n"
   ]
  },
  {
   "cell_type": "markdown",
   "metadata": {},
   "source": [
    "### 🌟🌟Among Two List🌟🌟"
   ]
  },
  {
   "cell_type": "markdown",
   "metadata": {},
   "source": [
    "#### find elements in one list that are `not in` the other : `subtraction`"
   ]
  },
  {
   "cell_type": "markdown",
   "metadata": {},
   "source": [
    "- [https://stackoverflow.com/questions/41125909/python-find-elements-in-one-list-that-are-not-in-the-other](https://stackoverflow.com/questions/41125909/python-find-elements-in-one-list-that-are-not-in-the-other)"
   ]
  },
  {
   "cell_type": "code",
   "execution_count": null,
   "metadata": {},
   "outputs": [],
   "source": [
    "base_list = [0, 1, 2, 3, 4, 5, 6, 7, 8]\n",
    "checking_list = [1, 3, 5]"
   ]
  },
  {
   "cell_type": "markdown",
   "metadata": {},
   "source": [
    "Native: `O(n^2)` solution:"
   ]
  },
  {
   "cell_type": "code",
   "execution_count": null,
   "metadata": {},
   "outputs": [
    {
     "data": {
      "text/plain": [
       "[0, 2, 4, 6, 7, 8]"
      ]
     },
     "metadata": {},
     "output_type": "display_data"
    }
   ],
   "source": [
    "elements_not_in_checking_list = []\n",
    "for elem in base_list:\n",
    "\tif elem not in checking_list:\n",
    "\t\telements_not_in_checking_list.append(elem)\n",
    "elements_not_in_checking_list"
   ]
  },
  {
   "cell_type": "code",
   "execution_count": null,
   "metadata": {},
   "outputs": [
    {
     "data": {
      "text/plain": [
       "[0, 2, 4, 6, 7, 8]"
      ]
     },
     "metadata": {},
     "output_type": "display_data"
    }
   ],
   "source": [
    "[x for x in base_list if x not in checking_list]"
   ]
  },
  {
   "cell_type": "markdown",
   "metadata": {},
   "source": [
    "Like mentioned in the comments below, with large lists, the above is not the ideal solution. When that's the case, a better option would be converting `checking_list` to a `set` first:"
   ]
  },
  {
   "cell_type": "code",
   "execution_count": null,
   "metadata": {},
   "outputs": [
    {
     "data": {
      "text/plain": [
       "[0, 2, 4, 6, 7, 8]"
      ]
     },
     "metadata": {},
     "output_type": "display_data"
    }
   ],
   "source": [
    "checking_set = set(checking_list)  # this reduces the lookup time from O(n) to O(1)\n",
    "[item for item in base_list if item not in checking_set]\n"
   ]
  },
  {
   "cell_type": "markdown",
   "metadata": {},
   "source": [
    "Native: `O(n)` two pointer solution:"
   ]
  },
  {
   "cell_type": "code",
   "execution_count": null,
   "metadata": {},
   "outputs": [
    {
     "data": {
      "text/plain": [
       "[0, 2, 4, 6, 7, 8]"
      ]
     },
     "metadata": {},
     "output_type": "display_data"
    }
   ],
   "source": [
    "j = 0\n",
    "i = 0\n",
    "elements_not_in_checking_list = []\n",
    "while i < len(base_list):\n",
    "    if j < len(checking_list) and base_list[i] == checking_list[j]:\n",
    "        i += 1\n",
    "        j += 1\n",
    "    else:\n",
    "        elements_not_in_checking_list.append(base_list[i])\n",
    "        i += 1\n",
    "elements_not_in_checking_list\n"
   ]
  },
  {
   "cell_type": "markdown",
   "metadata": {},
   "source": [
    "🧠🧠🧠Shortcut: using `set`🧠🧠🧠"
   ]
  },
  {
   "cell_type": "code",
   "execution_count": null,
   "metadata": {},
   "outputs": [
    {
     "data": {
      "text/plain": [
       "[0, 2, 4, 6, 7, 8]"
      ]
     },
     "metadata": {},
     "output_type": "display_data"
    }
   ],
   "source": [
    "list(set(base_list) - set(checking_list))\n"
   ]
  },
  {
   "cell_type": "code",
   "execution_count": null,
   "metadata": {},
   "outputs": [
    {
     "data": {
      "text/plain": [
       "[1, 3, 5]"
      ]
     },
     "metadata": {},
     "output_type": "display_data"
    }
   ],
   "source": [
    "[b for a, b in zip(base_list, checking_list) if a != b]\n"
   ]
  },
  {
   "cell_type": "markdown",
   "metadata": {},
   "source": [
    "Shortcut: using `np.setdiff1d"
   ]
  },
  {
   "cell_type": "code",
   "execution_count": null,
   "metadata": {},
   "outputs": [
    {
     "data": {
      "text/plain": [
       "array([0, 2, 4, 6, 7, 8])"
      ]
     },
     "metadata": {},
     "output_type": "display_data"
    }
   ],
   "source": [
    "import numpy as np\n",
    "main_list = np.setdiff1d(base_list, checking_list)\n",
    "main_list"
   ]
  },
  {
   "cell_type": "markdown",
   "metadata": {},
   "source": [
    "#### find elements in one list that are `in` the other : `intersection`"
   ]
  },
  {
   "cell_type": "code",
   "execution_count": null,
   "metadata": {},
   "outputs": [],
   "source": [
    "base_list = [0, 1, 2, 3, 4, 5, 6, 7, 8]\n",
    "checking_list = [1, 3, 10, 12, 5]\n"
   ]
  },
  {
   "cell_type": "code",
   "execution_count": null,
   "metadata": {},
   "outputs": [
    {
     "data": {
      "text/plain": [
       "[1, 3, 5]"
      ]
     },
     "metadata": {},
     "output_type": "display_data"
    }
   ],
   "source": [
    "checking_set = set(checking_list)  # this reduces the lookup time from O(n) to O(1)\n",
    "[item for item in base_list if item in checking_set]"
   ]
  },
  {
   "cell_type": "code",
   "execution_count": null,
   "metadata": {},
   "outputs": [
    {
     "data": {
      "text/plain": [
       "[1, 3, 5]"
      ]
     },
     "metadata": {},
     "output_type": "display_data"
    }
   ],
   "source": [
    "list(set(base_list) & set(checking_list))\n"
   ]
  },
  {
   "cell_type": "markdown",
   "metadata": {},
   "source": [
    "#### check if a list contains any item from another list python"
   ]
  },
  {
   "cell_type": "code",
   "execution_count": null,
   "metadata": {},
   "outputs": [],
   "source": [
    "base_list = [0, 1, 2, 3, 4, 5, 6, 7, 8]\n",
    "checking_list = [1, 3, 10, 12, 5]\n"
   ]
  },
  {
   "cell_type": "code",
   "execution_count": null,
   "metadata": {},
   "outputs": [
    {
     "name": "stdout",
     "output_type": "stream",
     "text": [
      "True\n"
     ]
    }
   ],
   "source": [
    "check = any(item in base_list for item in checking_list)\n",
    "print(check)\n"
   ]
  },
  {
   "cell_type": "code",
   "execution_count": null,
   "metadata": {},
   "outputs": [
    {
     "name": "stdout",
     "output_type": "stream",
     "text": [
      "False\n"
     ]
    }
   ],
   "source": [
    "check = all(item in base_list for item in checking_list)\n",
    "print(check) #checking_list = [1, 3, 10, 12, 5]\n",
    "\n"
   ]
  },
  {
   "cell_type": "code",
   "execution_count": null,
   "metadata": {},
   "outputs": [
    {
     "name": "stdout",
     "output_type": "stream",
     "text": [
      "True\n"
     ]
    }
   ],
   "source": [
    "set_A = set(base_list)\n",
    "set_B = set(checking_list)\n",
    "output = False if (set_A.intersection(set_B) == set()) else True\n",
    "print(output)\n"
   ]
  },
  {
   "cell_type": "markdown",
   "metadata": {},
   "source": [
    "#### check if an item is a subset of another list"
   ]
  },
  {
   "cell_type": "code",
   "execution_count": null,
   "metadata": {},
   "outputs": [
    {
     "name": "stdout",
     "output_type": "stream",
     "text": [
      "Element is Present\n"
     ]
    }
   ],
   "source": [
    "L = [[2, 4, 6, 8, 10], [1, 3, 5, 7, 9], [4, 8, 12, 16, 20]]\n",
    "search_item = 16\n",
    "if search_item in (item for sublist in L for item in sublist):\n",
    "   print(\"Element is Present\")\n",
    "else:\n",
    "   print(\"Element Not Present\")\n"
   ]
  },
  {
   "cell_type": "code",
   "execution_count": null,
   "metadata": {},
   "outputs": [
    {
     "data": {
      "text/plain": [
       "[2, 4, 6, 8, 10, 1, 3, 5, 7, 9, 4, 8, 12, 16, 20]"
      ]
     },
     "metadata": {},
     "output_type": "display_data"
    }
   ],
   "source": [
    "[item for sublist in L for item in sublist]\n"
   ]
  },
  {
   "cell_type": "markdown",
   "metadata": {},
   "source": [
    "### 🔥🔥List of Dictionaries🔥🔥"
   ]
  },
  {
   "cell_type": "markdown",
   "metadata": {},
   "source": [
    "#### find the index of a value in a list of dictionaries"
   ]
  },
  {
   "cell_type": "code",
   "execution_count": 12,
   "metadata": {},
   "outputs": [
    {
     "name": "stdout",
     "output_type": "stream",
     "text": [
      "1\n"
     ]
    }
   ],
   "source": [
    "# find the index of a value in a list of dictionaries\n",
    "L = [ {'name': 'John', 'age': 23}, {'name': 'Jane', 'age': 21}, {'name': 'Joe', 'age': 25} ]\n",
    "for i, d in enumerate(L):\n",
    "\tif d['name'] == 'Jane':\n",
    "\t\tprint(i)\n",
    "\t\tbreak"
   ]
  },
  {
   "cell_type": "markdown",
   "metadata": {},
   "source": [
    "#### Search in list of dictionaries \n"
   ]
  },
  {
   "cell_type": "code",
   "execution_count": 25,
   "metadata": {},
   "outputs": [
    {
     "data": {
      "text/plain": [
       "[{'uuid': 1, 'p': 'a'}]"
      ]
     },
     "execution_count": 25,
     "metadata": {},
     "output_type": "execute_result"
    }
   ],
   "source": [
    "l = [{'uuid': 1, 'p': \"a\"}, {'uuid': 2, \"p\": \"b\"}]\n",
    "[ d for d in l if d['uuid'] == 1 ]"
   ]
  },
  {
   "cell_type": "code",
   "execution_count": 26,
   "metadata": {},
   "outputs": [
    {
     "data": {
      "text/plain": [
       "[{'uuid': 1, 'p': 'a'}]"
      ]
     },
     "execution_count": 26,
     "metadata": {},
     "output_type": "execute_result"
    }
   ],
   "source": [
    "list(filter(lambda d: d['p'] == 'a', l))"
   ]
  },
  {
   "cell_type": "code",
   "execution_count": 22,
   "metadata": {},
   "outputs": [
    {
     "data": {
      "text/plain": [
       "['a']"
      ]
     },
     "execution_count": 22,
     "metadata": {},
     "output_type": "execute_result"
    }
   ],
   "source": [
    "l = [{'uuid': 1, 'p': \"a\"}, {'uuid': 2, \"p\": \"b\"}]\n",
    "[ d['p'] for d in l if d['uuid'] == 1 ]"
   ]
  },
  {
   "cell_type": "code",
   "execution_count": 23,
   "metadata": {},
   "outputs": [
    {
     "data": {
      "text/plain": [
       "[{'uuid': 1, 'p': 'a', 'found': True}]"
      ]
     },
     "execution_count": 23,
     "metadata": {},
     "output_type": "execute_result"
    }
   ],
   "source": [
    "l = [{'uuid': 1, 'p': \"a\"}, {'uuid': 2, \"p\": \"b\"}]\n",
    "[{**d,\"found\":True} for d in l if d['uuid'] == 1]\n"
   ]
  },
  {
   "cell_type": "code",
   "execution_count": 24,
   "metadata": {},
   "outputs": [
    {
     "data": {
      "text/plain": [
       "([{'a': 22, 'b': 'ihaha', 'c': 'fbgval'},\n",
       "  {'a': 22, 'b': 'ihaha', 'c': 'dfdvbfjkv'}],\n",
       " [{'a': 22, 'b': 'ihaha', 'c': 'fbgval'},\n",
       "  {'a': 22, 'b': 'ihaha', 'c': 'dfdvbfjkv'}],\n",
       " [{'a': 22, 'b': 'ihaha', 'c': 'fbgval'}])"
      ]
     },
     "execution_count": 24,
     "metadata": {},
     "output_type": "execute_result"
    }
   ],
   "source": [
    "def dsearch(lod, **kw):\n",
    "    return filter(lambda i: all((i[k] == v for (k, v) in kw.items())), lod)\n",
    "\n",
    "\n",
    "lod = [{'a': 33, 'b': 'test2', 'c': 'a.ing333'},\n",
    "       {'a': 22, 'b': 'ihaha', 'c': 'fbgval'},\n",
    "       {'a': 33, 'b': 'TEst1', 'c': 's.ing123'},\n",
    "       {'a': 22, 'b': 'ihaha', 'c': 'dfdvbfjkv'}]\n",
    "\n",
    "\n",
    "list(dsearch(lod, a=22)), list(dsearch(lod, a=22, b='ihaha')), list(\n",
    "    dsearch(lod, a=22, c='fbgval'))\n"
   ]
  },
  {
   "cell_type": "markdown",
   "metadata": {},
   "source": [
    "##### Check if element/dictionary already exists within list of dictionaries?\n"
   ]
  },
  {
   "cell_type": "code",
   "execution_count": 4,
   "metadata": {},
   "outputs": [
    {
     "data": {
      "text/plain": [
       "[{'main_color': 'red', 'second_color': 'blue'},\n",
       " {'main_color': 'yellow', 'second_color': 'green'},\n",
       " {'main_color': 'yellow', 'second_color': 'blue'}]"
      ]
     },
     "execution_count": 4,
     "metadata": {},
     "output_type": "execute_result"
    }
   ],
   "source": [
    "d = {'main_color': 'red', 'second_color': 'blue'}\n",
    "a = [d,\n",
    "     {'main_color': 'yellow', 'second_color': 'green'},\n",
    "     {'main_color': 'yellow', 'second_color': 'blue'}]\n",
    "\n",
    "a"
   ]
  },
  {
   "cell_type": "code",
   "execution_count": 5,
   "metadata": {},
   "outputs": [
    {
     "name": "stdout",
     "output_type": "stream",
     "text": [
      "Found\n"
     ]
    }
   ],
   "source": [
    "if d in a:\n",
    "\tprint(\"Found\")"
   ]
  },
  {
   "cell_type": "code",
   "execution_count": 12,
   "metadata": {},
   "outputs": [
    {
     "data": {
      "text/plain": [
       "[{'main_color': 'red', 'second_color': 'blue'}]"
      ]
     },
     "execution_count": 12,
     "metadata": {},
     "output_type": "execute_result"
    }
   ],
   "source": [
    "list(filter(lambda d: d['main_color'] == 'red', a))"
   ]
  },
  {
   "cell_type": "code",
   "execution_count": 13,
   "metadata": {},
   "outputs": [
    {
     "data": {
      "text/plain": [
       "[{'main_color': 'yellow', 'second_color': 'green'},\n",
       " {'main_color': 'yellow', 'second_color': 'blue'}]"
      ]
     },
     "execution_count": 13,
     "metadata": {},
     "output_type": "execute_result"
    }
   ],
   "source": [
    "list(filter(lambda d: d['main_color'] != 'red', a))"
   ]
  },
  {
   "cell_type": "code",
   "execution_count": 17,
   "metadata": {},
   "outputs": [
    {
     "data": {
      "text/plain": [
       "[]"
      ]
     },
     "execution_count": 17,
     "metadata": {},
     "output_type": "execute_result"
    }
   ],
   "source": [
    "found = list(filter(lambda d: d['main_color'] == 'black', a))\n",
    "found\n"
   ]
  },
  {
   "cell_type": "code",
   "execution_count": 18,
   "metadata": {},
   "outputs": [
    {
     "name": "stdout",
     "output_type": "stream",
     "text": [
      "Item does not exist\n"
     ]
    }
   ],
   "source": [
    "if not found:\n",
    "\tprint('Item does not exist')\n"
   ]
  },
  {
   "cell_type": "markdown",
   "metadata": {},
   "source": [
    "#### add key for each dictionary in a list of dictionaries"
   ]
  },
  {
   "cell_type": "code",
   "execution_count": 10,
   "metadata": {},
   "outputs": [
    {
     "data": {
      "text/plain": [
       "[{'uuid': 1, 'p': 'a', 'new': 0}, {'uuid': 2, 'p': 'b', 'new': 0}]"
      ]
     },
     "execution_count": 10,
     "metadata": {},
     "output_type": "execute_result"
    }
   ],
   "source": [
    "[{**d,\"new\": 0 } for d in l ]"
   ]
  },
  {
   "cell_type": "markdown",
   "metadata": {},
   "source": [
    "#### Unique dictionaries in a list of dictionaries"
   ]
  },
  {
   "cell_type": "code",
   "execution_count": 9,
   "metadata": {},
   "outputs": [],
   "source": [
    "L=[\n",
    "    {'id':1,'name':'john', 'age':34},\n",
    "\t{'id':1,'name':'john', 'age':34}, \n",
    "\t{'id':2,'name':'hanna', 'age':30},\n",
    "\t{'id':2,'name':'hanna', 'age':50},\n",
    "\t{'id':3,'name':'hanna', 'age':50}\n",
    "\n",
    "]"
   ]
  },
  {
   "cell_type": "code",
   "execution_count": 11,
   "metadata": {},
   "outputs": [],
   "source": [
    "import pandas as pd"
   ]
  },
  {
   "cell_type": "code",
   "execution_count": 16,
   "metadata": {},
   "outputs": [
    {
     "data": {
      "text/plain": [
       "[{'id': 1, 'name': 'john', 'age': 34},\n",
       " {'id': 2, 'name': 'hanna', 'age': 30},\n",
       " {'id': 3, 'name': 'hanna', 'age': 50}]"
      ]
     },
     "execution_count": 16,
     "metadata": {},
     "output_type": "execute_result"
    }
   ],
   "source": [
    "a = pd.DataFrame(L).drop_duplicates(subset=['id']).to_dict('records')\n",
    "a"
   ]
  },
  {
   "cell_type": "code",
   "execution_count": 17,
   "metadata": {},
   "outputs": [
    {
     "data": {
      "text/plain": [
       "[{'id': 1, 'name': 'john', 'age': 34},\n",
       " {'id': 2, 'name': 'hanna', 'age': 50},\n",
       " {'id': 3, 'name': 'hanna', 'age': 50}]"
      ]
     },
     "execution_count": 17,
     "metadata": {},
     "output_type": "execute_result"
    }
   ],
   "source": [
    "list({ item['id'] : item for item in L}.values())"
   ]
  }
 ],
 "metadata": {
  "interpreter": {
   "hash": "13a64c48d63ab7fa89dd239a6172cf842d756bd82fcb4ba948a9115b41dc50a1"
  },
  "kernelspec": {
   "display_name": "Python 3.9.7 ('base')",
   "language": "python",
   "name": "python3"
  },
  "language_info": {
   "codemirror_mode": {
    "name": "ipython",
    "version": 3
   },
   "file_extension": ".py",
   "mimetype": "text/x-python",
   "name": "python",
   "nbconvert_exporter": "python",
   "pygments_lexer": "ipython3",
   "version": "3.9.7"
  },
  "orig_nbformat": 2
 },
 "nbformat": 4,
 "nbformat_minor": 2
}
